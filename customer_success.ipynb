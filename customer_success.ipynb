{
  "nbformat": 4,
  "nbformat_minor": 0,
  "metadata": {
    "colab": {
      "name": "customer_success",
      "provenance": [],
      "collapsed_sections": [],
      "mount_file_id": "1VszErm26wSpnH8pR2GAYSoKbijV1_Ijw",
      "authorship_tag": "ABX9TyPcUtrbvR5n1uSJflXIioOz",
      "include_colab_link": true
    },
    "kernelspec": {
      "name": "python3",
      "display_name": "Python 3"
    },
    "language_info": {
      "name": "python"
    }
  },
  "cells": [
    {
      "cell_type": "markdown",
      "metadata": {
        "id": "view-in-github",
        "colab_type": "text"
      },
      "source": [
        "<a href=\"https://colab.research.google.com/github/Yadukrishnan1/Customer-Success/blob/main/customer_success.ipynb\" target=\"_parent\"><img src=\"https://colab.research.google.com/assets/colab-badge.svg\" alt=\"Open In Colab\"/></a>"
      ]
    },
    {
      "cell_type": "markdown",
      "metadata": {
        "id": "LMTKhMRK2Y32"
      },
      "source": [
        "### **Customer Succes Analysis for a Career Accelerator (Startup stage)**\n",
        "\n",
        "---\n",
        "\n",
        "An **online career accelerator** operates by helping prospective job seekers succesfully obtain a job in their industry role of choice. It is important for their business to determine if a new addition to their customers base could generate revenue by getting placed at the end of their service. This is also important to add reputation and to market their success.\n",
        "\n",
        "\n",
        "\n",
        "\n",
        "\n",
        "\n",
        "\n",
        "1.  **Business Question**\n",
        "\n",
        "What are the characteristic of a succesful(revenue generating) fellow (customer). How long do they take to guarantee the revenue (Time to get placed)?\n",
        "\n",
        "2. **DS/ML Framing**\n",
        "\n",
        "The first part of the question is a binary classification with two classes; 'placed' and 'not placed'. The second question is a regression problem.\n",
        "\n"
      ]
    },
    {
      "cell_type": "markdown",
      "metadata": {
        "id": "9jBrEH6tcxkl"
      },
      "source": [
        "# Importing all the required packages in Python"
      ]
    },
    {
      "cell_type": "code",
      "metadata": {
        "id": "vZsAo4WSy8Zy"
      },
      "source": [
        "# Packages for EDA\n",
        "\n",
        "import numpy as np\n",
        "import matplotlib.pyplot as plt\n",
        "import pandas as pd\n",
        "import seaborn as sns\n",
        "from scipy import stats\n",
        "import warnings\n",
        "import time\n",
        "import pickle\n",
        "\n",
        "# Scikit-learn for ML prediction and modelling\n",
        "\n",
        "from sklearn.preprocessing import StandardScaler\n",
        "import sklearn\n",
        "from sklearn.metrics import mean_squared_error, f1_score, roc_curve, auc, roc_auc_score, confusion_matrix\n",
        "from sklearn.model_selection import train_test_split\n",
        "from sklearn import tree\n",
        "from mpl_toolkits import mplot3d\n",
        "from sklearn.preprocessing import OneHotEncoder, OrdinalEncoder, LabelEncoder\n",
        "from sklearn.linear_model import LinearRegression, LogisticRegression, LogisticRegressionCV\n",
        "from sklearn.tree import DecisionTreeClassifier\n",
        "from sklearn.ensemble import RandomForestClassifier\n",
        "from sklearn.model_selection import cross_val_score, GridSearchCV, train_test_split, KFold, RandomizedSearchCV\n",
        "\n",
        "from xgboost.sklearn import XGBRegressor, XGBClassifier\n",
        "import xgboost as xgb\n",
        "\n",
        "from os import path\n",
        "\n",
        "warnings.filterwarnings('ignore')\n",
        "%matplotlib inline"
      ],
      "execution_count": 65,
      "outputs": []
    },
    {
      "cell_type": "code",
      "metadata": {
        "id": "xC5_GTLp0BEb"
      },
      "source": [
        "# Loading the data\n",
        "cust_success=pd.read_excel('Data_Pathrise.xlsx')"
      ],
      "execution_count": 94,
      "outputs": []
    },
    {
      "cell_type": "markdown",
      "metadata": {
        "id": "bFQ_pwfxh0dr"
      },
      "source": [
        "# Exploratory Data Analysis\n",
        "\n",
        "What are the variables (features) in our dataset? Which are the Predictor Variables and which is the Target Variables?\n",
        "\n",
        "TV: 'placed'\n",
        "\n",
        "PV: All others\n",
        "\n",
        "Categorical variables such as 'program_duration_days', 'professional_experience', 'length_of_job_search' are ordinal attributes. All the rest of the categorical features are nominal attributes. One-hot-encoding is to be carried out for all the nominal attributes.\n",
        "\n",
        "The testing set is selected by using the 'cust_success status' which are either 'Active' or 'Break'. The training set will be the Pathrise data without the testing set. A validation set should be made by doing a split of the training dataset.\n",
        "\n",
        "Analysis should be two steps:\n",
        "\n",
        "1) Determine what are the characteristics of fellows being placed. For that eliminate the 'program_duration_days' columns. Then see which columns contributes to it.\n",
        "\n",
        "2) After determining the fellows, who get placed, use regression to see how long do they take to get placed.\n",
        "\n",
        "# Other considerations\n",
        "\n",
        "A) Check if balancing the training data set is needed.\n",
        "\n",
        "B) Drop columns that seemingly have no effect such as 'id'. 'Race' and 'gender' might be affecting the prediction, but they are understandably complicated, so dropping them for training seems reasonable. 'placed' column should be removed in training as it's the target variable.\n",
        "\n",
        "C) Anomaly detection needs to be studied. For example, limit the 'number of applications' to less than 200.\n",
        "\n",
        "D) Do the encoders for categories in first cust_success data. Then add missing values with mean/median.\n",
        "\n",
        "\n"
      ]
    },
    {
      "cell_type": "code",
      "metadata": {
        "colab": {
          "base_uri": "https://localhost:8080/",
          "height": 480
        },
        "id": "qZbuYnu7DXuV",
        "outputId": "0c4856d5-5474-4eda-9e1f-622012ea4d4c"
      },
      "source": [
        "cust_success.head()"
      ],
      "execution_count": 95,
      "outputs": [
        {
          "output_type": "execute_result",
          "data": {
            "text/html": [
              "<div>\n",
              "<style scoped>\n",
              "    .dataframe tbody tr th:only-of-type {\n",
              "        vertical-align: middle;\n",
              "    }\n",
              "\n",
              "    .dataframe tbody tr th {\n",
              "        vertical-align: top;\n",
              "    }\n",
              "\n",
              "    .dataframe thead th {\n",
              "        text-align: right;\n",
              "    }\n",
              "</style>\n",
              "<table border=\"1\" class=\"dataframe\">\n",
              "  <thead>\n",
              "    <tr style=\"text-align: right;\">\n",
              "      <th></th>\n",
              "      <th>id</th>\n",
              "      <th>pathrise_status</th>\n",
              "      <th>primary_track</th>\n",
              "      <th>cohort_tag</th>\n",
              "      <th>program_duration_days</th>\n",
              "      <th>placed</th>\n",
              "      <th>employment_status</th>\n",
              "      <th>highest_level_of_education</th>\n",
              "      <th>length_of_job_search</th>\n",
              "      <th>biggest_challenge_in_search</th>\n",
              "      <th>professional_experience</th>\n",
              "      <th>work_authorization_status</th>\n",
              "      <th>number_of_interviews</th>\n",
              "      <th>number_of_applications</th>\n",
              "      <th>gender</th>\n",
              "      <th>race</th>\n",
              "    </tr>\n",
              "  </thead>\n",
              "  <tbody>\n",
              "    <tr>\n",
              "      <th>0</th>\n",
              "      <td>1</td>\n",
              "      <td>Active</td>\n",
              "      <td>SWE</td>\n",
              "      <td>OCT19A</td>\n",
              "      <td>NaN</td>\n",
              "      <td>0</td>\n",
              "      <td>Unemployed</td>\n",
              "      <td>Bachelor's Degree</td>\n",
              "      <td>3-5 months</td>\n",
              "      <td>Hearing back on my applications</td>\n",
              "      <td>3-4 years</td>\n",
              "      <td>Canada Citizen</td>\n",
              "      <td>2.0</td>\n",
              "      <td>900</td>\n",
              "      <td>Male</td>\n",
              "      <td>Non-Hispanic White or Euro-American</td>\n",
              "    </tr>\n",
              "    <tr>\n",
              "      <th>1</th>\n",
              "      <td>2</td>\n",
              "      <td>Active</td>\n",
              "      <td>PSO</td>\n",
              "      <td>JAN20A</td>\n",
              "      <td>NaN</td>\n",
              "      <td>0</td>\n",
              "      <td>Unemployed</td>\n",
              "      <td>Some College, No Degree</td>\n",
              "      <td>3-5 months</td>\n",
              "      <td>Getting past final round interviews</td>\n",
              "      <td>1-2 years</td>\n",
              "      <td>Citizen</td>\n",
              "      <td>6.0</td>\n",
              "      <td>0</td>\n",
              "      <td>Male</td>\n",
              "      <td>Non-Hispanic White or Euro-American</td>\n",
              "    </tr>\n",
              "    <tr>\n",
              "      <th>2</th>\n",
              "      <td>3</td>\n",
              "      <td>Closed Lost</td>\n",
              "      <td>Design</td>\n",
              "      <td>AUG19B</td>\n",
              "      <td>0.0</td>\n",
              "      <td>0</td>\n",
              "      <td>Employed Part-Time</td>\n",
              "      <td>Master's Degree</td>\n",
              "      <td>Less than one month</td>\n",
              "      <td>Figuring out which jobs to apply for</td>\n",
              "      <td>Less than one year</td>\n",
              "      <td>Citizen</td>\n",
              "      <td>0.0</td>\n",
              "      <td>0</td>\n",
              "      <td>Male</td>\n",
              "      <td>East Asian or Asian American</td>\n",
              "    </tr>\n",
              "    <tr>\n",
              "      <th>3</th>\n",
              "      <td>4</td>\n",
              "      <td>Closed Lost</td>\n",
              "      <td>PSO</td>\n",
              "      <td>AUG19B</td>\n",
              "      <td>0.0</td>\n",
              "      <td>0</td>\n",
              "      <td>Contractor</td>\n",
              "      <td>Bachelor's Degree</td>\n",
              "      <td>Less than one month</td>\n",
              "      <td>Getting past final round interviews</td>\n",
              "      <td>Less than one year</td>\n",
              "      <td>Citizen</td>\n",
              "      <td>5.0</td>\n",
              "      <td>25</td>\n",
              "      <td>Male</td>\n",
              "      <td>Decline to Self Identify</td>\n",
              "    </tr>\n",
              "    <tr>\n",
              "      <th>4</th>\n",
              "      <td>5</td>\n",
              "      <td>Placed</td>\n",
              "      <td>SWE</td>\n",
              "      <td>AUG19A</td>\n",
              "      <td>89.0</td>\n",
              "      <td>1</td>\n",
              "      <td>Unemployed</td>\n",
              "      <td>Bachelor's Degree</td>\n",
              "      <td>1-2 months</td>\n",
              "      <td>Hearing back on my applications</td>\n",
              "      <td>1-2 years</td>\n",
              "      <td>F1 Visa/OPT</td>\n",
              "      <td>10.0</td>\n",
              "      <td>100</td>\n",
              "      <td>Male</td>\n",
              "      <td>East Asian or Asian American</td>\n",
              "    </tr>\n",
              "  </tbody>\n",
              "</table>\n",
              "</div>"
            ],
            "text/plain": [
              "   id pathrise_status  ... gender                                 race\n",
              "0   1          Active  ...   Male  Non-Hispanic White or Euro-American\n",
              "1   2          Active  ...   Male  Non-Hispanic White or Euro-American\n",
              "2   3     Closed Lost  ...   Male         East Asian or Asian American\n",
              "3   4     Closed Lost  ...   Male             Decline to Self Identify\n",
              "4   5          Placed  ...   Male         East Asian or Asian American\n",
              "\n",
              "[5 rows x 16 columns]"
            ]
          },
          "metadata": {
            "tags": []
          },
          "execution_count": 95
        }
      ]
    },
    {
      "cell_type": "code",
      "metadata": {
        "colab": {
          "base_uri": "https://localhost:8080/",
          "height": 290
        },
        "id": "q79CeCuK5_Vi",
        "outputId": "25943d88-a723-47b9-cbd3-b816b8105998"
      },
      "source": [
        "cust_success.describe()"
      ],
      "execution_count": 96,
      "outputs": [
        {
          "output_type": "execute_result",
          "data": {
            "text/html": [
              "<div>\n",
              "<style scoped>\n",
              "    .dataframe tbody tr th:only-of-type {\n",
              "        vertical-align: middle;\n",
              "    }\n",
              "\n",
              "    .dataframe tbody tr th {\n",
              "        vertical-align: top;\n",
              "    }\n",
              "\n",
              "    .dataframe thead th {\n",
              "        text-align: right;\n",
              "    }\n",
              "</style>\n",
              "<table border=\"1\" class=\"dataframe\">\n",
              "  <thead>\n",
              "    <tr style=\"text-align: right;\">\n",
              "      <th></th>\n",
              "      <th>id</th>\n",
              "      <th>program_duration_days</th>\n",
              "      <th>placed</th>\n",
              "      <th>number_of_interviews</th>\n",
              "      <th>number_of_applications</th>\n",
              "    </tr>\n",
              "  </thead>\n",
              "  <tbody>\n",
              "    <tr>\n",
              "      <th>count</th>\n",
              "      <td>2544.000000</td>\n",
              "      <td>1928.000000</td>\n",
              "      <td>2544.000000</td>\n",
              "      <td>2326.000000</td>\n",
              "      <td>2544.000000</td>\n",
              "    </tr>\n",
              "    <tr>\n",
              "      <th>mean</th>\n",
              "      <td>1272.500000</td>\n",
              "      <td>136.098548</td>\n",
              "      <td>0.375786</td>\n",
              "      <td>2.182287</td>\n",
              "      <td>36.500786</td>\n",
              "    </tr>\n",
              "    <tr>\n",
              "      <th>std</th>\n",
              "      <td>734.533866</td>\n",
              "      <td>125.860248</td>\n",
              "      <td>0.484420</td>\n",
              "      <td>2.959273</td>\n",
              "      <td>53.654896</td>\n",
              "    </tr>\n",
              "    <tr>\n",
              "      <th>min</th>\n",
              "      <td>1.000000</td>\n",
              "      <td>0.000000</td>\n",
              "      <td>0.000000</td>\n",
              "      <td>0.000000</td>\n",
              "      <td>0.000000</td>\n",
              "    </tr>\n",
              "    <tr>\n",
              "      <th>25%</th>\n",
              "      <td>636.750000</td>\n",
              "      <td>14.000000</td>\n",
              "      <td>0.000000</td>\n",
              "      <td>0.000000</td>\n",
              "      <td>9.000000</td>\n",
              "    </tr>\n",
              "    <tr>\n",
              "      <th>50%</th>\n",
              "      <td>1272.500000</td>\n",
              "      <td>112.000000</td>\n",
              "      <td>0.000000</td>\n",
              "      <td>1.000000</td>\n",
              "      <td>20.000000</td>\n",
              "    </tr>\n",
              "    <tr>\n",
              "      <th>75%</th>\n",
              "      <td>1908.250000</td>\n",
              "      <td>224.000000</td>\n",
              "      <td>1.000000</td>\n",
              "      <td>3.000000</td>\n",
              "      <td>45.000000</td>\n",
              "    </tr>\n",
              "    <tr>\n",
              "      <th>max</th>\n",
              "      <td>2544.000000</td>\n",
              "      <td>548.000000</td>\n",
              "      <td>1.000000</td>\n",
              "      <td>20.000000</td>\n",
              "      <td>1000.000000</td>\n",
              "    </tr>\n",
              "  </tbody>\n",
              "</table>\n",
              "</div>"
            ],
            "text/plain": [
              "                id  ...  number_of_applications\n",
              "count  2544.000000  ...             2544.000000\n",
              "mean   1272.500000  ...               36.500786\n",
              "std     734.533866  ...               53.654896\n",
              "min       1.000000  ...                0.000000\n",
              "25%     636.750000  ...                9.000000\n",
              "50%    1272.500000  ...               20.000000\n",
              "75%    1908.250000  ...               45.000000\n",
              "max    2544.000000  ...             1000.000000\n",
              "\n",
              "[8 rows x 5 columns]"
            ]
          },
          "metadata": {
            "tags": []
          },
          "execution_count": 96
        }
      ]
    },
    {
      "cell_type": "code",
      "metadata": {
        "id": "JrMx6i140G_S",
        "colab": {
          "base_uri": "https://localhost:8080/"
        },
        "outputId": "9c26f653-2d04-4ebf-b937-53f3a1c79005"
      },
      "source": [
        "# Columns/feature names\n",
        "\n",
        "cust_success.columns"
      ],
      "execution_count": 97,
      "outputs": [
        {
          "output_type": "execute_result",
          "data": {
            "text/plain": [
              "Index(['id', 'pathrise_status', 'primary_track', 'cohort_tag',\n",
              "       'program_duration_days', 'placed', 'employment_status ',\n",
              "       'highest_level_of_education', 'length_of_job_search',\n",
              "       'biggest_challenge_in_search', 'professional_experience',\n",
              "       'work_authorization_status', 'number_of_interviews',\n",
              "       'number_of_applications', 'gender', 'race'],\n",
              "      dtype='object')"
            ]
          },
          "metadata": {
            "tags": []
          },
          "execution_count": 97
        }
      ]
    },
    {
      "cell_type": "code",
      "metadata": {
        "colab": {
          "base_uri": "https://localhost:8080/"
        },
        "id": "wr9jrj0n5iFg",
        "outputId": "54681534-f3b3-4748-a306-e4c07258ffd6"
      },
      "source": [
        "# Missing values exploration\n",
        "\n",
        "cust_success.isnull().sum()"
      ],
      "execution_count": 98,
      "outputs": [
        {
          "output_type": "execute_result",
          "data": {
            "text/plain": [
              "id                               0\n",
              "pathrise_status                  0\n",
              "primary_track                    0\n",
              "cohort_tag                       8\n",
              "program_duration_days          616\n",
              "placed                           0\n",
              "employment_status              229\n",
              "highest_level_of_education      58\n",
              "length_of_job_search            74\n",
              "biggest_challenge_in_search     24\n",
              "professional_experience        222\n",
              "work_authorization_status      284\n",
              "number_of_interviews           218\n",
              "number_of_applications           0\n",
              "gender                         492\n",
              "race                            18\n",
              "dtype: int64"
            ]
          },
          "metadata": {
            "tags": []
          },
          "execution_count": 98
        }
      ]
    },
    {
      "cell_type": "code",
      "metadata": {
        "colab": {
          "base_uri": "https://localhost:8080/",
          "height": 667
        },
        "id": "bFJiEKSQEuas",
        "outputId": "51c477a2-e727-40cf-bb5e-4a1b08dd066a"
      },
      "source": [
        "# Let's check the comparison for the \"Average Number of Days for Placement\" features as a function of the \"tracks\".\n",
        "# Let's also keep cust_success as the original dataframe for a reference and use a generic name such as df for all the treatments.\n",
        "df=cust_success\n",
        "\n",
        "df_1 = df[df['placed'] == 1]\n",
        "df_1.groupby('primary_track').agg({'program_duration_days':'mean'}).sort_values(by='program_duration_days', ascending=False).plot(kind='bar', figsize=(20,10))\n",
        "plt.title ('Average Number of Days for Placement for Primary Tracks', fontsize=15, fontweight=\"bold\")\n",
        "plt.xlabel(\"Primary Track\", fontsize=15)\n",
        "plt.ylabel(\"Number of Days\", fontsize=15)\n",
        "plt.show()\n"
      ],
      "execution_count": 99,
      "outputs": [
        {
          "output_type": "display_data",
          "data": {
            "image/png": "[encoded data removed]",
            "text/plain": [
              "<Figure size 1440x720 with 1 Axes>"
            ]
          },
          "metadata": {
            "tags": [],
            "needs_background": "light"
          }
        }
      ]
    },
    {
      "cell_type": "code",
      "metadata": {
        "colab": {
          "base_uri": "https://localhost:8080/",
          "height": 787
        },
        "id": "4aqySjphFL3a",
        "outputId": "ba2eb115-93e0-44f0-8f70-faf8d6e21510"
      },
      "source": [
        "df_1 = df[df['placed'] == 1]\n",
        "df_1.groupby('highest_level_of_education').agg({'program_duration_days':'mean'}).sort_values(by='program_duration_days', ascending=False).plot(kind='bar',figsize=(20,10))\n",
        "\n",
        "plt.title ('Average Number of Days for Placement for Levels of Education', fontsize=20, fontweight=\"bold\")\n",
        "plt.xlabel(\"Level of Education\", fontsize=15)\n",
        "plt.ylabel(\"Number of Days\", fontsize=15)\n",
        "plt.show()"
      ],
      "execution_count": 100,
      "outputs": [
        {
          "output_type": "display_data",
          "data": {
            "image/png": "[encoded data removed]",
            "text/plain": [
              "<Figure size 1440x720 with 1 Axes>"
            ]
          },
          "metadata": {
            "tags": [],
            "needs_background": "light"
          }
        }
      ]
    },
    {
      "cell_type": "code",
      "metadata": {
        "colab": {
          "base_uri": "https://localhost:8080/",
          "height": 463
        },
        "id": "z6z1uT7pvLFJ",
        "outputId": "4dcc53ca-276f-485c-f4d4-d414b5d23330"
      },
      "source": [
        "df_1 = df[df['placed'] == 1]\n",
        "df_0 = df[df['placed'] == 0]\n",
        "\n",
        "fig, ax = plt.subplots(1,2, figsize = (10, 7))\n",
        "ax[0].set_title('Number of Applications for \\nPlaced Fellows', fontsize = 15)\n",
        "ax[0].boxplot(df_1['number_of_applications'])\n",
        "ax[0].set_ylabel('No. of Applications')\n",
        "\n",
        "ax[1].set_title('Number of Applications for \\nnon-Placed Fellows', fontsize = 15)\n",
        "ax[1].boxplot(df_0['number_of_applications'])\n",
        "ax[1].set_ylabel('No. of Applications')\n",
        "plt.show()"
      ],
      "execution_count": 101,
      "outputs": [
        {
          "output_type": "display_data",
          "data": {
            "image/png": "[encoded data removed]",
            "text/plain": [
              "<Figure size 720x504 with 2 Axes>"
            ]
          },
          "metadata": {
            "tags": [],
            "needs_background": "light"
          }
        }
      ]
    },
    {
      "cell_type": "code",
      "metadata": {
        "colab": {
          "base_uri": "https://localhost:8080/",
          "height": 463
        },
        "id": "ejM6zMIg0qpe",
        "outputId": "550f2ca0-afcb-4434-e8c8-f0f151ea6daa"
      },
      "source": [
        "df_1 = df[df['placed'] == 1]\n",
        "df_0 = df[df['placed'] == 0]\n",
        "\n",
        "fig, ax = plt.subplots(1,2, figsize = (10, 7))\n",
        "ax[0].set_title('Number of Interviews for \\nPlaced Fellows', fontsize = 15)\n",
        "ax[0].boxplot(df_1['number_of_interviews'])\n",
        "ax[0].set_ylabel('No. of Applications')\n",
        "\n",
        "ax[1].set_title('Number of Interviews for \\nnon-Placed Fellows', fontsize = 15)\n",
        "ax[1].boxplot(df_0['number_of_interviews'])\n",
        "ax[1].set_ylabel('No. of Interviews')\n",
        "plt.show()"
      ],
      "execution_count": 102,
      "outputs": [
        {
          "output_type": "display_data",
          "data": {
            "image/png": "[encoded data removed]",
            "text/plain": [
              "<Figure size 720x504 with 2 Axes>"
            ]
          },
          "metadata": {
            "tags": [],
            "needs_background": "light"
          }
        }
      ]
    },
    {
      "cell_type": "code",
      "metadata": {
        "colab": {
          "base_uri": "https://localhost:8080/",
          "height": 492
        },
        "id": "J6xMhnvJ1Nre",
        "outputId": "0c3a0f12-fddf-4059-c754-58e1c2ce1a23"
      },
      "source": [
        "fig, ax = plt.subplots(figsize = (15, 7))\n",
        "plt.suptitle('Distribution of Gender')\n",
        "df.groupby('gender').size().to_frame().plot.bar(legend = False, ax = ax, rot = 0)\n",
        "plt.ylabel('Frequency')\n",
        "plt.show()"
      ],
      "execution_count": 103,
      "outputs": [
        {
          "output_type": "display_data",
          "data": {
            "image/png": "[encoded data removed]",
            "text/plain": [
              "<Figure size 1080x504 with 1 Axes>"
            ]
          },
          "metadata": {
            "tags": [],
            "needs_background": "light"
          }
        }
      ]
    },
    {
      "cell_type": "code",
      "metadata": {
        "colab": {
          "base_uri": "https://localhost:8080/",
          "height": 696
        },
        "id": "qaEPa2Rg1TZx",
        "outputId": "29910772-624d-4b68-d8d3-9236e1f43fd8"
      },
      "source": [
        "fig, ax = plt.subplots(figsize = (20, 7))\n",
        "plt.suptitle('Distribution of Race')\n",
        "df.groupby('race').size().to_frame().plot.bar(legend = False, ax = ax, rot = 90)\n",
        "plt.ylabel('Frequency')\n",
        "plt.show()"
      ],
      "execution_count": 104,
      "outputs": [
        {
          "output_type": "display_data",
          "data": {
            "image/png": "[encoded data removed]",
            "text/plain": [
              "<Figure size 1440x504 with 1 Axes>"
            ]
          },
          "metadata": {
            "tags": [],
            "needs_background": "light"
          }
        }
      ]
    },
    {
      "cell_type": "code",
      "metadata": {
        "colab": {
          "base_uri": "https://localhost:8080/",
          "height": 493
        },
        "id": "DlpC3OH01XzJ",
        "outputId": "9b88f283-20a1-457c-f663-ded67caf0618"
      },
      "source": [
        "\n",
        "fig, ax = plt.subplots(figsize = (20, 7))\n",
        "plt.suptitle('Distribution of Pathrise Status')\n",
        "df.groupby('pathrise_status').size().to_frame().plot.bar(legend = False, ax = ax, rot = 0)\n",
        "plt.ylabel('Frequency')\n",
        "plt.show()"
      ],
      "execution_count": 106,
      "outputs": [
        {
          "output_type": "display_data",
          "data": {
            "image/png": "[encoded data removed]",
            "text/plain": [
              "<Figure size 1440x504 with 1 Axes>"
            ]
          },
          "metadata": {
            "tags": [],
            "needs_background": "light"
          }
        }
      ]
    },
    {
      "cell_type": "code",
      "metadata": {
        "colab": {
          "base_uri": "https://localhost:8080/",
          "height": 493
        },
        "id": "pctLsLl81cLT",
        "outputId": "9252aa2e-5bc4-4bbd-b13d-2a0f50506a07"
      },
      "source": [
        "fig, ax = plt.subplots(figsize = (20, 7))\n",
        "plt.suptitle('Distribution of Employment Status')\n",
        "df.groupby('employment_status ').size().to_frame().plot.bar(legend = False, ax = ax, rot = 0)\n",
        "plt.ylabel('Frequency')\n",
        "plt.show()"
      ],
      "execution_count": 107,
      "outputs": [
        {
          "output_type": "display_data",
          "data": {
            "image/png": "[encoded data removed]",
            "text/plain": [
              "<Figure size 1440x504 with 1 Axes>"
            ]
          },
          "metadata": {
            "tags": [],
            "needs_background": "light"
          }
        }
      ]
    },
    {
      "cell_type": "code",
      "metadata": {
        "colab": {
          "base_uri": "https://localhost:8080/",
          "height": 648
        },
        "id": "NYKR8oRJ1f07",
        "outputId": "0f7ac991-b630-44a7-bad2-ce1394921784"
      },
      "source": [
        "fig, ax = plt.subplots(figsize = (20, 7))\n",
        "plt.suptitle('Distribution of Highest Level of Education')\n",
        "df.groupby('highest_level_of_education').size().to_frame().plot.bar(legend = False, ax = ax, rot = 90)\n",
        "plt.ylabel('Frequency')\n",
        "plt.show()"
      ],
      "execution_count": 108,
      "outputs": [
        {
          "output_type": "display_data",
          "data": {
            "image/png": "[encoded data removed]",
            "text/plain": [
              "<Figure size 1440x504 with 1 Axes>"
            ]
          },
          "metadata": {
            "tags": [],
            "needs_background": "light"
          }
        }
      ]
    },
    {
      "cell_type": "code",
      "metadata": {
        "colab": {
          "base_uri": "https://localhost:8080/",
          "height": 492
        },
        "id": "plCFjWL3ufjy",
        "outputId": "e34acbb1-e8f9-45f0-d37f-801e9f929f66"
      },
      "source": [
        "# Let's look at how many fellows placed at a company.\n",
        "placed_df = pd.DataFrame({'Placed at a Company?': ['Yes', 'No'],'No. of Fellows': [df['placed'].sum(), df.shape[0] - df['placed'].sum()],\n",
        "})\n",
        "placed_df.set_index('Placed at a Company?', inplace = True)\n",
        "\n",
        "fig, ax = plt.subplots(figsize = (10, 7))\n",
        "fig.suptitle('Number of Fellows Placed', fontsize = 15)\n",
        "plt.bar(x = placed_df.index, height = 'No. of Fellows', data = placed_df)\n",
        "plt.xlabel('Placed at a Company?')\n",
        "plt.ylabel('Frequency')\n",
        "plt.show()"
      ],
      "execution_count": 109,
      "outputs": [
        {
          "output_type": "display_data",
          "data": {
            "image/png": "[encoded data removed]",
            "text/plain": [
              "<Figure size 720x504 with 1 Axes>"
            ]
          },
          "metadata": {
            "tags": [],
            "needs_background": "light"
          }
        }
      ]
    },
    {
      "cell_type": "markdown",
      "metadata": {
        "id": "_ZoZICaClWgq"
      },
      "source": [
        "# In the first approach of model building and prediction, we drop all the missing values to see how the prediction goes. "
      ]
    },
    {
      "cell_type": "code",
      "metadata": {
        "colab": {
          "base_uri": "https://localhost:8080/"
        },
        "id": "D_s9dlFHlqEe",
        "outputId": "3b14055c-43d0-49a3-c13a-e221742edcc3"
      },
      "source": [
        "ori_len=df.shape[0]\n",
        "\n",
        "# Need to drop rows containing NA for Categorical data\n",
        "df = df[df['employment_status '].notna()]\n",
        "df = df[df['highest_level_of_education'].notna()]\n",
        "df = df[df['length_of_job_search'].notna()]\n",
        "df = df[df['gender'].notna()]\n",
        "df = df[df['race'].notna()]\n",
        "df = df[df['work_authorization_status'].notna()]\n",
        "df = df[df['biggest_challenge_in_search'].notna()]\n",
        "df = df[df['cohort_tag'].notna()]\n",
        "df = df[df['professional_experience'].notna()]\n",
        "\n",
        "miss_len=df.shape[0]\n",
        "\n",
        "print(\"We lose almost {0}% of data by dropping the missing values.\".format(np.around((ori_len-miss_len)/ori_len*100)))"
      ],
      "execution_count": 110,
      "outputs": [
        {
          "output_type": "stream",
          "text": [
            "We lose almost 43.0% of data by dropping the missing values.\n"
          ],
          "name": "stdout"
        }
      ]
    },
    {
      "cell_type": "code",
      "metadata": {
        "colab": {
          "base_uri": "https://localhost:8080/",
          "height": 220
        },
        "id": "yur0wzn7pMfl",
        "outputId": "af8ffa7b-f9c3-4331-c2d1-1afa710d3fc2"
      },
      "source": [
        "df.fillna(df.median(), inplace = True) # Median is more meaningful than mean in Skewed data\n",
        "\n",
        "cat_df = df.select_dtypes(include=['object']).copy()\n",
        "\n",
        "# Encoding the columns\n",
        "\n",
        "enc_make = OrdinalEncoder()\n",
        "\n",
        "cat_df_transformed = enc_make.fit_transform(cat_df)\n",
        "\n",
        "# Adding converted labels to df\n",
        "\n",
        "for i,j in enumerate(cat_df.columns):\n",
        "  cat_df[j] = cat_df_transformed.transpose()[i]\n",
        "\n",
        "df_1 = df.copy()\n",
        "# Adding converted labels to df\n",
        "for i in df_1.columns:\n",
        "  if i in cat_df.columns:\n",
        "    df_1[i] = cat_df[i]\n",
        "\n",
        "df_1.head()"
      ],
      "execution_count": 111,
      "outputs": [
        {
          "output_type": "execute_result",
          "data": {
            "text/html": [
              "<div>\n",
              "<style scoped>\n",
              "    .dataframe tbody tr th:only-of-type {\n",
              "        vertical-align: middle;\n",
              "    }\n",
              "\n",
              "    .dataframe tbody tr th {\n",
              "        vertical-align: top;\n",
              "    }\n",
              "\n",
              "    .dataframe thead th {\n",
              "        text-align: right;\n",
              "    }\n",
              "</style>\n",
              "<table border=\"1\" class=\"dataframe\">\n",
              "  <thead>\n",
              "    <tr style=\"text-align: right;\">\n",
              "      <th></th>\n",
              "      <th>id</th>\n",
              "      <th>pathrise_status</th>\n",
              "      <th>primary_track</th>\n",
              "      <th>cohort_tag</th>\n",
              "      <th>program_duration_days</th>\n",
              "      <th>placed</th>\n",
              "      <th>employment_status</th>\n",
              "      <th>highest_level_of_education</th>\n",
              "      <th>length_of_job_search</th>\n",
              "      <th>biggest_challenge_in_search</th>\n",
              "      <th>professional_experience</th>\n",
              "      <th>work_authorization_status</th>\n",
              "      <th>number_of_interviews</th>\n",
              "      <th>number_of_applications</th>\n",
              "      <th>gender</th>\n",
              "      <th>race</th>\n",
              "    </tr>\n",
              "  </thead>\n",
              "  <tbody>\n",
              "    <tr>\n",
              "      <th>0</th>\n",
              "      <td>1</td>\n",
              "      <td>0.0</td>\n",
              "      <td>4.0</td>\n",
              "      <td>39.0</td>\n",
              "      <td>102.0</td>\n",
              "      <td>0</td>\n",
              "      <td>4.0</td>\n",
              "      <td>0.0</td>\n",
              "      <td>1.0</td>\n",
              "      <td>5.0</td>\n",
              "      <td>1.0</td>\n",
              "      <td>0.0</td>\n",
              "      <td>2.0</td>\n",
              "      <td>900</td>\n",
              "      <td>2.0</td>\n",
              "      <td>6.0</td>\n",
              "    </tr>\n",
              "    <tr>\n",
              "      <th>1</th>\n",
              "      <td>2</td>\n",
              "      <td>0.0</td>\n",
              "      <td>3.0</td>\n",
              "      <td>20.0</td>\n",
              "      <td>102.0</td>\n",
              "      <td>0</td>\n",
              "      <td>4.0</td>\n",
              "      <td>5.0</td>\n",
              "      <td>1.0</td>\n",
              "      <td>2.0</td>\n",
              "      <td>0.0</td>\n",
              "      <td>1.0</td>\n",
              "      <td>6.0</td>\n",
              "      <td>0</td>\n",
              "      <td>2.0</td>\n",
              "      <td>6.0</td>\n",
              "    </tr>\n",
              "    <tr>\n",
              "      <th>2</th>\n",
              "      <td>3</td>\n",
              "      <td>2.0</td>\n",
              "      <td>1.0</td>\n",
              "      <td>7.0</td>\n",
              "      <td>0.0</td>\n",
              "      <td>0</td>\n",
              "      <td>2.0</td>\n",
              "      <td>4.0</td>\n",
              "      <td>3.0</td>\n",
              "      <td>1.0</td>\n",
              "      <td>3.0</td>\n",
              "      <td>1.0</td>\n",
              "      <td>0.0</td>\n",
              "      <td>0</td>\n",
              "      <td>2.0</td>\n",
              "      <td>2.0</td>\n",
              "    </tr>\n",
              "    <tr>\n",
              "      <th>3</th>\n",
              "      <td>4</td>\n",
              "      <td>2.0</td>\n",
              "      <td>3.0</td>\n",
              "      <td>7.0</td>\n",
              "      <td>0.0</td>\n",
              "      <td>0</td>\n",
              "      <td>0.0</td>\n",
              "      <td>0.0</td>\n",
              "      <td>3.0</td>\n",
              "      <td>2.0</td>\n",
              "      <td>3.0</td>\n",
              "      <td>1.0</td>\n",
              "      <td>5.0</td>\n",
              "      <td>25</td>\n",
              "      <td>2.0</td>\n",
              "      <td>1.0</td>\n",
              "    </tr>\n",
              "    <tr>\n",
              "      <th>4</th>\n",
              "      <td>5</td>\n",
              "      <td>5.0</td>\n",
              "      <td>4.0</td>\n",
              "      <td>6.0</td>\n",
              "      <td>89.0</td>\n",
              "      <td>1</td>\n",
              "      <td>4.0</td>\n",
              "      <td>0.0</td>\n",
              "      <td>0.0</td>\n",
              "      <td>5.0</td>\n",
              "      <td>0.0</td>\n",
              "      <td>3.0</td>\n",
              "      <td>10.0</td>\n",
              "      <td>100</td>\n",
              "      <td>2.0</td>\n",
              "      <td>2.0</td>\n",
              "    </tr>\n",
              "  </tbody>\n",
              "</table>\n",
              "</div>"
            ],
            "text/plain": [
              "   id  pathrise_status  primary_track  ...  number_of_applications  gender  race\n",
              "0   1              0.0            4.0  ...                     900     2.0   6.0\n",
              "1   2              0.0            3.0  ...                       0     2.0   6.0\n",
              "2   3              2.0            1.0  ...                       0     2.0   2.0\n",
              "3   4              2.0            3.0  ...                      25     2.0   1.0\n",
              "4   5              5.0            4.0  ...                     100     2.0   2.0\n",
              "\n",
              "[5 rows x 16 columns]"
            ]
          },
          "metadata": {
            "tags": []
          },
          "execution_count": 111
        }
      ]
    },
    {
      "cell_type": "code",
      "metadata": {
        "id": "oYkiW1uM3hw7"
      },
      "source": [
        ""
      ],
      "execution_count": 35,
      "outputs": []
    },
    {
      "cell_type": "code",
      "metadata": {
        "colab": {
          "base_uri": "https://localhost:8080/"
        },
        "id": "QkL0T-g8HG42",
        "outputId": "2eb52ef9-938d-4709-ca51-3254e3a966cf"
      },
      "source": [
        "from sklearn.cluster import KMeans,AgglomerativeClustering \n",
        "from sklearn.metrics import classification_report, confusion_matrix, precision_score, recall_score, f1_score, roc_curve, roc_auc_score\n",
        "\n",
        "X = df_1.drop(columns = ['placed','pathrise_status', 'id'])\n",
        "y = df_1['placed']\n",
        "\n",
        "x_train, x_test, y_train, y_test = train_test_split(X, y, test_size=0.25, random_state=0)\n",
        "\n",
        "kmeans = KMeans(n_clusters=2, n_init=25, max_iter=100, random_state=6)\n",
        "kmeans.fit(x_train)\n",
        "\n",
        "pred = kmeans.predict(x_test)\n",
        "print(classification_report(y_test, pred))\n"
      ],
      "execution_count": 122,
      "outputs": [
        {
          "output_type": "stream",
          "text": [
            "              precision    recall  f1-score   support\n",
            "\n",
            "           0       0.70      0.83      0.76       218\n",
            "           1       0.63      0.46      0.53       142\n",
            "\n",
            "    accuracy                           0.68       360\n",
            "   macro avg       0.67      0.64      0.64       360\n",
            "weighted avg       0.67      0.68      0.67       360\n",
            "\n"
          ],
          "name": "stdout"
        }
      ]
    },
    {
      "cell_type": "code",
      "metadata": {
        "colab": {
          "base_uri": "https://localhost:8080/"
        },
        "id": "1kQ249_2Id4C",
        "outputId": "eb50272d-934c-49a0-9a8a-de4d86269b67"
      },
      "source": [
        "clf = DecisionTreeClassifier()\n",
        "\n",
        "clf.fit(x_train, y_train)\n",
        "\n",
        "pred = clf.predict(x_test)\n",
        "print(classification_report(y_test, pred))"
      ],
      "execution_count": 120,
      "outputs": [
        {
          "output_type": "stream",
          "text": [
            "              precision    recall  f1-score   support\n",
            "\n",
            "           0       0.81      0.80      0.80       218\n",
            "           1       0.69      0.70      0.70       142\n",
            "\n",
            "    accuracy                           0.76       360\n",
            "   macro avg       0.75      0.75      0.75       360\n",
            "weighted avg       0.76      0.76      0.76       360\n",
            "\n"
          ],
          "name": "stdout"
        }
      ]
    },
    {
      "cell_type": "code",
      "metadata": {
        "colab": {
          "base_uri": "https://localhost:8080/"
        },
        "id": "UNcI7BtcJKye",
        "outputId": "cd1419d8-e66a-49dc-b9f8-45e888911ae9"
      },
      "source": [
        "# Making a parameter grid\n",
        "param_grid = {'criterion': ['gini', 'entropy'],\n",
        "              'min_samples_split': [2, 4, 6, 8, 10],\n",
        "              'min_samples_leaf': [1, 3, 5, 7, 9],\n",
        "              'max_leaf_nodes': [2, 5, 10, 20]}\n",
        "grid = GridSearchCV(clf, param_grid, cv=10, scoring='accuracy')\n",
        "grid.fit(x_train, y_train)"
      ],
      "execution_count": 115,
      "outputs": [
        {
          "output_type": "execute_result",
          "data": {
            "text/plain": [
              "GridSearchCV(cv=10, error_score=nan,\n",
              "             estimator=DecisionTreeClassifier(ccp_alpha=0.0, class_weight=None,\n",
              "                                              criterion='gini', max_depth=None,\n",
              "                                              max_features=None,\n",
              "                                              max_leaf_nodes=None,\n",
              "                                              min_impurity_decrease=0.0,\n",
              "                                              min_impurity_split=None,\n",
              "                                              min_samples_leaf=1,\n",
              "                                              min_samples_split=2,\n",
              "                                              min_weight_fraction_leaf=0.0,\n",
              "                                              presort='deprecated',\n",
              "                                              random_state=None,\n",
              "                                              splitter='best'),\n",
              "             iid='deprecated', n_jobs=None,\n",
              "             param_grid={'criterion': ['gini', 'entropy'],\n",
              "                         'max_leaf_nodes': [2, 5, 10, 20],\n",
              "                         'min_samples_leaf': [1, 3, 5, 7, 9],\n",
              "                         'min_samples_split': [2, 4, 6, 8, 10]},\n",
              "             pre_dispatch='2*n_jobs', refit=True, return_train_score=False,\n",
              "             scoring='accuracy', verbose=0)"
            ]
          },
          "metadata": {
            "tags": []
          },
          "execution_count": 115
        }
      ]
    },
    {
      "cell_type": "code",
      "metadata": {
        "colab": {
          "base_uri": "https://localhost:8080/"
        },
        "id": "tAOohv__JQMl",
        "outputId": "fca455af-93b9-4ec5-b748-d2b20e23baba"
      },
      "source": [
        "pred = grid.best_estimator_.predict(x_test)\n",
        "print(classification_report(y_test, pred))"
      ],
      "execution_count": 116,
      "outputs": [
        {
          "output_type": "stream",
          "text": [
            "              precision    recall  f1-score   support\n",
            "\n",
            "           0       0.95      0.74      0.83       218\n",
            "           1       0.70      0.94      0.80       142\n",
            "\n",
            "    accuracy                           0.82       360\n",
            "   macro avg       0.83      0.84      0.82       360\n",
            "weighted avg       0.85      0.82      0.82       360\n",
            "\n"
          ],
          "name": "stdout"
        }
      ]
    },
    {
      "cell_type": "markdown",
      "metadata": {
        "id": "0bihvxB7CheT"
      },
      "source": [
        "# Dimensionality reduction using PCA"
      ]
    },
    {
      "cell_type": "code",
      "metadata": {
        "id": "w-CyMSJSCdg4"
      },
      "source": [
        "from sklearn import decomposition\n",
        "from sklearn.decomposition import PCA\n",
        "\n",
        "pca = decomposition.PCA() #n_components=5\n",
        "pca.fit(x_train)\n",
        "x_train = pca.transform(x_train)\n",
        "x_test = pca.transform(x_test)"
      ],
      "execution_count": 117,
      "outputs": []
    },
    {
      "cell_type": "code",
      "metadata": {
        "id": "eQauRi6Rnggk"
      },
      "source": [
        "# Feature scaling\n",
        "from sklearn.preprocessing import StandardScaler\n",
        "\n",
        "sc = StandardScaler()\n",
        "x_train = sc.fit_transform(x_train)\n",
        "x_test = sc.transform(x_test)"
      ],
      "execution_count": 119,
      "outputs": []
    },
    {
      "cell_type": "code",
      "metadata": {
        "colab": {
          "base_uri": "https://localhost:8080/",
          "height": 327
        },
        "id": "baUye2USQHjq",
        "outputId": "7991609e-700b-4d09-ae1b-b61a97f44275"
      },
      "source": [
        "from sklearn import tree\n",
        "from sklearn.metrics import f1_score\n",
        "from sklearn.metrics import confusion_matrix\n",
        "from sklearn.metrics import plot_confusion_matrix\n",
        "from sklearn.metrics import precision_recall_fscore_support\n",
        "from sklearn.metrics import r2_score\n",
        "\n",
        "clf = tree.DecisionTreeClassifier()\n",
        "clf = clf.fit(x_train, y_train)\n",
        "\n",
        "print(\"Accuracy (in %):\", clf.score(x_test, y_test))\n",
        "\n",
        "y_pred = clf.predict(x_test)\n",
        "print('F1 score', f1_score(y_test, y_pred))\n",
        "\n",
        "plot_confusion_matrix(clf, x_test, y_test)\n",
        "print(precision_recall_fscore_support(y_test, y_pred, average='binary'))\n",
        "\n",
        "plt.show()"
      ],
      "execution_count": 123,
      "outputs": [
        {
          "output_type": "stream",
          "text": [
            "Accuracy (in %): 0.7583333333333333\n",
            "F1 score 0.7010309278350516\n",
            "(0.6845637583892618, 0.7183098591549296, 0.7010309278350516, None)\n"
          ],
          "name": "stdout"
        },
        {
          "output_type": "display_data",
          "data": {
            "image/png": "[encoded data removed]",
            "text/plain": [
              "<Figure size 432x288 with 2 Axes>"
            ]
          },
          "metadata": {
            "tags": [],
            "needs_background": "light"
          }
        }
      ]
    },
    {
      "cell_type": "markdown",
      "metadata": {
        "id": "h3vpjUBhzGsQ"
      },
      "source": [
        "# Decision Tree model"
      ]
    },
    {
      "cell_type": "code",
      "metadata": {
        "colab": {
          "base_uri": "https://localhost:8080/",
          "height": 282
        },
        "id": "FPYehzB4lRs5",
        "outputId": "4d0c9e74-c167-43df-b038-c36af681a15a"
      },
      "source": [
        "clf = DecisionTreeClassifier()\n",
        "cv_score = cross_val_score(clf, \n",
        "                            x_train, y_train,\n",
        "                            scoring = 'accuracy',\n",
        "                            cv = 5,\n",
        "                            n_jobs = -1,\n",
        "                            verbose = 0)\n",
        "\n",
        "plt.plot(cv_score, 'd-',label='Decision Tree Classifier')\n",
        "plt.xlabel('# of folds of cross validation')\n",
        "plt.ylabel('Accuracy')\n",
        "plt.ylim(0,0.9)\n",
        "plt.legend()\n",
        "\n",
        "plt.show()"
      ],
      "execution_count": 54,
      "outputs": [
        {
          "output_type": "display_data",
          "data": {
            "image/png": "[encoded data removed]",
            "text/plain": [
              "<Figure size 432x288 with 1 Axes>"
            ]
          },
          "metadata": {
            "tags": [],
            "needs_background": "light"
          }
        }
      ]
    },
    {
      "cell_type": "markdown",
      "metadata": {
        "id": "St8L2cd4y_1F"
      },
      "source": [
        "# Logistic regression model"
      ]
    },
    {
      "cell_type": "code",
      "metadata": {
        "colab": {
          "base_uri": "https://localhost:8080/",
          "height": 282
        },
        "id": "sCfziRRGlZV0",
        "outputId": "594ca6b6-ebb6-4433-d3e6-042adec97cbe"
      },
      "source": [
        "clf=LogisticRegression()\n",
        "cv_score = cross_val_score(clf, \n",
        "                            x_train, y_train,\n",
        "                            scoring = 'accuracy',\n",
        "                            cv = 5,\n",
        "                            n_jobs = -1,\n",
        "                            verbose = 0)\n",
        "\n",
        "plt.plot(cv_score, 'go-',label='Logistic Regression Classifier')\n",
        "plt.xlabel('# of folds of cross validation')\n",
        "plt.ylabel('Accuracy')\n",
        "plt.ylim(0,0.9)\n",
        "plt.legend()\n",
        "plt.show()"
      ],
      "execution_count": 55,
      "outputs": [
        {
          "output_type": "display_data",
          "data": {
            "image/png": "[encoded data removed]",
            "text/plain": [
              "<Figure size 432x288 with 1 Axes>"
            ]
          },
          "metadata": {
            "tags": [],
            "needs_background": "light"
          }
        }
      ]
    },
    {
      "cell_type": "markdown",
      "metadata": {
        "id": "YdXqjfNq3oBm"
      },
      "source": [
        "# Random Forest Classifier"
      ]
    },
    {
      "cell_type": "code",
      "metadata": {
        "colab": {
          "base_uri": "https://localhost:8080/",
          "height": 282
        },
        "id": "roc71jYt4Fz7",
        "outputId": "3c75f0ee-fef6-4f68-9aef-bb16a4ddd414"
      },
      "source": [
        "clf = RandomForestClassifier(n_estimators=40, random_state=0)\n",
        "cv_score = cross_val_score(clf, \n",
        "                            x_train, y_train,\n",
        "                            scoring = 'accuracy',\n",
        "                            cv = 5,\n",
        "                            n_jobs = -1,\n",
        "                            verbose = 0)\n",
        "\n",
        "plt.plot(cv_score, 'rd-',label='RF Classifier')\n",
        "plt.xlabel('# of folds of cross validation')\n",
        "plt.ylabel('Accuracy')\n",
        "plt.ylim(0,0.9)\n",
        "plt.legend()\n",
        "plt.show()"
      ],
      "execution_count": 56,
      "outputs": [
        {
          "output_type": "display_data",
          "data": {
            "image/png": "[encoded data removed]",
            "text/plain": [
              "<Figure size 432x288 with 1 Axes>"
            ]
          },
          "metadata": {
            "tags": [],
            "needs_background": "light"
          }
        }
      ]
    },
    {
      "cell_type": "markdown",
      "metadata": {
        "id": "Rn9-qkR2BMb7"
      },
      "source": [
        "# K-NN Classifier"
      ]
    },
    {
      "cell_type": "code",
      "metadata": {
        "colab": {
          "base_uri": "https://localhost:8080/",
          "height": 282
        },
        "id": "uAcNUVvLBQGC",
        "outputId": "822dcf78-ee22-499f-b932-743d46c51768"
      },
      "source": [
        "from sklearn.neighbors import KNeighborsClassifier\n",
        "\n",
        "clf = KNeighborsClassifier(n_neighbors=6)\n",
        "cv_score = cross_val_score(clf, \n",
        "                            x_train, y_train,\n",
        "                            scoring = 'accuracy',\n",
        "                            cv = 5,\n",
        "                            n_jobs = -1,\n",
        "                            verbose = 0)\n",
        "\n",
        "plt.plot(cv_score, 'd-',label='k-NN Classifier')\n",
        "plt.xlabel('run # of the cross validation')\n",
        "plt.ylabel('Accuracy')\n",
        "plt.ylim(0,0.9)\n",
        "plt.legend()\n",
        "plt.show()"
      ],
      "execution_count": 57,
      "outputs": [
        {
          "output_type": "display_data",
          "data": {
            "image/png": "[encoded data removed]",
            "text/plain": [
              "<Figure size 432x288 with 1 Axes>"
            ]
          },
          "metadata": {
            "tags": [],
            "needs_background": "light"
          }
        }
      ]
    },
    {
      "cell_type": "code",
      "metadata": {
        "id": "IRW6PkmJS1_N",
        "colab": {
          "base_uri": "https://localhost:8080/",
          "height": 281
        },
        "outputId": "b6a21442-615c-41d7-c2cf-dba832444763"
      },
      "source": [
        "from sklearn.ensemble import RandomForestClassifier\n",
        "from sklearn.metrics import classification_report, confusion_matrix, accuracy_score\n",
        "\n",
        "accu=[]\n",
        "for i in np.arange(10, 240, 10):\n",
        "  classifier = RandomForestClassifier(n_estimators=i, random_state=0)\n",
        "  classifier.fit(x_train, y_train)\n",
        "  y_pred = classifier.predict(x_test)\n",
        "  accu.append(accuracy_score(y_test, y_pred))\n",
        "\n",
        "plt.plot(np.arange(10, 240, 10), accu, '.-')\n",
        "plt.xlabel('# of Trees')\n",
        "plt.ylabel('Accuracy')\n",
        "plt.show()"
      ],
      "execution_count": 69,
      "outputs": [
        {
          "output_type": "display_data",
          "data": {
            "image/png": "[encoded data removed]",
            "text/plain": [
              "<Figure size 432x288 with 1 Axes>"
            ]
          },
          "metadata": {
            "tags": [],
            "needs_background": "light"
          }
        }
      ]
    },
    {
      "cell_type": "markdown",
      "metadata": {
        "id": "MvNke5w2J5Ch"
      },
      "source": [
        "# Task - 2\n",
        "\n",
        "## Determine how fast do fellows get placed"
      ]
    },
    {
      "cell_type": "code",
      "metadata": {
        "colab": {
          "base_uri": "https://localhost:8080/"
        },
        "id": "doXb4Evsy3C9",
        "outputId": "6de329e3-7d32-4278-92dc-8c6d80b16c8f"
      },
      "source": [
        "# Removing the outliers in 'number_of_applications': 400 and 1000 applications are way above 95%.\n",
        "\n",
        "cust_success_2=cust_success.drop(columns=['id', 'cohort_tag', 'professional_experience', 'length_of_job_search']) \n",
        "print('Before removing missing values, shape:', cust_success_2.shape)\n",
        "\n",
        "cust_success_2.dropna(inplace=True)\n",
        "print('After removing missing values, shape:', cust_success_2.shape)"
      ],
      "execution_count": null,
      "outputs": [
        {
          "output_type": "stream",
          "text": [
            "Before removing missing values, shape: (2438, 14)\n",
            "After removing missing values, shape: (1062, 14)\n"
          ],
          "name": "stdout"
        }
      ]
    },
    {
      "cell_type": "code",
      "metadata": {
        "colab": {
          "base_uri": "https://localhost:8080/",
          "height": 438
        },
        "id": "7_HE2E_Hs3JR",
        "outputId": "842ed9a8-3b76-4fa3-ed29-490ef89c06cc"
      },
      "source": [
        "cust_success_2_train=cust_success_2[(cust_success_2['cust_success_status']=='Placed') & (cust_success_2['placed']==1)].drop(columns=['cust_success_status', 'placed'])\n",
        "cust_success_2_train.head()"
      ],
      "execution_count": null,
      "outputs": [
        {
          "output_type": "execute_result",
          "data": {
            "text/html": [
              "<div>\n",
              "<style scoped>\n",
              "    .dataframe tbody tr th:only-of-type {\n",
              "        vertical-align: middle;\n",
              "    }\n",
              "\n",
              "    .dataframe tbody tr th {\n",
              "        vertical-align: top;\n",
              "    }\n",
              "\n",
              "    .dataframe thead th {\n",
              "        text-align: right;\n",
              "    }\n",
              "</style>\n",
              "<table border=\"1\" class=\"dataframe\">\n",
              "  <thead>\n",
              "    <tr style=\"text-align: right;\">\n",
              "      <th></th>\n",
              "      <th>primary_track</th>\n",
              "      <th>program_duration_days</th>\n",
              "      <th>employment_status</th>\n",
              "      <th>highest_level_of_education</th>\n",
              "      <th>biggest_challenge_in_search</th>\n",
              "      <th>work_authorization_status</th>\n",
              "      <th>number_of_interviews</th>\n",
              "      <th>number_of_applications</th>\n",
              "      <th>gender</th>\n",
              "      <th>race</th>\n",
              "      <th>professional_experience_ord</th>\n",
              "      <th>length_of_job_search_ord</th>\n",
              "    </tr>\n",
              "  </thead>\n",
              "  <tbody>\n",
              "    <tr>\n",
              "      <th>4</th>\n",
              "      <td>SWE</td>\n",
              "      <td>89.0</td>\n",
              "      <td>Unemployed</td>\n",
              "      <td>Bachelor's Degree</td>\n",
              "      <td>Hearing back on my applications</td>\n",
              "      <td>F1 Visa/OPT</td>\n",
              "      <td>10.0</td>\n",
              "      <td>100</td>\n",
              "      <td>Male</td>\n",
              "      <td>East Asian or Asian American</td>\n",
              "      <td>2.0</td>\n",
              "      <td>2.0</td>\n",
              "    </tr>\n",
              "    <tr>\n",
              "      <th>23</th>\n",
              "      <td>PSO</td>\n",
              "      <td>193.0</td>\n",
              "      <td>Unemployed</td>\n",
              "      <td>Master's Degree</td>\n",
              "      <td>Hearing back on my applications</td>\n",
              "      <td>Citizen</td>\n",
              "      <td>5.0</td>\n",
              "      <td>4</td>\n",
              "      <td>Male</td>\n",
              "      <td>Non-Hispanic White or Euro-American</td>\n",
              "      <td>2.0</td>\n",
              "      <td>4.0</td>\n",
              "    </tr>\n",
              "    <tr>\n",
              "      <th>30</th>\n",
              "      <td>SWE</td>\n",
              "      <td>73.0</td>\n",
              "      <td>Student</td>\n",
              "      <td>Master's Degree</td>\n",
              "      <td>Figuring out which jobs to apply for</td>\n",
              "      <td>F1 Visa/CPT</td>\n",
              "      <td>0.0</td>\n",
              "      <td>1</td>\n",
              "      <td>Male</td>\n",
              "      <td>East Asian or Asian American</td>\n",
              "      <td>2.0</td>\n",
              "      <td>1.0</td>\n",
              "    </tr>\n",
              "    <tr>\n",
              "      <th>54</th>\n",
              "      <td>SWE</td>\n",
              "      <td>76.0</td>\n",
              "      <td>Student</td>\n",
              "      <td>Master's Degree</td>\n",
              "      <td>Getting past final round interviews</td>\n",
              "      <td>F1 Visa/OPT</td>\n",
              "      <td>0.0</td>\n",
              "      <td>30</td>\n",
              "      <td>Female</td>\n",
              "      <td>East Asian or Asian American</td>\n",
              "      <td>3.0</td>\n",
              "      <td>1.0</td>\n",
              "    </tr>\n",
              "    <tr>\n",
              "      <th>63</th>\n",
              "      <td>SWE</td>\n",
              "      <td>65.0</td>\n",
              "      <td>Unemployed</td>\n",
              "      <td>Bachelor's Degree</td>\n",
              "      <td>Getting past phone screens</td>\n",
              "      <td>F1 Visa/OPT</td>\n",
              "      <td>0.0</td>\n",
              "      <td>0</td>\n",
              "      <td>Female</td>\n",
              "      <td>Black, Afro-Caribbean, or African American</td>\n",
              "      <td>2.0</td>\n",
              "      <td>2.0</td>\n",
              "    </tr>\n",
              "  </tbody>\n",
              "</table>\n",
              "</div>"
            ],
            "text/plain": [
              "   primary_track  ...  length_of_job_search_ord\n",
              "4            SWE  ...                       2.0\n",
              "23           PSO  ...                       4.0\n",
              "30           SWE  ...                       1.0\n",
              "54           SWE  ...                       1.0\n",
              "63           SWE  ...                       2.0\n",
              "\n",
              "[5 rows x 12 columns]"
            ]
          },
          "metadata": {
            "tags": []
          },
          "execution_count": 929
        }
      ]
    },
    {
      "cell_type": "code",
      "metadata": {
        "colab": {
          "base_uri": "https://localhost:8080/",
          "height": 478
        },
        "id": "wKVylQc7o0US",
        "outputId": "e27bf7b7-9b50-410b-a591-1d2eaef95324"
      },
      "source": [
        "# See the statistics of the target variable \n",
        "\n",
        "print(cust_success_2_train['program_duration_days'].describe())\n",
        "sns.distplot(cust_success_2_train['program_duration_days'])\n",
        "plt.show()"
      ],
      "execution_count": null,
      "outputs": [
        {
          "output_type": "stream",
          "text": [
            "count    525.000000\n",
            "mean     162.889524\n",
            "std      103.029248\n",
            "min        1.000000\n",
            "25%       78.000000\n",
            "50%      144.000000\n",
            "75%      239.000000\n",
            "max      548.000000\n",
            "Name: program_duration_days, dtype: float64\n"
          ],
          "name": "stdout"
        },
        {
          "output_type": "stream",
          "text": [
            "/usr/local/lib/python3.7/dist-packages/seaborn/distributions.py:2557: FutureWarning: `distplot` is a deprecated function and will be removed in a future version. Please adapt your code to use either `displot` (a figure-level function with similar flexibility) or `histplot` (an axes-level function for histograms).\n",
            "  warnings.warn(msg, FutureWarning)\n"
          ],
          "name": "stderr"
        },
        {
          "output_type": "display_data",
          "data": {
            "image/png": "[encoded data removed]",
            "text/plain": [
              "<Figure size 432x288 with 1 Axes>"
            ]
          },
          "metadata": {
            "tags": [],
            "needs_background": "light"
          }
        }
      ]
    },
    {
      "cell_type": "code",
      "metadata": {
        "colab": {
          "base_uri": "https://localhost:8080/"
        },
        "id": "r6u1RZO6qJFH",
        "outputId": "e387a188-f29d-4162-adf7-fce8ac48941c"
      },
      "source": [
        "# Check skewness and the curtosis\n",
        "\n",
        "print(\"Skewness: %f\" % cust_success_2_train['program_duration_days'].skew())\n",
        "print(\"Kurtosis: %f\" % cust_success_2_train['program_duration_days'].kurt())"
      ],
      "execution_count": null,
      "outputs": [
        {
          "output_type": "stream",
          "text": [
            "Skewness: 0.714148\n",
            "Kurtosis: 0.239682\n"
          ],
          "name": "stdout"
        }
      ]
    },
    {
      "cell_type": "code",
      "metadata": {
        "colab": {
          "base_uri": "https://localhost:8080/",
          "height": 392
        },
        "id": "ctzwZQhWrimQ",
        "outputId": "1dc09f7d-0b2e-4925-e503-8a8e62424977"
      },
      "source": [
        "# The most experienced gets placed faster.\n",
        "\n",
        "var = 'professional_experience_ord'\n",
        "data = pd.concat([cust_success_2_train['program_duration_days'], cust_success_2_train[var]], axis=1)\n",
        "f, ax = plt.subplots(figsize=(8, 6))\n",
        "fig = sns.boxplot(x=var, y='program_duration_days', data=data)\n",
        "fig.axis(ymin=0, ymax=600);"
      ],
      "execution_count": null,
      "outputs": [
        {
          "output_type": "display_data",
          "data": {
            "image/png": "[encoded data removed]",
            "text/plain": [
              "<Figure size 576x432 with 1 Axes>"
            ]
          },
          "metadata": {
            "tags": [],
            "needs_background": "light"
          }
        }
      ]
    },
    {
      "cell_type": "code",
      "metadata": {
        "colab": {
          "base_uri": "https://localhost:8080/",
          "height": 388
        },
        "id": "GbJyxHWzs9nL",
        "outputId": "6af9b2bd-b37d-4fd4-b655-ecf32d0d5d12"
      },
      "source": [
        "# SWE has the lowest mean. Higher variance for PSO.\n",
        "\n",
        "var = 'primary_track'\n",
        "data = pd.concat([cust_success_2_train['program_duration_days'], cust_success_2_train[var]], axis=1)\n",
        "f, ax = plt.subplots(figsize=(8, 6))\n",
        "fig = sns.boxplot(x=var, y='program_duration_days', data=data)\n"
      ],
      "execution_count": null,
      "outputs": [
        {
          "output_type": "display_data",
          "data": {
            "image/png": "[encoded data removed]",
            "text/plain": [
              "<Figure size 576x432 with 1 Axes>"
            ]
          },
          "metadata": {
            "tags": [],
            "needs_background": "light"
          }
        }
      ]
    },
    {
      "cell_type": "code",
      "metadata": {
        "colab": {
          "base_uri": "https://localhost:8080/",
          "height": 388
        },
        "id": "SmaVux__t2lh",
        "outputId": "1a1eb1c6-bdfe-4a12-f726-0bdee0d37ac2"
      },
      "source": [
        "# SWE has the lowest mean. Higher variance for PSO.\n",
        "\n",
        "var = 'highest_level_of_education'\n",
        "data = pd.concat([cust_success_2_train['program_duration_days'], cust_success_2_train[var]], axis=1)\n",
        "f, ax = plt.subplots(figsize=(18, 6))\n",
        "fig = sns.boxplot(x=var, y='program_duration_days', data=data)\n"
      ],
      "execution_count": null,
      "outputs": [
        {
          "output_type": "display_data",
          "data": {
            "image/png": "[encoded data removed]",
            "text/plain": [
              "<Figure size 1296x432 with 1 Axes>"
            ]
          },
          "metadata": {
            "tags": [],
            "needs_background": "light"
          }
        }
      ]
    },
    {
      "cell_type": "code",
      "metadata": {
        "colab": {
          "base_uri": "https://localhost:8080/",
          "height": 673
        },
        "id": "cWKedrQAzVgA",
        "outputId": "589fbdf6-9f0c-48f8-fb45-aae3703908ed"
      },
      "source": [
        "#correlation matrix\n",
        "\n",
        "corrmat = cust_success_2_train.corr()\n",
        "f, ax = plt.subplots(figsize=(12, 9))\n",
        "sns.heatmap(corrmat, vmax=0.2, square=True);"
      ],
      "execution_count": null,
      "outputs": [
        {
          "output_type": "display_data",
          "data": {
            "image/png": "[encoded data removed]",
            "text/plain": [
              "<Figure size 864x648 with 2 Axes>"
            ]
          },
          "metadata": {
            "tags": [],
            "needs_background": "light"
          }
        }
      ]
    },
    {
      "cell_type": "code",
      "metadata": {
        "colab": {
          "base_uri": "https://localhost:8080/"
        },
        "id": "ncXHMWSgua6o",
        "outputId": "710e7e8a-0a57-47a4-fcc4-e7cc33754447"
      },
      "source": [
        "cust_success_2_train.columns"
      ],
      "execution_count": null,
      "outputs": [
        {
          "output_type": "execute_result",
          "data": {
            "text/plain": [
              "Index(['primary_track', 'program_duration_days', 'employment_status',\n",
              "       'highest_level_of_education', 'biggest_challenge_in_search',\n",
              "       'work_authorization_status', 'number_of_interviews',\n",
              "       'number_of_applications', 'gender', 'race',\n",
              "       'professional_experience_ord', 'length_of_job_search_ord'],\n",
              "      dtype='object')"
            ]
          },
          "metadata": {
            "tags": []
          },
          "execution_count": 936
        }
      ]
    },
    {
      "cell_type": "markdown",
      "metadata": {
        "id": "WqqBqQ09NoKL"
      },
      "source": [
        "# Using One-Hot-Encoding in training set + Testing set\n"
      ]
    },
    {
      "cell_type": "code",
      "metadata": {
        "colab": {
          "base_uri": "https://localhost:8080/",
          "height": 191
        },
        "id": "HHtbvKTnOOKd",
        "outputId": "bf25a049-bcc6-4fb4-c80e-a65a39a39d63"
      },
      "source": [
        "from sklearn.preprocessing import OneHotEncoder\n",
        "\n",
        "oe_style = OneHotEncoder()\n",
        "\n",
        "# 'work_authorization_status'\n",
        "oe_results_work_author = oe_style.fit_transform(cust_success_2[['work_authorization_status']])\n",
        "work_author=pd.DataFrame(oe_results_work_author.toarray(), columns=oe_style.categories_)\n",
        "work_author.head()"
      ],
      "execution_count": null,
      "outputs": [
        {
          "output_type": "execute_result",
          "data": {
            "text/html": [
              "<div>\n",
              "<style scoped>\n",
              "    .dataframe tbody tr th:only-of-type {\n",
              "        vertical-align: middle;\n",
              "    }\n",
              "\n",
              "    .dataframe tbody tr th {\n",
              "        vertical-align: top;\n",
              "    }\n",
              "\n",
              "    .dataframe thead tr th {\n",
              "        text-align: left;\n",
              "    }\n",
              "</style>\n",
              "<table border=\"1\" class=\"dataframe\">\n",
              "  <thead>\n",
              "    <tr>\n",
              "      <th></th>\n",
              "      <th>Canada Citizen</th>\n",
              "      <th>Citizen</th>\n",
              "      <th>F1 Visa/CPT</th>\n",
              "      <th>F1 Visa/OPT</th>\n",
              "      <th>Green Card</th>\n",
              "      <th>H1B</th>\n",
              "      <th>Not Authorized</th>\n",
              "      <th>Other</th>\n",
              "      <th>STEM OPT</th>\n",
              "    </tr>\n",
              "  </thead>\n",
              "  <tbody>\n",
              "    <tr>\n",
              "      <th>0</th>\n",
              "      <td>0.0</td>\n",
              "      <td>1.0</td>\n",
              "      <td>0.0</td>\n",
              "      <td>0.0</td>\n",
              "      <td>0.0</td>\n",
              "      <td>0.0</td>\n",
              "      <td>0.0</td>\n",
              "      <td>0.0</td>\n",
              "      <td>0.0</td>\n",
              "    </tr>\n",
              "    <tr>\n",
              "      <th>1</th>\n",
              "      <td>0.0</td>\n",
              "      <td>1.0</td>\n",
              "      <td>0.0</td>\n",
              "      <td>0.0</td>\n",
              "      <td>0.0</td>\n",
              "      <td>0.0</td>\n",
              "      <td>0.0</td>\n",
              "      <td>0.0</td>\n",
              "      <td>0.0</td>\n",
              "    </tr>\n",
              "    <tr>\n",
              "      <th>2</th>\n",
              "      <td>0.0</td>\n",
              "      <td>0.0</td>\n",
              "      <td>0.0</td>\n",
              "      <td>1.0</td>\n",
              "      <td>0.0</td>\n",
              "      <td>0.0</td>\n",
              "      <td>0.0</td>\n",
              "      <td>0.0</td>\n",
              "      <td>0.0</td>\n",
              "    </tr>\n",
              "    <tr>\n",
              "      <th>3</th>\n",
              "      <td>0.0</td>\n",
              "      <td>0.0</td>\n",
              "      <td>0.0</td>\n",
              "      <td>0.0</td>\n",
              "      <td>1.0</td>\n",
              "      <td>0.0</td>\n",
              "      <td>0.0</td>\n",
              "      <td>0.0</td>\n",
              "      <td>0.0</td>\n",
              "    </tr>\n",
              "    <tr>\n",
              "      <th>4</th>\n",
              "      <td>0.0</td>\n",
              "      <td>0.0</td>\n",
              "      <td>0.0</td>\n",
              "      <td>0.0</td>\n",
              "      <td>1.0</td>\n",
              "      <td>0.0</td>\n",
              "      <td>0.0</td>\n",
              "      <td>0.0</td>\n",
              "      <td>0.0</td>\n",
              "    </tr>\n",
              "  </tbody>\n",
              "</table>\n",
              "</div>"
            ],
            "text/plain": [
              "  Canada Citizen Citizen F1 Visa/CPT  ... Not Authorized Other STEM OPT\n",
              "0            0.0     1.0         0.0  ...            0.0   0.0      0.0\n",
              "1            0.0     1.0         0.0  ...            0.0   0.0      0.0\n",
              "2            0.0     0.0         0.0  ...            0.0   0.0      0.0\n",
              "3            0.0     0.0         0.0  ...            0.0   0.0      0.0\n",
              "4            0.0     0.0         0.0  ...            0.0   0.0      0.0\n",
              "\n",
              "[5 rows x 9 columns]"
            ]
          },
          "metadata": {
            "tags": []
          },
          "execution_count": 937
        }
      ]
    },
    {
      "cell_type": "code",
      "metadata": {
        "colab": {
          "base_uri": "https://localhost:8080/",
          "height": 207
        },
        "id": "EqEqTCGIOOKe",
        "outputId": "349b17a4-2d5a-4742-a672-a0996dccd19f"
      },
      "source": [
        "# 'biggest_challenge_in_search'\n",
        "\n",
        "oe_results_big_challenge = oe_style.fit_transform(cust_success_2[['biggest_challenge_in_search']])\n",
        "big_challenge=pd.DataFrame(oe_results_big_challenge.toarray(), columns=oe_style.categories_)\n",
        "big_challenge.head()"
      ],
      "execution_count": null,
      "outputs": [
        {
          "output_type": "execute_result",
          "data": {
            "text/html": [
              "<div>\n",
              "<style scoped>\n",
              "    .dataframe tbody tr th:only-of-type {\n",
              "        vertical-align: middle;\n",
              "    }\n",
              "\n",
              "    .dataframe tbody tr th {\n",
              "        vertical-align: top;\n",
              "    }\n",
              "\n",
              "    .dataframe thead tr th {\n",
              "        text-align: left;\n",
              "    }\n",
              "</style>\n",
              "<table border=\"1\" class=\"dataframe\">\n",
              "  <thead>\n",
              "    <tr>\n",
              "      <th></th>\n",
              "      <th>Behavioral interviewing</th>\n",
              "      <th>Figuring out which jobs to apply for</th>\n",
              "      <th>Getting past final round interviews</th>\n",
              "      <th>Getting past mid-stage interviews</th>\n",
              "      <th>Getting past phone screens</th>\n",
              "      <th>Hearing back on my applications</th>\n",
              "      <th>Lack of relevant experience</th>\n",
              "      <th>Resume gap</th>\n",
              "      <th>Technical interviewing</th>\n",
              "      <th>Technical skills</th>\n",
              "    </tr>\n",
              "  </thead>\n",
              "  <tbody>\n",
              "    <tr>\n",
              "      <th>0</th>\n",
              "      <td>0.0</td>\n",
              "      <td>1.0</td>\n",
              "      <td>0.0</td>\n",
              "      <td>0.0</td>\n",
              "      <td>0.0</td>\n",
              "      <td>0.0</td>\n",
              "      <td>0.0</td>\n",
              "      <td>0.0</td>\n",
              "      <td>0.0</td>\n",
              "      <td>0.0</td>\n",
              "    </tr>\n",
              "    <tr>\n",
              "      <th>1</th>\n",
              "      <td>0.0</td>\n",
              "      <td>0.0</td>\n",
              "      <td>1.0</td>\n",
              "      <td>0.0</td>\n",
              "      <td>0.0</td>\n",
              "      <td>0.0</td>\n",
              "      <td>0.0</td>\n",
              "      <td>0.0</td>\n",
              "      <td>0.0</td>\n",
              "      <td>0.0</td>\n",
              "    </tr>\n",
              "    <tr>\n",
              "      <th>2</th>\n",
              "      <td>0.0</td>\n",
              "      <td>0.0</td>\n",
              "      <td>0.0</td>\n",
              "      <td>0.0</td>\n",
              "      <td>0.0</td>\n",
              "      <td>1.0</td>\n",
              "      <td>0.0</td>\n",
              "      <td>0.0</td>\n",
              "      <td>0.0</td>\n",
              "      <td>0.0</td>\n",
              "    </tr>\n",
              "    <tr>\n",
              "      <th>3</th>\n",
              "      <td>0.0</td>\n",
              "      <td>0.0</td>\n",
              "      <td>0.0</td>\n",
              "      <td>0.0</td>\n",
              "      <td>0.0</td>\n",
              "      <td>0.0</td>\n",
              "      <td>0.0</td>\n",
              "      <td>0.0</td>\n",
              "      <td>1.0</td>\n",
              "      <td>0.0</td>\n",
              "    </tr>\n",
              "    <tr>\n",
              "      <th>4</th>\n",
              "      <td>0.0</td>\n",
              "      <td>0.0</td>\n",
              "      <td>0.0</td>\n",
              "      <td>0.0</td>\n",
              "      <td>1.0</td>\n",
              "      <td>0.0</td>\n",
              "      <td>0.0</td>\n",
              "      <td>0.0</td>\n",
              "      <td>0.0</td>\n",
              "      <td>0.0</td>\n",
              "    </tr>\n",
              "  </tbody>\n",
              "</table>\n",
              "</div>"
            ],
            "text/plain": [
              "  Behavioral interviewing  ... Technical skills\n",
              "0                     0.0  ...              0.0\n",
              "1                     0.0  ...              0.0\n",
              "2                     0.0  ...              0.0\n",
              "3                     0.0  ...              0.0\n",
              "4                     0.0  ...              0.0\n",
              "\n",
              "[5 rows x 10 columns]"
            ]
          },
          "metadata": {
            "tags": []
          },
          "execution_count": 938
        }
      ]
    },
    {
      "cell_type": "code",
      "metadata": {
        "colab": {
          "base_uri": "https://localhost:8080/",
          "height": 191
        },
        "id": "DbQWagYDOOKf",
        "outputId": "cbfb5a0f-5257-4e6f-e920-1cf36ce3c2f4"
      },
      "source": [
        "# 'employment_status'\n",
        "oe_results_employ_stat = oe_style.fit_transform(cust_success_2[['employment_status']])\n",
        "employ_stat=pd.DataFrame(oe_results_employ_stat.toarray(), columns=oe_style.categories_)\n",
        "employ_stat.head()"
      ],
      "execution_count": null,
      "outputs": [
        {
          "output_type": "execute_result",
          "data": {
            "text/html": [
              "<div>\n",
              "<style scoped>\n",
              "    .dataframe tbody tr th:only-of-type {\n",
              "        vertical-align: middle;\n",
              "    }\n",
              "\n",
              "    .dataframe tbody tr th {\n",
              "        vertical-align: top;\n",
              "    }\n",
              "\n",
              "    .dataframe thead tr th {\n",
              "        text-align: left;\n",
              "    }\n",
              "</style>\n",
              "<table border=\"1\" class=\"dataframe\">\n",
              "  <thead>\n",
              "    <tr>\n",
              "      <th></th>\n",
              "      <th>Contractor</th>\n",
              "      <th>Employed Full-Time</th>\n",
              "      <th>Employed Part-Time</th>\n",
              "      <th>Student</th>\n",
              "      <th>Unemployed</th>\n",
              "    </tr>\n",
              "  </thead>\n",
              "  <tbody>\n",
              "    <tr>\n",
              "      <th>0</th>\n",
              "      <td>0.0</td>\n",
              "      <td>0.0</td>\n",
              "      <td>1.0</td>\n",
              "      <td>0.0</td>\n",
              "      <td>0.0</td>\n",
              "    </tr>\n",
              "    <tr>\n",
              "      <th>1</th>\n",
              "      <td>1.0</td>\n",
              "      <td>0.0</td>\n",
              "      <td>0.0</td>\n",
              "      <td>0.0</td>\n",
              "      <td>0.0</td>\n",
              "    </tr>\n",
              "    <tr>\n",
              "      <th>2</th>\n",
              "      <td>0.0</td>\n",
              "      <td>0.0</td>\n",
              "      <td>0.0</td>\n",
              "      <td>0.0</td>\n",
              "      <td>1.0</td>\n",
              "    </tr>\n",
              "    <tr>\n",
              "      <th>3</th>\n",
              "      <td>0.0</td>\n",
              "      <td>1.0</td>\n",
              "      <td>0.0</td>\n",
              "      <td>0.0</td>\n",
              "      <td>0.0</td>\n",
              "    </tr>\n",
              "    <tr>\n",
              "      <th>4</th>\n",
              "      <td>0.0</td>\n",
              "      <td>1.0</td>\n",
              "      <td>0.0</td>\n",
              "      <td>0.0</td>\n",
              "      <td>0.0</td>\n",
              "    </tr>\n",
              "  </tbody>\n",
              "</table>\n",
              "</div>"
            ],
            "text/plain": [
              "  Contractor Employed Full-Time Employed Part-Time Student Unemployed\n",
              "0        0.0                0.0                1.0     0.0        0.0\n",
              "1        1.0                0.0                0.0     0.0        0.0\n",
              "2        0.0                0.0                0.0     0.0        1.0\n",
              "3        0.0                1.0                0.0     0.0        0.0\n",
              "4        0.0                1.0                0.0     0.0        0.0"
            ]
          },
          "metadata": {
            "tags": []
          },
          "execution_count": 939
        }
      ]
    },
    {
      "cell_type": "code",
      "metadata": {
        "colab": {
          "base_uri": "https://localhost:8080/",
          "height": 191
        },
        "id": "Q39CqKq-OOKf",
        "outputId": "c7244c10-2b32-4925-b849-03a434c35d46"
      },
      "source": [
        "# 'primary_track'\n",
        "oe_results_primary_track = oe_style.fit_transform(cust_success_2[['primary_track']])\n",
        "primary_track=pd.DataFrame(oe_results_primary_track.toarray(), columns=oe_style.categories_)\n",
        "primary_track.head()"
      ],
      "execution_count": null,
      "outputs": [
        {
          "output_type": "execute_result",
          "data": {
            "text/html": [
              "<div>\n",
              "<style scoped>\n",
              "    .dataframe tbody tr th:only-of-type {\n",
              "        vertical-align: middle;\n",
              "    }\n",
              "\n",
              "    .dataframe tbody tr th {\n",
              "        vertical-align: top;\n",
              "    }\n",
              "\n",
              "    .dataframe thead tr th {\n",
              "        text-align: left;\n",
              "    }\n",
              "</style>\n",
              "<table border=\"1\" class=\"dataframe\">\n",
              "  <thead>\n",
              "    <tr>\n",
              "      <th></th>\n",
              "      <th>Data</th>\n",
              "      <th>Design</th>\n",
              "      <th>PSO</th>\n",
              "      <th>SWE</th>\n",
              "      <th>Web</th>\n",
              "    </tr>\n",
              "  </thead>\n",
              "  <tbody>\n",
              "    <tr>\n",
              "      <th>0</th>\n",
              "      <td>0.0</td>\n",
              "      <td>1.0</td>\n",
              "      <td>0.0</td>\n",
              "      <td>0.0</td>\n",
              "      <td>0.0</td>\n",
              "    </tr>\n",
              "    <tr>\n",
              "      <th>1</th>\n",
              "      <td>0.0</td>\n",
              "      <td>0.0</td>\n",
              "      <td>1.0</td>\n",
              "      <td>0.0</td>\n",
              "      <td>0.0</td>\n",
              "    </tr>\n",
              "    <tr>\n",
              "      <th>2</th>\n",
              "      <td>0.0</td>\n",
              "      <td>0.0</td>\n",
              "      <td>0.0</td>\n",
              "      <td>1.0</td>\n",
              "      <td>0.0</td>\n",
              "    </tr>\n",
              "    <tr>\n",
              "      <th>3</th>\n",
              "      <td>0.0</td>\n",
              "      <td>0.0</td>\n",
              "      <td>0.0</td>\n",
              "      <td>1.0</td>\n",
              "      <td>0.0</td>\n",
              "    </tr>\n",
              "    <tr>\n",
              "      <th>4</th>\n",
              "      <td>0.0</td>\n",
              "      <td>0.0</td>\n",
              "      <td>0.0</td>\n",
              "      <td>1.0</td>\n",
              "      <td>0.0</td>\n",
              "    </tr>\n",
              "  </tbody>\n",
              "</table>\n",
              "</div>"
            ],
            "text/plain": [
              "  Data Design  PSO  SWE  Web\n",
              "0  0.0    1.0  0.0  0.0  0.0\n",
              "1  0.0    0.0  1.0  0.0  0.0\n",
              "2  0.0    0.0  0.0  1.0  0.0\n",
              "3  0.0    0.0  0.0  1.0  0.0\n",
              "4  0.0    0.0  0.0  1.0  0.0"
            ]
          },
          "metadata": {
            "tags": []
          },
          "execution_count": 940
        }
      ]
    },
    {
      "cell_type": "code",
      "metadata": {
        "colab": {
          "base_uri": "https://localhost:8080/",
          "height": 191
        },
        "id": "gFlLNwk8OOKg",
        "outputId": "2ef9f114-d848-49b8-d97d-5b1a1b285da5"
      },
      "source": [
        "# 'highest_level_of_education'\n",
        "oe_results_education = oe_style.fit_transform(cust_success_2[['highest_level_of_education']])\n",
        "education=pd.DataFrame(oe_results_education.toarray(), columns=oe_style.categories_)\n",
        "education.head()"
      ],
      "execution_count": null,
      "outputs": [
        {
          "output_type": "execute_result",
          "data": {
            "text/html": [
              "<div>\n",
              "<style scoped>\n",
              "    .dataframe tbody tr th:only-of-type {\n",
              "        vertical-align: middle;\n",
              "    }\n",
              "\n",
              "    .dataframe tbody tr th {\n",
              "        vertical-align: top;\n",
              "    }\n",
              "\n",
              "    .dataframe thead tr th {\n",
              "        text-align: left;\n",
              "    }\n",
              "</style>\n",
              "<table border=\"1\" class=\"dataframe\">\n",
              "  <thead>\n",
              "    <tr>\n",
              "      <th></th>\n",
              "      <th>Bachelor's Degree</th>\n",
              "      <th>Doctorate or Professional Degree</th>\n",
              "      <th>GED or equivalent</th>\n",
              "      <th>High School Graduate</th>\n",
              "      <th>Master's Degree</th>\n",
              "      <th>Some College, No Degree</th>\n",
              "      <th>Some High School</th>\n",
              "    </tr>\n",
              "  </thead>\n",
              "  <tbody>\n",
              "    <tr>\n",
              "      <th>0</th>\n",
              "      <td>0.0</td>\n",
              "      <td>0.0</td>\n",
              "      <td>0.0</td>\n",
              "      <td>0.0</td>\n",
              "      <td>1.0</td>\n",
              "      <td>0.0</td>\n",
              "      <td>0.0</td>\n",
              "    </tr>\n",
              "    <tr>\n",
              "      <th>1</th>\n",
              "      <td>1.0</td>\n",
              "      <td>0.0</td>\n",
              "      <td>0.0</td>\n",
              "      <td>0.0</td>\n",
              "      <td>0.0</td>\n",
              "      <td>0.0</td>\n",
              "      <td>0.0</td>\n",
              "    </tr>\n",
              "    <tr>\n",
              "      <th>2</th>\n",
              "      <td>1.0</td>\n",
              "      <td>0.0</td>\n",
              "      <td>0.0</td>\n",
              "      <td>0.0</td>\n",
              "      <td>0.0</td>\n",
              "      <td>0.0</td>\n",
              "      <td>0.0</td>\n",
              "    </tr>\n",
              "    <tr>\n",
              "      <th>3</th>\n",
              "      <td>0.0</td>\n",
              "      <td>0.0</td>\n",
              "      <td>0.0</td>\n",
              "      <td>0.0</td>\n",
              "      <td>1.0</td>\n",
              "      <td>0.0</td>\n",
              "      <td>0.0</td>\n",
              "    </tr>\n",
              "    <tr>\n",
              "      <th>4</th>\n",
              "      <td>0.0</td>\n",
              "      <td>0.0</td>\n",
              "      <td>0.0</td>\n",
              "      <td>0.0</td>\n",
              "      <td>1.0</td>\n",
              "      <td>0.0</td>\n",
              "      <td>0.0</td>\n",
              "    </tr>\n",
              "  </tbody>\n",
              "</table>\n",
              "</div>"
            ],
            "text/plain": [
              "  Bachelor's Degree  ... Some High School\n",
              "0               0.0  ...              0.0\n",
              "1               1.0  ...              0.0\n",
              "2               1.0  ...              0.0\n",
              "3               0.0  ...              0.0\n",
              "4               0.0  ...              0.0\n",
              "\n",
              "[5 rows x 7 columns]"
            ]
          },
          "metadata": {
            "tags": []
          },
          "execution_count": 941
        }
      ]
    },
    {
      "cell_type": "code",
      "metadata": {
        "colab": {
          "base_uri": "https://localhost:8080/",
          "height": 207
        },
        "id": "f-7NZhkyOOKg",
        "outputId": "fe744eee-dbdf-484c-8b25-cfa07f6ac87a"
      },
      "source": [
        "# 'race'\n",
        "oe_results_education = oe_style.fit_transform(cust_success_2[['race']])\n",
        "race=pd.DataFrame(oe_results_education.toarray(), columns=oe_style.categories_)\n",
        "race.head()"
      ],
      "execution_count": null,
      "outputs": [
        {
          "output_type": "execute_result",
          "data": {
            "text/html": [
              "<div>\n",
              "<style scoped>\n",
              "    .dataframe tbody tr th:only-of-type {\n",
              "        vertical-align: middle;\n",
              "    }\n",
              "\n",
              "    .dataframe tbody tr th {\n",
              "        vertical-align: top;\n",
              "    }\n",
              "\n",
              "    .dataframe thead tr th {\n",
              "        text-align: left;\n",
              "    }\n",
              "</style>\n",
              "<table border=\"1\" class=\"dataframe\">\n",
              "  <thead>\n",
              "    <tr>\n",
              "      <th></th>\n",
              "      <th>Black, Afro-Caribbean, or African American</th>\n",
              "      <th>Decline to Self Identify</th>\n",
              "      <th>East Asian or Asian American</th>\n",
              "      <th>Latino or Hispanic American</th>\n",
              "      <th>Middle Eastern or Arab American</th>\n",
              "      <th>Non-Hispanic White or Euro-American</th>\n",
              "      <th>South Asian or Indian American</th>\n",
              "      <th>Two or More Races</th>\n",
              "    </tr>\n",
              "  </thead>\n",
              "  <tbody>\n",
              "    <tr>\n",
              "      <th>0</th>\n",
              "      <td>0.0</td>\n",
              "      <td>0.0</td>\n",
              "      <td>1.0</td>\n",
              "      <td>0.0</td>\n",
              "      <td>0.0</td>\n",
              "      <td>0.0</td>\n",
              "      <td>0.0</td>\n",
              "      <td>0.0</td>\n",
              "    </tr>\n",
              "    <tr>\n",
              "      <th>1</th>\n",
              "      <td>0.0</td>\n",
              "      <td>1.0</td>\n",
              "      <td>0.0</td>\n",
              "      <td>0.0</td>\n",
              "      <td>0.0</td>\n",
              "      <td>0.0</td>\n",
              "      <td>0.0</td>\n",
              "      <td>0.0</td>\n",
              "    </tr>\n",
              "    <tr>\n",
              "      <th>2</th>\n",
              "      <td>0.0</td>\n",
              "      <td>0.0</td>\n",
              "      <td>1.0</td>\n",
              "      <td>0.0</td>\n",
              "      <td>0.0</td>\n",
              "      <td>0.0</td>\n",
              "      <td>0.0</td>\n",
              "      <td>0.0</td>\n",
              "    </tr>\n",
              "    <tr>\n",
              "      <th>3</th>\n",
              "      <td>0.0</td>\n",
              "      <td>0.0</td>\n",
              "      <td>1.0</td>\n",
              "      <td>0.0</td>\n",
              "      <td>0.0</td>\n",
              "      <td>0.0</td>\n",
              "      <td>0.0</td>\n",
              "      <td>0.0</td>\n",
              "    </tr>\n",
              "    <tr>\n",
              "      <th>4</th>\n",
              "      <td>1.0</td>\n",
              "      <td>0.0</td>\n",
              "      <td>0.0</td>\n",
              "      <td>0.0</td>\n",
              "      <td>0.0</td>\n",
              "      <td>0.0</td>\n",
              "      <td>0.0</td>\n",
              "      <td>0.0</td>\n",
              "    </tr>\n",
              "  </tbody>\n",
              "</table>\n",
              "</div>"
            ],
            "text/plain": [
              "  Black, Afro-Caribbean, or African American  ... Two or More Races\n",
              "0                                        0.0  ...               0.0\n",
              "1                                        0.0  ...               0.0\n",
              "2                                        0.0  ...               0.0\n",
              "3                                        0.0  ...               0.0\n",
              "4                                        1.0  ...               0.0\n",
              "\n",
              "[5 rows x 8 columns]"
            ]
          },
          "metadata": {
            "tags": []
          },
          "execution_count": 942
        }
      ]
    },
    {
      "cell_type": "code",
      "metadata": {
        "colab": {
          "base_uri": "https://localhost:8080/",
          "height": 191
        },
        "id": "cYwqUquIOOKg",
        "outputId": "3b39f50c-c1ac-4824-ef2a-e4e2005cb4f6"
      },
      "source": [
        "# 'gender'\n",
        "oe_results_gender = oe_style.fit_transform(cust_success_2[['gender']])\n",
        "gender=pd.DataFrame(oe_results_gender.toarray(), columns=oe_style.categories_)\n",
        "gender=gender.drop(columns=['Decline to Self Identify'])\n",
        "gender.head()"
      ],
      "execution_count": null,
      "outputs": [
        {
          "output_type": "execute_result",
          "data": {
            "text/html": [
              "<div>\n",
              "<style scoped>\n",
              "    .dataframe tbody tr th:only-of-type {\n",
              "        vertical-align: middle;\n",
              "    }\n",
              "\n",
              "    .dataframe tbody tr th {\n",
              "        vertical-align: top;\n",
              "    }\n",
              "\n",
              "    .dataframe thead tr th {\n",
              "        text-align: left;\n",
              "    }\n",
              "</style>\n",
              "<table border=\"1\" class=\"dataframe\">\n",
              "  <thead>\n",
              "    <tr>\n",
              "      <th></th>\n",
              "      <th>Female</th>\n",
              "      <th>Male</th>\n",
              "      <th>Non-Binary</th>\n",
              "    </tr>\n",
              "  </thead>\n",
              "  <tbody>\n",
              "    <tr>\n",
              "      <th>0</th>\n",
              "      <td>0.0</td>\n",
              "      <td>1.0</td>\n",
              "      <td>0.0</td>\n",
              "    </tr>\n",
              "    <tr>\n",
              "      <th>1</th>\n",
              "      <td>0.0</td>\n",
              "      <td>1.0</td>\n",
              "      <td>0.0</td>\n",
              "    </tr>\n",
              "    <tr>\n",
              "      <th>2</th>\n",
              "      <td>0.0</td>\n",
              "      <td>1.0</td>\n",
              "      <td>0.0</td>\n",
              "    </tr>\n",
              "    <tr>\n",
              "      <th>3</th>\n",
              "      <td>0.0</td>\n",
              "      <td>1.0</td>\n",
              "      <td>0.0</td>\n",
              "    </tr>\n",
              "    <tr>\n",
              "      <th>4</th>\n",
              "      <td>0.0</td>\n",
              "      <td>1.0</td>\n",
              "      <td>0.0</td>\n",
              "    </tr>\n",
              "  </tbody>\n",
              "</table>\n",
              "</div>"
            ],
            "text/plain": [
              "  Female Male Non-Binary\n",
              "0    0.0  1.0        0.0\n",
              "1    0.0  1.0        0.0\n",
              "2    0.0  1.0        0.0\n",
              "3    0.0  1.0        0.0\n",
              "4    0.0  1.0        0.0"
            ]
          },
          "metadata": {
            "tags": []
          },
          "execution_count": 943
        }
      ]
    },
    {
      "cell_type": "code",
      "metadata": {
        "colab": {
          "base_uri": "https://localhost:8080/",
          "height": 476
        },
        "id": "ZTZumUhiOZkE",
        "outputId": "eb5e6c65-e559-49dc-b28b-6f2f9af184c6"
      },
      "source": [
        "cust_success_2_ready=cust_success_2.reset_index(drop=True, inplace=False)\n",
        "cust_success_2_ready=cust_success_2_ready.join(education).join(big_challenge).join(employ_stat).join(primary_track).join(work_author) #.join(race).join(gender)\n",
        "cust_success_2_ready=cust_success_2_ready.drop(columns=['highest_level_of_education', 'primary_track', 'employment_status', 'biggest_challenge_in_search', 'work_authorization_status', 'race', 'gender']) #, 'number_of_applications'\n",
        "\n",
        "cust_success_2_ready"
      ],
      "execution_count": null,
      "outputs": [
        {
          "output_type": "execute_result",
          "data": {
            "text/html": [
              "<div>\n",
              "<style scoped>\n",
              "    .dataframe tbody tr th:only-of-type {\n",
              "        vertical-align: middle;\n",
              "    }\n",
              "\n",
              "    .dataframe tbody tr th {\n",
              "        vertical-align: top;\n",
              "    }\n",
              "\n",
              "    .dataframe thead th {\n",
              "        text-align: right;\n",
              "    }\n",
              "</style>\n",
              "<table border=\"1\" class=\"dataframe\">\n",
              "  <thead>\n",
              "    <tr style=\"text-align: right;\">\n",
              "      <th></th>\n",
              "      <th>pathrise_status</th>\n",
              "      <th>program_duration_days</th>\n",
              "      <th>placed</th>\n",
              "      <th>number_of_interviews</th>\n",
              "      <th>number_of_applications</th>\n",
              "      <th>professional_experience_ord</th>\n",
              "      <th>length_of_job_search_ord</th>\n",
              "      <th>(Bachelor's Degree,)</th>\n",
              "      <th>(Doctorate or Professional Degree,)</th>\n",
              "      <th>(GED or equivalent,)</th>\n",
              "      <th>(High School Graduate,)</th>\n",
              "      <th>(Master's Degree,)</th>\n",
              "      <th>(Some College, No Degree,)</th>\n",
              "      <th>(Some High School,)</th>\n",
              "      <th>(Behavioral interviewing,)</th>\n",
              "      <th>(Figuring out which jobs to apply for,)</th>\n",
              "      <th>(Getting past final round interviews,)</th>\n",
              "      <th>(Getting past mid-stage interviews,)</th>\n",
              "      <th>(Getting past phone screens,)</th>\n",
              "      <th>(Hearing back on my applications,)</th>\n",
              "      <th>(Lack of relevant experience,)</th>\n",
              "      <th>(Resume gap,)</th>\n",
              "      <th>(Technical interviewing,)</th>\n",
              "      <th>(Technical skills,)</th>\n",
              "      <th>(Contractor,)</th>\n",
              "      <th>(Employed Full-Time,)</th>\n",
              "      <th>(Employed Part-Time,)</th>\n",
              "      <th>(Student,)</th>\n",
              "      <th>(Unemployed,)</th>\n",
              "      <th>(Data,)</th>\n",
              "      <th>(Design,)</th>\n",
              "      <th>(PSO,)</th>\n",
              "      <th>(SWE,)</th>\n",
              "      <th>(Web,)</th>\n",
              "      <th>(Canada Citizen,)</th>\n",
              "      <th>(Citizen,)</th>\n",
              "      <th>(F1 Visa/CPT,)</th>\n",
              "      <th>(F1 Visa/OPT,)</th>\n",
              "      <th>(Green Card,)</th>\n",
              "      <th>(H1B,)</th>\n",
              "      <th>(Not Authorized,)</th>\n",
              "      <th>(Other,)</th>\n",
              "      <th>(STEM OPT,)</th>\n",
              "    </tr>\n",
              "  </thead>\n",
              "  <tbody>\n",
              "    <tr>\n",
              "      <th>0</th>\n",
              "      <td>Closed Lost</td>\n",
              "      <td>0.0</td>\n",
              "      <td>0</td>\n",
              "      <td>0.0</td>\n",
              "      <td>0</td>\n",
              "      <td>1.0</td>\n",
              "      <td>1.0</td>\n",
              "      <td>0.0</td>\n",
              "      <td>0.0</td>\n",
              "      <td>0.0</td>\n",
              "      <td>0.0</td>\n",
              "      <td>1.0</td>\n",
              "      <td>0.0</td>\n",
              "      <td>0.0</td>\n",
              "      <td>0.0</td>\n",
              "      <td>1.0</td>\n",
              "      <td>0.0</td>\n",
              "      <td>0.0</td>\n",
              "      <td>0.0</td>\n",
              "      <td>0.0</td>\n",
              "      <td>0.0</td>\n",
              "      <td>0.0</td>\n",
              "      <td>0.0</td>\n",
              "      <td>0.0</td>\n",
              "      <td>0.0</td>\n",
              "      <td>0.0</td>\n",
              "      <td>1.0</td>\n",
              "      <td>0.0</td>\n",
              "      <td>0.0</td>\n",
              "      <td>0.0</td>\n",
              "      <td>1.0</td>\n",
              "      <td>0.0</td>\n",
              "      <td>0.0</td>\n",
              "      <td>0.0</td>\n",
              "      <td>0.0</td>\n",
              "      <td>1.0</td>\n",
              "      <td>0.0</td>\n",
              "      <td>0.0</td>\n",
              "      <td>0.0</td>\n",
              "      <td>0.0</td>\n",
              "      <td>0.0</td>\n",
              "      <td>0.0</td>\n",
              "      <td>0.0</td>\n",
              "    </tr>\n",
              "    <tr>\n",
              "      <th>1</th>\n",
              "      <td>Closed Lost</td>\n",
              "      <td>0.0</td>\n",
              "      <td>0</td>\n",
              "      <td>5.0</td>\n",
              "      <td>25</td>\n",
              "      <td>1.0</td>\n",
              "      <td>1.0</td>\n",
              "      <td>1.0</td>\n",
              "      <td>0.0</td>\n",
              "      <td>0.0</td>\n",
              "      <td>0.0</td>\n",
              "      <td>0.0</td>\n",
              "      <td>0.0</td>\n",
              "      <td>0.0</td>\n",
              "      <td>0.0</td>\n",
              "      <td>0.0</td>\n",
              "      <td>1.0</td>\n",
              "      <td>0.0</td>\n",
              "      <td>0.0</td>\n",
              "      <td>0.0</td>\n",
              "      <td>0.0</td>\n",
              "      <td>0.0</td>\n",
              "      <td>0.0</td>\n",
              "      <td>0.0</td>\n",
              "      <td>1.0</td>\n",
              "      <td>0.0</td>\n",
              "      <td>0.0</td>\n",
              "      <td>0.0</td>\n",
              "      <td>0.0</td>\n",
              "      <td>0.0</td>\n",
              "      <td>0.0</td>\n",
              "      <td>1.0</td>\n",
              "      <td>0.0</td>\n",
              "      <td>0.0</td>\n",
              "      <td>0.0</td>\n",
              "      <td>1.0</td>\n",
              "      <td>0.0</td>\n",
              "      <td>0.0</td>\n",
              "      <td>0.0</td>\n",
              "      <td>0.0</td>\n",
              "      <td>0.0</td>\n",
              "      <td>0.0</td>\n",
              "      <td>0.0</td>\n",
              "    </tr>\n",
              "    <tr>\n",
              "      <th>2</th>\n",
              "      <td>Placed</td>\n",
              "      <td>89.0</td>\n",
              "      <td>1</td>\n",
              "      <td>10.0</td>\n",
              "      <td>100</td>\n",
              "      <td>2.0</td>\n",
              "      <td>2.0</td>\n",
              "      <td>1.0</td>\n",
              "      <td>0.0</td>\n",
              "      <td>0.0</td>\n",
              "      <td>0.0</td>\n",
              "      <td>0.0</td>\n",
              "      <td>0.0</td>\n",
              "      <td>0.0</td>\n",
              "      <td>0.0</td>\n",
              "      <td>0.0</td>\n",
              "      <td>0.0</td>\n",
              "      <td>0.0</td>\n",
              "      <td>0.0</td>\n",
              "      <td>1.0</td>\n",
              "      <td>0.0</td>\n",
              "      <td>0.0</td>\n",
              "      <td>0.0</td>\n",
              "      <td>0.0</td>\n",
              "      <td>0.0</td>\n",
              "      <td>0.0</td>\n",
              "      <td>0.0</td>\n",
              "      <td>0.0</td>\n",
              "      <td>1.0</td>\n",
              "      <td>0.0</td>\n",
              "      <td>0.0</td>\n",
              "      <td>0.0</td>\n",
              "      <td>1.0</td>\n",
              "      <td>0.0</td>\n",
              "      <td>0.0</td>\n",
              "      <td>0.0</td>\n",
              "      <td>0.0</td>\n",
              "      <td>1.0</td>\n",
              "      <td>0.0</td>\n",
              "      <td>0.0</td>\n",
              "      <td>0.0</td>\n",
              "      <td>0.0</td>\n",
              "      <td>0.0</td>\n",
              "    </tr>\n",
              "    <tr>\n",
              "      <th>3</th>\n",
              "      <td>Closed Lost</td>\n",
              "      <td>0.0</td>\n",
              "      <td>0</td>\n",
              "      <td>5.0</td>\n",
              "      <td>100</td>\n",
              "      <td>3.0</td>\n",
              "      <td>2.0</td>\n",
              "      <td>0.0</td>\n",
              "      <td>0.0</td>\n",
              "      <td>0.0</td>\n",
              "      <td>0.0</td>\n",
              "      <td>1.0</td>\n",
              "      <td>0.0</td>\n",
              "      <td>0.0</td>\n",
              "      <td>0.0</td>\n",
              "      <td>0.0</td>\n",
              "      <td>0.0</td>\n",
              "      <td>0.0</td>\n",
              "      <td>0.0</td>\n",
              "      <td>0.0</td>\n",
              "      <td>0.0</td>\n",
              "      <td>0.0</td>\n",
              "      <td>1.0</td>\n",
              "      <td>0.0</td>\n",
              "      <td>0.0</td>\n",
              "      <td>1.0</td>\n",
              "      <td>0.0</td>\n",
              "      <td>0.0</td>\n",
              "      <td>0.0</td>\n",
              "      <td>0.0</td>\n",
              "      <td>0.0</td>\n",
              "      <td>0.0</td>\n",
              "      <td>1.0</td>\n",
              "      <td>0.0</td>\n",
              "      <td>0.0</td>\n",
              "      <td>0.0</td>\n",
              "      <td>0.0</td>\n",
              "      <td>0.0</td>\n",
              "      <td>1.0</td>\n",
              "      <td>0.0</td>\n",
              "      <td>0.0</td>\n",
              "      <td>0.0</td>\n",
              "      <td>0.0</td>\n",
              "    </tr>\n",
              "    <tr>\n",
              "      <th>4</th>\n",
              "      <td>Closed Lost</td>\n",
              "      <td>0.0</td>\n",
              "      <td>0</td>\n",
              "      <td>0.0</td>\n",
              "      <td>9</td>\n",
              "      <td>3.0</td>\n",
              "      <td>1.0</td>\n",
              "      <td>0.0</td>\n",
              "      <td>0.0</td>\n",
              "      <td>0.0</td>\n",
              "      <td>0.0</td>\n",
              "      <td>1.0</td>\n",
              "      <td>0.0</td>\n",
              "      <td>0.0</td>\n",
              "      <td>0.0</td>\n",
              "      <td>0.0</td>\n",
              "      <td>0.0</td>\n",
              "      <td>0.0</td>\n",
              "      <td>1.0</td>\n",
              "      <td>0.0</td>\n",
              "      <td>0.0</td>\n",
              "      <td>0.0</td>\n",
              "      <td>0.0</td>\n",
              "      <td>0.0</td>\n",
              "      <td>0.0</td>\n",
              "      <td>1.0</td>\n",
              "      <td>0.0</td>\n",
              "      <td>0.0</td>\n",
              "      <td>0.0</td>\n",
              "      <td>0.0</td>\n",
              "      <td>0.0</td>\n",
              "      <td>0.0</td>\n",
              "      <td>1.0</td>\n",
              "      <td>0.0</td>\n",
              "      <td>0.0</td>\n",
              "      <td>0.0</td>\n",
              "      <td>0.0</td>\n",
              "      <td>0.0</td>\n",
              "      <td>1.0</td>\n",
              "      <td>0.0</td>\n",
              "      <td>0.0</td>\n",
              "      <td>0.0</td>\n",
              "      <td>0.0</td>\n",
              "    </tr>\n",
              "    <tr>\n",
              "      <th>...</th>\n",
              "      <td>...</td>\n",
              "      <td>...</td>\n",
              "      <td>...</td>\n",
              "      <td>...</td>\n",
              "      <td>...</td>\n",
              "      <td>...</td>\n",
              "      <td>...</td>\n",
              "      <td>...</td>\n",
              "      <td>...</td>\n",
              "      <td>...</td>\n",
              "      <td>...</td>\n",
              "      <td>...</td>\n",
              "      <td>...</td>\n",
              "      <td>...</td>\n",
              "      <td>...</td>\n",
              "      <td>...</td>\n",
              "      <td>...</td>\n",
              "      <td>...</td>\n",
              "      <td>...</td>\n",
              "      <td>...</td>\n",
              "      <td>...</td>\n",
              "      <td>...</td>\n",
              "      <td>...</td>\n",
              "      <td>...</td>\n",
              "      <td>...</td>\n",
              "      <td>...</td>\n",
              "      <td>...</td>\n",
              "      <td>...</td>\n",
              "      <td>...</td>\n",
              "      <td>...</td>\n",
              "      <td>...</td>\n",
              "      <td>...</td>\n",
              "      <td>...</td>\n",
              "      <td>...</td>\n",
              "      <td>...</td>\n",
              "      <td>...</td>\n",
              "      <td>...</td>\n",
              "      <td>...</td>\n",
              "      <td>...</td>\n",
              "      <td>...</td>\n",
              "      <td>...</td>\n",
              "      <td>...</td>\n",
              "      <td>...</td>\n",
              "    </tr>\n",
              "    <tr>\n",
              "      <th>1057</th>\n",
              "      <td>Withdrawn (Trial)</td>\n",
              "      <td>9.0</td>\n",
              "      <td>0</td>\n",
              "      <td>4.0</td>\n",
              "      <td>15</td>\n",
              "      <td>3.0</td>\n",
              "      <td>1.0</td>\n",
              "      <td>1.0</td>\n",
              "      <td>0.0</td>\n",
              "      <td>0.0</td>\n",
              "      <td>0.0</td>\n",
              "      <td>0.0</td>\n",
              "      <td>0.0</td>\n",
              "      <td>0.0</td>\n",
              "      <td>0.0</td>\n",
              "      <td>0.0</td>\n",
              "      <td>0.0</td>\n",
              "      <td>0.0</td>\n",
              "      <td>0.0</td>\n",
              "      <td>1.0</td>\n",
              "      <td>0.0</td>\n",
              "      <td>0.0</td>\n",
              "      <td>0.0</td>\n",
              "      <td>0.0</td>\n",
              "      <td>0.0</td>\n",
              "      <td>0.0</td>\n",
              "      <td>0.0</td>\n",
              "      <td>0.0</td>\n",
              "      <td>1.0</td>\n",
              "      <td>0.0</td>\n",
              "      <td>0.0</td>\n",
              "      <td>1.0</td>\n",
              "      <td>0.0</td>\n",
              "      <td>0.0</td>\n",
              "      <td>0.0</td>\n",
              "      <td>1.0</td>\n",
              "      <td>0.0</td>\n",
              "      <td>0.0</td>\n",
              "      <td>0.0</td>\n",
              "      <td>0.0</td>\n",
              "      <td>0.0</td>\n",
              "      <td>0.0</td>\n",
              "      <td>0.0</td>\n",
              "    </tr>\n",
              "    <tr>\n",
              "      <th>1058</th>\n",
              "      <td>Placed</td>\n",
              "      <td>119.0</td>\n",
              "      <td>1</td>\n",
              "      <td>0.0</td>\n",
              "      <td>10</td>\n",
              "      <td>2.0</td>\n",
              "      <td>2.0</td>\n",
              "      <td>1.0</td>\n",
              "      <td>0.0</td>\n",
              "      <td>0.0</td>\n",
              "      <td>0.0</td>\n",
              "      <td>0.0</td>\n",
              "      <td>0.0</td>\n",
              "      <td>0.0</td>\n",
              "      <td>0.0</td>\n",
              "      <td>0.0</td>\n",
              "      <td>0.0</td>\n",
              "      <td>0.0</td>\n",
              "      <td>1.0</td>\n",
              "      <td>0.0</td>\n",
              "      <td>0.0</td>\n",
              "      <td>0.0</td>\n",
              "      <td>0.0</td>\n",
              "      <td>0.0</td>\n",
              "      <td>0.0</td>\n",
              "      <td>1.0</td>\n",
              "      <td>0.0</td>\n",
              "      <td>0.0</td>\n",
              "      <td>0.0</td>\n",
              "      <td>0.0</td>\n",
              "      <td>0.0</td>\n",
              "      <td>0.0</td>\n",
              "      <td>1.0</td>\n",
              "      <td>0.0</td>\n",
              "      <td>0.0</td>\n",
              "      <td>1.0</td>\n",
              "      <td>0.0</td>\n",
              "      <td>0.0</td>\n",
              "      <td>0.0</td>\n",
              "      <td>0.0</td>\n",
              "      <td>0.0</td>\n",
              "      <td>0.0</td>\n",
              "      <td>0.0</td>\n",
              "    </tr>\n",
              "    <tr>\n",
              "      <th>1059</th>\n",
              "      <td>Withdrawn</td>\n",
              "      <td>118.0</td>\n",
              "      <td>0</td>\n",
              "      <td>1.0</td>\n",
              "      <td>25</td>\n",
              "      <td>5.0</td>\n",
              "      <td>1.0</td>\n",
              "      <td>0.0</td>\n",
              "      <td>0.0</td>\n",
              "      <td>0.0</td>\n",
              "      <td>0.0</td>\n",
              "      <td>1.0</td>\n",
              "      <td>0.0</td>\n",
              "      <td>0.0</td>\n",
              "      <td>0.0</td>\n",
              "      <td>0.0</td>\n",
              "      <td>0.0</td>\n",
              "      <td>0.0</td>\n",
              "      <td>0.0</td>\n",
              "      <td>0.0</td>\n",
              "      <td>1.0</td>\n",
              "      <td>0.0</td>\n",
              "      <td>0.0</td>\n",
              "      <td>0.0</td>\n",
              "      <td>0.0</td>\n",
              "      <td>0.0</td>\n",
              "      <td>1.0</td>\n",
              "      <td>0.0</td>\n",
              "      <td>0.0</td>\n",
              "      <td>0.0</td>\n",
              "      <td>0.0</td>\n",
              "      <td>0.0</td>\n",
              "      <td>1.0</td>\n",
              "      <td>0.0</td>\n",
              "      <td>0.0</td>\n",
              "      <td>0.0</td>\n",
              "      <td>0.0</td>\n",
              "      <td>0.0</td>\n",
              "      <td>0.0</td>\n",
              "      <td>0.0</td>\n",
              "      <td>0.0</td>\n",
              "      <td>1.0</td>\n",
              "      <td>0.0</td>\n",
              "    </tr>\n",
              "    <tr>\n",
              "      <th>1060</th>\n",
              "      <td>Withdrawn (Failed)</td>\n",
              "      <td>457.0</td>\n",
              "      <td>0</td>\n",
              "      <td>4.0</td>\n",
              "      <td>15</td>\n",
              "      <td>5.0</td>\n",
              "      <td>4.0</td>\n",
              "      <td>0.0</td>\n",
              "      <td>0.0</td>\n",
              "      <td>0.0</td>\n",
              "      <td>0.0</td>\n",
              "      <td>1.0</td>\n",
              "      <td>0.0</td>\n",
              "      <td>0.0</td>\n",
              "      <td>0.0</td>\n",
              "      <td>0.0</td>\n",
              "      <td>0.0</td>\n",
              "      <td>0.0</td>\n",
              "      <td>0.0</td>\n",
              "      <td>0.0</td>\n",
              "      <td>0.0</td>\n",
              "      <td>0.0</td>\n",
              "      <td>1.0</td>\n",
              "      <td>0.0</td>\n",
              "      <td>1.0</td>\n",
              "      <td>0.0</td>\n",
              "      <td>0.0</td>\n",
              "      <td>0.0</td>\n",
              "      <td>0.0</td>\n",
              "      <td>0.0</td>\n",
              "      <td>1.0</td>\n",
              "      <td>0.0</td>\n",
              "      <td>0.0</td>\n",
              "      <td>0.0</td>\n",
              "      <td>0.0</td>\n",
              "      <td>1.0</td>\n",
              "      <td>0.0</td>\n",
              "      <td>0.0</td>\n",
              "      <td>0.0</td>\n",
              "      <td>0.0</td>\n",
              "      <td>0.0</td>\n",
              "      <td>0.0</td>\n",
              "      <td>0.0</td>\n",
              "    </tr>\n",
              "    <tr>\n",
              "      <th>1061</th>\n",
              "      <td>Withdrawn</td>\n",
              "      <td>285.0</td>\n",
              "      <td>0</td>\n",
              "      <td>3.0</td>\n",
              "      <td>70</td>\n",
              "      <td>2.0</td>\n",
              "      <td>2.0</td>\n",
              "      <td>0.0</td>\n",
              "      <td>0.0</td>\n",
              "      <td>0.0</td>\n",
              "      <td>0.0</td>\n",
              "      <td>1.0</td>\n",
              "      <td>0.0</td>\n",
              "      <td>0.0</td>\n",
              "      <td>0.0</td>\n",
              "      <td>0.0</td>\n",
              "      <td>0.0</td>\n",
              "      <td>0.0</td>\n",
              "      <td>0.0</td>\n",
              "      <td>1.0</td>\n",
              "      <td>0.0</td>\n",
              "      <td>0.0</td>\n",
              "      <td>0.0</td>\n",
              "      <td>0.0</td>\n",
              "      <td>0.0</td>\n",
              "      <td>0.0</td>\n",
              "      <td>0.0</td>\n",
              "      <td>1.0</td>\n",
              "      <td>0.0</td>\n",
              "      <td>0.0</td>\n",
              "      <td>0.0</td>\n",
              "      <td>0.0</td>\n",
              "      <td>1.0</td>\n",
              "      <td>0.0</td>\n",
              "      <td>0.0</td>\n",
              "      <td>0.0</td>\n",
              "      <td>0.0</td>\n",
              "      <td>0.0</td>\n",
              "      <td>1.0</td>\n",
              "      <td>0.0</td>\n",
              "      <td>0.0</td>\n",
              "      <td>0.0</td>\n",
              "      <td>0.0</td>\n",
              "    </tr>\n",
              "  </tbody>\n",
              "</table>\n",
              "<p>1062 rows × 43 columns</p>\n",
              "</div>"
            ],
            "text/plain": [
              "         pathrise_status  program_duration_days  ...  (Other,)  (STEM OPT,)\n",
              "0            Closed Lost                    0.0  ...       0.0          0.0\n",
              "1            Closed Lost                    0.0  ...       0.0          0.0\n",
              "2                 Placed                   89.0  ...       0.0          0.0\n",
              "3            Closed Lost                    0.0  ...       0.0          0.0\n",
              "4            Closed Lost                    0.0  ...       0.0          0.0\n",
              "...                  ...                    ...  ...       ...          ...\n",
              "1057   Withdrawn (Trial)                    9.0  ...       0.0          0.0\n",
              "1058              Placed                  119.0  ...       0.0          0.0\n",
              "1059           Withdrawn                  118.0  ...       1.0          0.0\n",
              "1060  Withdrawn (Failed)                  457.0  ...       0.0          0.0\n",
              "1061           Withdrawn                  285.0  ...       0.0          0.0\n",
              "\n",
              "[1062 rows x 43 columns]"
            ]
          },
          "metadata": {
            "tags": []
          },
          "execution_count": 944
        }
      ]
    },
    {
      "cell_type": "code",
      "metadata": {
        "id": "L2NEzGXpKBol"
      },
      "source": [
        "# Training set is all the fellows who got placed. The we will split it into a validation set for testing.\n",
        "cust_success_2_train=cust_success_2_ready[(cust_success_2_ready['cust_success_status']=='Placed') & (cust_success_2_ready['placed']==1)].drop(columns=['cust_success_status', 'placed'])\n"
      ],
      "execution_count": null,
      "outputs": []
    },
    {
      "cell_type": "markdown",
      "metadata": {
        "id": "Dg44A9wDQgvW"
      },
      "source": [
        "# Training and testing data for Task - 2"
      ]
    },
    {
      "cell_type": "code",
      "metadata": {
        "id": "BO_axPySQgvW"
      },
      "source": [
        "X_train2=cust_success_2_train.drop(columns='program_duration_days')\n",
        "y_train2=cust_success_2_train['program_duration_days']\n",
        "\n",
        "# We use 'train_test_split' from Sckit_learn to create a training and validation datasets.\n",
        "\n",
        "X_train2, X_test2, y_train2, y_test2 = train_test_split(X_train2, y_train2, test_size = 0.2, random_state = 0)"
      ],
      "execution_count": null,
      "outputs": []
    },
    {
      "cell_type": "markdown",
      "metadata": {
        "id": "d8mNwSfIQgvf"
      },
      "source": [
        "# Dimensionality reduction using PCA"
      ]
    },
    {
      "cell_type": "code",
      "metadata": {
        "id": "0cVPwZzuQgvg"
      },
      "source": [
        "from sklearn import decomposition\n",
        "from sklearn.decomposition import PCA\n",
        "\n",
        "pca = decomposition.PCA()\n",
        "pca.fit(X_train2)\n",
        "X_train2 = pca.transform(X_train2)\n",
        "X_test2 = pca.transform(X_test2)"
      ],
      "execution_count": null,
      "outputs": []
    },
    {
      "cell_type": "code",
      "metadata": {
        "id": "aIBV-Qh1Qgvh"
      },
      "source": [
        "# Feature scaling\n",
        "from sklearn.preprocessing import StandardScaler\n",
        "\n",
        "sc = StandardScaler()\n",
        "X_train2 = sc.fit_transform(X_train2)\n",
        "\n",
        "X_test2 = sc.transform(X_test2)"
      ],
      "execution_count": null,
      "outputs": []
    },
    {
      "cell_type": "markdown",
      "metadata": {
        "id": "yGh8IqZZQgvi"
      },
      "source": [
        "# Linear regression model"
      ]
    },
    {
      "cell_type": "code",
      "metadata": {
        "colab": {
          "base_uri": "https://localhost:8080/",
          "height": 311
        },
        "id": "8VhF7xmTXuzK",
        "outputId": "8069a038-7b36-4fc9-b366-527bebb8052b"
      },
      "source": [
        "from sklearn.linear_model import LinearRegression\n",
        "\n",
        "reg = LinearRegression().fit(X_train2, y_train2)\n",
        "y_pred2 = reg.predict(X_test2)\n",
        "\n",
        "plt.plot(np.array(y_pred2),'.', label='Predicted')\n",
        "plt.plot(np.array(y_test2),'.', label='Ground Truth')\n",
        "plt.xlabel('Candidates')\n",
        "plt.ylabel('Program Duration (Days)')\n",
        "plt.title('Linear Regression')\n",
        "plt.legend()\n",
        "plt.ylim(0,400)\n",
        "plt.show()\n",
        "\n",
        "print(reg.score(X_train2, y_train2))"
      ],
      "execution_count": null,
      "outputs": [
        {
          "output_type": "display_data",
          "data": {
            "image/png": "[encoded data removed]",
            "text/plain": [
              "<Figure size 432x288 with 1 Axes>"
            ]
          },
          "metadata": {
            "tags": [],
            "needs_background": "light"
          }
        },
        {
          "output_type": "stream",
          "text": [
            "0.10680280949543008\n"
          ],
          "name": "stdout"
        }
      ]
    },
    {
      "cell_type": "code",
      "metadata": {
        "colab": {
          "base_uri": "https://localhost:8080/",
          "height": 311
        },
        "id": "33pd8ofin08o",
        "outputId": "a87c952a-1057-4327-a76d-cad40381730c"
      },
      "source": [
        "from sklearn.linear_model import LogisticRegression\n",
        "\n",
        "clf = LogisticRegression(random_state=0, max_iter=500).fit(X_train2, y_train2)\n",
        "y_pred2 = clf.predict(X_test2)\n",
        "\n",
        "plt.plot(np.array(y_pred2),'.', label='Predicted')\n",
        "plt.plot(np.array(y_test2),'.', label='Ground Truth')\n",
        "plt.xlabel('Candidates')\n",
        "plt.ylabel('Program Duration (Days)')\n",
        "plt.title('Logistic Regression')\n",
        "plt.legend()\n",
        "plt.ylim(0,400)\n",
        "plt.show()\n",
        "\n",
        "print(clf.score(X_train2, y_train2))"
      ],
      "execution_count": null,
      "outputs": [
        {
          "output_type": "display_data",
          "data": {
            "image/png": "[encoded data removed]",
            "text/plain": [
              "<Figure size 432x288 with 1 Axes>"
            ]
          },
          "metadata": {
            "tags": [],
            "needs_background": "light"
          }
        },
        {
          "output_type": "stream",
          "text": [
            "0.8357142857142857\n"
          ],
          "name": "stdout"
        }
      ]
    },
    {
      "cell_type": "code",
      "metadata": {
        "colab": {
          "base_uri": "https://localhost:8080/",
          "height": 311
        },
        "id": "HmGpRrYPwaFH",
        "outputId": "2019cc1b-c609-415a-e186-0e0d3542aac6"
      },
      "source": [
        "import numpy as np\n",
        "from sklearn.linear_model import SGDClassifier\n",
        "from sklearn.preprocessing import StandardScaler\n",
        "from sklearn.pipeline import make_pipeline\n",
        "\n",
        "# Always scale the input. The most convenient way is to use a pipeline.\n",
        "clf = make_pipeline(StandardScaler(), SGDClassifier(max_iter=1000, tol=1e-3))\n",
        "clf.fit(X_train2, y_train2)\n",
        "\n",
        "y_pred2=clf.predict((X_test2))\n",
        "\n",
        "plt.plot(np.array(y_pred2),'.', label='Predicted')\n",
        "plt.plot(np.array(y_test2),'.', label='Ground Truth')\n",
        "plt.xlabel('Candidates')\n",
        "plt.ylabel('Program Duration (Days)')\n",
        "plt.title('SGDC Regression')\n",
        "plt.legend()\n",
        "plt.ylim(0,400)\n",
        "plt.show()\n",
        "\n",
        "print(clf.score(X_train2, y_train2))"
      ],
      "execution_count": null,
      "outputs": [
        {
          "output_type": "display_data",
          "data": {
            "image/png": "[encoded data removed]",
            "text/plain": [
              "<Figure size 432x288 with 1 Axes>"
            ]
          },
          "metadata": {
            "tags": [],
            "needs_background": "light"
          }
        },
        {
          "output_type": "stream",
          "text": [
            "0.7333333333333333\n"
          ],
          "name": "stdout"
        }
      ]
    },
    {
      "cell_type": "code",
      "metadata": {
        "id": "dzyDm9KWzE8m"
      },
      "source": [
        ""
      ],
      "execution_count": null,
      "outputs": []
    }
  ]
}