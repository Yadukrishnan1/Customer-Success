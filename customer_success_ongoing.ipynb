{
  "nbformat": 4,
  "nbformat_minor": 0,
  "metadata": {
    "colab": {
      "name": "customer_success",
      "provenance": [],
      "collapsed_sections": [],
      "toc_visible": true,
      "mount_file_id": "https://github.com/Yadukrishnan1/Fellow-Placement/blob/main/fellow_placement.ipynb",
      "authorship_tag": "ABX9TyPZ43UFsUEVeFJO8exG2DV4",
      "include_colab_link": true
    },
    "kernelspec": {
      "name": "python3",
      "display_name": "Python 3"
    },
    "language_info": {
      "name": "python"
    }
  },
  "cells": [
    {
      "cell_type": "markdown",
      "metadata": {
        "id": "view-in-github",
        "colab_type": "text"
      },
      "source": [
        "<a href=\"https://colab.research.google.com/github/Yadukrishnan1/Fellow-Placement/blob/main/customer_success_ongoing.ipynb\" target=\"_parent\"><img src=\"https://colab.research.google.com/assets/colab-badge.svg\" alt=\"Open In Colab\"/></a>"
      ]
    },
    {
      "cell_type": "markdown",
      "metadata": {
        "id": "LMTKhMRK2Y32"
      },
      "source": [
        "# **Customer Succes Analysis for a Career Accelerator (Startup stage)**\n",
        "\n",
        "---\n",
        "\n",
        "An **online career accelerator** operates by helping prospective job seekers succesfully obtain a job in their industry role of choice. It is important for their business to determine if a new addition to their customers base could generate revenue by getting placed at the end of their service. This is also important to add reputation and to market their success.\n",
        "\n",
        "\n",
        "\n",
        "\n",
        "\n",
        "\n",
        "\n",
        "1.  **Business Question**\n",
        "\n",
        "What are the characteristic of a succesful(revenue generating) fellow (customer). How long do they take to guarantee the revenue (Time to get placed)?\n",
        "\n",
        "2. **DS/ML Framing**\n",
        "\n",
        "The first part of the question is a binary classification with two classes; 'placed' and 'not placed'. The second question is a regression problem.\n",
        "\n"
      ]
    },
    {
      "cell_type": "markdown",
      "metadata": {
        "id": "9jBrEH6tcxkl"
      },
      "source": [
        "# Importing all the required packages in Python"
      ]
    },
    {
      "cell_type": "code",
      "metadata": {
        "id": "vZsAo4WSy8Zy"
      },
      "source": [
        "# Packages for EDA\n",
        "import numpy as np\n",
        "import matplotlib.pyplot as plt\n",
        "import pandas as pd\n",
        "import seaborn as sns\n",
        "from scipy import stats\n",
        "import warnings\n",
        "import time\n",
        "import pickle\n",
        "\n",
        "# Scikit-learn for ML prediction and modelling\n",
        "\n",
        "from sklearn.preprocessing import StandardScaler\n",
        "import sklearn\n",
        "from sklearn.metrics import mean_squared_error, f1_score, roc_curve, auc, roc_auc_score, confusion_matrix\n",
        "from sklearn.model_selection import train_test_split\n",
        "from sklearn import tree\n",
        "from mpl_toolkits import mplot3d\n",
        "from sklearn.preprocessing import OneHotEncoder, OrdinalEncoder, LabelEncoder\n",
        "from sklearn.linear_model import LinearRegression, LogisticRegression, LogisticRegressionCV\n",
        "from sklearn.tree import DecisionTreeClassifier\n",
        "from sklearn.ensemble import RandomForestClassifier\n",
        "from sklearn.model_selection import cross_val_score, GridSearchCV, train_test_split, KFold, RandomizedSearchCV\n",
        "\n",
        "from xgboost.sklearn import XGBRegressor, XGBClassifier\n",
        "import xgboost as xgb\n",
        "\n",
        "from os import path\n",
        "\n",
        "warnings.filterwarnings('ignore')\n",
        "%matplotlib inline"
      ],
      "execution_count": 3,
      "outputs": []
    },
    {
      "cell_type": "code",
      "metadata": {
        "id": "bbGcMi1OFkcE"
      },
      "source": [
        "# Helper Functions\n",
        "#----------------------------------------------------------------------\n",
        "# Function to quickly describe a pandas dataframe \n",
        "#----------------------------------------------------------------------\n",
        "\n",
        "class Quick_desc:\n",
        "    def __init__(self, data):\n",
        "        self.data = data\n",
        "        \n",
        "    def desc_data(self):\n",
        "      print(\"\\033[1m\" + \"Dataframe Shape - \" + \"\\033[0m\", end=\"\")\n",
        "      print((self.data).shape,'\\n')\n",
        "      print(\"\\033[1m\" + \"Column names\" + \"\\033[0m\\n\")\n",
        "      print((self.data).columns, '\\n')\n",
        "      print(\"\\033[1m\" + \"Missing Value Count\" + \"\\033[0m\\n\")\n",
        "      print((self.data).isnull().sum(),'\\n')\n",
        "      return (self.data).describe()\n",
        "\n",
        "#----------------------------------------------------------------------\n",
        "# Function to drop categorical NA from data\n",
        "#----------------------------------------------------------------------\n",
        "class Drop_cat_na:\n",
        "  def __init__(self, data):\n",
        "        self.data = data\n",
        "\n",
        "  def drop_dat(self):\n",
        "    for i in (self.data).select_dtypes(include=['object']).columns:\n",
        "      self.data = self.data[self.data[i].notna()]\n",
        "    return self.data\n",
        "\n",
        "#----------------------------------------------------------------------\n",
        "# Function to numerically encode categorical variables\n",
        "#----------------------------------------------------------------------\n",
        "class Cat_encode:\n",
        "  def __init__(self, data):\n",
        "        self.data = data\n",
        "\n",
        "  def cat_encode(self):\n",
        "    cat_df = (self.data).select_dtypes(include=['object']).copy()\n",
        "    enc_make = OrdinalEncoder()\n",
        "    cat_df_transformed = enc_make.fit_transform(cat_df)\n",
        "    for i,j in enumerate(cat_df.columns):\n",
        "      cat_df[j] = cat_df_transformed.transpose()[i]\n",
        "    for i in df.columns:\n",
        "      if i in cat_df.columns:\n",
        "        self.data[i] = cat_df[i]\n",
        "    return self.data\n",
        "\n",
        "#----------------------------------------------------------------------\n",
        "# Function to impute the missing values to a string value \"NA\"\n",
        "#----------------------------------------------------------------------\n",
        "class Imput_cat_na:\n",
        "  def __init__(self, data):\n",
        "        self.data = data\n",
        "\n",
        "  def imput_dat(self):\n",
        "    for i in (self.data).select_dtypes(include=['object']).columns:\n",
        "      self.data[i].fillna(\"NA\", inplace = True)\n",
        "    return self.data\n",
        "\n",
        "#----------------------------------------------------------------------\n",
        "# Function to Plot the values\n",
        "#----------------------------------------------------------------------\n",
        "class Plot:\n",
        "    def __init__(self, data):\n",
        "        self.data = data\n",
        "    \n",
        "    def corr(self):\n",
        "      fig, axes = plt.subplots(1, 1, figsize=(15,10))\n",
        "      # Sub-sample dataframe\n",
        "      sub_sample_corr = (self.data).corr()\n",
        "      sns.heatmap(sub_sample_corr, cmap='coolwarm_r', annot_kws={'size':20}, ax=axes)\n",
        "      axes.set_title('Sub-sample Correlation Matrix', fontsize=14)\n",
        "      plt.show()\n"
      ],
      "execution_count": 4,
      "outputs": []
    },
    {
      "cell_type": "code",
      "metadata": {
        "id": "xC5_GTLp0BEb"
      },
      "source": [
        "# Loading the data\n",
        "cust_success=pd.read_excel('/content/drive/MyDrive/Colab Notebooks/Pathrise/Data_Pathrise.xlsx')"
      ],
      "execution_count": 126,
      "outputs": []
    },
    {
      "cell_type": "markdown",
      "metadata": {
        "id": "bFQ_pwfxh0dr"
      },
      "source": [
        "# Exploratory Data Analysis\n",
        "\n",
        "What are the variables (features) in our dataset? Which are the Predictor Variables and which is the Target Variables?\n",
        "\n",
        "TV: 'placed'\n",
        "\n",
        "PV: All others\n",
        "\n",
        "Categorical variables such as 'program_duration_days', 'professional_experience', 'length_of_job_search' are ordinal attributes. All the rest of the categorical features are nominal attributes. One-hot-encoding is to be carried out for all the nominal attributes.\n",
        "\n",
        "The testing set is selected by using the 'cust_success status' which are either 'Active' or 'Break'. The training set will be the Pathrise data without the testing set. A validation set should be made by doing a split of the training dataset.\n",
        "\n",
        "Analysis should be two steps:\n",
        "\n",
        "1) Determine what are the characteristics of fellows being placed. For that eliminate the 'program_duration_days' columns. Then see which columns contributes to it.\n",
        "\n",
        "2) After determining the fellows, who get placed, use regression to see how long do they take to get placed.\n",
        "\n"
      ]
    },
    {
      "cell_type": "code",
      "metadata": {
        "colab": {
          "base_uri": "https://localhost:8080/",
          "height": 480
        },
        "id": "qZbuYnu7DXuV",
        "outputId": "2f4e49b4-2d75-4391-c06c-17679c83bfb4"
      },
      "source": [
        "cust_success.head()"
      ],
      "execution_count": 127,
      "outputs": [
        {
          "output_type": "execute_result",
          "data": {
            "text/html": [
              "<div>\n",
              "<style scoped>\n",
              "    .dataframe tbody tr th:only-of-type {\n",
              "        vertical-align: middle;\n",
              "    }\n",
              "\n",
              "    .dataframe tbody tr th {\n",
              "        vertical-align: top;\n",
              "    }\n",
              "\n",
              "    .dataframe thead th {\n",
              "        text-align: right;\n",
              "    }\n",
              "</style>\n",
              "<table border=\"1\" class=\"dataframe\">\n",
              "  <thead>\n",
              "    <tr style=\"text-align: right;\">\n",
              "      <th></th>\n",
              "      <th>id</th>\n",
              "      <th>pathrise_status</th>\n",
              "      <th>primary_track</th>\n",
              "      <th>cohort_tag</th>\n",
              "      <th>program_duration_days</th>\n",
              "      <th>placed</th>\n",
              "      <th>employment_status</th>\n",
              "      <th>highest_level_of_education</th>\n",
              "      <th>length_of_job_search</th>\n",
              "      <th>biggest_challenge_in_search</th>\n",
              "      <th>professional_experience</th>\n",
              "      <th>work_authorization_status</th>\n",
              "      <th>number_of_interviews</th>\n",
              "      <th>number_of_applications</th>\n",
              "      <th>gender</th>\n",
              "      <th>race</th>\n",
              "    </tr>\n",
              "  </thead>\n",
              "  <tbody>\n",
              "    <tr>\n",
              "      <th>0</th>\n",
              "      <td>1</td>\n",
              "      <td>Active</td>\n",
              "      <td>SWE</td>\n",
              "      <td>OCT19A</td>\n",
              "      <td>NaN</td>\n",
              "      <td>0</td>\n",
              "      <td>Unemployed</td>\n",
              "      <td>Bachelor's Degree</td>\n",
              "      <td>3-5 months</td>\n",
              "      <td>Hearing back on my applications</td>\n",
              "      <td>3-4 years</td>\n",
              "      <td>Canada Citizen</td>\n",
              "      <td>2.0</td>\n",
              "      <td>900</td>\n",
              "      <td>Male</td>\n",
              "      <td>Non-Hispanic White or Euro-American</td>\n",
              "    </tr>\n",
              "    <tr>\n",
              "      <th>1</th>\n",
              "      <td>2</td>\n",
              "      <td>Active</td>\n",
              "      <td>PSO</td>\n",
              "      <td>JAN20A</td>\n",
              "      <td>NaN</td>\n",
              "      <td>0</td>\n",
              "      <td>Unemployed</td>\n",
              "      <td>Some College, No Degree</td>\n",
              "      <td>3-5 months</td>\n",
              "      <td>Getting past final round interviews</td>\n",
              "      <td>1-2 years</td>\n",
              "      <td>Citizen</td>\n",
              "      <td>6.0</td>\n",
              "      <td>0</td>\n",
              "      <td>Male</td>\n",
              "      <td>Non-Hispanic White or Euro-American</td>\n",
              "    </tr>\n",
              "    <tr>\n",
              "      <th>2</th>\n",
              "      <td>3</td>\n",
              "      <td>Closed Lost</td>\n",
              "      <td>Design</td>\n",
              "      <td>AUG19B</td>\n",
              "      <td>0.0</td>\n",
              "      <td>0</td>\n",
              "      <td>Employed Part-Time</td>\n",
              "      <td>Master's Degree</td>\n",
              "      <td>Less than one month</td>\n",
              "      <td>Figuring out which jobs to apply for</td>\n",
              "      <td>Less than one year</td>\n",
              "      <td>Citizen</td>\n",
              "      <td>0.0</td>\n",
              "      <td>0</td>\n",
              "      <td>Male</td>\n",
              "      <td>East Asian or Asian American</td>\n",
              "    </tr>\n",
              "    <tr>\n",
              "      <th>3</th>\n",
              "      <td>4</td>\n",
              "      <td>Closed Lost</td>\n",
              "      <td>PSO</td>\n",
              "      <td>AUG19B</td>\n",
              "      <td>0.0</td>\n",
              "      <td>0</td>\n",
              "      <td>Contractor</td>\n",
              "      <td>Bachelor's Degree</td>\n",
              "      <td>Less than one month</td>\n",
              "      <td>Getting past final round interviews</td>\n",
              "      <td>Less than one year</td>\n",
              "      <td>Citizen</td>\n",
              "      <td>5.0</td>\n",
              "      <td>25</td>\n",
              "      <td>Male</td>\n",
              "      <td>Decline to Self Identify</td>\n",
              "    </tr>\n",
              "    <tr>\n",
              "      <th>4</th>\n",
              "      <td>5</td>\n",
              "      <td>Placed</td>\n",
              "      <td>SWE</td>\n",
              "      <td>AUG19A</td>\n",
              "      <td>89.0</td>\n",
              "      <td>1</td>\n",
              "      <td>Unemployed</td>\n",
              "      <td>Bachelor's Degree</td>\n",
              "      <td>1-2 months</td>\n",
              "      <td>Hearing back on my applications</td>\n",
              "      <td>1-2 years</td>\n",
              "      <td>F1 Visa/OPT</td>\n",
              "      <td>10.0</td>\n",
              "      <td>100</td>\n",
              "      <td>Male</td>\n",
              "      <td>East Asian or Asian American</td>\n",
              "    </tr>\n",
              "  </tbody>\n",
              "</table>\n",
              "</div>"
            ],
            "text/plain": [
              "   id pathrise_status  ... gender                                 race\n",
              "0   1          Active  ...   Male  Non-Hispanic White or Euro-American\n",
              "1   2          Active  ...   Male  Non-Hispanic White or Euro-American\n",
              "2   3     Closed Lost  ...   Male         East Asian or Asian American\n",
              "3   4     Closed Lost  ...   Male             Decline to Self Identify\n",
              "4   5          Placed  ...   Male         East Asian or Asian American\n",
              "\n",
              "[5 rows x 16 columns]"
            ]
          },
          "metadata": {},
          "execution_count": 127
        }
      ]
    },
    {
      "cell_type": "code",
      "metadata": {
        "colab": {
          "base_uri": "https://localhost:8080/",
          "height": 810
        },
        "id": "015GdBW_74vd",
        "outputId": "49808ce6-94bb-45e5-afc3-711dd1368bf6"
      },
      "source": [
        "desc=Quick_desc(cust_success)\n",
        "desc.desc_data()"
      ],
      "execution_count": 128,
      "outputs": [
        {
          "output_type": "stream",
          "name": "stdout",
          "text": [
            "\u001b[1mDataframe Shape - \u001b[0m(2544, 16) \n",
            "\n",
            "\u001b[1mColumn names\u001b[0m\n",
            "\n",
            "Index(['id', 'pathrise_status', 'primary_track', 'cohort_tag',\n",
            "       'program_duration_days', 'placed', 'employment_status ',\n",
            "       'highest_level_of_education', 'length_of_job_search',\n",
            "       'biggest_challenge_in_search', 'professional_experience',\n",
            "       'work_authorization_status', 'number_of_interviews',\n",
            "       'number_of_applications', 'gender', 'race'],\n",
            "      dtype='object') \n",
            "\n",
            "\u001b[1mMissing Value Count\u001b[0m\n",
            "\n",
            "id                               0\n",
            "pathrise_status                  0\n",
            "primary_track                    0\n",
            "cohort_tag                       8\n",
            "program_duration_days          616\n",
            "placed                           0\n",
            "employment_status              229\n",
            "highest_level_of_education      58\n",
            "length_of_job_search            74\n",
            "biggest_challenge_in_search     24\n",
            "professional_experience        222\n",
            "work_authorization_status      284\n",
            "number_of_interviews           218\n",
            "number_of_applications           0\n",
            "gender                         492\n",
            "race                            18\n",
            "dtype: int64 \n",
            "\n"
          ]
        },
        {
          "output_type": "execute_result",
          "data": {
            "text/html": [
              "<div>\n",
              "<style scoped>\n",
              "    .dataframe tbody tr th:only-of-type {\n",
              "        vertical-align: middle;\n",
              "    }\n",
              "\n",
              "    .dataframe tbody tr th {\n",
              "        vertical-align: top;\n",
              "    }\n",
              "\n",
              "    .dataframe thead th {\n",
              "        text-align: right;\n",
              "    }\n",
              "</style>\n",
              "<table border=\"1\" class=\"dataframe\">\n",
              "  <thead>\n",
              "    <tr style=\"text-align: right;\">\n",
              "      <th></th>\n",
              "      <th>id</th>\n",
              "      <th>program_duration_days</th>\n",
              "      <th>placed</th>\n",
              "      <th>number_of_interviews</th>\n",
              "      <th>number_of_applications</th>\n",
              "    </tr>\n",
              "  </thead>\n",
              "  <tbody>\n",
              "    <tr>\n",
              "      <th>count</th>\n",
              "      <td>2544.000000</td>\n",
              "      <td>1928.000000</td>\n",
              "      <td>2544.000000</td>\n",
              "      <td>2326.000000</td>\n",
              "      <td>2544.000000</td>\n",
              "    </tr>\n",
              "    <tr>\n",
              "      <th>mean</th>\n",
              "      <td>1272.500000</td>\n",
              "      <td>136.098548</td>\n",
              "      <td>0.375786</td>\n",
              "      <td>2.182287</td>\n",
              "      <td>36.500786</td>\n",
              "    </tr>\n",
              "    <tr>\n",
              "      <th>std</th>\n",
              "      <td>734.533866</td>\n",
              "      <td>125.860248</td>\n",
              "      <td>0.484420</td>\n",
              "      <td>2.959273</td>\n",
              "      <td>53.654896</td>\n",
              "    </tr>\n",
              "    <tr>\n",
              "      <th>min</th>\n",
              "      <td>1.000000</td>\n",
              "      <td>0.000000</td>\n",
              "      <td>0.000000</td>\n",
              "      <td>0.000000</td>\n",
              "      <td>0.000000</td>\n",
              "    </tr>\n",
              "    <tr>\n",
              "      <th>25%</th>\n",
              "      <td>636.750000</td>\n",
              "      <td>14.000000</td>\n",
              "      <td>0.000000</td>\n",
              "      <td>0.000000</td>\n",
              "      <td>9.000000</td>\n",
              "    </tr>\n",
              "    <tr>\n",
              "      <th>50%</th>\n",
              "      <td>1272.500000</td>\n",
              "      <td>112.000000</td>\n",
              "      <td>0.000000</td>\n",
              "      <td>1.000000</td>\n",
              "      <td>20.000000</td>\n",
              "    </tr>\n",
              "    <tr>\n",
              "      <th>75%</th>\n",
              "      <td>1908.250000</td>\n",
              "      <td>224.000000</td>\n",
              "      <td>1.000000</td>\n",
              "      <td>3.000000</td>\n",
              "      <td>45.000000</td>\n",
              "    </tr>\n",
              "    <tr>\n",
              "      <th>max</th>\n",
              "      <td>2544.000000</td>\n",
              "      <td>548.000000</td>\n",
              "      <td>1.000000</td>\n",
              "      <td>20.000000</td>\n",
              "      <td>1000.000000</td>\n",
              "    </tr>\n",
              "  </tbody>\n",
              "</table>\n",
              "</div>"
            ],
            "text/plain": [
              "                id  ...  number_of_applications\n",
              "count  2544.000000  ...             2544.000000\n",
              "mean   1272.500000  ...               36.500786\n",
              "std     734.533866  ...               53.654896\n",
              "min       1.000000  ...                0.000000\n",
              "25%     636.750000  ...                9.000000\n",
              "50%    1272.500000  ...               20.000000\n",
              "75%    1908.250000  ...               45.000000\n",
              "max    2544.000000  ...             1000.000000\n",
              "\n",
              "[8 rows x 5 columns]"
            ]
          },
          "metadata": {},
          "execution_count": 128
        }
      ]
    },
    {
      "cell_type": "markdown",
      "metadata": {
        "id": "rKyRni0MRYYX"
      },
      "source": [
        "## Data Visualizations"
      ]
    },
    {
      "cell_type": "code",
      "metadata": {
        "colab": {
          "base_uri": "https://localhost:8080/",
          "height": 652
        },
        "id": "bFJiEKSQEuas",
        "outputId": "9849473e-2d67-4543-dd5d-4491406a550a"
      },
      "source": [
        "# Let's check the comparison for the \"Average Number of Days for Placement\" features as a function of the \"tracks\".\n",
        "# Let's also keep cust_success as the original dataframe for a reference and use a generic name such as df for all the treatments.\n",
        "df=cust_success\n",
        "\n",
        "df_1 = df[df['placed'] == 1]\n",
        "df_1.groupby('primary_track').agg({'program_duration_days':'mean'}).sort_values(by='program_duration_days', ascending=False).plot(kind='bar', figsize=(20,10))\n",
        "plt.title ('Average Number of Days for Placement for Primary Tracks', fontsize=15, fontweight=\"bold\")\n",
        "plt.xlabel(\"Primary Track\", fontsize=15)\n",
        "plt.ylabel(\"Number of Days\", fontsize=15)\n",
        "plt.show()\n"
      ],
      "execution_count": 53,
      "outputs": [
        {
          "output_type": "display_data",
          "data": {
            "image/png": "[encoded data removed]",
            "text/plain": [
              "<Figure size 1440x720 with 1 Axes>"
            ]
          },
          "metadata": {
            "needs_background": "light"
          }
        }
      ]
    },
    {
      "cell_type": "code",
      "metadata": {
        "colab": {
          "base_uri": "https://localhost:8080/",
          "height": 787
        },
        "id": "4aqySjphFL3a",
        "outputId": "a8cb9601-5503-4698-daaf-16e4e26de7ac"
      },
      "source": [
        "df_1 = df[df['placed'] == 1]\n",
        "df_1.groupby('highest_level_of_education').agg({'program_duration_days':'mean'}).sort_values(by='program_duration_days', ascending=False).plot(kind='bar',figsize=(20,10))\n",
        "\n",
        "plt.title ('Average Number of Days for Placement for Levels of Education', fontsize=20, fontweight=\"bold\")\n",
        "plt.xlabel(\"Level of Education\", fontsize=15)\n",
        "plt.ylabel(\"Number of Days\", fontsize=15)\n",
        "plt.show()"
      ],
      "execution_count": 70,
      "outputs": [
        {
          "output_type": "display_data",
          "data": {
            "image/png": "[encoded data removed]",
            "text/plain": [
              "<Figure size 1440x720 with 1 Axes>"
            ]
          },
          "metadata": {
            "needs_background": "light"
          }
        }
      ]
    },
    {
      "cell_type": "code",
      "metadata": {
        "colab": {
          "base_uri": "https://localhost:8080/",
          "height": 436
        },
        "id": "z6z1uT7pvLFJ",
        "outputId": "584012f3-87f5-4a5d-aeba-bdb68265f5f0"
      },
      "source": [
        "df_1 = df[df['placed'] == 1]\n",
        "df_0 = df[df['placed'] == 0]\n",
        "\n",
        "fig, ax = plt.subplots(1,2, figsize = (15, 7))\n",
        "ax[0].set_title('Number of Applications for \\nPlaced Fellows', fontsize = 15)\n",
        "ax[0].boxplot(df_1['number_of_applications'])\n",
        "ax[0].set_ylabel('No. of Applications')\n",
        "\n",
        "ax[1].set_title('Number of Applications for \\nnon-Placed Fellows', fontsize = 15)\n",
        "ax[1].boxplot(df_0['number_of_applications'])\n",
        "ax[1].set_ylabel('No. of Applications')\n",
        "\n",
        "fig.subplots_adjust(left=0.25, bottom=0.15, right=0.75, top=0.85, wspace=0.4, hspace = 0.6)\n",
        "plt.show()"
      ],
      "execution_count": 71,
      "outputs": [
        {
          "output_type": "display_data",
          "data": {
            "image/png": "[encoded data removed]",
            "text/plain": [
              "<Figure size 1080x504 with 2 Axes>"
            ]
          },
          "metadata": {
            "needs_background": "light"
          }
        }
      ]
    },
    {
      "cell_type": "code",
      "metadata": {
        "colab": {
          "base_uri": "https://localhost:8080/",
          "height": 436
        },
        "id": "ejM6zMIg0qpe",
        "outputId": "7bd6c5c6-9c51-48e3-a4fe-e26a2dcd8b3f"
      },
      "source": [
        "fig, ax = plt.subplots(1,2, figsize = (15, 7))\n",
        "ax[0].set_title('Number of Interviews for \\nPlaced Fellows', fontsize = 15)\n",
        "ax[0].boxplot(df_1['number_of_interviews'].dropna())\n",
        "ax[0].set_ylabel('No. of Interviews')\n",
        "\n",
        "ax[1].set_title('Number of Interviews for \\nnon-Placed Fellows', fontsize = 15)\n",
        "ax[1].boxplot(df_0['number_of_interviews'].dropna())\n",
        "ax[1].set_ylabel('No. of Interviews')\n",
        "\n",
        "fig.subplots_adjust(left=0.25, bottom=0.15, right=0.75, top=0.85, wspace=0.4, hspace = 0.6)\n",
        "plt.show()"
      ],
      "execution_count": 73,
      "outputs": [
        {
          "output_type": "display_data",
          "data": {
            "image/png": "[encoded data removed]",
            "text/plain": [
              "<Figure size 1080x504 with 2 Axes>"
            ]
          },
          "metadata": {
            "needs_background": "light"
          }
        }
      ]
    },
    {
      "cell_type": "code",
      "metadata": {
        "colab": {
          "base_uri": "https://localhost:8080/",
          "height": 608
        },
        "id": "CaDoWCO5thut",
        "outputId": "01f0f780-1106-4469-b455-dbae231f927b"
      },
      "source": [
        "Plot(cust_success).corr()"
      ],
      "execution_count": 72,
      "outputs": [
        {
          "output_type": "display_data",
          "data": {
            "image/png": "[encoded data removed]",
            "text/plain": [
              "<Figure size 1080x720 with 2 Axes>"
            ]
          },
          "metadata": {
            "needs_background": "light"
          }
        }
      ]
    },
    {
      "cell_type": "code",
      "metadata": {
        "colab": {
          "base_uri": "https://localhost:8080/",
          "height": 492
        },
        "id": "J6xMhnvJ1Nre",
        "outputId": "c53bb4a3-9a59-4f10-e8ad-d1adf8c03452"
      },
      "source": [
        "fig, ax = plt.subplots(figsize = (15, 7))\n",
        "plt.suptitle('Distribution of Gender')\n",
        "df.groupby('gender').size().to_frame().plot.bar(legend = False, ax = ax, rot = 0)\n",
        "plt.ylabel('Frequency')\n",
        "plt.show()"
      ],
      "execution_count": 74,
      "outputs": [
        {
          "output_type": "display_data",
          "data": {
            "image/png": "[encoded data removed]",
            "text/plain": [
              "<Figure size 1080x504 with 1 Axes>"
            ]
          },
          "metadata": {
            "needs_background": "light"
          }
        }
      ]
    },
    {
      "cell_type": "code",
      "metadata": {
        "colab": {
          "base_uri": "https://localhost:8080/",
          "height": 696
        },
        "id": "qaEPa2Rg1TZx",
        "outputId": "da801c08-599a-4082-c24b-94ab58040722"
      },
      "source": [
        "fig, ax = plt.subplots(figsize = (20, 7))\n",
        "plt.suptitle('Distribution of Race')\n",
        "df.groupby('race').size().to_frame().plot.bar(legend = False, ax = ax, rot = 90)\n",
        "plt.ylabel('Frequency')\n",
        "plt.show()"
      ],
      "execution_count": 75,
      "outputs": [
        {
          "output_type": "display_data",
          "data": {
            "image/png": "[encoded data removed]",
            "text/plain": [
              "<Figure size 1440x504 with 1 Axes>"
            ]
          },
          "metadata": {
            "needs_background": "light"
          }
        }
      ]
    },
    {
      "cell_type": "code",
      "metadata": {
        "colab": {
          "base_uri": "https://localhost:8080/",
          "height": 493
        },
        "id": "DlpC3OH01XzJ",
        "outputId": "13fedac9-d7b6-405e-a921-d493af1592aa"
      },
      "source": [
        "\n",
        "fig, ax = plt.subplots(figsize = (20, 7))\n",
        "plt.suptitle('Distribution of Pathrise Status')\n",
        "df.groupby('pathrise_status').size().to_frame().plot.bar(legend = False, ax = ax, rot = 0)\n",
        "plt.ylabel('Frequency')\n",
        "plt.show()"
      ],
      "execution_count": 76,
      "outputs": [
        {
          "output_type": "display_data",
          "data": {
            "image/png": "[encoded data removed]",
            "text/plain": [
              "<Figure size 1440x504 with 1 Axes>"
            ]
          },
          "metadata": {
            "needs_background": "light"
          }
        }
      ]
    },
    {
      "cell_type": "code",
      "metadata": {
        "colab": {
          "base_uri": "https://localhost:8080/",
          "height": 493
        },
        "id": "pctLsLl81cLT",
        "outputId": "de0f785b-d308-4bdf-c301-3d49d850d211"
      },
      "source": [
        "fig, ax = plt.subplots(figsize = (20, 7))\n",
        "plt.suptitle('Distribution of Employment Status')\n",
        "df.groupby('employment_status ').size().to_frame().plot.bar(legend = False, ax = ax, rot = 0)\n",
        "plt.ylabel('Frequency')\n",
        "plt.show()"
      ],
      "execution_count": 136,
      "outputs": [
        {
          "output_type": "display_data",
          "data": {
            "image/png": "[encoded data removed]",
            "text/plain": [
              "<Figure size 1440x504 with 1 Axes>"
            ]
          },
          "metadata": {
            "needs_background": "light"
          }
        }
      ]
    },
    {
      "cell_type": "code",
      "metadata": {
        "colab": {
          "base_uri": "https://localhost:8080/",
          "height": 648
        },
        "id": "NYKR8oRJ1f07",
        "outputId": "5f49b69b-c2e5-4295-967a-93b5bbc33381"
      },
      "source": [
        "fig, ax = plt.subplots(figsize = (20, 7))\n",
        "plt.suptitle('Distribution of Highest Level of Education')\n",
        "df.groupby('highest_level_of_education').size().to_frame().plot.bar(legend = False, ax = ax, rot = 90)\n",
        "plt.ylabel('Frequency')\n",
        "plt.show()"
      ],
      "execution_count": 137,
      "outputs": [
        {
          "output_type": "display_data",
          "data": {
            "image/png": "[encoded data removed]",
            "text/plain": [
              "<Figure size 1440x504 with 1 Axes>"
            ]
          },
          "metadata": {
            "needs_background": "light"
          }
        }
      ]
    },
    {
      "cell_type": "code",
      "metadata": {
        "colab": {
          "base_uri": "https://localhost:8080/",
          "height": 492
        },
        "id": "plCFjWL3ufjy",
        "outputId": "ce1e50f3-f3c4-4182-b232-db67b34efa01"
      },
      "source": [
        "# Let's look at how many fellows placed at a company.\n",
        "\n",
        "placed_df = pd.DataFrame({'Placed at a Company?': ['Yes', 'No'],'No. of Fellows': [df['placed'].sum(), df.shape[0] - df['placed'].sum()],})\n",
        "placed_df.set_index('Placed at a Company?', inplace = True)\n",
        "\n",
        "fig, ax = plt.subplots(figsize = (10, 7))\n",
        "fig.suptitle('Number of Fellows Placed', fontsize = 15)\n",
        "plt.bar(x = placed_df.index, height = 'No. of Fellows', data = placed_df)\n",
        "plt.xlabel('Placed at a Company?')\n",
        "plt.ylabel('Frequency')\n",
        "plt.show()"
      ],
      "execution_count": 9,
      "outputs": [
        {
          "output_type": "display_data",
          "data": {
            "image/png": "[encoded data removed]",
            "text/plain": [
              "<Figure size 720x504 with 1 Axes>"
            ]
          },
          "metadata": {
            "needs_background": "light"
          }
        }
      ]
    },
    {
      "cell_type": "code",
      "metadata": {
        "colab": {
          "base_uri": "https://localhost:8080/",
          "height": 392
        },
        "id": "ctzwZQhWrimQ",
        "outputId": "1dc09f7d-0b2e-4925-e503-8a8e62424977"
      },
      "source": [
        "# The most experienced gets placed faster.\n",
        "\n",
        "var = 'professional_experience_ord'\n",
        "data = pd.concat([cust_success_2_train['program_duration_days'], cust_success_2_train[var]], axis=1)\n",
        "f, ax = plt.subplots(figsize=(8, 6))\n",
        "fig = sns.boxplot(x=var, y='program_duration_days', data=data)\n",
        "fig.axis(ymin=0, ymax=600);"
      ],
      "execution_count": null,
      "outputs": [
        {
          "output_type": "display_data",
          "data": {
            "image/png": "[encoded data removed]",
            "text/plain": [
              "<Figure size 576x432 with 1 Axes>"
            ]
          },
          "metadata": {
            "tags": [],
            "needs_background": "light"
          }
        }
      ]
    },
    {
      "cell_type": "code",
      "metadata": {
        "colab": {
          "base_uri": "https://localhost:8080/",
          "height": 388
        },
        "id": "GbJyxHWzs9nL",
        "outputId": "6af9b2bd-b37d-4fd4-b655-ecf32d0d5d12"
      },
      "source": [
        "# SWE has the lowest mean. Higher variance for PSO.\n",
        "\n",
        "var = 'primary_track'\n",
        "data = pd.concat([cust_success_2_train['program_duration_days'], cust_success_2_train[var]], axis=1)\n",
        "f, ax = plt.subplots(figsize=(8, 6))\n",
        "fig = sns.boxplot(x=var, y='program_duration_days', data=data)\n"
      ],
      "execution_count": null,
      "outputs": [
        {
          "output_type": "display_data",
          "data": {
            "image/png": "[encoded data removed]",
            "text/plain": [
              "<Figure size 576x432 with 1 Axes>"
            ]
          },
          "metadata": {
            "tags": [],
            "needs_background": "light"
          }
        }
      ]
    },
    {
      "cell_type": "code",
      "metadata": {
        "colab": {
          "base_uri": "https://localhost:8080/",
          "height": 388
        },
        "id": "SmaVux__t2lh",
        "outputId": "1a1eb1c6-bdfe-4a12-f726-0bdee0d37ac2"
      },
      "source": [
        "# SWE has the lowest mean. Higher variance for PSO.\n",
        "\n",
        "var = 'highest_level_of_education'\n",
        "data = pd.concat([cust_success_2_train['program_duration_days'], cust_success_2_train[var]], axis=1)\n",
        "f, ax = plt.subplots(figsize=(18, 6))\n",
        "fig = sns.boxplot(x=var, y='program_duration_days', data=data)\n"
      ],
      "execution_count": null,
      "outputs": [
        {
          "output_type": "display_data",
          "data": {
            "image/png": "[encoded data removed]",
            "text/plain": [
              "<Figure size 1296x432 with 1 Axes>"
            ]
          },
          "metadata": {
            "tags": [],
            "needs_background": "light"
          }
        }
      ]
    },
    {
      "cell_type": "markdown",
      "metadata": {
        "id": "_8iZF7II_XkV"
      },
      "source": [
        "## Outlier removal for the continuous features"
      ]
    },
    {
      "cell_type": "code",
      "metadata": {
        "colab": {
          "base_uri": "https://localhost:8080/"
        },
        "id": "cPPb0D2NwhQa",
        "outputId": "9bfa12e3-5156-45da-a9a8-05d6c86457e1"
      },
      "source": [
        "print(cust_success.shape)\n",
        "cust_success=cust_success[cust_success['number_of_interviews']<7.5]\n",
        "cust_success=cust_success[cust_success['number_of_applications']<200]\n",
        "print(cust_success.shape)"
      ],
      "execution_count": 129,
      "outputs": [
        {
          "output_type": "stream",
          "name": "stdout",
          "text": [
            "(2544, 16)\n",
            "(2231, 16)\n"
          ]
        }
      ]
    },
    {
      "cell_type": "markdown",
      "metadata": {
        "id": "lLlaR3o6skYk"
      },
      "source": [
        "## Scaling of the continuous variables"
      ]
    },
    {
      "cell_type": "code",
      "metadata": {
        "colab": {
          "base_uri": "https://localhost:8080/",
          "height": 290
        },
        "id": "sG1Gtzlwsjr8",
        "outputId": "259098e2-f23f-475c-9899-d25c71f3e169"
      },
      "source": [
        "from sklearn.preprocessing import StandardScaler, RobustScaler\n",
        "\n",
        "std_scaler = StandardScaler()\n",
        "rob_scaler = RobustScaler()\n",
        "\n",
        "# We will use Robust scaler because it's ideal if there are outliers\n",
        "\n",
        "cust_success['number_of_interviews'] = rob_scaler.fit_transform(cust_success['number_of_interviews'].values.reshape(-1,1))\n",
        "cust_success['number_of_applications'] = rob_scaler.fit_transform(cust_success['number_of_applications'].values.reshape(-1,1))\n",
        "\n",
        "cust_success.describe()"
      ],
      "execution_count": 111,
      "outputs": [
        {
          "output_type": "execute_result",
          "data": {
            "text/html": [
              "<div>\n",
              "<style scoped>\n",
              "    .dataframe tbody tr th:only-of-type {\n",
              "        vertical-align: middle;\n",
              "    }\n",
              "\n",
              "    .dataframe tbody tr th {\n",
              "        vertical-align: top;\n",
              "    }\n",
              "\n",
              "    .dataframe thead th {\n",
              "        text-align: right;\n",
              "    }\n",
              "</style>\n",
              "<table border=\"1\" class=\"dataframe\">\n",
              "  <thead>\n",
              "    <tr style=\"text-align: right;\">\n",
              "      <th></th>\n",
              "      <th>id</th>\n",
              "      <th>program_duration_days</th>\n",
              "      <th>placed</th>\n",
              "      <th>number_of_interviews</th>\n",
              "      <th>number_of_applications</th>\n",
              "    </tr>\n",
              "  </thead>\n",
              "  <tbody>\n",
              "    <tr>\n",
              "      <th>count</th>\n",
              "      <td>2231.000000</td>\n",
              "      <td>1679.000000</td>\n",
              "      <td>2231.000000</td>\n",
              "      <td>2231.000000</td>\n",
              "      <td>2231.000000</td>\n",
              "    </tr>\n",
              "    <tr>\n",
              "      <th>mean</th>\n",
              "      <td>1284.423577</td>\n",
              "      <td>139.117332</td>\n",
              "      <td>0.377409</td>\n",
              "      <td>0.267145</td>\n",
              "      <td>0.344651</td>\n",
              "    </tr>\n",
              "    <tr>\n",
              "      <th>std</th>\n",
              "      <td>738.289901</td>\n",
              "      <td>125.908441</td>\n",
              "      <td>0.484847</td>\n",
              "      <td>0.641492</td>\n",
              "      <td>0.995447</td>\n",
              "    </tr>\n",
              "    <tr>\n",
              "      <th>min</th>\n",
              "      <td>2.000000</td>\n",
              "      <td>0.000000</td>\n",
              "      <td>0.000000</td>\n",
              "      <td>-0.333333</td>\n",
              "      <td>-0.555556</td>\n",
              "    </tr>\n",
              "    <tr>\n",
              "      <th>25%</th>\n",
              "      <td>645.500000</td>\n",
              "      <td>15.000000</td>\n",
              "      <td>0.000000</td>\n",
              "      <td>-0.333333</td>\n",
              "      <td>-0.305556</td>\n",
              "    </tr>\n",
              "    <tr>\n",
              "      <th>50%</th>\n",
              "      <td>1302.000000</td>\n",
              "      <td>116.000000</td>\n",
              "      <td>0.000000</td>\n",
              "      <td>0.000000</td>\n",
              "      <td>0.000000</td>\n",
              "    </tr>\n",
              "    <tr>\n",
              "      <th>75%</th>\n",
              "      <td>1924.500000</td>\n",
              "      <td>228.000000</td>\n",
              "      <td>1.000000</td>\n",
              "      <td>0.666667</td>\n",
              "      <td>0.694444</td>\n",
              "    </tr>\n",
              "    <tr>\n",
              "      <th>max</th>\n",
              "      <td>2544.000000</td>\n",
              "      <td>548.000000</td>\n",
              "      <td>1.000000</td>\n",
              "      <td>2.000000</td>\n",
              "      <td>4.722222</td>\n",
              "    </tr>\n",
              "  </tbody>\n",
              "</table>\n",
              "</div>"
            ],
            "text/plain": [
              "                id  ...  number_of_applications\n",
              "count  2231.000000  ...             2231.000000\n",
              "mean   1284.423577  ...                0.344651\n",
              "std     738.289901  ...                0.995447\n",
              "min       2.000000  ...               -0.555556\n",
              "25%     645.500000  ...               -0.305556\n",
              "50%    1302.000000  ...                0.000000\n",
              "75%    1924.500000  ...                0.694444\n",
              "max    2544.000000  ...                4.722222\n",
              "\n",
              "[8 rows x 5 columns]"
            ]
          },
          "metadata": {},
          "execution_count": 111
        }
      ]
    },
    {
      "cell_type": "markdown",
      "metadata": {
        "id": "_ZoZICaClWgq"
      },
      "source": [
        "# Model building with dropped values\n",
        "\n",
        "In the first approach of model building and prediction, we drop all the missing values to see how the prediction goes. "
      ]
    },
    {
      "cell_type": "code",
      "metadata": {
        "colab": {
          "base_uri": "https://localhost:8080/"
        },
        "id": "ZgpHYw3bdeWq",
        "outputId": "ffbbfb1f-8145-4b51-e86d-90eb5ce602a7"
      },
      "source": [
        "df_test=cust_success[cust_success['pathrise_status']=='Active']\n",
        "df=cust_success[cust_success['pathrise_status']!='Active']\n",
        "\n",
        "ori_len=df.shape[0]\n",
        "print(ori_len)\n",
        "\n",
        "df=Drop_cat_na(df).drop_dat()\n",
        "df_test=Drop_cat_na(df_test).drop_dat()\n",
        "\n",
        "miss_len=df.shape[0]\n",
        "print(miss_len)\n",
        "\n",
        "print(\"We lose almost {0}% of data by dropping the missing values.\".format(np.around((ori_len-miss_len)/ori_len*100)))"
      ],
      "execution_count": 12,
      "outputs": [
        {
          "output_type": "stream",
          "name": "stdout",
          "text": [
            "1749\n",
            "969\n",
            "We lose almost 45.0% of data by dropping the missing values.\n"
          ]
        }
      ]
    },
    {
      "cell_type": "markdown",
      "metadata": {
        "id": "XaWLwHOUTVgK"
      },
      "source": [
        "### Filling the missing values in continuous variables and ordinal encoding"
      ]
    },
    {
      "cell_type": "code",
      "metadata": {
        "id": "yeDDtOhhiP5R"
      },
      "source": [
        "df.fillna(df.median(), inplace = True) # For the continuous values, Median is more meaningful than mean in Skewed data\n",
        "\n",
        "df=Cat_encode(df).cat_encode()\n",
        "df_test=Cat_encode(df_test).cat_encode()\n"
      ],
      "execution_count": 13,
      "outputs": []
    },
    {
      "cell_type": "markdown",
      "metadata": {
        "id": "oWckTNLKVULi"
      },
      "source": [
        "### K-Means Clustering"
      ]
    },
    {
      "cell_type": "code",
      "metadata": {
        "colab": {
          "base_uri": "https://localhost:8080/"
        },
        "id": "QkL0T-g8HG42",
        "outputId": "c96a17ca-4726-427a-ca3b-3f266d608cb9"
      },
      "source": [
        "from sklearn.cluster import KMeans\n",
        "from sklearn.metrics import classification_report, confusion_matrix, precision_score, recall_score, f1_score, roc_curve, roc_auc_score\n",
        "\n",
        "X = df.drop(columns = ['placed','pathrise_status', 'id'])\n",
        "y = df['placed']\n",
        "\n",
        "x_train, x_test, y_train, y_test = train_test_split(X, y, test_size=0.2, random_state=42)\n",
        "\n",
        "kmeans = KMeans(n_clusters=2, n_init=25, max_iter=100, random_state=6) # 2 clusters because it's binary classification\n",
        "kmeans.fit(x_train)\n",
        "\n",
        "pred = kmeans.predict(x_test)\n",
        "print(classification_report(y_test, pred))\n"
      ],
      "execution_count": 19,
      "outputs": [
        {
          "output_type": "stream",
          "name": "stdout",
          "text": [
            "              precision    recall  f1-score   support\n",
            "\n",
            "           0       0.60      0.75      0.67        97\n",
            "           1       0.67      0.49      0.57        97\n",
            "\n",
            "    accuracy                           0.62       194\n",
            "   macro avg       0.63      0.62      0.62       194\n",
            "weighted avg       0.63      0.62      0.62       194\n",
            "\n"
          ]
        }
      ]
    },
    {
      "cell_type": "markdown",
      "metadata": {
        "id": "fuLbMuhnqp4x"
      },
      "source": [
        "### Decision Tree Classifier"
      ]
    },
    {
      "cell_type": "code",
      "metadata": {
        "colab": {
          "base_uri": "https://localhost:8080/"
        },
        "id": "1kQ249_2Id4C",
        "outputId": "647736b5-6b5d-4990-9a3d-9f6b659219a1"
      },
      "source": [
        "clf = DecisionTreeClassifier()\n",
        "\n",
        "clf.fit(x_train, y_train)\n",
        "\n",
        "pred = clf.predict(x_test)\n",
        "print(classification_report(y_test, pred))"
      ],
      "execution_count": 20,
      "outputs": [
        {
          "output_type": "stream",
          "name": "stdout",
          "text": [
            "              precision    recall  f1-score   support\n",
            "\n",
            "           0       0.70      0.71      0.71        97\n",
            "           1       0.71      0.70      0.70        97\n",
            "\n",
            "    accuracy                           0.71       194\n",
            "   macro avg       0.71      0.71      0.71       194\n",
            "weighted avg       0.71      0.71      0.71       194\n",
            "\n"
          ]
        }
      ]
    },
    {
      "cell_type": "markdown",
      "metadata": {
        "id": "B_3PjPalqwLd"
      },
      "source": [
        "#### Hyper Parameter tuning for the decision tree"
      ]
    },
    {
      "cell_type": "code",
      "metadata": {
        "colab": {
          "base_uri": "https://localhost:8080/"
        },
        "id": "UNcI7BtcJKye",
        "outputId": "c3e0ff5d-7ca8-44e6-dfd7-b6551e9b093b"
      },
      "source": [
        "# Making a parameter grid using gridsearchcv\n",
        "\n",
        "param_grid = {'criterion': ['gini', 'entropy'],\n",
        "              'min_samples_split': [2, 4, 6, 8, 10, 12],\n",
        "              'min_samples_leaf': [1, 3, 5, 7, 9, 11],\n",
        "              'max_leaf_nodes': [2, 5, 10, 20]}\n",
        "              \n",
        "grid = GridSearchCV(clf, param_grid, cv=10, scoring='accuracy')\n",
        "grid.fit(x_train, y_train)"
      ],
      "execution_count": 21,
      "outputs": [
        {
          "output_type": "execute_result",
          "data": {
            "text/plain": [
              "GridSearchCV(cv=10, error_score=nan,\n",
              "             estimator=DecisionTreeClassifier(ccp_alpha=0.0, class_weight=None,\n",
              "                                              criterion='gini', max_depth=None,\n",
              "                                              max_features=None,\n",
              "                                              max_leaf_nodes=None,\n",
              "                                              min_impurity_decrease=0.0,\n",
              "                                              min_impurity_split=None,\n",
              "                                              min_samples_leaf=1,\n",
              "                                              min_samples_split=2,\n",
              "                                              min_weight_fraction_leaf=0.0,\n",
              "                                              presort='deprecated',\n",
              "                                              random_state=None,\n",
              "                                              splitter='best'),\n",
              "             iid='deprecated', n_jobs=None,\n",
              "             param_grid={'criterion': ['gini', 'entropy'],\n",
              "                         'max_leaf_nodes': [2, 5, 10, 20],\n",
              "                         'min_samples_leaf': [1, 3, 5, 7, 9, 11],\n",
              "                         'min_samples_split': [2, 4, 6, 8, 10, 12]},\n",
              "             pre_dispatch='2*n_jobs', refit=True, return_train_score=False,\n",
              "             scoring='accuracy', verbose=0)"
            ]
          },
          "metadata": {},
          "execution_count": 21
        }
      ]
    },
    {
      "cell_type": "code",
      "metadata": {
        "colab": {
          "base_uri": "https://localhost:8080/"
        },
        "id": "tAOohv__JQMl",
        "outputId": "ccfeae1b-64f3-4072-d2da-c5681ba68db1"
      },
      "source": [
        "pred = grid.best_estimator_.predict(x_test)\n",
        "print(classification_report(y_test, pred))"
      ],
      "execution_count": 22,
      "outputs": [
        {
          "output_type": "stream",
          "name": "stdout",
          "text": [
            "              precision    recall  f1-score   support\n",
            "\n",
            "           0       0.94      0.63      0.75        97\n",
            "           1       0.72      0.96      0.82        97\n",
            "\n",
            "    accuracy                           0.79       194\n",
            "   macro avg       0.83      0.79      0.79       194\n",
            "weighted avg       0.83      0.79      0.79       194\n",
            "\n"
          ]
        }
      ]
    },
    {
      "cell_type": "markdown",
      "metadata": {
        "id": "_9WLZ3twq1Mi"
      },
      "source": [
        "### Random Forest Classifier"
      ]
    },
    {
      "cell_type": "code",
      "metadata": {
        "colab": {
          "base_uri": "https://localhost:8080/"
        },
        "id": "KWxs_G5Trnfy",
        "outputId": "de1ee74f-c6a1-418b-d2d2-f9ace55691c6"
      },
      "source": [
        "clf = RandomForestClassifier(n_estimators=100)\n",
        "\n",
        "clf.fit(x_train, y_train)\n",
        "\n",
        "pred = clf.predict(x_test)\n",
        "print(classification_report(y_test, pred))"
      ],
      "execution_count": 23,
      "outputs": [
        {
          "output_type": "stream",
          "name": "stdout",
          "text": [
            "              precision    recall  f1-score   support\n",
            "\n",
            "           0       0.82      0.65      0.72        97\n",
            "           1       0.71      0.86      0.78        97\n",
            "\n",
            "    accuracy                           0.75       194\n",
            "   macro avg       0.76      0.75      0.75       194\n",
            "weighted avg       0.76      0.75      0.75       194\n",
            "\n"
          ]
        }
      ]
    },
    {
      "cell_type": "markdown",
      "metadata": {
        "id": "QLcXf43ScxDo"
      },
      "source": [
        "# Model building with imputed values for missing data\n",
        "\n",
        "Instead of droppping 44% of the data, we can create a new feature value 'NA' for missing values in each categorical feature. "
      ]
    },
    {
      "cell_type": "code",
      "metadata": {
        "colab": {
          "base_uri": "https://localhost:8080/"
        },
        "id": "ThDRWwgkdOTy",
        "outputId": "50b15cb0-8d0e-465a-f4e0-fd03d2cf1556"
      },
      "source": [
        "df_test=cust_success[cust_success['pathrise_status']=='Active']\n",
        "df=cust_success[cust_success['pathrise_status']!='Active']\n",
        "\n",
        "ori_len=df.shape[0]\n",
        "print(ori_len)\n",
        "\n",
        "df=Imput_cat_na(df).imput_dat()\n",
        "df_test=Imput_cat_na(df_test).imput_dat()\n",
        "\n",
        "miss_len=df.shape[0]\n",
        "print(miss_len)\n",
        "\n",
        "print(\"We lose {0}% of data by dropping the missing values.\".format(np.around((ori_len-miss_len)/ori_len*100)))\n"
      ],
      "execution_count": 130,
      "outputs": [
        {
          "output_type": "stream",
          "name": "stdout",
          "text": [
            "1749\n",
            "1749\n",
            "We lose 0.0% of data by dropping the missing values.\n"
          ]
        }
      ]
    },
    {
      "cell_type": "markdown",
      "metadata": {
        "id": "NpEWdzyGr6Vk"
      },
      "source": [
        "### Filling the missing values in continuous variables and ordinal encoding"
      ]
    },
    {
      "cell_type": "code",
      "metadata": {
        "id": "_8EdynVzr10R"
      },
      "source": [
        "df.fillna(df.median(), inplace = True) # For the continuous values, Median is more meaningful than mean in Skewed data\n",
        "df_test.fillna(df_test.median(), inplace = True)\n",
        "\n",
        "df=Cat_encode(df).cat_encode()\n",
        "df_test=Cat_encode(df_test).cat_encode()\n"
      ],
      "execution_count": 113,
      "outputs": []
    },
    {
      "cell_type": "markdown",
      "metadata": {
        "id": "nY3wQWLnyi0D"
      },
      "source": [
        "### Train-Test-Split"
      ]
    },
    {
      "cell_type": "code",
      "metadata": {
        "id": "HBPXfo72yiCc"
      },
      "source": [
        "X = df.drop(columns = ['placed','pathrise_status', 'id'])\n",
        "y = df['placed']\n",
        "\n",
        "x_train, x_test, y_train, y_test = train_test_split(X, y, test_size=0.2, random_state=42)\n"
      ],
      "execution_count": 92,
      "outputs": []
    },
    {
      "cell_type": "markdown",
      "metadata": {
        "id": "xV_q53XcsBpi"
      },
      "source": [
        "### K-Means Clustering"
      ]
    },
    {
      "cell_type": "code",
      "metadata": {
        "colab": {
          "base_uri": "https://localhost:8080/"
        },
        "id": "yKac66M9sBpi",
        "outputId": "937c8092-c15f-4455-ee39-626c2051b887"
      },
      "source": [
        "from sklearn.cluster import KMeans\n",
        "from sklearn.metrics import classification_report, confusion_matrix, precision_score, recall_score, f1_score, roc_curve, roc_auc_score\n",
        "\n",
        "kmeans = KMeans(n_clusters=2, n_init=40, max_iter=300, random_state=20) # 2 clusters because it's binary classification\n",
        "kmeans.fit(x_train)\n",
        "\n",
        "pred = kmeans.predict(x_test)\n",
        "print(classification_report(y_test, pred))\n"
      ],
      "execution_count": 99,
      "outputs": [
        {
          "output_type": "stream",
          "name": "stdout",
          "text": [
            "              precision    recall  f1-score   support\n",
            "\n",
            "           0       0.53      0.70      0.60       166\n",
            "           1       0.62      0.45      0.52       184\n",
            "\n",
            "    accuracy                           0.57       350\n",
            "   macro avg       0.58      0.57      0.56       350\n",
            "weighted avg       0.58      0.57      0.56       350\n",
            "\n"
          ]
        }
      ]
    },
    {
      "cell_type": "code",
      "metadata": {
        "colab": {
          "base_uri": "https://localhost:8080/"
        },
        "id": "23bSF1tzxIKG",
        "outputId": "38e178d3-4032-42e4-cc97-2820d38a301c"
      },
      "source": [
        "clf = DecisionTreeClassifier()\n",
        "\n",
        "clf.fit(x_train, y_train)\n",
        "\n",
        "pred = clf.predict(x_test)\n",
        "print(classification_report(y_test, pred))"
      ],
      "execution_count": 102,
      "outputs": [
        {
          "output_type": "stream",
          "name": "stdout",
          "text": [
            "              precision    recall  f1-score   support\n",
            "\n",
            "           0       0.67      0.69      0.68       166\n",
            "           1       0.71      0.69      0.70       184\n",
            "\n",
            "    accuracy                           0.69       350\n",
            "   macro avg       0.69      0.69      0.69       350\n",
            "weighted avg       0.69      0.69      0.69       350\n",
            "\n"
          ]
        }
      ]
    },
    {
      "cell_type": "markdown",
      "metadata": {
        "id": "6_kQqWhZw4lM"
      },
      "source": [
        "## XGBoost"
      ]
    },
    {
      "cell_type": "code",
      "metadata": {
        "colab": {
          "base_uri": "https://localhost:8080/"
        },
        "id": "oPpbnaOXw35L",
        "outputId": "6cc67472-bc0e-47ba-a1c4-0d892472a8a7"
      },
      "source": [
        "from xgboost import XGBClassifier\n",
        "\n",
        "# fit model no training data\n",
        "xgb_model = XGBClassifier()\n",
        "xgb_model.fit(x_train, y_train)\n",
        "xgb_model.fit(x_train, y_train)\n",
        "\n",
        "print(xgb_model)"
      ],
      "execution_count": 103,
      "outputs": [
        {
          "output_type": "stream",
          "name": "stdout",
          "text": [
            "XGBClassifier(base_score=0.5, booster='gbtree', colsample_bylevel=1,\n",
            "              colsample_bynode=1, colsample_bytree=1, gamma=0,\n",
            "              learning_rate=0.1, max_delta_step=0, max_depth=3,\n",
            "              min_child_weight=1, missing=None, n_estimators=100, n_jobs=1,\n",
            "              nthread=None, objective='binary:logistic', random_state=0,\n",
            "              reg_alpha=0, reg_lambda=1, scale_pos_weight=1, seed=None,\n",
            "              silent=None, subsample=1, verbosity=1)\n"
          ]
        }
      ]
    },
    {
      "cell_type": "code",
      "metadata": {
        "colab": {
          "base_uri": "https://localhost:8080/"
        },
        "id": "eRtQ8x7vzVcV",
        "outputId": "25c1fc87-28d0-44c7-cb90-41a58493362d"
      },
      "source": [
        "# make predictions for test data\n",
        "y_pred = xgb_model.predict(x_test)\n",
        "predictions = [round(value) for value in y_pred]\n",
        "\n",
        "# evaluate predictions\n",
        "print(classification_report(y_test, y_pred))"
      ],
      "execution_count": 104,
      "outputs": [
        {
          "output_type": "stream",
          "name": "stdout",
          "text": [
            "              precision    recall  f1-score   support\n",
            "\n",
            "           0       0.84      0.68      0.75       166\n",
            "           1       0.75      0.89      0.82       184\n",
            "\n",
            "    accuracy                           0.79       350\n",
            "   macro avg       0.80      0.78      0.78       350\n",
            "weighted avg       0.80      0.79      0.79       350\n",
            "\n"
          ]
        }
      ]
    },
    {
      "cell_type": "markdown",
      "metadata": {
        "id": "nYIijfGx-RIj"
      },
      "source": [
        "#### Hyper Parameter tuning for the XGBoost model"
      ]
    },
    {
      "cell_type": "code",
      "metadata": {
        "colab": {
          "base_uri": "https://localhost:8080/"
        },
        "id": "RCM7eUpkz7g6",
        "outputId": "df8df0bd-b3fd-4979-9db0-896b6dcd8f40"
      },
      "source": [
        "# Making a parameter grid using gridsearchcv\n",
        "\n",
        "# max_depth=3, learning_rate=0.1, n_estimators=100\n",
        "#objective='binary:logistic', booster='gbtree', n_jobs=1 gamma=0, \n",
        "# min_child_weight=1, max_delta_step=0,  base_score=0.5, random_state=0\n",
        "\n",
        "param_grid = {\n",
        "        'n_estimators': [50, 100, 150],\n",
        "        'max_depth': [2, 3, 5],\n",
        "        'min_child_weight': [1, 5, 10],\n",
        "        'gamma': [0.5, 1, 1.5, 2, 5],\n",
        "        'subsample': [0.6, 0.8, 1.0],\n",
        "        'colsample_bytree': [0.6, 0.8, 1.0],\n",
        "        'max_depth': [3, 4, 5]\n",
        "        }\n",
        "              \n",
        "grid = GridSearchCV(xgb_model, param_grid, cv=10, scoring='accuracy')\n",
        "grid.fit(x_train, y_train)"
      ],
      "execution_count": 42,
      "outputs": [
        {
          "output_type": "execute_result",
          "data": {
            "text/plain": [
              "GridSearchCV(cv=10, error_score=nan,\n",
              "             estimator=XGBClassifier(base_score=0.5, booster='gbtree',\n",
              "                                     colsample_bylevel=1, colsample_bynode=1,\n",
              "                                     colsample_bytree=1, gamma=0,\n",
              "                                     learning_rate=0.1, max_delta_step=0,\n",
              "                                     max_depth=3, min_child_weight=1,\n",
              "                                     missing=None, n_estimators=100, n_jobs=1,\n",
              "                                     nthread=None, objective='binary:logistic',\n",
              "                                     random_state=0, reg_alpha=0, reg_lambda=1,\n",
              "                                     scale_pos_weight=1, seed=None, silent=None,\n",
              "                                     subsample=1, verbosity=1),\n",
              "             iid='deprecated', n_jobs=None,\n",
              "             param_grid={'colsample_bytree': [0.6, 0.8, 1.0],\n",
              "                         'gamma': [0.5, 1, 1.5, 2, 5], 'max_depth': [3, 4, 5],\n",
              "                         'min_child_weight': [1, 5, 10],\n",
              "                         'n_estimators': [50, 100, 150],\n",
              "                         'subsample': [0.6, 0.8, 1.0]},\n",
              "             pre_dispatch='2*n_jobs', refit=True, return_train_score=False,\n",
              "             scoring='accuracy', verbose=0)"
            ]
          },
          "metadata": {},
          "execution_count": 42
        }
      ]
    },
    {
      "cell_type": "code",
      "metadata": {
        "colab": {
          "base_uri": "https://localhost:8080/"
        },
        "id": "3pN48VmM4mXg",
        "outputId": "0a6e6103-88eb-46ca-f6cc-e1c00122b6c6"
      },
      "source": [
        "pred = grid.best_estimator_.predict(x_test)\n",
        "print(classification_report(y_test, pred))"
      ],
      "execution_count": 43,
      "outputs": [
        {
          "output_type": "stream",
          "name": "stdout",
          "text": [
            "              precision    recall  f1-score   support\n",
            "\n",
            "           0       0.92      0.64      0.75       166\n",
            "           1       0.74      0.95      0.84       184\n",
            "\n",
            "    accuracy                           0.80       350\n",
            "   macro avg       0.83      0.79      0.79       350\n",
            "weighted avg       0.83      0.80      0.80       350\n",
            "\n"
          ]
        }
      ]
    },
    {
      "cell_type": "markdown",
      "metadata": {
        "id": "0bihvxB7CheT"
      },
      "source": [
        "# Dimensionality reduction using PCA"
      ]
    },
    {
      "cell_type": "code",
      "metadata": {
        "id": "w-CyMSJSCdg4"
      },
      "source": [
        "from sklearn import decomposition\n",
        "from sklearn.decomposition import PCA\n",
        "\n",
        "pca = decomposition.PCA(n_components=5) #n_components=5\n",
        "pca.fit(x_train)\n",
        "x_train = pca.transform(x_train)\n",
        "x_test = pca.transform(x_test)"
      ],
      "execution_count": 101,
      "outputs": []
    },
    {
      "cell_type": "code",
      "metadata": {
        "colab": {
          "base_uri": "https://localhost:8080/",
          "height": 327
        },
        "id": "baUye2USQHjq",
        "outputId": "d6a546c7-5a96-4921-cc73-89ea253d5075"
      },
      "source": [
        "from sklearn import tree\n",
        "from sklearn.metrics import f1_score\n",
        "from sklearn.metrics import confusion_matrix\n",
        "from sklearn.metrics import plot_confusion_matrix\n",
        "from sklearn.metrics import precision_recall_fscore_support\n",
        "from sklearn.metrics import r2_score\n",
        "\n",
        "clf = tree.DecisionTreeClassifier()\n",
        "clf = clf.fit(x_train, y_train)\n",
        "\n",
        "print(\"Accuracy (in %):\", clf.score(x_test, y_test))\n",
        "\n",
        "y_pred = clf.predict(x_test)\n",
        "print('F1 score', f1_score(y_test, y_pred))\n",
        "\n",
        "plot_confusion_matrix(clf, x_test, y_test)\n",
        "print(precision_recall_fscore_support(y_test, y_pred, average='binary'))\n",
        "\n",
        "plt.show()"
      ],
      "execution_count": 335,
      "outputs": [
        {
          "output_type": "stream",
          "name": "stdout",
          "text": [
            "Accuracy (in %): 0.7035398230088495\n",
            "F1 score 0.6824644549763034\n",
            "(0.6728971962616822, 0.6923076923076923, 0.6824644549763034, None)\n"
          ]
        },
        {
          "output_type": "display_data",
          "data": {
            "image/png": "[encoded data removed]",
            "text/plain": [
              "<Figure size 432x288 with 2 Axes>"
            ]
          },
          "metadata": {
            "needs_background": "light"
          }
        }
      ]
    },
    {
      "cell_type": "markdown",
      "metadata": {
        "id": "St8L2cd4y_1F"
      },
      "source": [
        "# Logistic regression model"
      ]
    },
    {
      "cell_type": "code",
      "metadata": {
        "colab": {
          "base_uri": "https://localhost:8080/",
          "height": 282
        },
        "id": "sCfziRRGlZV0",
        "outputId": "20d85439-43ab-494e-ca8f-04376d377e5c"
      },
      "source": [
        "clf=LogisticRegression()\n",
        "cv_score = cross_val_score(clf, \n",
        "                            x_train, y_train,\n",
        "                            scoring = 'accuracy',\n",
        "                            cv = 5,\n",
        "                            n_jobs = -1,\n",
        "                            verbose = 0)\n",
        "\n",
        "plt.plot(cv_score, 'go-',label='Logistic Regression Classifier')\n",
        "plt.xlabel('# of folds of cross validation')\n",
        "plt.ylabel('Accuracy')\n",
        "plt.ylim(0,0.9)\n",
        "plt.legend()\n",
        "plt.show()"
      ],
      "execution_count": 337,
      "outputs": [
        {
          "output_type": "display_data",
          "data": {
            "image/png": "[encoded data removed]",
            "text/plain": [
              "<Figure size 432x288 with 1 Axes>"
            ]
          },
          "metadata": {
            "needs_background": "light"
          }
        }
      ]
    },
    {
      "cell_type": "code",
      "metadata": {
        "id": "IRW6PkmJS1_N",
        "colab": {
          "base_uri": "https://localhost:8080/",
          "height": 281
        },
        "outputId": "120272a6-708e-4fae-c771-66fda1ce67f0"
      },
      "source": [
        "from sklearn.ensemble import RandomForestClassifier\n",
        "from sklearn.metrics import classification_report, confusion_matrix, accuracy_score\n",
        "\n",
        "accu=[]\n",
        "for i in np.arange(10, 400, 40):\n",
        "  classifier = RandomForestClassifier(n_estimators=i, random_state=0)\n",
        "  classifier.fit(x_train, y_train)\n",
        "  y_pred = classifier.predict(x_test)\n",
        "  accu.append(accuracy_score(y_test, y_pred))\n",
        "\n",
        "plt.plot(np.arange(10, 400, 40), accu, '.-')\n",
        "plt.xlabel('# of Trees')\n",
        "plt.ylabel('Accuracy')\n",
        "plt.show()"
      ],
      "execution_count": 49,
      "outputs": [
        {
          "output_type": "display_data",
          "data": {
            "image/png": "[encoded data removed]",
            "text/plain": [
              "<Figure size 432x288 with 1 Axes>"
            ]
          },
          "metadata": {
            "needs_background": "light"
          }
        }
      ]
    },
    {
      "cell_type": "markdown",
      "metadata": {
        "id": "MvNke5w2J5Ch"
      },
      "source": [
        "# How fast do fellows get placed?"
      ]
    },
    {
      "cell_type": "code",
      "metadata": {
        "id": "K5WVGfANFFI6"
      },
      "source": [
        "# Loading the data\n",
        "cust_success=pd.read_excel('/content/drive/MyDrive/Colab Notebooks/Pathrise/Data_Pathrise.xlsx')"
      ],
      "execution_count": 176,
      "outputs": []
    },
    {
      "cell_type": "markdown",
      "metadata": {
        "id": "7n05VpPpFFI-"
      },
      "source": [
        "## Outlier removal for the continuous features"
      ]
    },
    {
      "cell_type": "code",
      "metadata": {
        "colab": {
          "base_uri": "https://localhost:8080/"
        },
        "id": "L610cl-3FFI-",
        "outputId": "1041b818-0c55-4dbf-806b-e1ca9d95f1bd"
      },
      "source": [
        "print(cust_success.shape)\n",
        "cust_success=cust_success[cust_success['number_of_interviews']<7.5]\n",
        "cust_success=cust_success[cust_success['number_of_applications']<200]\n",
        "print(cust_success.shape)"
      ],
      "execution_count": 177,
      "outputs": [
        {
          "output_type": "stream",
          "name": "stdout",
          "text": [
            "(2544, 16)\n",
            "(2231, 16)\n"
          ]
        }
      ]
    },
    {
      "cell_type": "markdown",
      "metadata": {
        "id": "94M3ezj9FFI-"
      },
      "source": [
        "## Scaling of the continuous variables"
      ]
    },
    {
      "cell_type": "code",
      "metadata": {
        "colab": {
          "base_uri": "https://localhost:8080/",
          "height": 290
        },
        "id": "oAS0mGFNFFI-",
        "outputId": "570f6d01-9830-492c-b166-7de666e29190"
      },
      "source": [
        "from sklearn.preprocessing import StandardScaler, RobustScaler\n",
        "\n",
        "std_scaler = StandardScaler()\n",
        "rob_scaler = RobustScaler()\n",
        "\n",
        "# We will use Robust scaler because it's ideal if there are outliers\n",
        "\n",
        "cust_success['number_of_interviews'] = rob_scaler.fit_transform(cust_success['number_of_interviews'].values.reshape(-1,1))\n",
        "cust_success['number_of_applications'] = rob_scaler.fit_transform(cust_success['number_of_applications'].values.reshape(-1,1))\n",
        "\n",
        "cust_success.describe()"
      ],
      "execution_count": 178,
      "outputs": [
        {
          "output_type": "execute_result",
          "data": {
            "text/html": [
              "<div>\n",
              "<style scoped>\n",
              "    .dataframe tbody tr th:only-of-type {\n",
              "        vertical-align: middle;\n",
              "    }\n",
              "\n",
              "    .dataframe tbody tr th {\n",
              "        vertical-align: top;\n",
              "    }\n",
              "\n",
              "    .dataframe thead th {\n",
              "        text-align: right;\n",
              "    }\n",
              "</style>\n",
              "<table border=\"1\" class=\"dataframe\">\n",
              "  <thead>\n",
              "    <tr style=\"text-align: right;\">\n",
              "      <th></th>\n",
              "      <th>id</th>\n",
              "      <th>program_duration_days</th>\n",
              "      <th>placed</th>\n",
              "      <th>number_of_interviews</th>\n",
              "      <th>number_of_applications</th>\n",
              "    </tr>\n",
              "  </thead>\n",
              "  <tbody>\n",
              "    <tr>\n",
              "      <th>count</th>\n",
              "      <td>2231.000000</td>\n",
              "      <td>1679.000000</td>\n",
              "      <td>2231.000000</td>\n",
              "      <td>2231.000000</td>\n",
              "      <td>2231.000000</td>\n",
              "    </tr>\n",
              "    <tr>\n",
              "      <th>mean</th>\n",
              "      <td>1284.423577</td>\n",
              "      <td>139.117332</td>\n",
              "      <td>0.377409</td>\n",
              "      <td>0.267145</td>\n",
              "      <td>0.344651</td>\n",
              "    </tr>\n",
              "    <tr>\n",
              "      <th>std</th>\n",
              "      <td>738.289901</td>\n",
              "      <td>125.908441</td>\n",
              "      <td>0.484847</td>\n",
              "      <td>0.641492</td>\n",
              "      <td>0.995447</td>\n",
              "    </tr>\n",
              "    <tr>\n",
              "      <th>min</th>\n",
              "      <td>2.000000</td>\n",
              "      <td>0.000000</td>\n",
              "      <td>0.000000</td>\n",
              "      <td>-0.333333</td>\n",
              "      <td>-0.555556</td>\n",
              "    </tr>\n",
              "    <tr>\n",
              "      <th>25%</th>\n",
              "      <td>645.500000</td>\n",
              "      <td>15.000000</td>\n",
              "      <td>0.000000</td>\n",
              "      <td>-0.333333</td>\n",
              "      <td>-0.305556</td>\n",
              "    </tr>\n",
              "    <tr>\n",
              "      <th>50%</th>\n",
              "      <td>1302.000000</td>\n",
              "      <td>116.000000</td>\n",
              "      <td>0.000000</td>\n",
              "      <td>0.000000</td>\n",
              "      <td>0.000000</td>\n",
              "    </tr>\n",
              "    <tr>\n",
              "      <th>75%</th>\n",
              "      <td>1924.500000</td>\n",
              "      <td>228.000000</td>\n",
              "      <td>1.000000</td>\n",
              "      <td>0.666667</td>\n",
              "      <td>0.694444</td>\n",
              "    </tr>\n",
              "    <tr>\n",
              "      <th>max</th>\n",
              "      <td>2544.000000</td>\n",
              "      <td>548.000000</td>\n",
              "      <td>1.000000</td>\n",
              "      <td>2.000000</td>\n",
              "      <td>4.722222</td>\n",
              "    </tr>\n",
              "  </tbody>\n",
              "</table>\n",
              "</div>"
            ],
            "text/plain": [
              "                id  ...  number_of_applications\n",
              "count  2231.000000  ...             2231.000000\n",
              "mean   1284.423577  ...                0.344651\n",
              "std     738.289901  ...                0.995447\n",
              "min       2.000000  ...               -0.555556\n",
              "25%     645.500000  ...               -0.305556\n",
              "50%    1302.000000  ...                0.000000\n",
              "75%    1924.500000  ...                0.694444\n",
              "max    2544.000000  ...                4.722222\n",
              "\n",
              "[8 rows x 5 columns]"
            ]
          },
          "metadata": {},
          "execution_count": 178
        }
      ]
    },
    {
      "cell_type": "markdown",
      "metadata": {
        "id": "80OYoFQbFFI-"
      },
      "source": [
        "## Model building with imputed values for missing data\n",
        "\n",
        "Instead of droppping 44% of the data, we can create a new feature value 'NA' for missing values in each categorical feature. "
      ]
    },
    {
      "cell_type": "code",
      "metadata": {
        "colab": {
          "base_uri": "https://localhost:8080/"
        },
        "id": "vh01V5lqFFI-",
        "outputId": "81ed8aa6-ff8d-41a2-c106-ff78fb2f7015"
      },
      "source": [
        "df_test=cust_success[cust_success['pathrise_status']=='Active']\n",
        "df=cust_success[cust_success['pathrise_status']!='Active']\n",
        "\n",
        "ori_len=df.shape[0]\n",
        "print(ori_len)\n",
        "\n",
        "df=Imput_cat_na(df).imput_dat()\n",
        "df_test=Imput_cat_na(df_test).imput_dat()\n",
        "\n",
        "miss_len=df.shape[0]\n",
        "print(miss_len)\n",
        "\n",
        "print(\"We lose {0}% of data by dropping the missing values.\".format(np.around((ori_len-miss_len)/ori_len*100)))\n"
      ],
      "execution_count": 179,
      "outputs": [
        {
          "output_type": "stream",
          "name": "stdout",
          "text": [
            "1749\n",
            "1749\n",
            "We lose 0.0% of data by dropping the missing values.\n"
          ]
        }
      ]
    },
    {
      "cell_type": "code",
      "metadata": {
        "id": "NNT-hBzGFFI-"
      },
      "source": [
        "# df.fillna(df.median(), inplace = True) # For the continuous values, Median is more meaningful than mean in Skewed data\n",
        "df.fillna(0, inplace = True) # For the continuous values, Median is more meaningful than mean in Skewed data\n",
        "\n",
        "# df_test.fillna(df_test.median(), inplace = True)\n",
        "df_test.fillna(0, inplace = True)\n",
        "\n",
        "df=Cat_encode(df).cat_encode()\n",
        "df_test=Cat_encode(df_test).cat_encode()\n"
      ],
      "execution_count": 180,
      "outputs": []
    },
    {
      "cell_type": "code",
      "metadata": {
        "colab": {
          "base_uri": "https://localhost:8080/",
          "height": 220
        },
        "id": "tELDggcJ_7u7",
        "outputId": "6c9b9206-cee3-4de6-a2e3-cf4f9dd6d17a"
      },
      "source": [
        "df=df[df.placed==1].drop(['placed','id','pathrise_status'], axis=1)\n",
        "\n",
        "TARGET='program_duration_days'\n",
        "features=[i for i in list(df.columns) if i!=TARGET]\n",
        "\n",
        "X=df[features]\n",
        "y=df[TARGET]\n",
        "\n",
        "X.head()"
      ],
      "execution_count": 181,
      "outputs": [
        {
          "output_type": "execute_result",
          "data": {
            "text/html": [
              "<div>\n",
              "<style scoped>\n",
              "    .dataframe tbody tr th:only-of-type {\n",
              "        vertical-align: middle;\n",
              "    }\n",
              "\n",
              "    .dataframe tbody tr th {\n",
              "        vertical-align: top;\n",
              "    }\n",
              "\n",
              "    .dataframe thead th {\n",
              "        text-align: right;\n",
              "    }\n",
              "</style>\n",
              "<table border=\"1\" class=\"dataframe\">\n",
              "  <thead>\n",
              "    <tr style=\"text-align: right;\">\n",
              "      <th></th>\n",
              "      <th>primary_track</th>\n",
              "      <th>cohort_tag</th>\n",
              "      <th>employment_status</th>\n",
              "      <th>highest_level_of_education</th>\n",
              "      <th>length_of_job_search</th>\n",
              "      <th>biggest_challenge_in_search</th>\n",
              "      <th>professional_experience</th>\n",
              "      <th>work_authorization_status</th>\n",
              "      <th>number_of_interviews</th>\n",
              "      <th>number_of_applications</th>\n",
              "      <th>gender</th>\n",
              "      <th>race</th>\n",
              "    </tr>\n",
              "  </thead>\n",
              "  <tbody>\n",
              "    <tr>\n",
              "      <th>23</th>\n",
              "      <td>2.0</td>\n",
              "      <td>37.0</td>\n",
              "      <td>5.0</td>\n",
              "      <td>4.0</td>\n",
              "      <td>2.0</td>\n",
              "      <td>5.0</td>\n",
              "      <td>0.0</td>\n",
              "      <td>1.0</td>\n",
              "      <td>1.333333</td>\n",
              "      <td>-0.444444</td>\n",
              "      <td>2.0</td>\n",
              "      <td>7.0</td>\n",
              "    </tr>\n",
              "    <tr>\n",
              "      <th>30</th>\n",
              "      <td>3.0</td>\n",
              "      <td>36.0</td>\n",
              "      <td>4.0</td>\n",
              "      <td>4.0</td>\n",
              "      <td>3.0</td>\n",
              "      <td>1.0</td>\n",
              "      <td>0.0</td>\n",
              "      <td>2.0</td>\n",
              "      <td>-0.333333</td>\n",
              "      <td>-0.527778</td>\n",
              "      <td>2.0</td>\n",
              "      <td>2.0</td>\n",
              "    </tr>\n",
              "    <tr>\n",
              "      <th>54</th>\n",
              "      <td>3.0</td>\n",
              "      <td>6.0</td>\n",
              "      <td>4.0</td>\n",
              "      <td>4.0</td>\n",
              "      <td>3.0</td>\n",
              "      <td>2.0</td>\n",
              "      <td>1.0</td>\n",
              "      <td>3.0</td>\n",
              "      <td>-0.333333</td>\n",
              "      <td>0.277778</td>\n",
              "      <td>1.0</td>\n",
              "      <td>2.0</td>\n",
              "    </tr>\n",
              "    <tr>\n",
              "      <th>63</th>\n",
              "      <td>3.0</td>\n",
              "      <td>45.0</td>\n",
              "      <td>5.0</td>\n",
              "      <td>0.0</td>\n",
              "      <td>0.0</td>\n",
              "      <td>4.0</td>\n",
              "      <td>0.0</td>\n",
              "      <td>3.0</td>\n",
              "      <td>-0.333333</td>\n",
              "      <td>-0.555556</td>\n",
              "      <td>1.0</td>\n",
              "      <td>0.0</td>\n",
              "    </tr>\n",
              "    <tr>\n",
              "      <th>64</th>\n",
              "      <td>0.0</td>\n",
              "      <td>39.0</td>\n",
              "      <td>4.0</td>\n",
              "      <td>0.0</td>\n",
              "      <td>1.0</td>\n",
              "      <td>5.0</td>\n",
              "      <td>0.0</td>\n",
              "      <td>1.0</td>\n",
              "      <td>0.000000</td>\n",
              "      <td>1.388889</td>\n",
              "      <td>2.0</td>\n",
              "      <td>8.0</td>\n",
              "    </tr>\n",
              "  </tbody>\n",
              "</table>\n",
              "</div>"
            ],
            "text/plain": [
              "    primary_track  cohort_tag  ...  gender  race\n",
              "23            2.0        37.0  ...     2.0   7.0\n",
              "30            3.0        36.0  ...     2.0   2.0\n",
              "54            3.0         6.0  ...     1.0   2.0\n",
              "63            3.0        45.0  ...     1.0   0.0\n",
              "64            0.0        39.0  ...     2.0   8.0\n",
              "\n",
              "[5 rows x 12 columns]"
            ]
          },
          "metadata": {},
          "execution_count": 181
        }
      ]
    },
    {
      "cell_type": "code",
      "metadata": {
        "colab": {
          "base_uri": "https://localhost:8080/",
          "height": 265
        },
        "id": "6leWfEtkDHx7",
        "outputId": "2fb0adcc-f4a7-463c-a360-7c29be939ccb"
      },
      "source": [
        "for i in X.columns[1:]:\n",
        "  plt.plot(X[i], y, '.')"
      ],
      "execution_count": 182,
      "outputs": [
        {
          "output_type": "display_data",
          "data": {
            "image/png": "[encoded data removed]",
            "text/plain": [
              "<Figure size 432x288 with 1 Axes>"
            ]
          },
          "metadata": {
            "needs_background": "light"
          }
        }
      ]
    },
    {
      "cell_type": "markdown",
      "metadata": {
        "id": "Dg44A9wDQgvW"
      },
      "source": [
        "## Training and testing data "
      ]
    },
    {
      "cell_type": "code",
      "metadata": {
        "id": "oeEMRAlVDFV3"
      },
      "source": [
        "x_train, x_test, y_train, y_test = train_test_split(X, y, test_size=0.2, random_state=42)"
      ],
      "execution_count": 183,
      "outputs": []
    },
    {
      "cell_type": "markdown",
      "metadata": {
        "id": "yGh8IqZZQgvi"
      },
      "source": [
        "## Linear regression model"
      ]
    },
    {
      "cell_type": "code",
      "metadata": {
        "colab": {
          "base_uri": "https://localhost:8080/",
          "height": 311
        },
        "id": "8VhF7xmTXuzK",
        "outputId": "7d8f04e9-0ce2-44bc-e0a5-2d7330283ec3"
      },
      "source": [
        "from sklearn.linear_model import LinearRegression\n",
        "\n",
        "reg = LinearRegression().fit(x_train, y_train)\n",
        "y_pred = reg.predict(x_test)\n",
        "\n",
        "plt.plot(np.array(y_pred),'.', label='Predicted')\n",
        "plt.plot(np.array(y_test),'.', label='Ground Truth')\n",
        "plt.xlabel('Candidates')\n",
        "plt.ylabel('Program Duration (Days)')\n",
        "plt.title('Linear Regression')\n",
        "plt.legend()\n",
        "# plt.ylim(0,400)\n",
        "plt.show()\n",
        "\n",
        "print(reg.score(x_train, y_train))"
      ],
      "execution_count": 184,
      "outputs": [
        {
          "output_type": "display_data",
          "data": {
            "image/png": "[encoded data removed]",
            "text/plain": [
              "<Figure size 432x288 with 1 Axes>"
            ]
          },
          "metadata": {
            "needs_background": "light"
          }
        },
        {
          "output_type": "stream",
          "name": "stdout",
          "text": [
            "0.030770345957757624\n"
          ]
        }
      ]
    },
    {
      "cell_type": "code",
      "metadata": {
        "id": "IN8-mTriGcES"
      },
      "source": [
        ""
      ],
      "execution_count": null,
      "outputs": []
    },
    {
      "cell_type": "code",
      "metadata": {
        "id": "atHdi558Pwcr"
      },
      "source": [
        "# Stratified K-fold cross-validation code\n",
        "\n",
        "features = list(train_df.columns[1:101])\n",
        "\n",
        "train_oof = np.zeros((250000,))\n",
        "skf = StratifiedKFold(n_splits=5, shuffle=True, random_state=42)\n",
        "for fold, (train_idx, valid_idx) in enumerate(skf.split(train_df[features], train_df['loss'])):\n",
        "    X_train, X_valid = train_df.iloc[train_idx], train_df.iloc[valid_idx]\n",
        "    y_train = X_train['loss']\n",
        "    y_valid = X_valid['loss']\n",
        "    X_train = X_train.drop('loss', axis=1)\n",
        "    X_valid = X_valid.drop('loss', axis=1)\n",
        "    \n",
        "    model = LinearRegression()\n",
        "\n",
        "    model =  model.fit(X_train, y_train)\n",
        "    temp_oof = model.predict(X_valid)\n",
        "    train_oof[valid_idx] = temp_oof\n",
        "    print(f'Fold {fold} RMSE: ', mean_squared_error(y_valid, temp_oof, squared=False))\n",
        "    \n",
        "print(f'OOF Accuracy: ', mean_squared_error(train_df['loss'], train_oof, squared=False))\n"
      ],
      "execution_count": null,
      "outputs": []
    },
    {
      "cell_type": "code",
      "metadata": {
        "colab": {
          "base_uri": "https://localhost:8080/",
          "height": 311
        },
        "id": "33pd8ofin08o",
        "outputId": "a87c952a-1057-4327-a76d-cad40381730c"
      },
      "source": [
        "from sklearn.linear_model import LogisticRegression\n",
        "\n",
        "clf = LogisticRegression(random_state=0, max_iter=500).fit(X_train2, y_train2)\n",
        "y_pred2 = clf.predict(X_test2)\n",
        "\n",
        "plt.plot(np.array(y_pred2),'.', label='Predicted')\n",
        "plt.plot(np.array(y_test2),'.', label='Ground Truth')\n",
        "plt.xlabel('Candidates')\n",
        "plt.ylabel('Program Duration (Days)')\n",
        "plt.title('Logistic Regression')\n",
        "plt.legend()\n",
        "plt.ylim(0,400)\n",
        "plt.show()\n",
        "\n",
        "print(clf.score(X_train2, y_train2))"
      ],
      "execution_count": null,
      "outputs": [
        {
          "output_type": "display_data",
          "data": {
            "image/png": "[encoded data removed]",
            "text/plain": [
              "<Figure size 432x288 with 1 Axes>"
            ]
          },
          "metadata": {
            "tags": [],
            "needs_background": "light"
          }
        },
        {
          "output_type": "stream",
          "text": [
            "0.8357142857142857\n"
          ],
          "name": "stdout"
        }
      ]
    },
    {
      "cell_type": "code",
      "metadata": {
        "colab": {
          "base_uri": "https://localhost:8080/",
          "height": 311
        },
        "id": "HmGpRrYPwaFH",
        "outputId": "2019cc1b-c609-415a-e186-0e0d3542aac6"
      },
      "source": [
        "import numpy as np\n",
        "from sklearn.linear_model import SGDClassifier\n",
        "from sklearn.preprocessing import StandardScaler\n",
        "from sklearn.pipeline import make_pipeline\n",
        "\n",
        "# Always scale the input. The most convenient way is to use a pipeline.\n",
        "clf = make_pipeline(StandardScaler(), SGDClassifier(max_iter=1000, tol=1e-3))\n",
        "clf.fit(X_train2, y_train2)\n",
        "\n",
        "y_pred2=clf.predict((X_test2))\n",
        "\n",
        "plt.plot(np.array(y_pred2),'.', label='Predicted')\n",
        "plt.plot(np.array(y_test2),'.', label='Ground Truth')\n",
        "plt.xlabel('Candidates')\n",
        "plt.ylabel('Program Duration (Days)')\n",
        "plt.title('SGDC Regression')\n",
        "plt.legend()\n",
        "plt.ylim(0,400)\n",
        "plt.show()\n",
        "\n",
        "print(clf.score(X_train2, y_train2))"
      ],
      "execution_count": null,
      "outputs": [
        {
          "output_type": "display_data",
          "data": {
            "image/png": "[encoded data removed]",
            "text/plain": [
              "<Figure size 432x288 with 1 Axes>"
            ]
          },
          "metadata": {
            "tags": [],
            "needs_background": "light"
          }
        },
        {
          "output_type": "stream",
          "text": [
            "0.7333333333333333\n"
          ],
          "name": "stdout"
        }
      ]
    },
    {
      "cell_type": "code",
      "metadata": {
        "id": "dzyDm9KWzE8m"
      },
      "source": [
        ""
      ],
      "execution_count": null,
      "outputs": []
    }
  ]
}