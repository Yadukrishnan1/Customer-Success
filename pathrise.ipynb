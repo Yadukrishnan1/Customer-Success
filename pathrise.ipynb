{
 "cells": [
  {
   "cell_type": "code",
   "execution_count": 1,
   "metadata": {
    "executionInfo": {
     "elapsed": 878,
     "status": "ok",
     "timestamp": 1619503934122,
     "user": {
      "displayName": "Yadu Sarathchandran",
      "photoUrl": "",
      "userId": "14743288125860337631"
     },
     "user_tz": 300
    },
    "id": "vZsAo4WSy8Zy"
   },
   "outputs": [],
   "source": [
    "import numpy as np\n",
    "import matplotlib.pyplot as plt\n",
    "import pandas as pd\n",
    "import pylab as pl\n",
    "import seaborn as sns\n",
    "from sklearn.preprocessing import StandardScaler\n",
    "import sklearn\n",
    "from sklearn.metrics import confusion_matrix\n",
    "from sklearn.model_selection import train_test_split\n",
    "from sklearn import tree\n",
    "from mpl_toolkits import mplot3d\n",
    "from sklearn.preprocessing import OneHotEncoder\n",
    "from sklearn.preprocessing import LabelEncoder\n",
    "from sklearn.linear_model import LogisticRegression\n",
    "from sklearn.tree import DecisionTreeClassifier\n",
    "from sklearn.ensemble import RandomForestClassifier\n",
    "from sklearn.model_selection import cross_val_score, GridSearchCV\n",
    "\n",
    "%matplotlib inline"
   ]
  },
  {
   "cell_type": "code",
   "execution_count": 2,
   "metadata": {
    "id": "T0h8HU6Kzn4J"
   },
   "outputs": [
    {
     "ename": "ModuleNotFoundError",
     "evalue": "No module named 'google'",
     "output_type": "error",
     "traceback": [
      "\u001b[0;31m---------------------------------------------------------------------------\u001b[0m",
      "\u001b[0;31mModuleNotFoundError\u001b[0m                       Traceback (most recent call last)",
      "\u001b[0;32m<ipython-input-2-21dc3c638f66>\u001b[0m in \u001b[0;36m<module>\u001b[0;34m\u001b[0m\n\u001b[0;32m----> 1\u001b[0;31m \u001b[0;32mfrom\u001b[0m \u001b[0mgoogle\u001b[0m\u001b[0;34m.\u001b[0m\u001b[0mcolab\u001b[0m \u001b[0;32mimport\u001b[0m \u001b[0mfiles\u001b[0m\u001b[0;34m\u001b[0m\u001b[0;34m\u001b[0m\u001b[0m\n\u001b[0m\u001b[1;32m      2\u001b[0m \u001b[0muploaded\u001b[0m \u001b[0;34m=\u001b[0m \u001b[0mfiles\u001b[0m\u001b[0;34m.\u001b[0m\u001b[0mupload\u001b[0m\u001b[0;34m(\u001b[0m\u001b[0;34m)\u001b[0m\u001b[0;34m\u001b[0m\u001b[0;34m\u001b[0m\u001b[0m\n",
      "\u001b[0;31mModuleNotFoundError\u001b[0m: No module named 'google'"
     ]
    }
   ],
   "source": [
    "from google.colab import files\n",
    "uploaded = files.upload()"
   ]
  },
  {
   "cell_type": "code",
   "execution_count": 32,
   "metadata": {
    "executionInfo": {
     "elapsed": 2169,
     "status": "ok",
     "timestamp": 1619503939095,
     "user": {
      "displayName": "Yadu Sarathchandran",
      "photoUrl": "",
      "userId": "14743288125860337631"
     },
     "user_tz": 300
    },
    "id": "xC5_GTLp0BEb"
   },
   "outputs": [],
   "source": [
    "# Loading the data\n",
    "pathrise=pd.read_excel('Data_Pathrise.xlsx')"
   ]
  },
  {
   "cell_type": "markdown",
   "metadata": {
    "id": "bFQ_pwfxh0dr"
   },
   "source": [
    "# Exploratory Data Analysis\n",
    "\n",
    "What are the variables (features) in our dataset? Which are the Predictor Variables and which is the Target Variables?\n",
    "\n",
    "TV: 'placed'\n",
    "\n",
    "PV: All others\n",
    "\n",
    "Categorical variables such as 'program_duration_days', 'professional_experience', 'length_of_job_search' are ordinal attributes. All the rest of the categorical features are nominal attributes. One-hot-encoding is to be carried out for all the nominal attributes.\n",
    "\n",
    "The testing set is selected by using the 'pathrise status' which are either 'Active' or 'Break'. The training set will be the Pathrise data without the testing set. A validation set should be made by doing a split of the training dataset.\n",
    "\n",
    "Analysis should be two steps:\n",
    "\n",
    "1) Determine what are the characteristics of fellows being placed. For that eliminate the 'program_duration_days' columns. Then see which columns contributes to it.\n",
    "\n",
    "2) After determining the fellows, who get placed, maybe use regression to see how long do they take to get placed.\n",
    "\n",
    "# Other considerations\n",
    "\n",
    "A) Balance the training data set.\n",
    "\n",
    "B) Drop columns that seemingly have no effect such as 'id' and 'cohort_tag'. 'Race' and 'gender' might be affecting the prediction, but they are understandably complicated, so dropping them for training seems reasonable. 'placed' column should be removed in training as it's the target variable.\n",
    "\n",
    "C) Limit the 'number of applications' to less than 150.\n",
    "\n",
    "D) Do the encoders for ordinal and nominal categories in first pathrise data. Then add missing values with mean.\n",
    "\n",
    "\n"
   ]
  },
  {
   "cell_type": "code",
   "execution_count": 33,
   "metadata": {
    "colab": {
     "base_uri": "https://localhost:8080/",
     "height": 471
    },
    "executionInfo": {
     "elapsed": 684,
     "status": "ok",
     "timestamp": 1619503943356,
     "user": {
      "displayName": "Yadu Sarathchandran",
      "photoUrl": "",
      "userId": "14743288125860337631"
     },
     "user_tz": 300
    },
    "id": "qZbuYnu7DXuV",
    "outputId": "399fb8a8-022c-4a00-c8f7-083509b08c10"
   },
   "outputs": [
    {
     "data": {
      "text/html": [
       "<div>\n",
       "<style scoped>\n",
       "    .dataframe tbody tr th:only-of-type {\n",
       "        vertical-align: middle;\n",
       "    }\n",
       "\n",
       "    .dataframe tbody tr th {\n",
       "        vertical-align: top;\n",
       "    }\n",
       "\n",
       "    .dataframe thead th {\n",
       "        text-align: right;\n",
       "    }\n",
       "</style>\n",
       "<table border=\"1\" class=\"dataframe\">\n",
       "  <thead>\n",
       "    <tr style=\"text-align: right;\">\n",
       "      <th></th>\n",
       "      <th>id</th>\n",
       "      <th>pathrise_status</th>\n",
       "      <th>primary_track</th>\n",
       "      <th>cohort_tag</th>\n",
       "      <th>program_duration_days</th>\n",
       "      <th>placed</th>\n",
       "      <th>employment_status</th>\n",
       "      <th>highest_level_of_education</th>\n",
       "      <th>length_of_job_search</th>\n",
       "      <th>biggest_challenge_in_search</th>\n",
       "      <th>professional_experience</th>\n",
       "      <th>work_authorization_status</th>\n",
       "      <th>number_of_interviews</th>\n",
       "      <th>number_of_applications</th>\n",
       "      <th>gender</th>\n",
       "      <th>race</th>\n",
       "    </tr>\n",
       "  </thead>\n",
       "  <tbody>\n",
       "    <tr>\n",
       "      <th>0</th>\n",
       "      <td>1</td>\n",
       "      <td>Active</td>\n",
       "      <td>SWE</td>\n",
       "      <td>OCT19A</td>\n",
       "      <td>NaN</td>\n",
       "      <td>0</td>\n",
       "      <td>Unemployed</td>\n",
       "      <td>Bachelor's Degree</td>\n",
       "      <td>3-5 months</td>\n",
       "      <td>Hearing back on my applications</td>\n",
       "      <td>3-4 years</td>\n",
       "      <td>Canada Citizen</td>\n",
       "      <td>2.0</td>\n",
       "      <td>900</td>\n",
       "      <td>Male</td>\n",
       "      <td>Non-Hispanic White or Euro-American</td>\n",
       "    </tr>\n",
       "    <tr>\n",
       "      <th>1</th>\n",
       "      <td>2</td>\n",
       "      <td>Active</td>\n",
       "      <td>PSO</td>\n",
       "      <td>JAN20A</td>\n",
       "      <td>NaN</td>\n",
       "      <td>0</td>\n",
       "      <td>Unemployed</td>\n",
       "      <td>Some College, No Degree</td>\n",
       "      <td>3-5 months</td>\n",
       "      <td>Getting past final round interviews</td>\n",
       "      <td>1-2 years</td>\n",
       "      <td>Citizen</td>\n",
       "      <td>6.0</td>\n",
       "      <td>0</td>\n",
       "      <td>Male</td>\n",
       "      <td>Non-Hispanic White or Euro-American</td>\n",
       "    </tr>\n",
       "    <tr>\n",
       "      <th>2</th>\n",
       "      <td>3</td>\n",
       "      <td>Closed Lost</td>\n",
       "      <td>Design</td>\n",
       "      <td>AUG19B</td>\n",
       "      <td>0.0</td>\n",
       "      <td>0</td>\n",
       "      <td>Employed Part-Time</td>\n",
       "      <td>Master's Degree</td>\n",
       "      <td>Less than one month</td>\n",
       "      <td>Figuring out which jobs to apply for</td>\n",
       "      <td>Less than one year</td>\n",
       "      <td>Citizen</td>\n",
       "      <td>0.0</td>\n",
       "      <td>0</td>\n",
       "      <td>Male</td>\n",
       "      <td>East Asian or Asian American</td>\n",
       "    </tr>\n",
       "    <tr>\n",
       "      <th>3</th>\n",
       "      <td>4</td>\n",
       "      <td>Closed Lost</td>\n",
       "      <td>PSO</td>\n",
       "      <td>AUG19B</td>\n",
       "      <td>0.0</td>\n",
       "      <td>0</td>\n",
       "      <td>Contractor</td>\n",
       "      <td>Bachelor's Degree</td>\n",
       "      <td>Less than one month</td>\n",
       "      <td>Getting past final round interviews</td>\n",
       "      <td>Less than one year</td>\n",
       "      <td>Citizen</td>\n",
       "      <td>5.0</td>\n",
       "      <td>25</td>\n",
       "      <td>Male</td>\n",
       "      <td>Decline to Self Identify</td>\n",
       "    </tr>\n",
       "    <tr>\n",
       "      <th>4</th>\n",
       "      <td>5</td>\n",
       "      <td>Placed</td>\n",
       "      <td>SWE</td>\n",
       "      <td>AUG19A</td>\n",
       "      <td>89.0</td>\n",
       "      <td>1</td>\n",
       "      <td>Unemployed</td>\n",
       "      <td>Bachelor's Degree</td>\n",
       "      <td>1-2 months</td>\n",
       "      <td>Hearing back on my applications</td>\n",
       "      <td>1-2 years</td>\n",
       "      <td>F1 Visa/OPT</td>\n",
       "      <td>10.0</td>\n",
       "      <td>100</td>\n",
       "      <td>Male</td>\n",
       "      <td>East Asian or Asian American</td>\n",
       "    </tr>\n",
       "  </tbody>\n",
       "</table>\n",
       "</div>"
      ],
      "text/plain": [
       "   id pathrise_status primary_track cohort_tag  program_duration_days  placed  \\\n",
       "0   1          Active           SWE     OCT19A                    NaN       0   \n",
       "1   2          Active           PSO     JAN20A                    NaN       0   \n",
       "2   3     Closed Lost        Design     AUG19B                    0.0       0   \n",
       "3   4     Closed Lost           PSO     AUG19B                    0.0       0   \n",
       "4   5          Placed           SWE     AUG19A                   89.0       1   \n",
       "\n",
       "   employment_status  highest_level_of_education length_of_job_search  \\\n",
       "0          Unemployed          Bachelor's Degree           3-5 months   \n",
       "1          Unemployed    Some College, No Degree           3-5 months   \n",
       "2  Employed Part-Time            Master's Degree  Less than one month   \n",
       "3          Contractor          Bachelor's Degree  Less than one month   \n",
       "4          Unemployed          Bachelor's Degree           1-2 months   \n",
       "\n",
       "            biggest_challenge_in_search professional_experience  \\\n",
       "0       Hearing back on my applications               3-4 years   \n",
       "1   Getting past final round interviews               1-2 years   \n",
       "2  Figuring out which jobs to apply for      Less than one year   \n",
       "3   Getting past final round interviews      Less than one year   \n",
       "4       Hearing back on my applications               1-2 years   \n",
       "\n",
       "  work_authorization_status  number_of_interviews  number_of_applications  \\\n",
       "0            Canada Citizen                   2.0                     900   \n",
       "1                   Citizen                   6.0                       0   \n",
       "2                   Citizen                   0.0                       0   \n",
       "3                   Citizen                   5.0                      25   \n",
       "4               F1 Visa/OPT                  10.0                     100   \n",
       "\n",
       "  gender                                 race  \n",
       "0   Male  Non-Hispanic White or Euro-American  \n",
       "1   Male  Non-Hispanic White or Euro-American  \n",
       "2   Male         East Asian or Asian American  \n",
       "3   Male             Decline to Self Identify  \n",
       "4   Male         East Asian or Asian American  "
      ]
     },
     "execution_count": 33,
     "metadata": {},
     "output_type": "execute_result"
    }
   ],
   "source": [
    "pathrise.head()"
   ]
  },
  {
   "cell_type": "code",
   "execution_count": 34,
   "metadata": {
    "colab": {
     "base_uri": "https://localhost:8080/"
    },
    "executionInfo": {
     "elapsed": 626,
     "status": "ok",
     "timestamp": 1619503945188,
     "user": {
      "displayName": "Yadu Sarathchandran",
      "photoUrl": "",
      "userId": "14743288125860337631"
     },
     "user_tz": 300
    },
    "id": "JrMx6i140G_S",
    "outputId": "ae3d7156-ed47-4312-b8c5-8713d9a64e78"
   },
   "outputs": [
    {
     "data": {
      "text/plain": [
       "Index(['id', 'pathrise_status', 'primary_track', 'cohort_tag',\n",
       "       'program_duration_days', 'placed', 'employment_status ',\n",
       "       'highest_level_of_education', 'length_of_job_search',\n",
       "       'biggest_challenge_in_search', 'professional_experience',\n",
       "       'work_authorization_status', 'number_of_interviews',\n",
       "       'number_of_applications', 'gender', 'race'],\n",
       "      dtype='object')"
      ]
     },
     "execution_count": 34,
     "metadata": {},
     "output_type": "execute_result"
    }
   ],
   "source": [
    "# Columns/feature names\n",
    "\n",
    "pathrise.columns"
   ]
  },
  {
   "cell_type": "code",
   "execution_count": 31,
   "metadata": {},
   "outputs": [
    {
     "data": {
      "text/plain": [
       "1-2 years             882\n",
       "Less than one year    618\n",
       "3-4 years             558\n",
       "5+ years              264\n",
       "Name: professional_experience, dtype: int64"
      ]
     },
     "execution_count": 31,
     "metadata": {},
     "output_type": "execute_result"
    }
   ],
   "source": [
    "pathrise['professional_experience'].value_counts()"
   ]
  },
  {
   "cell_type": "code",
   "execution_count": 35,
   "metadata": {
    "colab": {
     "base_uri": "https://localhost:8080/"
    },
    "executionInfo": {
     "elapsed": 661,
     "status": "ok",
     "timestamp": 1619503946572,
     "user": {
      "displayName": "Yadu Sarathchandran",
      "photoUrl": "",
      "userId": "14743288125860337631"
     },
     "user_tz": 300
    },
    "id": "4xIKFIsR5cLo",
    "outputId": "a8540d5c-1bfa-4698-d718-6001c893d923"
   },
   "outputs": [
    {
     "name": "stdout",
     "output_type": "stream",
     "text": [
      "id : 0 missing values\n",
      "pathrise_status : 0 missing values\n",
      "primary_track : 0 missing values\n",
      "cohort_tag : 8 missing values\n",
      "program_duration_days : 616 missing values\n",
      "placed : 0 missing values\n",
      "employment_status : 229 missing values\n",
      "highest_level_of_education : 58 missing values\n",
      "length_of_job_search : 74 missing values\n",
      "biggest_challenge_in_search : 24 missing values\n",
      "professional_experience : 222 missing values\n",
      "work_authorization_status : 284 missing values\n",
      "number_of_interviews : 218 missing values\n",
      "number_of_applications : 0 missing values\n",
      "gender : 492 missing values\n",
      "race : 18 missing values\n"
     ]
    }
   ],
   "source": [
    "pathrise=pathrise.rename(columns={'employment_status ': 'employment_status'});\n",
    "# Missing value counts per columns\n",
    "\n",
    "for i in pathrise.columns:\n",
    "    print(i, ':', (pathrise[i].isnull()).sum(), 'missing values')"
   ]
  },
  {
   "cell_type": "markdown",
   "metadata": {
    "id": "8nEQ27mjNP6h"
   },
   "source": [
    "Ordinal encoding for columns such as 'length_of_job_search', 'professional_experience'. Then, instead of dropping the missing values for these columns, put the median values (because of the skewness) for the encoded columns."
   ]
  },
  {
   "cell_type": "code",
   "execution_count": 885,
   "metadata": {
    "colab": {
     "base_uri": "https://localhost:8080/",
     "height": 471
    },
    "executionInfo": {
     "elapsed": 647,
     "status": "ok",
     "timestamp": 1619503948902,
     "user": {
      "displayName": "Yadu Sarathchandran",
      "photoUrl": "",
      "userId": "14743288125860337631"
     },
     "user_tz": 300
    },
    "id": "eEQ2yPFRmlA3",
    "outputId": "5b8500f6-bc99-4027-a9ca-63a04ddc2367"
   },
   "outputs": [
    {
     "data": {
      "text/html": [
       "<div>\n",
       "<style scoped>\n",
       "    .dataframe tbody tr th:only-of-type {\n",
       "        vertical-align: middle;\n",
       "    }\n",
       "\n",
       "    .dataframe tbody tr th {\n",
       "        vertical-align: top;\n",
       "    }\n",
       "\n",
       "    .dataframe thead th {\n",
       "        text-align: right;\n",
       "    }\n",
       "</style>\n",
       "<table border=\"1\" class=\"dataframe\">\n",
       "  <thead>\n",
       "    <tr style=\"text-align: right;\">\n",
       "      <th></th>\n",
       "      <th>id</th>\n",
       "      <th>pathrise_status</th>\n",
       "      <th>primary_track</th>\n",
       "      <th>cohort_tag</th>\n",
       "      <th>program_duration_days</th>\n",
       "      <th>placed</th>\n",
       "      <th>employment_status</th>\n",
       "      <th>highest_level_of_education</th>\n",
       "      <th>length_of_job_search</th>\n",
       "      <th>biggest_challenge_in_search</th>\n",
       "      <th>professional_experience</th>\n",
       "      <th>work_authorization_status</th>\n",
       "      <th>number_of_interviews</th>\n",
       "      <th>number_of_applications</th>\n",
       "      <th>gender</th>\n",
       "      <th>race</th>\n",
       "      <th>professional_experience_ord</th>\n",
       "      <th>length_of_job_search_ord</th>\n",
       "    </tr>\n",
       "  </thead>\n",
       "  <tbody>\n",
       "    <tr>\n",
       "      <th>0</th>\n",
       "      <td>1</td>\n",
       "      <td>Active</td>\n",
       "      <td>SWE</td>\n",
       "      <td>OCT19A</td>\n",
       "      <td>NaN</td>\n",
       "      <td>0</td>\n",
       "      <td>Unemployed</td>\n",
       "      <td>Bachelor's Degree</td>\n",
       "      <td>3-5 months</td>\n",
       "      <td>Hearing back on my applications</td>\n",
       "      <td>3-4 years</td>\n",
       "      <td>Canada Citizen</td>\n",
       "      <td>2.0</td>\n",
       "      <td>900</td>\n",
       "      <td>Male</td>\n",
       "      <td>Non-Hispanic White or Euro-American</td>\n",
       "      <td>3.0</td>\n",
       "      <td>3.0</td>\n",
       "    </tr>\n",
       "    <tr>\n",
       "      <th>1</th>\n",
       "      <td>2</td>\n",
       "      <td>Active</td>\n",
       "      <td>PSO</td>\n",
       "      <td>JAN20A</td>\n",
       "      <td>NaN</td>\n",
       "      <td>0</td>\n",
       "      <td>Unemployed</td>\n",
       "      <td>Some College, No Degree</td>\n",
       "      <td>3-5 months</td>\n",
       "      <td>Getting past final round interviews</td>\n",
       "      <td>1-2 years</td>\n",
       "      <td>Citizen</td>\n",
       "      <td>6.0</td>\n",
       "      <td>0</td>\n",
       "      <td>Male</td>\n",
       "      <td>Non-Hispanic White or Euro-American</td>\n",
       "      <td>2.0</td>\n",
       "      <td>3.0</td>\n",
       "    </tr>\n",
       "    <tr>\n",
       "      <th>2</th>\n",
       "      <td>3</td>\n",
       "      <td>Closed Lost</td>\n",
       "      <td>Design</td>\n",
       "      <td>AUG19B</td>\n",
       "      <td>0.0</td>\n",
       "      <td>0</td>\n",
       "      <td>Employed Part-Time</td>\n",
       "      <td>Master's Degree</td>\n",
       "      <td>Less than one month</td>\n",
       "      <td>Figuring out which jobs to apply for</td>\n",
       "      <td>Less than one year</td>\n",
       "      <td>Citizen</td>\n",
       "      <td>0.0</td>\n",
       "      <td>0</td>\n",
       "      <td>Male</td>\n",
       "      <td>East Asian or Asian American</td>\n",
       "      <td>1.0</td>\n",
       "      <td>1.0</td>\n",
       "    </tr>\n",
       "    <tr>\n",
       "      <th>3</th>\n",
       "      <td>4</td>\n",
       "      <td>Closed Lost</td>\n",
       "      <td>PSO</td>\n",
       "      <td>AUG19B</td>\n",
       "      <td>0.0</td>\n",
       "      <td>0</td>\n",
       "      <td>Contractor</td>\n",
       "      <td>Bachelor's Degree</td>\n",
       "      <td>Less than one month</td>\n",
       "      <td>Getting past final round interviews</td>\n",
       "      <td>Less than one year</td>\n",
       "      <td>Citizen</td>\n",
       "      <td>5.0</td>\n",
       "      <td>25</td>\n",
       "      <td>Male</td>\n",
       "      <td>Decline to Self Identify</td>\n",
       "      <td>1.0</td>\n",
       "      <td>1.0</td>\n",
       "    </tr>\n",
       "    <tr>\n",
       "      <th>4</th>\n",
       "      <td>5</td>\n",
       "      <td>Placed</td>\n",
       "      <td>SWE</td>\n",
       "      <td>AUG19A</td>\n",
       "      <td>89.0</td>\n",
       "      <td>1</td>\n",
       "      <td>Unemployed</td>\n",
       "      <td>Bachelor's Degree</td>\n",
       "      <td>1-2 months</td>\n",
       "      <td>Hearing back on my applications</td>\n",
       "      <td>1-2 years</td>\n",
       "      <td>F1 Visa/OPT</td>\n",
       "      <td>10.0</td>\n",
       "      <td>100</td>\n",
       "      <td>Male</td>\n",
       "      <td>East Asian or Asian American</td>\n",
       "      <td>2.0</td>\n",
       "      <td>2.0</td>\n",
       "    </tr>\n",
       "  </tbody>\n",
       "</table>\n",
       "</div>"
      ],
      "text/plain": [
       "   id pathrise_status  ... professional_experience_ord length_of_job_search_ord\n",
       "0   1          Active  ...                         3.0                      3.0\n",
       "1   2          Active  ...                         2.0                      3.0\n",
       "2   3     Closed Lost  ...                         1.0                      1.0\n",
       "3   4     Closed Lost  ...                         1.0                      1.0\n",
       "4   5          Placed  ...                         2.0                      2.0\n",
       "\n",
       "[5 rows x 18 columns]"
      ]
     },
     "execution_count": 885,
     "metadata": {
      "tags": []
     },
     "output_type": "execute_result"
    }
   ],
   "source": [
    "## Did ordinal categorical to numerical categorical by 'find and replace'.\n",
    "#\n",
    "#cleanup_cols = {'professional_experience_ord':{'Less than one year': 1, '1-2 years': 2, '3-4 years': 3, '5+ years': 5},\n",
    "#                'length_of_job_search_ord':{'Less than one month': 1, '1-2 months': 2, '3-5 months': 3, '6 months to a year': 4, 'Over a year': 5}}      \n",
    "#pathrise['professional_experience_ord']=pathrise['professional_experience']\n",
    "#pathrise['length_of_job_search_ord']=pathrise['length_of_job_search']\n",
    "#pathrise = pathrise.replace(cleanup_cols)\n",
    "#\n",
    "## Used the median to fill the missing values for those two columns.\n",
    "#\n",
    "#pathrise['professional_experience_ord']=pathrise['professional_experience_ord'].fillna(pathrise['professional_experience_ord'].median())\n",
    "#pathrise['length_of_job_search_ord']=pathrise['length_of_job_search_ord'].fillna(pathrise['length_of_job_search_ord'].median())\n",
    "#pathrise.head()"
   ]
  },
  {
   "cell_type": "code",
   "execution_count": 36,
   "metadata": {
    "colab": {
     "base_uri": "https://localhost:8080/",
     "height": 306
    },
    "executionInfo": {
     "elapsed": 791,
     "status": "ok",
     "timestamp": 1619503950223,
     "user": {
      "displayName": "Yadu Sarathchandran",
      "photoUrl": "",
      "userId": "14743288125860337631"
     },
     "user_tz": 300
    },
    "id": "61AgxMu8I_gL",
    "outputId": "e67954c6-6747-4add-cc61-388facdf920b"
   },
   "outputs": [
    {
     "data": {
      "text/html": [
       "<div>\n",
       "<style scoped>\n",
       "    .dataframe tbody tr th:only-of-type {\n",
       "        vertical-align: middle;\n",
       "    }\n",
       "\n",
       "    .dataframe tbody tr th {\n",
       "        vertical-align: top;\n",
       "    }\n",
       "\n",
       "    .dataframe thead th {\n",
       "        text-align: right;\n",
       "    }\n",
       "</style>\n",
       "<table border=\"1\" class=\"dataframe\">\n",
       "  <thead>\n",
       "    <tr style=\"text-align: right;\">\n",
       "      <th></th>\n",
       "      <th>id</th>\n",
       "      <th>program_duration_days</th>\n",
       "      <th>placed</th>\n",
       "      <th>number_of_interviews</th>\n",
       "      <th>number_of_applications</th>\n",
       "    </tr>\n",
       "  </thead>\n",
       "  <tbody>\n",
       "    <tr>\n",
       "      <th>count</th>\n",
       "      <td>2544.000000</td>\n",
       "      <td>1928.000000</td>\n",
       "      <td>2544.000000</td>\n",
       "      <td>2326.000000</td>\n",
       "      <td>2544.000000</td>\n",
       "    </tr>\n",
       "    <tr>\n",
       "      <th>mean</th>\n",
       "      <td>1272.500000</td>\n",
       "      <td>136.098548</td>\n",
       "      <td>0.375786</td>\n",
       "      <td>2.182287</td>\n",
       "      <td>36.500786</td>\n",
       "    </tr>\n",
       "    <tr>\n",
       "      <th>std</th>\n",
       "      <td>734.533866</td>\n",
       "      <td>125.860248</td>\n",
       "      <td>0.484420</td>\n",
       "      <td>2.959273</td>\n",
       "      <td>53.654896</td>\n",
       "    </tr>\n",
       "    <tr>\n",
       "      <th>min</th>\n",
       "      <td>1.000000</td>\n",
       "      <td>0.000000</td>\n",
       "      <td>0.000000</td>\n",
       "      <td>0.000000</td>\n",
       "      <td>0.000000</td>\n",
       "    </tr>\n",
       "    <tr>\n",
       "      <th>25%</th>\n",
       "      <td>636.750000</td>\n",
       "      <td>14.000000</td>\n",
       "      <td>0.000000</td>\n",
       "      <td>0.000000</td>\n",
       "      <td>9.000000</td>\n",
       "    </tr>\n",
       "    <tr>\n",
       "      <th>50%</th>\n",
       "      <td>1272.500000</td>\n",
       "      <td>112.000000</td>\n",
       "      <td>0.000000</td>\n",
       "      <td>1.000000</td>\n",
       "      <td>20.000000</td>\n",
       "    </tr>\n",
       "    <tr>\n",
       "      <th>75%</th>\n",
       "      <td>1908.250000</td>\n",
       "      <td>224.000000</td>\n",
       "      <td>1.000000</td>\n",
       "      <td>3.000000</td>\n",
       "      <td>45.000000</td>\n",
       "    </tr>\n",
       "    <tr>\n",
       "      <th>95%</th>\n",
       "      <td>2416.850000</td>\n",
       "      <td>348.950000</td>\n",
       "      <td>1.000000</td>\n",
       "      <td>7.000000</td>\n",
       "      <td>130.000000</td>\n",
       "    </tr>\n",
       "    <tr>\n",
       "      <th>max</th>\n",
       "      <td>2544.000000</td>\n",
       "      <td>548.000000</td>\n",
       "      <td>1.000000</td>\n",
       "      <td>20.000000</td>\n",
       "      <td>1000.000000</td>\n",
       "    </tr>\n",
       "  </tbody>\n",
       "</table>\n",
       "</div>"
      ],
      "text/plain": [
       "                id  program_duration_days       placed  number_of_interviews  \\\n",
       "count  2544.000000            1928.000000  2544.000000           2326.000000   \n",
       "mean   1272.500000             136.098548     0.375786              2.182287   \n",
       "std     734.533866             125.860248     0.484420              2.959273   \n",
       "min       1.000000               0.000000     0.000000              0.000000   \n",
       "25%     636.750000              14.000000     0.000000              0.000000   \n",
       "50%    1272.500000             112.000000     0.000000              1.000000   \n",
       "75%    1908.250000             224.000000     1.000000              3.000000   \n",
       "95%    2416.850000             348.950000     1.000000              7.000000   \n",
       "max    2544.000000             548.000000     1.000000             20.000000   \n",
       "\n",
       "       number_of_applications  \n",
       "count             2544.000000  \n",
       "mean                36.500786  \n",
       "std                 53.654896  \n",
       "min                  0.000000  \n",
       "25%                  9.000000  \n",
       "50%                 20.000000  \n",
       "75%                 45.000000  \n",
       "95%                130.000000  \n",
       "max               1000.000000  "
      ]
     },
     "execution_count": 36,
     "metadata": {},
     "output_type": "execute_result"
    }
   ],
   "source": [
    "pathrise.describe(percentiles=[.25, .5, .75, .95])"
   ]
  },
  {
   "cell_type": "code",
   "execution_count": 887,
   "metadata": {
    "colab": {
     "base_uri": "https://localhost:8080/"
    },
    "executionInfo": {
     "elapsed": 603,
     "status": "ok",
     "timestamp": 1619503951550,
     "user": {
      "displayName": "Yadu Sarathchandran",
      "photoUrl": "",
      "userId": "14743288125860337631"
     },
     "user_tz": 300
    },
    "id": "Xw-Ekh9o8-Ts",
    "outputId": "7723d61f-5388-4f14-a2b0-5ff0761070ae"
   },
   "outputs": [
    {
     "name": "stdout",
     "output_type": "stream",
     "text": [
      "Before removing missing values, shape: (2438, 13)\n",
      "After removing missing values, shape: (1418, 13)\n"
     ]
    }
   ],
   "source": [
    "# Removing the outliers in 'number_of_applications': 400 and 1000 applications are way above 95%.\n",
    "\n",
    "pathrise=pathrise[pathrise['number_of_applications']<150] \n",
    "\n",
    "pathrise_first=pathrise.drop(columns=['id', 'program_duration_days', 'cohort_tag', 'professional_experience', 'length_of_job_search']) # race and gender are dropped later before training\n",
    "print('Before removing missing values, shape:', pathrise_first.shape)\n",
    "\n",
    "pathrise_first.dropna(inplace=True)\n",
    "print('After removing missing values, shape:', pathrise_first.shape)"
   ]
  },
  {
   "cell_type": "code",
   "execution_count": 888,
   "metadata": {
    "colab": {
     "base_uri": "https://localhost:8080/"
    },
    "executionInfo": {
     "elapsed": 652,
     "status": "ok",
     "timestamp": 1619503953091,
     "user": {
      "displayName": "Yadu Sarathchandran",
      "photoUrl": "",
      "userId": "14743288125860337631"
     },
     "user_tz": 300
    },
    "id": "GwIEoe5KhfhL",
    "outputId": "4d5eab1d-155d-40af-c0f8-7068be09e9d2"
   },
   "outputs": [
    {
     "name": "stdout",
     "output_type": "stream",
     "text": [
      "pathrise_status : 0 missing values\n",
      "primary_track : 0 missing values\n",
      "placed : 0 missing values\n",
      "employment_status : 0 missing values\n",
      "highest_level_of_education : 0 missing values\n",
      "biggest_challenge_in_search : 0 missing values\n",
      "work_authorization_status : 0 missing values\n",
      "number_of_interviews : 0 missing values\n",
      "number_of_applications : 0 missing values\n",
      "gender : 0 missing values\n",
      "race : 0 missing values\n",
      "professional_experience_ord : 0 missing values\n",
      "length_of_job_search_ord : 0 missing values\n"
     ]
    }
   ],
   "source": [
    "# Missing value counts per columns\n",
    "\n",
    "for i in pathrise_first.columns:\n",
    "    print(i, ':', (pathrise_first[i].isnull()).sum(), 'missing values')"
   ]
  },
  {
   "cell_type": "markdown",
   "metadata": {
    "id": "SlFw6sKeB03E"
   },
   "source": [
    "### We split the data only to look at the training data to see the patterns using crosstab and visaulizations.\n",
    "\n",
    "\n",
    "Later, after encoding the variables, we split the data to the testing and training datasets to be used for our classifier."
   ]
  },
  {
   "cell_type": "code",
   "execution_count": 889,
   "metadata": {
    "executionInfo": {
     "elapsed": 669,
     "status": "ok",
     "timestamp": 1619503956500,
     "user": {
      "displayName": "Yadu Sarathchandran",
      "photoUrl": "",
      "userId": "14743288125860337631"
     },
     "user_tz": 300
    },
    "id": "Fx1qbdRJ0fKi"
   },
   "outputs": [],
   "source": [
    "pathrise_test=pathrise_first[(pathrise_first['pathrise_status']=='Active') | (pathrise_first['pathrise_status']=='Break')]\n",
    "pathrise_train=pathrise_first[(pathrise_first['pathrise_status']!='Active') & (pathrise_first['pathrise_status']!='Break')]"
   ]
  },
  {
   "cell_type": "code",
   "execution_count": 890,
   "metadata": {
    "colab": {
     "base_uri": "https://localhost:8080/",
     "height": 406
    },
    "executionInfo": {
     "elapsed": 621,
     "status": "ok",
     "timestamp": 1619503959249,
     "user": {
      "displayName": "Yadu Sarathchandran",
      "photoUrl": "",
      "userId": "14743288125860337631"
     },
     "user_tz": 300
    },
    "id": "oQ5m74Y2eTmw",
    "outputId": "37cac3d5-b7b4-486d-98e4-2916e91cb127"
   },
   "outputs": [
    {
     "data": {
      "text/html": [
       "<div>\n",
       "<style scoped>\n",
       "    .dataframe tbody tr th:only-of-type {\n",
       "        vertical-align: middle;\n",
       "    }\n",
       "\n",
       "    .dataframe tbody tr th {\n",
       "        vertical-align: top;\n",
       "    }\n",
       "\n",
       "    .dataframe thead th {\n",
       "        text-align: right;\n",
       "    }\n",
       "</style>\n",
       "<table border=\"1\" class=\"dataframe\">\n",
       "  <thead>\n",
       "    <tr style=\"text-align: right;\">\n",
       "      <th></th>\n",
       "      <th>pathrise_status</th>\n",
       "      <th>primary_track</th>\n",
       "      <th>placed</th>\n",
       "      <th>employment_status</th>\n",
       "      <th>highest_level_of_education</th>\n",
       "      <th>biggest_challenge_in_search</th>\n",
       "      <th>work_authorization_status</th>\n",
       "      <th>number_of_interviews</th>\n",
       "      <th>number_of_applications</th>\n",
       "      <th>gender</th>\n",
       "      <th>race</th>\n",
       "      <th>professional_experience_ord</th>\n",
       "      <th>length_of_job_search_ord</th>\n",
       "    </tr>\n",
       "  </thead>\n",
       "  <tbody>\n",
       "    <tr>\n",
       "      <th>2</th>\n",
       "      <td>Closed Lost</td>\n",
       "      <td>Design</td>\n",
       "      <td>0</td>\n",
       "      <td>Employed Part-Time</td>\n",
       "      <td>Master's Degree</td>\n",
       "      <td>Figuring out which jobs to apply for</td>\n",
       "      <td>Citizen</td>\n",
       "      <td>0.0</td>\n",
       "      <td>0</td>\n",
       "      <td>Male</td>\n",
       "      <td>East Asian or Asian American</td>\n",
       "      <td>1.0</td>\n",
       "      <td>1.0</td>\n",
       "    </tr>\n",
       "    <tr>\n",
       "      <th>3</th>\n",
       "      <td>Closed Lost</td>\n",
       "      <td>PSO</td>\n",
       "      <td>0</td>\n",
       "      <td>Contractor</td>\n",
       "      <td>Bachelor's Degree</td>\n",
       "      <td>Getting past final round interviews</td>\n",
       "      <td>Citizen</td>\n",
       "      <td>5.0</td>\n",
       "      <td>25</td>\n",
       "      <td>Male</td>\n",
       "      <td>Decline to Self Identify</td>\n",
       "      <td>1.0</td>\n",
       "      <td>1.0</td>\n",
       "    </tr>\n",
       "    <tr>\n",
       "      <th>4</th>\n",
       "      <td>Placed</td>\n",
       "      <td>SWE</td>\n",
       "      <td>1</td>\n",
       "      <td>Unemployed</td>\n",
       "      <td>Bachelor's Degree</td>\n",
       "      <td>Hearing back on my applications</td>\n",
       "      <td>F1 Visa/OPT</td>\n",
       "      <td>10.0</td>\n",
       "      <td>100</td>\n",
       "      <td>Male</td>\n",
       "      <td>East Asian or Asian American</td>\n",
       "      <td>2.0</td>\n",
       "      <td>2.0</td>\n",
       "    </tr>\n",
       "    <tr>\n",
       "      <th>5</th>\n",
       "      <td>Closed Lost</td>\n",
       "      <td>SWE</td>\n",
       "      <td>0</td>\n",
       "      <td>Employed Full-Time</td>\n",
       "      <td>Master's Degree</td>\n",
       "      <td>Technical interviewing</td>\n",
       "      <td>Green Card</td>\n",
       "      <td>5.0</td>\n",
       "      <td>100</td>\n",
       "      <td>Male</td>\n",
       "      <td>East Asian or Asian American</td>\n",
       "      <td>3.0</td>\n",
       "      <td>2.0</td>\n",
       "    </tr>\n",
       "    <tr>\n",
       "      <th>6</th>\n",
       "      <td>Closed Lost</td>\n",
       "      <td>SWE</td>\n",
       "      <td>0</td>\n",
       "      <td>Employed Full-Time</td>\n",
       "      <td>Master's Degree</td>\n",
       "      <td>Getting past phone screens</td>\n",
       "      <td>Green Card</td>\n",
       "      <td>0.0</td>\n",
       "      <td>9</td>\n",
       "      <td>Male</td>\n",
       "      <td>Black, Afro-Caribbean, or African American</td>\n",
       "      <td>3.0</td>\n",
       "      <td>1.0</td>\n",
       "    </tr>\n",
       "  </tbody>\n",
       "</table>\n",
       "</div>"
      ],
      "text/plain": [
       "  pathrise_status  ... length_of_job_search_ord\n",
       "2     Closed Lost  ...                      1.0\n",
       "3     Closed Lost  ...                      1.0\n",
       "4          Placed  ...                      2.0\n",
       "5     Closed Lost  ...                      2.0\n",
       "6     Closed Lost  ...                      1.0\n",
       "\n",
       "[5 rows x 13 columns]"
      ]
     },
     "execution_count": 890,
     "metadata": {
      "tags": []
     },
     "output_type": "execute_result"
    }
   ],
   "source": [
    "pathrise_train.head()"
   ]
  },
  {
   "cell_type": "code",
   "execution_count": 891,
   "metadata": {
    "colab": {
     "base_uri": "https://localhost:8080/",
     "height": 306
    },
    "executionInfo": {
     "elapsed": 606,
     "status": "ok",
     "timestamp": 1619503961086,
     "user": {
      "displayName": "Yadu Sarathchandran",
      "photoUrl": "",
      "userId": "14743288125860337631"
     },
     "user_tz": 300
    },
    "id": "xLLgVRir3qDF",
    "outputId": "20cc04c5-3648-4e68-b33e-89b9e3f1782a"
   },
   "outputs": [
    {
     "data": {
      "text/html": [
       "<div>\n",
       "<style scoped>\n",
       "    .dataframe tbody tr th:only-of-type {\n",
       "        vertical-align: middle;\n",
       "    }\n",
       "\n",
       "    .dataframe tbody tr th {\n",
       "        vertical-align: top;\n",
       "    }\n",
       "\n",
       "    .dataframe thead th {\n",
       "        text-align: right;\n",
       "    }\n",
       "</style>\n",
       "<table border=\"1\" class=\"dataframe\">\n",
       "  <thead>\n",
       "    <tr style=\"text-align: right;\">\n",
       "      <th></th>\n",
       "      <th>placed</th>\n",
       "      <th>number_of_interviews</th>\n",
       "      <th>number_of_applications</th>\n",
       "      <th>professional_experience_ord</th>\n",
       "      <th>length_of_job_search_ord</th>\n",
       "    </tr>\n",
       "  </thead>\n",
       "  <tbody>\n",
       "    <tr>\n",
       "      <th>count</th>\n",
       "      <td>525.0</td>\n",
       "      <td>525.000000</td>\n",
       "      <td>525.000000</td>\n",
       "      <td>525.000000</td>\n",
       "      <td>525.000000</td>\n",
       "    </tr>\n",
       "    <tr>\n",
       "      <th>mean</th>\n",
       "      <td>1.0</td>\n",
       "      <td>2.201905</td>\n",
       "      <td>29.114286</td>\n",
       "      <td>2.295238</td>\n",
       "      <td>2.175238</td>\n",
       "    </tr>\n",
       "    <tr>\n",
       "      <th>std</th>\n",
       "      <td>0.0</td>\n",
       "      <td>2.997645</td>\n",
       "      <td>28.004537</td>\n",
       "      <td>1.189360</td>\n",
       "      <td>1.130661</td>\n",
       "    </tr>\n",
       "    <tr>\n",
       "      <th>min</th>\n",
       "      <td>1.0</td>\n",
       "      <td>0.000000</td>\n",
       "      <td>0.000000</td>\n",
       "      <td>1.000000</td>\n",
       "      <td>1.000000</td>\n",
       "    </tr>\n",
       "    <tr>\n",
       "      <th>25%</th>\n",
       "      <td>1.0</td>\n",
       "      <td>0.000000</td>\n",
       "      <td>8.000000</td>\n",
       "      <td>1.000000</td>\n",
       "      <td>1.000000</td>\n",
       "    </tr>\n",
       "    <tr>\n",
       "      <th>50%</th>\n",
       "      <td>1.0</td>\n",
       "      <td>1.000000</td>\n",
       "      <td>20.000000</td>\n",
       "      <td>2.000000</td>\n",
       "      <td>2.000000</td>\n",
       "    </tr>\n",
       "    <tr>\n",
       "      <th>75%</th>\n",
       "      <td>1.0</td>\n",
       "      <td>3.000000</td>\n",
       "      <td>45.000000</td>\n",
       "      <td>3.000000</td>\n",
       "      <td>3.000000</td>\n",
       "    </tr>\n",
       "    <tr>\n",
       "      <th>95%</th>\n",
       "      <td>1.0</td>\n",
       "      <td>7.000000</td>\n",
       "      <td>90.000000</td>\n",
       "      <td>5.000000</td>\n",
       "      <td>4.000000</td>\n",
       "    </tr>\n",
       "    <tr>\n",
       "      <th>max</th>\n",
       "      <td>1.0</td>\n",
       "      <td>20.000000</td>\n",
       "      <td>140.000000</td>\n",
       "      <td>5.000000</td>\n",
       "      <td>5.000000</td>\n",
       "    </tr>\n",
       "  </tbody>\n",
       "</table>\n",
       "</div>"
      ],
      "text/plain": [
       "       placed  ...  length_of_job_search_ord\n",
       "count   525.0  ...                525.000000\n",
       "mean      1.0  ...                  2.175238\n",
       "std       0.0  ...                  1.130661\n",
       "min       1.0  ...                  1.000000\n",
       "25%       1.0  ...                  1.000000\n",
       "50%       1.0  ...                  2.000000\n",
       "75%       1.0  ...                  3.000000\n",
       "95%       1.0  ...                  4.000000\n",
       "max       1.0  ...                  5.000000\n",
       "\n",
       "[9 rows x 5 columns]"
      ]
     },
     "execution_count": 891,
     "metadata": {
      "tags": []
     },
     "output_type": "execute_result"
    }
   ],
   "source": [
    "# We look specifically at the 'placed' and 'not placed' datframes to see the behavior.\n",
    "\n",
    "pathrise_placed=pathrise_train[pathrise_train['placed']==1]\n",
    "pathrise_placed.describe(percentiles=[.25, .5, .75, .95])"
   ]
  },
  {
   "cell_type": "code",
   "execution_count": 892,
   "metadata": {
    "colab": {
     "base_uri": "https://localhost:8080/",
     "height": 306
    },
    "executionInfo": {
     "elapsed": 759,
     "status": "ok",
     "timestamp": 1619503962888,
     "user": {
      "displayName": "Yadu Sarathchandran",
      "photoUrl": "",
      "userId": "14743288125860337631"
     },
     "user_tz": 300
    },
    "id": "x74c-n_LFYoD",
    "outputId": "1f233880-4ace-4c8e-e0e5-313086b9295f"
   },
   "outputs": [
    {
     "data": {
      "text/html": [
       "<div>\n",
       "<style scoped>\n",
       "    .dataframe tbody tr th:only-of-type {\n",
       "        vertical-align: middle;\n",
       "    }\n",
       "\n",
       "    .dataframe tbody tr th {\n",
       "        vertical-align: top;\n",
       "    }\n",
       "\n",
       "    .dataframe thead th {\n",
       "        text-align: right;\n",
       "    }\n",
       "</style>\n",
       "<table border=\"1\" class=\"dataframe\">\n",
       "  <thead>\n",
       "    <tr style=\"text-align: right;\">\n",
       "      <th></th>\n",
       "      <th>placed</th>\n",
       "      <th>number_of_interviews</th>\n",
       "      <th>number_of_applications</th>\n",
       "      <th>professional_experience_ord</th>\n",
       "      <th>length_of_job_search_ord</th>\n",
       "    </tr>\n",
       "  </thead>\n",
       "  <tbody>\n",
       "    <tr>\n",
       "      <th>count</th>\n",
       "      <td>561.0</td>\n",
       "      <td>561.000000</td>\n",
       "      <td>561.000000</td>\n",
       "      <td>561.000000</td>\n",
       "      <td>561.000000</td>\n",
       "    </tr>\n",
       "    <tr>\n",
       "      <th>mean</th>\n",
       "      <td>0.0</td>\n",
       "      <td>2.163993</td>\n",
       "      <td>29.340463</td>\n",
       "      <td>2.270945</td>\n",
       "      <td>2.144385</td>\n",
       "    </tr>\n",
       "    <tr>\n",
       "      <th>std</th>\n",
       "      <td>0.0</td>\n",
       "      <td>2.872565</td>\n",
       "      <td>28.122562</td>\n",
       "      <td>1.126639</td>\n",
       "      <td>1.114278</td>\n",
       "    </tr>\n",
       "    <tr>\n",
       "      <th>min</th>\n",
       "      <td>0.0</td>\n",
       "      <td>0.000000</td>\n",
       "      <td>0.000000</td>\n",
       "      <td>1.000000</td>\n",
       "      <td>1.000000</td>\n",
       "    </tr>\n",
       "    <tr>\n",
       "      <th>25%</th>\n",
       "      <td>0.0</td>\n",
       "      <td>0.000000</td>\n",
       "      <td>9.000000</td>\n",
       "      <td>2.000000</td>\n",
       "      <td>1.000000</td>\n",
       "    </tr>\n",
       "    <tr>\n",
       "      <th>50%</th>\n",
       "      <td>0.0</td>\n",
       "      <td>1.000000</td>\n",
       "      <td>20.000000</td>\n",
       "      <td>2.000000</td>\n",
       "      <td>2.000000</td>\n",
       "    </tr>\n",
       "    <tr>\n",
       "      <th>75%</th>\n",
       "      <td>0.0</td>\n",
       "      <td>3.000000</td>\n",
       "      <td>45.000000</td>\n",
       "      <td>3.000000</td>\n",
       "      <td>3.000000</td>\n",
       "    </tr>\n",
       "    <tr>\n",
       "      <th>95%</th>\n",
       "      <td>0.0</td>\n",
       "      <td>7.000000</td>\n",
       "      <td>80.000000</td>\n",
       "      <td>5.000000</td>\n",
       "      <td>4.000000</td>\n",
       "    </tr>\n",
       "    <tr>\n",
       "      <th>max</th>\n",
       "      <td>0.0</td>\n",
       "      <td>20.000000</td>\n",
       "      <td>140.000000</td>\n",
       "      <td>5.000000</td>\n",
       "      <td>5.000000</td>\n",
       "    </tr>\n",
       "  </tbody>\n",
       "</table>\n",
       "</div>"
      ],
      "text/plain": [
       "       placed  ...  length_of_job_search_ord\n",
       "count   561.0  ...                561.000000\n",
       "mean      0.0  ...                  2.144385\n",
       "std       0.0  ...                  1.114278\n",
       "min       0.0  ...                  1.000000\n",
       "25%       0.0  ...                  1.000000\n",
       "50%       0.0  ...                  2.000000\n",
       "75%       0.0  ...                  3.000000\n",
       "95%       0.0  ...                  4.000000\n",
       "max       0.0  ...                  5.000000\n",
       "\n",
       "[9 rows x 5 columns]"
      ]
     },
     "execution_count": 892,
     "metadata": {
      "tags": []
     },
     "output_type": "execute_result"
    }
   ],
   "source": [
    "pathrise_notplaced=pathrise_train[pathrise_train['placed']==0]\n",
    "pathrise_notplaced.describe(percentiles=[.25, .5, .75, .95])"
   ]
  },
  {
   "cell_type": "code",
   "execution_count": 893,
   "metadata": {
    "colab": {
     "base_uri": "https://localhost:8080/",
     "height": 277
    },
    "executionInfo": {
     "elapsed": 799,
     "status": "ok",
     "timestamp": 1619503964784,
     "user": {
      "displayName": "Yadu Sarathchandran",
      "photoUrl": "",
      "userId": "14743288125860337631"
     },
     "user_tz": 300
    },
    "id": "KLOLB-Ps1IU9",
    "outputId": "362038ea-439a-4631-8aa3-41cce428516f"
   },
   "outputs": [
    {
     "data": {
      "text/html": [
       "<div>\n",
       "<style scoped>\n",
       "    .dataframe tbody tr th:only-of-type {\n",
       "        vertical-align: middle;\n",
       "    }\n",
       "\n",
       "    .dataframe tbody tr th {\n",
       "        vertical-align: top;\n",
       "    }\n",
       "\n",
       "    .dataframe thead th {\n",
       "        text-align: right;\n",
       "    }\n",
       "</style>\n",
       "<table border=\"1\" class=\"dataframe\">\n",
       "  <thead>\n",
       "    <tr style=\"text-align: right;\">\n",
       "      <th>placed</th>\n",
       "      <th>0</th>\n",
       "      <th>1</th>\n",
       "    </tr>\n",
       "    <tr>\n",
       "      <th>highest_level_of_education</th>\n",
       "      <th></th>\n",
       "      <th></th>\n",
       "    </tr>\n",
       "  </thead>\n",
       "  <tbody>\n",
       "    <tr>\n",
       "      <th>Bachelor's Degree</th>\n",
       "      <td>313</td>\n",
       "      <td>300</td>\n",
       "    </tr>\n",
       "    <tr>\n",
       "      <th>Doctorate or Professional Degree</th>\n",
       "      <td>23</td>\n",
       "      <td>28</td>\n",
       "    </tr>\n",
       "    <tr>\n",
       "      <th>GED or equivalent</th>\n",
       "      <td>4</td>\n",
       "      <td>1</td>\n",
       "    </tr>\n",
       "    <tr>\n",
       "      <th>High School Graduate</th>\n",
       "      <td>1</td>\n",
       "      <td>5</td>\n",
       "    </tr>\n",
       "    <tr>\n",
       "      <th>Master's Degree</th>\n",
       "      <td>188</td>\n",
       "      <td>158</td>\n",
       "    </tr>\n",
       "    <tr>\n",
       "      <th>Some College, No Degree</th>\n",
       "      <td>30</td>\n",
       "      <td>31</td>\n",
       "    </tr>\n",
       "    <tr>\n",
       "      <th>Some High School</th>\n",
       "      <td>2</td>\n",
       "      <td>2</td>\n",
       "    </tr>\n",
       "  </tbody>\n",
       "</table>\n",
       "</div>"
      ],
      "text/plain": [
       "placed                              0    1\n",
       "highest_level_of_education                \n",
       "Bachelor's Degree                 313  300\n",
       "Doctorate or Professional Degree   23   28\n",
       "GED or equivalent                   4    1\n",
       "High School Graduate                1    5\n",
       "Master's Degree                   188  158\n",
       "Some College, No Degree            30   31\n",
       "Some High School                    2    2"
      ]
     },
     "execution_count": 893,
     "metadata": {
      "tags": []
     },
     "output_type": "execute_result"
    }
   ],
   "source": [
    "pd.crosstab(pathrise_train.highest_level_of_education, pathrise_train.placed)\n",
    "\n",
    "# High-school graduates dominate! GED or equivalent underperforms, however sample size is lower.\n",
    "# Doctorate candidates perform well, bachelor's and master's degree are 50/50"
   ]
  },
  {
   "cell_type": "code",
   "execution_count": 894,
   "metadata": {
    "colab": {
     "base_uri": "https://localhost:8080/",
     "height": 220
    },
    "executionInfo": {
     "elapsed": 701,
     "status": "ok",
     "timestamp": 1619503966606,
     "user": {
      "displayName": "Yadu Sarathchandran",
      "photoUrl": "",
      "userId": "14743288125860337631"
     },
     "user_tz": 300
    },
    "id": "3hzWlyAW6N7Q",
    "outputId": "cb57686e-6412-4ba3-d71c-075a65e71f32"
   },
   "outputs": [
    {
     "data": {
      "text/html": [
       "<div>\n",
       "<style scoped>\n",
       "    .dataframe tbody tr th:only-of-type {\n",
       "        vertical-align: middle;\n",
       "    }\n",
       "\n",
       "    .dataframe tbody tr th {\n",
       "        vertical-align: top;\n",
       "    }\n",
       "\n",
       "    .dataframe thead th {\n",
       "        text-align: right;\n",
       "    }\n",
       "</style>\n",
       "<table border=\"1\" class=\"dataframe\">\n",
       "  <thead>\n",
       "    <tr style=\"text-align: right;\">\n",
       "      <th>placed</th>\n",
       "      <th>0</th>\n",
       "      <th>1</th>\n",
       "    </tr>\n",
       "    <tr>\n",
       "      <th>length_of_job_search_ord</th>\n",
       "      <th></th>\n",
       "      <th></th>\n",
       "    </tr>\n",
       "  </thead>\n",
       "  <tbody>\n",
       "    <tr>\n",
       "      <th>1.0</th>\n",
       "      <td>0.534435</td>\n",
       "      <td>0.465565</td>\n",
       "    </tr>\n",
       "    <tr>\n",
       "      <th>2.0</th>\n",
       "      <td>0.488312</td>\n",
       "      <td>0.511688</td>\n",
       "    </tr>\n",
       "    <tr>\n",
       "      <th>3.0</th>\n",
       "      <td>0.560847</td>\n",
       "      <td>0.439153</td>\n",
       "    </tr>\n",
       "    <tr>\n",
       "      <th>4.0</th>\n",
       "      <td>0.500000</td>\n",
       "      <td>0.500000</td>\n",
       "    </tr>\n",
       "    <tr>\n",
       "      <th>5.0</th>\n",
       "      <td>0.469388</td>\n",
       "      <td>0.530612</td>\n",
       "    </tr>\n",
       "  </tbody>\n",
       "</table>\n",
       "</div>"
      ],
      "text/plain": [
       "placed                           0         1\n",
       "length_of_job_search_ord                    \n",
       "1.0                       0.534435  0.465565\n",
       "2.0                       0.488312  0.511688\n",
       "3.0                       0.560847  0.439153\n",
       "4.0                       0.500000  0.500000\n",
       "5.0                       0.469388  0.530612"
      ]
     },
     "execution_count": 894,
     "metadata": {
      "tags": []
     },
     "output_type": "execute_result"
    }
   ],
   "source": [
    "pd.crosstab(pathrise_train.length_of_job_search_ord, pathrise_train.placed, normalize='index')"
   ]
  },
  {
   "cell_type": "code",
   "execution_count": 895,
   "metadata": {
    "colab": {
     "base_uri": "https://localhost:8080/",
     "height": 220
    },
    "executionInfo": {
     "elapsed": 795,
     "status": "ok",
     "timestamp": 1619503967946,
     "user": {
      "displayName": "Yadu Sarathchandran",
      "photoUrl": "",
      "userId": "14743288125860337631"
     },
     "user_tz": 300
    },
    "id": "Dk8urKR11p1S",
    "outputId": "a3584450-ebf1-40ce-f0c4-78fa7aad8c7c"
   },
   "outputs": [
    {
     "data": {
      "text/html": [
       "<div>\n",
       "<style scoped>\n",
       "    .dataframe tbody tr th:only-of-type {\n",
       "        vertical-align: middle;\n",
       "    }\n",
       "\n",
       "    .dataframe tbody tr th {\n",
       "        vertical-align: top;\n",
       "    }\n",
       "\n",
       "    .dataframe thead th {\n",
       "        text-align: right;\n",
       "    }\n",
       "</style>\n",
       "<table border=\"1\" class=\"dataframe\">\n",
       "  <thead>\n",
       "    <tr style=\"text-align: right;\">\n",
       "      <th>placed</th>\n",
       "      <th>0</th>\n",
       "      <th>1</th>\n",
       "    </tr>\n",
       "    <tr>\n",
       "      <th>primary_track</th>\n",
       "      <th></th>\n",
       "      <th></th>\n",
       "    </tr>\n",
       "  </thead>\n",
       "  <tbody>\n",
       "    <tr>\n",
       "      <th>Data</th>\n",
       "      <td>49</td>\n",
       "      <td>49</td>\n",
       "    </tr>\n",
       "    <tr>\n",
       "      <th>Design</th>\n",
       "      <td>66</td>\n",
       "      <td>48</td>\n",
       "    </tr>\n",
       "    <tr>\n",
       "      <th>PSO</th>\n",
       "      <td>97</td>\n",
       "      <td>43</td>\n",
       "    </tr>\n",
       "    <tr>\n",
       "      <th>SWE</th>\n",
       "      <td>347</td>\n",
       "      <td>385</td>\n",
       "    </tr>\n",
       "    <tr>\n",
       "      <th>Web</th>\n",
       "      <td>2</td>\n",
       "      <td>0</td>\n",
       "    </tr>\n",
       "  </tbody>\n",
       "</table>\n",
       "</div>"
      ],
      "text/plain": [
       "placed           0    1\n",
       "primary_track          \n",
       "Data            49   49\n",
       "Design          66   48\n",
       "PSO             97   43\n",
       "SWE            347  385\n",
       "Web              2    0"
      ]
     },
     "execution_count": 895,
     "metadata": {
      "tags": []
     },
     "output_type": "execute_result"
    }
   ],
   "source": [
    "pd.crosstab(pathrise_train.primary_track, pathrise_train.placed) #, normalize='index'\n",
    "\n",
    "# SWE dominates, data does better than Design, not enough sample size for Marketing or Web. PSO underperforms."
   ]
  },
  {
   "cell_type": "code",
   "execution_count": 896,
   "metadata": {
    "colab": {
     "base_uri": "https://localhost:8080/",
     "height": 220
    },
    "executionInfo": {
     "elapsed": 1106,
     "status": "ok",
     "timestamp": 1619503969694,
     "user": {
      "displayName": "Yadu Sarathchandran",
      "photoUrl": "",
      "userId": "14743288125860337631"
     },
     "user_tz": 300
    },
    "id": "tuuZRFDu3rDE",
    "outputId": "3e5f890e-a2ee-4d8e-cbbf-cf02d1f60166"
   },
   "outputs": [
    {
     "data": {
      "text/html": [
       "<div>\n",
       "<style scoped>\n",
       "    .dataframe tbody tr th:only-of-type {\n",
       "        vertical-align: middle;\n",
       "    }\n",
       "\n",
       "    .dataframe tbody tr th {\n",
       "        vertical-align: top;\n",
       "    }\n",
       "\n",
       "    .dataframe thead th {\n",
       "        text-align: right;\n",
       "    }\n",
       "</style>\n",
       "<table border=\"1\" class=\"dataframe\">\n",
       "  <thead>\n",
       "    <tr style=\"text-align: right;\">\n",
       "      <th>placed</th>\n",
       "      <th>0</th>\n",
       "      <th>1</th>\n",
       "    </tr>\n",
       "    <tr>\n",
       "      <th>employment_status</th>\n",
       "      <th></th>\n",
       "      <th></th>\n",
       "    </tr>\n",
       "  </thead>\n",
       "  <tbody>\n",
       "    <tr>\n",
       "      <th>Contractor</th>\n",
       "      <td>52</td>\n",
       "      <td>39</td>\n",
       "    </tr>\n",
       "    <tr>\n",
       "      <th>Employed Full-Time</th>\n",
       "      <td>118</td>\n",
       "      <td>98</td>\n",
       "    </tr>\n",
       "    <tr>\n",
       "      <th>Employed Part-Time</th>\n",
       "      <td>58</td>\n",
       "      <td>65</td>\n",
       "    </tr>\n",
       "    <tr>\n",
       "      <th>Student</th>\n",
       "      <td>174</td>\n",
       "      <td>180</td>\n",
       "    </tr>\n",
       "    <tr>\n",
       "      <th>Unemployed</th>\n",
       "      <td>159</td>\n",
       "      <td>143</td>\n",
       "    </tr>\n",
       "  </tbody>\n",
       "</table>\n",
       "</div>"
      ],
      "text/plain": [
       "placed                0    1\n",
       "employment_status           \n",
       "Contractor           52   39\n",
       "Employed Full-Time  118   98\n",
       "Employed Part-Time   58   65\n",
       "Student             174  180\n",
       "Unemployed          159  143"
      ]
     },
     "execution_count": 896,
     "metadata": {
      "tags": []
     },
     "output_type": "execute_result"
    }
   ],
   "source": [
    "pd.crosstab(pathrise_train.employment_status, pathrise_train.placed)\n",
    "# Part-timers are winning, maybe due to available time to participate better? Contractors are slightly less likely, \n",
    "# expected becuase of the nature of work."
   ]
  },
  {
   "cell_type": "code",
   "execution_count": 897,
   "metadata": {
    "colab": {
     "base_uri": "https://localhost:8080/",
     "height": 363
    },
    "executionInfo": {
     "elapsed": 681,
     "status": "ok",
     "timestamp": 1619503970168,
     "user": {
      "displayName": "Yadu Sarathchandran",
      "photoUrl": "",
      "userId": "14743288125860337631"
     },
     "user_tz": 300
    },
    "id": "2RMAhoFodTt7",
    "outputId": "c13b1b19-9def-4912-c45b-1ac9ee31339a"
   },
   "outputs": [
    {
     "data": {
      "text/html": [
       "<div>\n",
       "<style scoped>\n",
       "    .dataframe tbody tr th:only-of-type {\n",
       "        vertical-align: middle;\n",
       "    }\n",
       "\n",
       "    .dataframe tbody tr th {\n",
       "        vertical-align: top;\n",
       "    }\n",
       "\n",
       "    .dataframe thead th {\n",
       "        text-align: right;\n",
       "    }\n",
       "</style>\n",
       "<table border=\"1\" class=\"dataframe\">\n",
       "  <thead>\n",
       "    <tr style=\"text-align: right;\">\n",
       "      <th>placed</th>\n",
       "      <th>0</th>\n",
       "      <th>1</th>\n",
       "    </tr>\n",
       "    <tr>\n",
       "      <th>biggest_challenge_in_search</th>\n",
       "      <th></th>\n",
       "      <th></th>\n",
       "    </tr>\n",
       "  </thead>\n",
       "  <tbody>\n",
       "    <tr>\n",
       "      <th>Behavioral interviewing</th>\n",
       "      <td>0.466667</td>\n",
       "      <td>0.533333</td>\n",
       "    </tr>\n",
       "    <tr>\n",
       "      <th>Figuring out which jobs to apply for</th>\n",
       "      <td>0.534247</td>\n",
       "      <td>0.465753</td>\n",
       "    </tr>\n",
       "    <tr>\n",
       "      <th>Getting past final round interviews</th>\n",
       "      <td>0.476923</td>\n",
       "      <td>0.523077</td>\n",
       "    </tr>\n",
       "    <tr>\n",
       "      <th>Getting past mid-stage interviews</th>\n",
       "      <td>0.523256</td>\n",
       "      <td>0.476744</td>\n",
       "    </tr>\n",
       "    <tr>\n",
       "      <th>Getting past phone screens</th>\n",
       "      <td>0.571429</td>\n",
       "      <td>0.428571</td>\n",
       "    </tr>\n",
       "    <tr>\n",
       "      <th>Hearing back on my applications</th>\n",
       "      <td>0.507177</td>\n",
       "      <td>0.492823</td>\n",
       "    </tr>\n",
       "    <tr>\n",
       "      <th>Lack of relevant experience</th>\n",
       "      <td>0.490566</td>\n",
       "      <td>0.509434</td>\n",
       "    </tr>\n",
       "    <tr>\n",
       "      <th>Resume gap</th>\n",
       "      <td>0.571429</td>\n",
       "      <td>0.428571</td>\n",
       "    </tr>\n",
       "    <tr>\n",
       "      <th>Technical interviewing</th>\n",
       "      <td>0.540323</td>\n",
       "      <td>0.459677</td>\n",
       "    </tr>\n",
       "    <tr>\n",
       "      <th>Technical skills</th>\n",
       "      <td>0.714286</td>\n",
       "      <td>0.285714</td>\n",
       "    </tr>\n",
       "  </tbody>\n",
       "</table>\n",
       "</div>"
      ],
      "text/plain": [
       "placed                                       0         1\n",
       "biggest_challenge_in_search                             \n",
       "Behavioral interviewing               0.466667  0.533333\n",
       "Figuring out which jobs to apply for  0.534247  0.465753\n",
       "Getting past final round interviews   0.476923  0.523077\n",
       "Getting past mid-stage interviews     0.523256  0.476744\n",
       "Getting past phone screens            0.571429  0.428571\n",
       "Hearing back on my applications       0.507177  0.492823\n",
       "Lack of relevant experience           0.490566  0.509434\n",
       "Resume gap                            0.571429  0.428571\n",
       "Technical interviewing                0.540323  0.459677\n",
       "Technical skills                      0.714286  0.285714"
      ]
     },
     "execution_count": 897,
     "metadata": {
      "tags": []
     },
     "output_type": "execute_result"
    }
   ],
   "source": [
    "pd.crosstab(pathrise_train.biggest_challenge_in_search, pathrise_train.placed, normalize='index')\n",
    "\n",
    "# Resume gap and technical skills are underperforming, however sample size is lower. Maybe bring more focus to help them.\n",
    "# Rest are all okay. "
   ]
  },
  {
   "cell_type": "code",
   "execution_count": 898,
   "metadata": {
    "colab": {
     "base_uri": "https://localhost:8080/",
     "height": 191
    },
    "executionInfo": {
     "elapsed": 961,
     "status": "ok",
     "timestamp": 1619503971229,
     "user": {
      "displayName": "Yadu Sarathchandran",
      "photoUrl": "",
      "userId": "14743288125860337631"
     },
     "user_tz": 300
    },
    "id": "_e3oZbhMdtVp",
    "outputId": "f522c9dd-4102-4617-c43c-1aabc3453f2d"
   },
   "outputs": [
    {
     "data": {
      "text/html": [
       "<div>\n",
       "<style scoped>\n",
       "    .dataframe tbody tr th:only-of-type {\n",
       "        vertical-align: middle;\n",
       "    }\n",
       "\n",
       "    .dataframe tbody tr th {\n",
       "        vertical-align: top;\n",
       "    }\n",
       "\n",
       "    .dataframe thead th {\n",
       "        text-align: right;\n",
       "    }\n",
       "</style>\n",
       "<table border=\"1\" class=\"dataframe\">\n",
       "  <thead>\n",
       "    <tr style=\"text-align: right;\">\n",
       "      <th>placed</th>\n",
       "      <th>0</th>\n",
       "      <th>1</th>\n",
       "    </tr>\n",
       "    <tr>\n",
       "      <th>gender</th>\n",
       "      <th></th>\n",
       "      <th></th>\n",
       "    </tr>\n",
       "  </thead>\n",
       "  <tbody>\n",
       "    <tr>\n",
       "      <th>Decline to Self Identify</th>\n",
       "      <td>0.923077</td>\n",
       "      <td>0.076923</td>\n",
       "    </tr>\n",
       "    <tr>\n",
       "      <th>Female</th>\n",
       "      <td>0.662269</td>\n",
       "      <td>0.337731</td>\n",
       "    </tr>\n",
       "    <tr>\n",
       "      <th>Male</th>\n",
       "      <td>0.613124</td>\n",
       "      <td>0.386876</td>\n",
       "    </tr>\n",
       "    <tr>\n",
       "      <th>Non-Binary</th>\n",
       "      <td>0.800000</td>\n",
       "      <td>0.200000</td>\n",
       "    </tr>\n",
       "  </tbody>\n",
       "</table>\n",
       "</div>"
      ],
      "text/plain": [
       "placed                           0         1\n",
       "gender                                      \n",
       "Decline to Self Identify  0.923077  0.076923\n",
       "Female                    0.662269  0.337731\n",
       "Male                      0.613124  0.386876\n",
       "Non-Binary                0.800000  0.200000"
      ]
     },
     "execution_count": 898,
     "metadata": {
      "tags": []
     },
     "output_type": "execute_result"
    }
   ],
   "source": [
    "pd.crosstab(pathrise_first.gender, pathrise_first.placed, normalize='index')\n"
   ]
  },
  {
   "cell_type": "code",
   "execution_count": 899,
   "metadata": {
    "colab": {
     "base_uri": "https://localhost:8080/",
     "height": 335
    },
    "executionInfo": {
     "elapsed": 786,
     "status": "ok",
     "timestamp": 1619503972615,
     "user": {
      "displayName": "Yadu Sarathchandran",
      "photoUrl": "",
      "userId": "14743288125860337631"
     },
     "user_tz": 300
    },
    "id": "Ww7pqq207c-m",
    "outputId": "217f1742-e97d-45d6-d1d3-fe87eacf974f"
   },
   "outputs": [
    {
     "data": {
      "text/html": [
       "<div>\n",
       "<style scoped>\n",
       "    .dataframe tbody tr th:only-of-type {\n",
       "        vertical-align: middle;\n",
       "    }\n",
       "\n",
       "    .dataframe tbody tr th {\n",
       "        vertical-align: top;\n",
       "    }\n",
       "\n",
       "    .dataframe thead th {\n",
       "        text-align: right;\n",
       "    }\n",
       "</style>\n",
       "<table border=\"1\" class=\"dataframe\">\n",
       "  <thead>\n",
       "    <tr style=\"text-align: right;\">\n",
       "      <th>placed</th>\n",
       "      <th>0</th>\n",
       "      <th>1</th>\n",
       "    </tr>\n",
       "    <tr>\n",
       "      <th>race</th>\n",
       "      <th></th>\n",
       "      <th></th>\n",
       "    </tr>\n",
       "  </thead>\n",
       "  <tbody>\n",
       "    <tr>\n",
       "      <th>Black, Afro-Caribbean, or African American</th>\n",
       "      <td>90</td>\n",
       "      <td>28</td>\n",
       "    </tr>\n",
       "    <tr>\n",
       "      <th>Decline to Self Identify</th>\n",
       "      <td>51</td>\n",
       "      <td>16</td>\n",
       "    </tr>\n",
       "    <tr>\n",
       "      <th>East Asian or Asian American</th>\n",
       "      <td>527</td>\n",
       "      <td>329</td>\n",
       "    </tr>\n",
       "    <tr>\n",
       "      <th>Latino or Hispanic American</th>\n",
       "      <td>102</td>\n",
       "      <td>49</td>\n",
       "    </tr>\n",
       "    <tr>\n",
       "      <th>Middle Eastern or Arab American</th>\n",
       "      <td>33</td>\n",
       "      <td>29</td>\n",
       "    </tr>\n",
       "    <tr>\n",
       "      <th>Native American or Alaskan Native</th>\n",
       "      <td>0</td>\n",
       "      <td>3</td>\n",
       "    </tr>\n",
       "    <tr>\n",
       "      <th>Non-Hispanic White or Euro-American</th>\n",
       "      <td>343</td>\n",
       "      <td>212</td>\n",
       "    </tr>\n",
       "    <tr>\n",
       "      <th>South Asian or Indian American</th>\n",
       "      <td>298</td>\n",
       "      <td>223</td>\n",
       "    </tr>\n",
       "    <tr>\n",
       "      <th>Two or More Races</th>\n",
       "      <td>61</td>\n",
       "      <td>29</td>\n",
       "    </tr>\n",
       "  </tbody>\n",
       "</table>\n",
       "</div>"
      ],
      "text/plain": [
       "placed                                        0    1\n",
       "race                                                \n",
       "Black, Afro-Caribbean, or African American   90   28\n",
       "Decline to Self Identify                     51   16\n",
       "East Asian or Asian American                527  329\n",
       "Latino or Hispanic American                 102   49\n",
       "Middle Eastern or Arab American              33   29\n",
       "Native American or Alaskan Native             0    3\n",
       "Non-Hispanic White or Euro-American         343  212\n",
       "South Asian or Indian American              298  223\n",
       "Two or More Races                            61   29"
      ]
     },
     "execution_count": 899,
     "metadata": {
      "tags": []
     },
     "output_type": "execute_result"
    }
   ],
   "source": [
    "pd.crosstab(pathrise.race, pathrise.placed)\n"
   ]
  },
  {
   "cell_type": "code",
   "execution_count": 900,
   "metadata": {
    "colab": {
     "base_uri": "https://localhost:8080/",
     "height": 191
    },
    "executionInfo": {
     "elapsed": 577,
     "status": "ok",
     "timestamp": 1619503973677,
     "user": {
      "displayName": "Yadu Sarathchandran",
      "photoUrl": "",
      "userId": "14743288125860337631"
     },
     "user_tz": 300
    },
    "id": "TXJubjjY8ZrA",
    "outputId": "0088c936-37dc-4208-b65c-0ab7381fc33c"
   },
   "outputs": [
    {
     "data": {
      "text/html": [
       "<div>\n",
       "<style scoped>\n",
       "    .dataframe tbody tr th:only-of-type {\n",
       "        vertical-align: middle;\n",
       "    }\n",
       "\n",
       "    .dataframe tbody tr th {\n",
       "        vertical-align: top;\n",
       "    }\n",
       "\n",
       "    .dataframe thead th {\n",
       "        text-align: right;\n",
       "    }\n",
       "</style>\n",
       "<table border=\"1\" class=\"dataframe\">\n",
       "  <thead>\n",
       "    <tr style=\"text-align: right;\">\n",
       "      <th>placed</th>\n",
       "      <th>0</th>\n",
       "      <th>1</th>\n",
       "    </tr>\n",
       "    <tr>\n",
       "      <th>professional_experience_ord</th>\n",
       "      <th></th>\n",
       "      <th></th>\n",
       "    </tr>\n",
       "  </thead>\n",
       "  <tbody>\n",
       "    <tr>\n",
       "      <th>1.0</th>\n",
       "      <td>138</td>\n",
       "      <td>136</td>\n",
       "    </tr>\n",
       "    <tr>\n",
       "      <th>2.0</th>\n",
       "      <td>241</td>\n",
       "      <td>218</td>\n",
       "    </tr>\n",
       "    <tr>\n",
       "      <th>3.0</th>\n",
       "      <td>128</td>\n",
       "      <td>111</td>\n",
       "    </tr>\n",
       "    <tr>\n",
       "      <th>5.0</th>\n",
       "      <td>54</td>\n",
       "      <td>60</td>\n",
       "    </tr>\n",
       "  </tbody>\n",
       "</table>\n",
       "</div>"
      ],
      "text/plain": [
       "placed                         0    1\n",
       "professional_experience_ord          \n",
       "1.0                          138  136\n",
       "2.0                          241  218\n",
       "3.0                          128  111\n",
       "5.0                           54   60"
      ]
     },
     "execution_count": 900,
     "metadata": {
      "tags": []
     },
     "output_type": "execute_result"
    }
   ],
   "source": [
    "pd.crosstab(pathrise_train.professional_experience_ord, pathrise_train.placed)"
   ]
  },
  {
   "cell_type": "code",
   "execution_count": 901,
   "metadata": {
    "colab": {
     "base_uri": "https://localhost:8080/",
     "height": 335
    },
    "executionInfo": {
     "elapsed": 972,
     "status": "ok",
     "timestamp": 1619503975834,
     "user": {
      "displayName": "Yadu Sarathchandran",
      "photoUrl": "",
      "userId": "14743288125860337631"
     },
     "user_tz": 300
    },
    "id": "6Ugr6K-F-LTY",
    "outputId": "1465d630-38f2-4fcb-8dc6-f3fe29bc9a10"
   },
   "outputs": [
    {
     "data": {
      "text/html": [
       "<div>\n",
       "<style scoped>\n",
       "    .dataframe tbody tr th:only-of-type {\n",
       "        vertical-align: middle;\n",
       "    }\n",
       "\n",
       "    .dataframe tbody tr th {\n",
       "        vertical-align: top;\n",
       "    }\n",
       "\n",
       "    .dataframe thead th {\n",
       "        text-align: right;\n",
       "    }\n",
       "</style>\n",
       "<table border=\"1\" class=\"dataframe\">\n",
       "  <thead>\n",
       "    <tr style=\"text-align: right;\">\n",
       "      <th>placed</th>\n",
       "      <th>0</th>\n",
       "      <th>1</th>\n",
       "    </tr>\n",
       "    <tr>\n",
       "      <th>work_authorization_status</th>\n",
       "      <th></th>\n",
       "      <th></th>\n",
       "    </tr>\n",
       "  </thead>\n",
       "  <tbody>\n",
       "    <tr>\n",
       "      <th>Canada Citizen</th>\n",
       "      <td>9</td>\n",
       "      <td>7</td>\n",
       "    </tr>\n",
       "    <tr>\n",
       "      <th>Citizen</th>\n",
       "      <td>267</td>\n",
       "      <td>265</td>\n",
       "    </tr>\n",
       "    <tr>\n",
       "      <th>F1 Visa/CPT</th>\n",
       "      <td>28</td>\n",
       "      <td>33</td>\n",
       "    </tr>\n",
       "    <tr>\n",
       "      <th>F1 Visa/OPT</th>\n",
       "      <td>166</td>\n",
       "      <td>141</td>\n",
       "    </tr>\n",
       "    <tr>\n",
       "      <th>Green Card</th>\n",
       "      <td>46</td>\n",
       "      <td>42</td>\n",
       "    </tr>\n",
       "    <tr>\n",
       "      <th>H1B</th>\n",
       "      <td>15</td>\n",
       "      <td>7</td>\n",
       "    </tr>\n",
       "    <tr>\n",
       "      <th>Not Authorized</th>\n",
       "      <td>3</td>\n",
       "      <td>0</td>\n",
       "    </tr>\n",
       "    <tr>\n",
       "      <th>Other</th>\n",
       "      <td>24</td>\n",
       "      <td>28</td>\n",
       "    </tr>\n",
       "    <tr>\n",
       "      <th>STEM OPT</th>\n",
       "      <td>3</td>\n",
       "      <td>2</td>\n",
       "    </tr>\n",
       "  </tbody>\n",
       "</table>\n",
       "</div>"
      ],
      "text/plain": [
       "placed                       0    1\n",
       "work_authorization_status          \n",
       "Canada Citizen               9    7\n",
       "Citizen                    267  265\n",
       "F1 Visa/CPT                 28   33\n",
       "F1 Visa/OPT                166  141\n",
       "Green Card                  46   42\n",
       "H1B                         15    7\n",
       "Not Authorized               3    0\n",
       "Other                       24   28\n",
       "STEM OPT                     3    2"
      ]
     },
     "execution_count": 901,
     "metadata": {
      "tags": []
     },
     "output_type": "execute_result"
    }
   ],
   "source": [
    "pd.crosstab(pathrise_train.work_authorization_status, pathrise_train.placed)\n",
    "\n",
    "# Pointless to hire a person who has no authorization? H1B underperforms"
   ]
  },
  {
   "cell_type": "code",
   "execution_count": 902,
   "metadata": {
    "colab": {
     "base_uri": "https://localhost:8080/",
     "height": 396
    },
    "executionInfo": {
     "elapsed": 1056,
     "status": "ok",
     "timestamp": 1619503979799,
     "user": {
      "displayName": "Yadu Sarathchandran",
      "photoUrl": "",
      "userId": "14743288125860337631"
     },
     "user_tz": 300
    },
    "id": "5176Xv-rD0ZI",
    "outputId": "57effc94-4223-4abd-db98-32360165eee2"
   },
   "outputs": [
    {
     "name": "stderr",
     "output_type": "stream",
     "text": [
      "/usr/local/lib/python3.7/dist-packages/seaborn/distributions.py:2557: FutureWarning: `distplot` is a deprecated function and will be removed in a future version. Please adapt your code to use either `displot` (a figure-level function with similar flexibility) or `histplot` (an axes-level function for histograms).\n",
      "  warnings.warn(msg, FutureWarning)\n",
      "/usr/local/lib/python3.7/dist-packages/seaborn/distributions.py:2557: FutureWarning: `distplot` is a deprecated function and will be removed in a future version. Please adapt your code to use either `displot` (a figure-level function with similar flexibility) or `histplot` (an axes-level function for histograms).\n",
      "  warnings.warn(msg, FutureWarning)\n"
     ]
    },
    {
     "data": {
      "image/png": "[encoded data removed]",
      "text/plain": [
       "<Figure size 432x288 with 2 Axes>"
      ]
     },
     "metadata": {
      "needs_background": "light",
      "tags": []
     },
     "output_type": "display_data"
    }
   ],
   "source": [
    "plt.subplot(121)\n",
    "sns.distplot(pathrise_placed['number_of_interviews'], color='green');\n",
    "plt.title('# of interviews for \\n\\'placed\\' fellows')\n",
    "plt.subplot(122)\n",
    "sns.distplot(pathrise_notplaced['number_of_interviews'], color='red');\n",
    "plt.title('# of interviews for \\n\\'not placed\\' fellows')\n",
    "plt.show()"
   ]
  },
  {
   "cell_type": "code",
   "execution_count": 903,
   "metadata": {
    "colab": {
     "base_uri": "https://localhost:8080/",
     "height": 396
    },
    "executionInfo": {
     "elapsed": 1058,
     "status": "ok",
     "timestamp": 1619503983867,
     "user": {
      "displayName": "Yadu Sarathchandran",
      "photoUrl": "",
      "userId": "14743288125860337631"
     },
     "user_tz": 300
    },
    "id": "1UTN3ZWUVnO_",
    "outputId": "af664da8-8fd8-4b72-b8e9-563f38329243"
   },
   "outputs": [
    {
     "name": "stderr",
     "output_type": "stream",
     "text": [
      "/usr/local/lib/python3.7/dist-packages/seaborn/distributions.py:2557: FutureWarning: `distplot` is a deprecated function and will be removed in a future version. Please adapt your code to use either `displot` (a figure-level function with similar flexibility) or `histplot` (an axes-level function for histograms).\n",
      "  warnings.warn(msg, FutureWarning)\n",
      "/usr/local/lib/python3.7/dist-packages/seaborn/distributions.py:2557: FutureWarning: `distplot` is a deprecated function and will be removed in a future version. Please adapt your code to use either `displot` (a figure-level function with similar flexibility) or `histplot` (an axes-level function for histograms).\n",
      "  warnings.warn(msg, FutureWarning)\n"
     ]
    },
    {
     "data": {
      "image/png": "[encoded data removed]",
      "text/plain": [
       "<Figure size 432x288 with 2 Axes>"
      ]
     },
     "metadata": {
      "needs_background": "light",
      "tags": []
     },
     "output_type": "display_data"
    }
   ],
   "source": [
    "plt.subplot(121)\n",
    "sns.distplot(pathrise_placed['number_of_applications'], color='green');\n",
    "plt.title('# of applications by \\n\\'placed\\' fellows')\n",
    "plt.subplot(122)\n",
    "sns.distplot(pathrise_notplaced['number_of_applications'], color='red');\n",
    "plt.title('# of applications by \\n\\'not placed\\' fellows')\n",
    "plt.show()\n",
    "\n",
    "# Nothing distinguishes fellows from visual analysis based on the number of applications/interviews."
   ]
  },
  {
   "cell_type": "markdown",
   "metadata": {
    "id": "2c_RefsTifXm"
   },
   "source": [
    "# Using One-Hot-Encoding in training set + Testing set\n"
   ]
  },
  {
   "cell_type": "code",
   "execution_count": 904,
   "metadata": {
    "colab": {
     "base_uri": "https://localhost:8080/",
     "height": 191
    },
    "executionInfo": {
     "elapsed": 1491,
     "status": "ok",
     "timestamp": 1619503997596,
     "user": {
      "displayName": "Yadu Sarathchandran",
      "photoUrl": "",
      "userId": "14743288125860337631"
     },
     "user_tz": 300
    },
    "id": "AURAvdglCPLH",
    "outputId": "c32725d3-f756-4e9c-aac0-6f77c612af93"
   },
   "outputs": [
    {
     "data": {
      "text/html": [
       "<div>\n",
       "<style scoped>\n",
       "    .dataframe tbody tr th:only-of-type {\n",
       "        vertical-align: middle;\n",
       "    }\n",
       "\n",
       "    .dataframe tbody tr th {\n",
       "        vertical-align: top;\n",
       "    }\n",
       "\n",
       "    .dataframe thead tr th {\n",
       "        text-align: left;\n",
       "    }\n",
       "</style>\n",
       "<table border=\"1\" class=\"dataframe\">\n",
       "  <thead>\n",
       "    <tr>\n",
       "      <th></th>\n",
       "      <th>Canada Citizen</th>\n",
       "      <th>Citizen</th>\n",
       "      <th>F1 Visa/CPT</th>\n",
       "      <th>F1 Visa/OPT</th>\n",
       "      <th>Green Card</th>\n",
       "      <th>H1B</th>\n",
       "      <th>Not Authorized</th>\n",
       "      <th>Other</th>\n",
       "      <th>STEM OPT</th>\n",
       "    </tr>\n",
       "  </thead>\n",
       "  <tbody>\n",
       "    <tr>\n",
       "      <th>0</th>\n",
       "      <td>0.0</td>\n",
       "      <td>1.0</td>\n",
       "      <td>0.0</td>\n",
       "      <td>0.0</td>\n",
       "      <td>0.0</td>\n",
       "      <td>0.0</td>\n",
       "      <td>0.0</td>\n",
       "      <td>0.0</td>\n",
       "      <td>0.0</td>\n",
       "    </tr>\n",
       "    <tr>\n",
       "      <th>1</th>\n",
       "      <td>0.0</td>\n",
       "      <td>1.0</td>\n",
       "      <td>0.0</td>\n",
       "      <td>0.0</td>\n",
       "      <td>0.0</td>\n",
       "      <td>0.0</td>\n",
       "      <td>0.0</td>\n",
       "      <td>0.0</td>\n",
       "      <td>0.0</td>\n",
       "    </tr>\n",
       "    <tr>\n",
       "      <th>2</th>\n",
       "      <td>0.0</td>\n",
       "      <td>1.0</td>\n",
       "      <td>0.0</td>\n",
       "      <td>0.0</td>\n",
       "      <td>0.0</td>\n",
       "      <td>0.0</td>\n",
       "      <td>0.0</td>\n",
       "      <td>0.0</td>\n",
       "      <td>0.0</td>\n",
       "    </tr>\n",
       "    <tr>\n",
       "      <th>3</th>\n",
       "      <td>0.0</td>\n",
       "      <td>0.0</td>\n",
       "      <td>0.0</td>\n",
       "      <td>1.0</td>\n",
       "      <td>0.0</td>\n",
       "      <td>0.0</td>\n",
       "      <td>0.0</td>\n",
       "      <td>0.0</td>\n",
       "      <td>0.0</td>\n",
       "    </tr>\n",
       "    <tr>\n",
       "      <th>4</th>\n",
       "      <td>0.0</td>\n",
       "      <td>0.0</td>\n",
       "      <td>0.0</td>\n",
       "      <td>0.0</td>\n",
       "      <td>1.0</td>\n",
       "      <td>0.0</td>\n",
       "      <td>0.0</td>\n",
       "      <td>0.0</td>\n",
       "      <td>0.0</td>\n",
       "    </tr>\n",
       "  </tbody>\n",
       "</table>\n",
       "</div>"
      ],
      "text/plain": [
       "  Canada Citizen Citizen F1 Visa/CPT  ... Not Authorized Other STEM OPT\n",
       "0            0.0     1.0         0.0  ...            0.0   0.0      0.0\n",
       "1            0.0     1.0         0.0  ...            0.0   0.0      0.0\n",
       "2            0.0     1.0         0.0  ...            0.0   0.0      0.0\n",
       "3            0.0     0.0         0.0  ...            0.0   0.0      0.0\n",
       "4            0.0     0.0         0.0  ...            0.0   0.0      0.0\n",
       "\n",
       "[5 rows x 9 columns]"
      ]
     },
     "execution_count": 904,
     "metadata": {
      "tags": []
     },
     "output_type": "execute_result"
    }
   ],
   "source": [
    "\n",
    "from sklearn.preprocessing import OneHotEncoder\n",
    "\n",
    "oe_style = OneHotEncoder()\n",
    "\n",
    "# 'work_authorization_status'\n",
    "oe_results_work_author = oe_style.fit_transform(pathrise_first[['work_authorization_status']])\n",
    "work_author=pd.DataFrame(oe_results_work_author.toarray(), columns=oe_style.categories_)\n",
    "work_author.head()"
   ]
  },
  {
   "cell_type": "code",
   "execution_count": 905,
   "metadata": {
    "colab": {
     "base_uri": "https://localhost:8080/",
     "height": 207
    },
    "executionInfo": {
     "elapsed": 2403,
     "status": "ok",
     "timestamp": 1619503999444,
     "user": {
      "displayName": "Yadu Sarathchandran",
      "photoUrl": "",
      "userId": "14743288125860337631"
     },
     "user_tz": 300
    },
    "id": "Vf76WyB2F2iZ",
    "outputId": "b2d07c6a-4d71-49d5-81e2-bbffbb2e6aed"
   },
   "outputs": [
    {
     "data": {
      "text/html": [
       "<div>\n",
       "<style scoped>\n",
       "    .dataframe tbody tr th:only-of-type {\n",
       "        vertical-align: middle;\n",
       "    }\n",
       "\n",
       "    .dataframe tbody tr th {\n",
       "        vertical-align: top;\n",
       "    }\n",
       "\n",
       "    .dataframe thead tr th {\n",
       "        text-align: left;\n",
       "    }\n",
       "</style>\n",
       "<table border=\"1\" class=\"dataframe\">\n",
       "  <thead>\n",
       "    <tr>\n",
       "      <th></th>\n",
       "      <th>Behavioral interviewing</th>\n",
       "      <th>Figuring out which jobs to apply for</th>\n",
       "      <th>Getting past final round interviews</th>\n",
       "      <th>Getting past mid-stage interviews</th>\n",
       "      <th>Getting past phone screens</th>\n",
       "      <th>Hearing back on my applications</th>\n",
       "      <th>Lack of relevant experience</th>\n",
       "      <th>Resume gap</th>\n",
       "      <th>Technical interviewing</th>\n",
       "      <th>Technical skills</th>\n",
       "    </tr>\n",
       "  </thead>\n",
       "  <tbody>\n",
       "    <tr>\n",
       "      <th>0</th>\n",
       "      <td>0.0</td>\n",
       "      <td>0.0</td>\n",
       "      <td>1.0</td>\n",
       "      <td>0.0</td>\n",
       "      <td>0.0</td>\n",
       "      <td>0.0</td>\n",
       "      <td>0.0</td>\n",
       "      <td>0.0</td>\n",
       "      <td>0.0</td>\n",
       "      <td>0.0</td>\n",
       "    </tr>\n",
       "    <tr>\n",
       "      <th>1</th>\n",
       "      <td>0.0</td>\n",
       "      <td>1.0</td>\n",
       "      <td>0.0</td>\n",
       "      <td>0.0</td>\n",
       "      <td>0.0</td>\n",
       "      <td>0.0</td>\n",
       "      <td>0.0</td>\n",
       "      <td>0.0</td>\n",
       "      <td>0.0</td>\n",
       "      <td>0.0</td>\n",
       "    </tr>\n",
       "    <tr>\n",
       "      <th>2</th>\n",
       "      <td>0.0</td>\n",
       "      <td>0.0</td>\n",
       "      <td>1.0</td>\n",
       "      <td>0.0</td>\n",
       "      <td>0.0</td>\n",
       "      <td>0.0</td>\n",
       "      <td>0.0</td>\n",
       "      <td>0.0</td>\n",
       "      <td>0.0</td>\n",
       "      <td>0.0</td>\n",
       "    </tr>\n",
       "    <tr>\n",
       "      <th>3</th>\n",
       "      <td>0.0</td>\n",
       "      <td>0.0</td>\n",
       "      <td>0.0</td>\n",
       "      <td>0.0</td>\n",
       "      <td>0.0</td>\n",
       "      <td>1.0</td>\n",
       "      <td>0.0</td>\n",
       "      <td>0.0</td>\n",
       "      <td>0.0</td>\n",
       "      <td>0.0</td>\n",
       "    </tr>\n",
       "    <tr>\n",
       "      <th>4</th>\n",
       "      <td>0.0</td>\n",
       "      <td>0.0</td>\n",
       "      <td>0.0</td>\n",
       "      <td>0.0</td>\n",
       "      <td>0.0</td>\n",
       "      <td>0.0</td>\n",
       "      <td>0.0</td>\n",
       "      <td>0.0</td>\n",
       "      <td>1.0</td>\n",
       "      <td>0.0</td>\n",
       "    </tr>\n",
       "  </tbody>\n",
       "</table>\n",
       "</div>"
      ],
      "text/plain": [
       "  Behavioral interviewing  ... Technical skills\n",
       "0                     0.0  ...              0.0\n",
       "1                     0.0  ...              0.0\n",
       "2                     0.0  ...              0.0\n",
       "3                     0.0  ...              0.0\n",
       "4                     0.0  ...              0.0\n",
       "\n",
       "[5 rows x 10 columns]"
      ]
     },
     "execution_count": 905,
     "metadata": {
      "tags": []
     },
     "output_type": "execute_result"
    }
   ],
   "source": [
    "# 'biggest_challenge_in_search'\n",
    "\n",
    "oe_results_big_challenge = oe_style.fit_transform(pathrise_first[['biggest_challenge_in_search']])\n",
    "big_challenge=pd.DataFrame(oe_results_big_challenge.toarray(), columns=oe_style.categories_)\n",
    "big_challenge.head()"
   ]
  },
  {
   "cell_type": "code",
   "execution_count": 906,
   "metadata": {
    "colab": {
     "base_uri": "https://localhost:8080/",
     "height": 191
    },
    "executionInfo": {
     "elapsed": 2401,
     "status": "ok",
     "timestamp": 1619504000402,
     "user": {
      "displayName": "Yadu Sarathchandran",
      "photoUrl": "",
      "userId": "14743288125860337631"
     },
     "user_tz": 300
    },
    "id": "6-YeazkWGTWH",
    "outputId": "c481682f-0578-4cac-9f73-86ff6ad41915"
   },
   "outputs": [
    {
     "data": {
      "text/html": [
       "<div>\n",
       "<style scoped>\n",
       "    .dataframe tbody tr th:only-of-type {\n",
       "        vertical-align: middle;\n",
       "    }\n",
       "\n",
       "    .dataframe tbody tr th {\n",
       "        vertical-align: top;\n",
       "    }\n",
       "\n",
       "    .dataframe thead tr th {\n",
       "        text-align: left;\n",
       "    }\n",
       "</style>\n",
       "<table border=\"1\" class=\"dataframe\">\n",
       "  <thead>\n",
       "    <tr>\n",
       "      <th></th>\n",
       "      <th>Contractor</th>\n",
       "      <th>Employed Full-Time</th>\n",
       "      <th>Employed Part-Time</th>\n",
       "      <th>Student</th>\n",
       "      <th>Unemployed</th>\n",
       "    </tr>\n",
       "  </thead>\n",
       "  <tbody>\n",
       "    <tr>\n",
       "      <th>0</th>\n",
       "      <td>0.0</td>\n",
       "      <td>0.0</td>\n",
       "      <td>0.0</td>\n",
       "      <td>0.0</td>\n",
       "      <td>1.0</td>\n",
       "    </tr>\n",
       "    <tr>\n",
       "      <th>1</th>\n",
       "      <td>0.0</td>\n",
       "      <td>0.0</td>\n",
       "      <td>1.0</td>\n",
       "      <td>0.0</td>\n",
       "      <td>0.0</td>\n",
       "    </tr>\n",
       "    <tr>\n",
       "      <th>2</th>\n",
       "      <td>1.0</td>\n",
       "      <td>0.0</td>\n",
       "      <td>0.0</td>\n",
       "      <td>0.0</td>\n",
       "      <td>0.0</td>\n",
       "    </tr>\n",
       "    <tr>\n",
       "      <th>3</th>\n",
       "      <td>0.0</td>\n",
       "      <td>0.0</td>\n",
       "      <td>0.0</td>\n",
       "      <td>0.0</td>\n",
       "      <td>1.0</td>\n",
       "    </tr>\n",
       "    <tr>\n",
       "      <th>4</th>\n",
       "      <td>0.0</td>\n",
       "      <td>1.0</td>\n",
       "      <td>0.0</td>\n",
       "      <td>0.0</td>\n",
       "      <td>0.0</td>\n",
       "    </tr>\n",
       "  </tbody>\n",
       "</table>\n",
       "</div>"
      ],
      "text/plain": [
       "  Contractor Employed Full-Time Employed Part-Time Student Unemployed\n",
       "0        0.0                0.0                0.0     0.0        1.0\n",
       "1        0.0                0.0                1.0     0.0        0.0\n",
       "2        1.0                0.0                0.0     0.0        0.0\n",
       "3        0.0                0.0                0.0     0.0        1.0\n",
       "4        0.0                1.0                0.0     0.0        0.0"
      ]
     },
     "execution_count": 906,
     "metadata": {
      "tags": []
     },
     "output_type": "execute_result"
    }
   ],
   "source": [
    "# 'employment_status'\n",
    "oe_results_employ_stat = oe_style.fit_transform(pathrise_first[['employment_status']])\n",
    "employ_stat=pd.DataFrame(oe_results_employ_stat.toarray(), columns=oe_style.categories_)\n",
    "employ_stat.head()"
   ]
  },
  {
   "cell_type": "code",
   "execution_count": 907,
   "metadata": {
    "colab": {
     "base_uri": "https://localhost:8080/",
     "height": 191
    },
    "executionInfo": {
     "elapsed": 1668,
     "status": "ok",
     "timestamp": 1619504000403,
     "user": {
      "displayName": "Yadu Sarathchandran",
      "photoUrl": "",
      "userId": "14743288125860337631"
     },
     "user_tz": 300
    },
    "id": "TJUJqi9mGs4V",
    "outputId": "6d694056-e7d7-444b-dbd7-ad5534c47c38"
   },
   "outputs": [
    {
     "data": {
      "text/html": [
       "<div>\n",
       "<style scoped>\n",
       "    .dataframe tbody tr th:only-of-type {\n",
       "        vertical-align: middle;\n",
       "    }\n",
       "\n",
       "    .dataframe tbody tr th {\n",
       "        vertical-align: top;\n",
       "    }\n",
       "\n",
       "    .dataframe thead tr th {\n",
       "        text-align: left;\n",
       "    }\n",
       "</style>\n",
       "<table border=\"1\" class=\"dataframe\">\n",
       "  <thead>\n",
       "    <tr>\n",
       "      <th></th>\n",
       "      <th>Data</th>\n",
       "      <th>Design</th>\n",
       "      <th>PSO</th>\n",
       "      <th>SWE</th>\n",
       "      <th>Web</th>\n",
       "    </tr>\n",
       "  </thead>\n",
       "  <tbody>\n",
       "    <tr>\n",
       "      <th>0</th>\n",
       "      <td>0.0</td>\n",
       "      <td>0.0</td>\n",
       "      <td>1.0</td>\n",
       "      <td>0.0</td>\n",
       "      <td>0.0</td>\n",
       "    </tr>\n",
       "    <tr>\n",
       "      <th>1</th>\n",
       "      <td>0.0</td>\n",
       "      <td>1.0</td>\n",
       "      <td>0.0</td>\n",
       "      <td>0.0</td>\n",
       "      <td>0.0</td>\n",
       "    </tr>\n",
       "    <tr>\n",
       "      <th>2</th>\n",
       "      <td>0.0</td>\n",
       "      <td>0.0</td>\n",
       "      <td>1.0</td>\n",
       "      <td>0.0</td>\n",
       "      <td>0.0</td>\n",
       "    </tr>\n",
       "    <tr>\n",
       "      <th>3</th>\n",
       "      <td>0.0</td>\n",
       "      <td>0.0</td>\n",
       "      <td>0.0</td>\n",
       "      <td>1.0</td>\n",
       "      <td>0.0</td>\n",
       "    </tr>\n",
       "    <tr>\n",
       "      <th>4</th>\n",
       "      <td>0.0</td>\n",
       "      <td>0.0</td>\n",
       "      <td>0.0</td>\n",
       "      <td>1.0</td>\n",
       "      <td>0.0</td>\n",
       "    </tr>\n",
       "  </tbody>\n",
       "</table>\n",
       "</div>"
      ],
      "text/plain": [
       "  Data Design  PSO  SWE  Web\n",
       "0  0.0    0.0  1.0  0.0  0.0\n",
       "1  0.0    1.0  0.0  0.0  0.0\n",
       "2  0.0    0.0  1.0  0.0  0.0\n",
       "3  0.0    0.0  0.0  1.0  0.0\n",
       "4  0.0    0.0  0.0  1.0  0.0"
      ]
     },
     "execution_count": 907,
     "metadata": {
      "tags": []
     },
     "output_type": "execute_result"
    }
   ],
   "source": [
    "# 'primary_track'\n",
    "oe_results_primary_track = oe_style.fit_transform(pathrise_first[['primary_track']])\n",
    "primary_track=pd.DataFrame(oe_results_primary_track.toarray(), columns=oe_style.categories_)\n",
    "primary_track.head()"
   ]
  },
  {
   "cell_type": "code",
   "execution_count": 908,
   "metadata": {
    "colab": {
     "base_uri": "https://localhost:8080/",
     "height": 191
    },
    "executionInfo": {
     "elapsed": 1162,
     "status": "ok",
     "timestamp": 1619504000404,
     "user": {
      "displayName": "Yadu Sarathchandran",
      "photoUrl": "",
      "userId": "14743288125860337631"
     },
     "user_tz": 300
    },
    "id": "sI_r3NG8G-QI",
    "outputId": "3462bdb1-4c79-421d-c890-263d5b59b14b"
   },
   "outputs": [
    {
     "data": {
      "text/html": [
       "<div>\n",
       "<style scoped>\n",
       "    .dataframe tbody tr th:only-of-type {\n",
       "        vertical-align: middle;\n",
       "    }\n",
       "\n",
       "    .dataframe tbody tr th {\n",
       "        vertical-align: top;\n",
       "    }\n",
       "\n",
       "    .dataframe thead tr th {\n",
       "        text-align: left;\n",
       "    }\n",
       "</style>\n",
       "<table border=\"1\" class=\"dataframe\">\n",
       "  <thead>\n",
       "    <tr>\n",
       "      <th></th>\n",
       "      <th>Bachelor's Degree</th>\n",
       "      <th>Doctorate or Professional Degree</th>\n",
       "      <th>GED or equivalent</th>\n",
       "      <th>High School Graduate</th>\n",
       "      <th>Master's Degree</th>\n",
       "      <th>Some College, No Degree</th>\n",
       "      <th>Some High School</th>\n",
       "    </tr>\n",
       "  </thead>\n",
       "  <tbody>\n",
       "    <tr>\n",
       "      <th>0</th>\n",
       "      <td>0.0</td>\n",
       "      <td>0.0</td>\n",
       "      <td>0.0</td>\n",
       "      <td>0.0</td>\n",
       "      <td>0.0</td>\n",
       "      <td>1.0</td>\n",
       "      <td>0.0</td>\n",
       "    </tr>\n",
       "    <tr>\n",
       "      <th>1</th>\n",
       "      <td>0.0</td>\n",
       "      <td>0.0</td>\n",
       "      <td>0.0</td>\n",
       "      <td>0.0</td>\n",
       "      <td>1.0</td>\n",
       "      <td>0.0</td>\n",
       "      <td>0.0</td>\n",
       "    </tr>\n",
       "    <tr>\n",
       "      <th>2</th>\n",
       "      <td>1.0</td>\n",
       "      <td>0.0</td>\n",
       "      <td>0.0</td>\n",
       "      <td>0.0</td>\n",
       "      <td>0.0</td>\n",
       "      <td>0.0</td>\n",
       "      <td>0.0</td>\n",
       "    </tr>\n",
       "    <tr>\n",
       "      <th>3</th>\n",
       "      <td>1.0</td>\n",
       "      <td>0.0</td>\n",
       "      <td>0.0</td>\n",
       "      <td>0.0</td>\n",
       "      <td>0.0</td>\n",
       "      <td>0.0</td>\n",
       "      <td>0.0</td>\n",
       "    </tr>\n",
       "    <tr>\n",
       "      <th>4</th>\n",
       "      <td>0.0</td>\n",
       "      <td>0.0</td>\n",
       "      <td>0.0</td>\n",
       "      <td>0.0</td>\n",
       "      <td>1.0</td>\n",
       "      <td>0.0</td>\n",
       "      <td>0.0</td>\n",
       "    </tr>\n",
       "  </tbody>\n",
       "</table>\n",
       "</div>"
      ],
      "text/plain": [
       "  Bachelor's Degree  ... Some High School\n",
       "0               0.0  ...              0.0\n",
       "1               0.0  ...              0.0\n",
       "2               1.0  ...              0.0\n",
       "3               1.0  ...              0.0\n",
       "4               0.0  ...              0.0\n",
       "\n",
       "[5 rows x 7 columns]"
      ]
     },
     "execution_count": 908,
     "metadata": {
      "tags": []
     },
     "output_type": "execute_result"
    }
   ],
   "source": [
    "# 'highest_level_of_education'\n",
    "oe_results_education = oe_style.fit_transform(pathrise_first[['highest_level_of_education']])\n",
    "education=pd.DataFrame(oe_results_education.toarray(), columns=oe_style.categories_)\n",
    "education.head()"
   ]
  },
  {
   "cell_type": "code",
   "execution_count": 909,
   "metadata": {
    "colab": {
     "base_uri": "https://localhost:8080/",
     "height": 207
    },
    "executionInfo": {
     "elapsed": 1179,
     "status": "ok",
     "timestamp": 1619504000765,
     "user": {
      "displayName": "Yadu Sarathchandran",
      "photoUrl": "",
      "userId": "14743288125860337631"
     },
     "user_tz": 300
    },
    "id": "0yHYcjOWWXX4",
    "outputId": "d8c2613c-fcba-413e-e77b-fd010087627c"
   },
   "outputs": [
    {
     "data": {
      "text/html": [
       "<div>\n",
       "<style scoped>\n",
       "    .dataframe tbody tr th:only-of-type {\n",
       "        vertical-align: middle;\n",
       "    }\n",
       "\n",
       "    .dataframe tbody tr th {\n",
       "        vertical-align: top;\n",
       "    }\n",
       "\n",
       "    .dataframe thead tr th {\n",
       "        text-align: left;\n",
       "    }\n",
       "</style>\n",
       "<table border=\"1\" class=\"dataframe\">\n",
       "  <thead>\n",
       "    <tr>\n",
       "      <th></th>\n",
       "      <th>Black, Afro-Caribbean, or African American</th>\n",
       "      <th>Decline to Self Identify</th>\n",
       "      <th>East Asian or Asian American</th>\n",
       "      <th>Latino or Hispanic American</th>\n",
       "      <th>Middle Eastern or Arab American</th>\n",
       "      <th>Non-Hispanic White or Euro-American</th>\n",
       "      <th>South Asian or Indian American</th>\n",
       "      <th>Two or More Races</th>\n",
       "    </tr>\n",
       "  </thead>\n",
       "  <tbody>\n",
       "    <tr>\n",
       "      <th>0</th>\n",
       "      <td>0.0</td>\n",
       "      <td>0.0</td>\n",
       "      <td>0.0</td>\n",
       "      <td>0.0</td>\n",
       "      <td>0.0</td>\n",
       "      <td>1.0</td>\n",
       "      <td>0.0</td>\n",
       "      <td>0.0</td>\n",
       "    </tr>\n",
       "    <tr>\n",
       "      <th>1</th>\n",
       "      <td>0.0</td>\n",
       "      <td>0.0</td>\n",
       "      <td>1.0</td>\n",
       "      <td>0.0</td>\n",
       "      <td>0.0</td>\n",
       "      <td>0.0</td>\n",
       "      <td>0.0</td>\n",
       "      <td>0.0</td>\n",
       "    </tr>\n",
       "    <tr>\n",
       "      <th>2</th>\n",
       "      <td>0.0</td>\n",
       "      <td>1.0</td>\n",
       "      <td>0.0</td>\n",
       "      <td>0.0</td>\n",
       "      <td>0.0</td>\n",
       "      <td>0.0</td>\n",
       "      <td>0.0</td>\n",
       "      <td>0.0</td>\n",
       "    </tr>\n",
       "    <tr>\n",
       "      <th>3</th>\n",
       "      <td>0.0</td>\n",
       "      <td>0.0</td>\n",
       "      <td>1.0</td>\n",
       "      <td>0.0</td>\n",
       "      <td>0.0</td>\n",
       "      <td>0.0</td>\n",
       "      <td>0.0</td>\n",
       "      <td>0.0</td>\n",
       "    </tr>\n",
       "    <tr>\n",
       "      <th>4</th>\n",
       "      <td>0.0</td>\n",
       "      <td>0.0</td>\n",
       "      <td>1.0</td>\n",
       "      <td>0.0</td>\n",
       "      <td>0.0</td>\n",
       "      <td>0.0</td>\n",
       "      <td>0.0</td>\n",
       "      <td>0.0</td>\n",
       "    </tr>\n",
       "  </tbody>\n",
       "</table>\n",
       "</div>"
      ],
      "text/plain": [
       "  Black, Afro-Caribbean, or African American  ... Two or More Races\n",
       "0                                        0.0  ...               0.0\n",
       "1                                        0.0  ...               0.0\n",
       "2                                        0.0  ...               0.0\n",
       "3                                        0.0  ...               0.0\n",
       "4                                        0.0  ...               0.0\n",
       "\n",
       "[5 rows x 8 columns]"
      ]
     },
     "execution_count": 909,
     "metadata": {
      "tags": []
     },
     "output_type": "execute_result"
    }
   ],
   "source": [
    "# 'highest_level_of_education'\n",
    "oe_results_education = oe_style.fit_transform(pathrise_first[['race']])\n",
    "race=pd.DataFrame(oe_results_education.toarray(), columns=oe_style.categories_)\n",
    "race.head()"
   ]
  },
  {
   "cell_type": "code",
   "execution_count": 910,
   "metadata": {
    "colab": {
     "base_uri": "https://localhost:8080/",
     "height": 191
    },
    "executionInfo": {
     "elapsed": 659,
     "status": "ok",
     "timestamp": 1619504003807,
     "user": {
      "displayName": "Yadu Sarathchandran",
      "photoUrl": "",
      "userId": "14743288125860337631"
     },
     "user_tz": 300
    },
    "id": "W3pj-UitV7_g",
    "outputId": "0ed421a9-f127-4f14-9271-4817c71d66c9"
   },
   "outputs": [
    {
     "data": {
      "text/html": [
       "<div>\n",
       "<style scoped>\n",
       "    .dataframe tbody tr th:only-of-type {\n",
       "        vertical-align: middle;\n",
       "    }\n",
       "\n",
       "    .dataframe tbody tr th {\n",
       "        vertical-align: top;\n",
       "    }\n",
       "\n",
       "    .dataframe thead tr th {\n",
       "        text-align: left;\n",
       "    }\n",
       "</style>\n",
       "<table border=\"1\" class=\"dataframe\">\n",
       "  <thead>\n",
       "    <tr>\n",
       "      <th></th>\n",
       "      <th>Female</th>\n",
       "      <th>Male</th>\n",
       "      <th>Non-Binary</th>\n",
       "    </tr>\n",
       "  </thead>\n",
       "  <tbody>\n",
       "    <tr>\n",
       "      <th>0</th>\n",
       "      <td>0.0</td>\n",
       "      <td>1.0</td>\n",
       "      <td>0.0</td>\n",
       "    </tr>\n",
       "    <tr>\n",
       "      <th>1</th>\n",
       "      <td>0.0</td>\n",
       "      <td>1.0</td>\n",
       "      <td>0.0</td>\n",
       "    </tr>\n",
       "    <tr>\n",
       "      <th>2</th>\n",
       "      <td>0.0</td>\n",
       "      <td>1.0</td>\n",
       "      <td>0.0</td>\n",
       "    </tr>\n",
       "    <tr>\n",
       "      <th>3</th>\n",
       "      <td>0.0</td>\n",
       "      <td>1.0</td>\n",
       "      <td>0.0</td>\n",
       "    </tr>\n",
       "    <tr>\n",
       "      <th>4</th>\n",
       "      <td>0.0</td>\n",
       "      <td>1.0</td>\n",
       "      <td>0.0</td>\n",
       "    </tr>\n",
       "  </tbody>\n",
       "</table>\n",
       "</div>"
      ],
      "text/plain": [
       "  Female Male Non-Binary\n",
       "0    0.0  1.0        0.0\n",
       "1    0.0  1.0        0.0\n",
       "2    0.0  1.0        0.0\n",
       "3    0.0  1.0        0.0\n",
       "4    0.0  1.0        0.0"
      ]
     },
     "execution_count": 910,
     "metadata": {
      "tags": []
     },
     "output_type": "execute_result"
    }
   ],
   "source": [
    "# 'gender'\n",
    "oe_results_gender = oe_style.fit_transform(pathrise_first[['gender']])\n",
    "gender=pd.DataFrame(oe_results_gender.toarray(), columns=oe_style.categories_)\n",
    "gender=gender.drop(columns=['Decline to Self Identify'])\n",
    "gender.head()"
   ]
  },
  {
   "cell_type": "markdown",
   "metadata": {
    "id": "2xdGTPkvjAJ8"
   },
   "source": [
    "# Joining all the encoded dataset to the master dataset to create 'pathrise_ready'. Then we split the dataset to train and test based on 'pathrise_status'.\n"
   ]
  },
  {
   "cell_type": "code",
   "execution_count": 911,
   "metadata": {
    "colab": {
     "base_uri": "https://localhost:8080/",
     "height": 476
    },
    "executionInfo": {
     "elapsed": 679,
     "status": "ok",
     "timestamp": 1619504007589,
     "user": {
      "displayName": "Yadu Sarathchandran",
      "photoUrl": "",
      "userId": "14743288125860337631"
     },
     "user_tz": 300
    },
    "id": "aG0e58PyEiyZ",
    "outputId": "c57664b0-a0a4-439a-b447-5ba281441aa3"
   },
   "outputs": [
    {
     "data": {
      "text/html": [
       "<div>\n",
       "<style scoped>\n",
       "    .dataframe tbody tr th:only-of-type {\n",
       "        vertical-align: middle;\n",
       "    }\n",
       "\n",
       "    .dataframe tbody tr th {\n",
       "        vertical-align: top;\n",
       "    }\n",
       "\n",
       "    .dataframe thead th {\n",
       "        text-align: right;\n",
       "    }\n",
       "</style>\n",
       "<table border=\"1\" class=\"dataframe\">\n",
       "  <thead>\n",
       "    <tr style=\"text-align: right;\">\n",
       "      <th></th>\n",
       "      <th>pathrise_status</th>\n",
       "      <th>placed</th>\n",
       "      <th>number_of_interviews</th>\n",
       "      <th>professional_experience_ord</th>\n",
       "      <th>length_of_job_search_ord</th>\n",
       "      <th>(Bachelor's Degree,)</th>\n",
       "      <th>(Doctorate or Professional Degree,)</th>\n",
       "      <th>(GED or equivalent,)</th>\n",
       "      <th>(High School Graduate,)</th>\n",
       "      <th>(Master's Degree,)</th>\n",
       "      <th>(Some College, No Degree,)</th>\n",
       "      <th>(Some High School,)</th>\n",
       "      <th>(Behavioral interviewing,)</th>\n",
       "      <th>(Figuring out which jobs to apply for,)</th>\n",
       "      <th>(Getting past final round interviews,)</th>\n",
       "      <th>(Getting past mid-stage interviews,)</th>\n",
       "      <th>(Getting past phone screens,)</th>\n",
       "      <th>(Hearing back on my applications,)</th>\n",
       "      <th>(Lack of relevant experience,)</th>\n",
       "      <th>(Resume gap,)</th>\n",
       "      <th>(Technical interviewing,)</th>\n",
       "      <th>(Technical skills,)</th>\n",
       "      <th>(Contractor,)</th>\n",
       "      <th>(Employed Full-Time,)</th>\n",
       "      <th>(Employed Part-Time,)</th>\n",
       "      <th>(Student,)</th>\n",
       "      <th>(Unemployed,)</th>\n",
       "      <th>(Data,)</th>\n",
       "      <th>(Design,)</th>\n",
       "      <th>(PSO,)</th>\n",
       "      <th>(SWE,)</th>\n",
       "      <th>(Web,)</th>\n",
       "      <th>(Canada Citizen,)</th>\n",
       "      <th>(Citizen,)</th>\n",
       "      <th>(F1 Visa/CPT,)</th>\n",
       "      <th>(F1 Visa/OPT,)</th>\n",
       "      <th>(Green Card,)</th>\n",
       "      <th>(H1B,)</th>\n",
       "      <th>(Not Authorized,)</th>\n",
       "      <th>(Other,)</th>\n",
       "      <th>(STEM OPT,)</th>\n",
       "    </tr>\n",
       "  </thead>\n",
       "  <tbody>\n",
       "    <tr>\n",
       "      <th>0</th>\n",
       "      <td>Active</td>\n",
       "      <td>0</td>\n",
       "      <td>6.0</td>\n",
       "      <td>2.0</td>\n",
       "      <td>3.0</td>\n",
       "      <td>0.0</td>\n",
       "      <td>0.0</td>\n",
       "      <td>0.0</td>\n",
       "      <td>0.0</td>\n",
       "      <td>0.0</td>\n",
       "      <td>1.0</td>\n",
       "      <td>0.0</td>\n",
       "      <td>0.0</td>\n",
       "      <td>0.0</td>\n",
       "      <td>1.0</td>\n",
       "      <td>0.0</td>\n",
       "      <td>0.0</td>\n",
       "      <td>0.0</td>\n",
       "      <td>0.0</td>\n",
       "      <td>0.0</td>\n",
       "      <td>0.0</td>\n",
       "      <td>0.0</td>\n",
       "      <td>0.0</td>\n",
       "      <td>0.0</td>\n",
       "      <td>0.0</td>\n",
       "      <td>0.0</td>\n",
       "      <td>1.0</td>\n",
       "      <td>0.0</td>\n",
       "      <td>0.0</td>\n",
       "      <td>1.0</td>\n",
       "      <td>0.0</td>\n",
       "      <td>0.0</td>\n",
       "      <td>0.0</td>\n",
       "      <td>1.0</td>\n",
       "      <td>0.0</td>\n",
       "      <td>0.0</td>\n",
       "      <td>0.0</td>\n",
       "      <td>0.0</td>\n",
       "      <td>0.0</td>\n",
       "      <td>0.0</td>\n",
       "      <td>0.0</td>\n",
       "    </tr>\n",
       "    <tr>\n",
       "      <th>1</th>\n",
       "      <td>Closed Lost</td>\n",
       "      <td>0</td>\n",
       "      <td>0.0</td>\n",
       "      <td>1.0</td>\n",
       "      <td>1.0</td>\n",
       "      <td>0.0</td>\n",
       "      <td>0.0</td>\n",
       "      <td>0.0</td>\n",
       "      <td>0.0</td>\n",
       "      <td>1.0</td>\n",
       "      <td>0.0</td>\n",
       "      <td>0.0</td>\n",
       "      <td>0.0</td>\n",
       "      <td>1.0</td>\n",
       "      <td>0.0</td>\n",
       "      <td>0.0</td>\n",
       "      <td>0.0</td>\n",
       "      <td>0.0</td>\n",
       "      <td>0.0</td>\n",
       "      <td>0.0</td>\n",
       "      <td>0.0</td>\n",
       "      <td>0.0</td>\n",
       "      <td>0.0</td>\n",
       "      <td>0.0</td>\n",
       "      <td>1.0</td>\n",
       "      <td>0.0</td>\n",
       "      <td>0.0</td>\n",
       "      <td>0.0</td>\n",
       "      <td>1.0</td>\n",
       "      <td>0.0</td>\n",
       "      <td>0.0</td>\n",
       "      <td>0.0</td>\n",
       "      <td>0.0</td>\n",
       "      <td>1.0</td>\n",
       "      <td>0.0</td>\n",
       "      <td>0.0</td>\n",
       "      <td>0.0</td>\n",
       "      <td>0.0</td>\n",
       "      <td>0.0</td>\n",
       "      <td>0.0</td>\n",
       "      <td>0.0</td>\n",
       "    </tr>\n",
       "    <tr>\n",
       "      <th>2</th>\n",
       "      <td>Closed Lost</td>\n",
       "      <td>0</td>\n",
       "      <td>5.0</td>\n",
       "      <td>1.0</td>\n",
       "      <td>1.0</td>\n",
       "      <td>1.0</td>\n",
       "      <td>0.0</td>\n",
       "      <td>0.0</td>\n",
       "      <td>0.0</td>\n",
       "      <td>0.0</td>\n",
       "      <td>0.0</td>\n",
       "      <td>0.0</td>\n",
       "      <td>0.0</td>\n",
       "      <td>0.0</td>\n",
       "      <td>1.0</td>\n",
       "      <td>0.0</td>\n",
       "      <td>0.0</td>\n",
       "      <td>0.0</td>\n",
       "      <td>0.0</td>\n",
       "      <td>0.0</td>\n",
       "      <td>0.0</td>\n",
       "      <td>0.0</td>\n",
       "      <td>1.0</td>\n",
       "      <td>0.0</td>\n",
       "      <td>0.0</td>\n",
       "      <td>0.0</td>\n",
       "      <td>0.0</td>\n",
       "      <td>0.0</td>\n",
       "      <td>0.0</td>\n",
       "      <td>1.0</td>\n",
       "      <td>0.0</td>\n",
       "      <td>0.0</td>\n",
       "      <td>0.0</td>\n",
       "      <td>1.0</td>\n",
       "      <td>0.0</td>\n",
       "      <td>0.0</td>\n",
       "      <td>0.0</td>\n",
       "      <td>0.0</td>\n",
       "      <td>0.0</td>\n",
       "      <td>0.0</td>\n",
       "      <td>0.0</td>\n",
       "    </tr>\n",
       "    <tr>\n",
       "      <th>3</th>\n",
       "      <td>Placed</td>\n",
       "      <td>1</td>\n",
       "      <td>10.0</td>\n",
       "      <td>2.0</td>\n",
       "      <td>2.0</td>\n",
       "      <td>1.0</td>\n",
       "      <td>0.0</td>\n",
       "      <td>0.0</td>\n",
       "      <td>0.0</td>\n",
       "      <td>0.0</td>\n",
       "      <td>0.0</td>\n",
       "      <td>0.0</td>\n",
       "      <td>0.0</td>\n",
       "      <td>0.0</td>\n",
       "      <td>0.0</td>\n",
       "      <td>0.0</td>\n",
       "      <td>0.0</td>\n",
       "      <td>1.0</td>\n",
       "      <td>0.0</td>\n",
       "      <td>0.0</td>\n",
       "      <td>0.0</td>\n",
       "      <td>0.0</td>\n",
       "      <td>0.0</td>\n",
       "      <td>0.0</td>\n",
       "      <td>0.0</td>\n",
       "      <td>0.0</td>\n",
       "      <td>1.0</td>\n",
       "      <td>0.0</td>\n",
       "      <td>0.0</td>\n",
       "      <td>0.0</td>\n",
       "      <td>1.0</td>\n",
       "      <td>0.0</td>\n",
       "      <td>0.0</td>\n",
       "      <td>0.0</td>\n",
       "      <td>0.0</td>\n",
       "      <td>1.0</td>\n",
       "      <td>0.0</td>\n",
       "      <td>0.0</td>\n",
       "      <td>0.0</td>\n",
       "      <td>0.0</td>\n",
       "      <td>0.0</td>\n",
       "    </tr>\n",
       "    <tr>\n",
       "      <th>4</th>\n",
       "      <td>Closed Lost</td>\n",
       "      <td>0</td>\n",
       "      <td>5.0</td>\n",
       "      <td>3.0</td>\n",
       "      <td>2.0</td>\n",
       "      <td>0.0</td>\n",
       "      <td>0.0</td>\n",
       "      <td>0.0</td>\n",
       "      <td>0.0</td>\n",
       "      <td>1.0</td>\n",
       "      <td>0.0</td>\n",
       "      <td>0.0</td>\n",
       "      <td>0.0</td>\n",
       "      <td>0.0</td>\n",
       "      <td>0.0</td>\n",
       "      <td>0.0</td>\n",
       "      <td>0.0</td>\n",
       "      <td>0.0</td>\n",
       "      <td>0.0</td>\n",
       "      <td>0.0</td>\n",
       "      <td>1.0</td>\n",
       "      <td>0.0</td>\n",
       "      <td>0.0</td>\n",
       "      <td>1.0</td>\n",
       "      <td>0.0</td>\n",
       "      <td>0.0</td>\n",
       "      <td>0.0</td>\n",
       "      <td>0.0</td>\n",
       "      <td>0.0</td>\n",
       "      <td>0.0</td>\n",
       "      <td>1.0</td>\n",
       "      <td>0.0</td>\n",
       "      <td>0.0</td>\n",
       "      <td>0.0</td>\n",
       "      <td>0.0</td>\n",
       "      <td>0.0</td>\n",
       "      <td>1.0</td>\n",
       "      <td>0.0</td>\n",
       "      <td>0.0</td>\n",
       "      <td>0.0</td>\n",
       "      <td>0.0</td>\n",
       "    </tr>\n",
       "    <tr>\n",
       "      <th>...</th>\n",
       "      <td>...</td>\n",
       "      <td>...</td>\n",
       "      <td>...</td>\n",
       "      <td>...</td>\n",
       "      <td>...</td>\n",
       "      <td>...</td>\n",
       "      <td>...</td>\n",
       "      <td>...</td>\n",
       "      <td>...</td>\n",
       "      <td>...</td>\n",
       "      <td>...</td>\n",
       "      <td>...</td>\n",
       "      <td>...</td>\n",
       "      <td>...</td>\n",
       "      <td>...</td>\n",
       "      <td>...</td>\n",
       "      <td>...</td>\n",
       "      <td>...</td>\n",
       "      <td>...</td>\n",
       "      <td>...</td>\n",
       "      <td>...</td>\n",
       "      <td>...</td>\n",
       "      <td>...</td>\n",
       "      <td>...</td>\n",
       "      <td>...</td>\n",
       "      <td>...</td>\n",
       "      <td>...</td>\n",
       "      <td>...</td>\n",
       "      <td>...</td>\n",
       "      <td>...</td>\n",
       "      <td>...</td>\n",
       "      <td>...</td>\n",
       "      <td>...</td>\n",
       "      <td>...</td>\n",
       "      <td>...</td>\n",
       "      <td>...</td>\n",
       "      <td>...</td>\n",
       "      <td>...</td>\n",
       "      <td>...</td>\n",
       "      <td>...</td>\n",
       "      <td>...</td>\n",
       "    </tr>\n",
       "    <tr>\n",
       "      <th>1413</th>\n",
       "      <td>Placed</td>\n",
       "      <td>1</td>\n",
       "      <td>0.0</td>\n",
       "      <td>2.0</td>\n",
       "      <td>2.0</td>\n",
       "      <td>1.0</td>\n",
       "      <td>0.0</td>\n",
       "      <td>0.0</td>\n",
       "      <td>0.0</td>\n",
       "      <td>0.0</td>\n",
       "      <td>0.0</td>\n",
       "      <td>0.0</td>\n",
       "      <td>0.0</td>\n",
       "      <td>0.0</td>\n",
       "      <td>0.0</td>\n",
       "      <td>0.0</td>\n",
       "      <td>1.0</td>\n",
       "      <td>0.0</td>\n",
       "      <td>0.0</td>\n",
       "      <td>0.0</td>\n",
       "      <td>0.0</td>\n",
       "      <td>0.0</td>\n",
       "      <td>0.0</td>\n",
       "      <td>1.0</td>\n",
       "      <td>0.0</td>\n",
       "      <td>0.0</td>\n",
       "      <td>0.0</td>\n",
       "      <td>0.0</td>\n",
       "      <td>0.0</td>\n",
       "      <td>0.0</td>\n",
       "      <td>1.0</td>\n",
       "      <td>0.0</td>\n",
       "      <td>0.0</td>\n",
       "      <td>1.0</td>\n",
       "      <td>0.0</td>\n",
       "      <td>0.0</td>\n",
       "      <td>0.0</td>\n",
       "      <td>0.0</td>\n",
       "      <td>0.0</td>\n",
       "      <td>0.0</td>\n",
       "      <td>0.0</td>\n",
       "    </tr>\n",
       "    <tr>\n",
       "      <th>1414</th>\n",
       "      <td>Withdrawn</td>\n",
       "      <td>0</td>\n",
       "      <td>1.0</td>\n",
       "      <td>5.0</td>\n",
       "      <td>1.0</td>\n",
       "      <td>0.0</td>\n",
       "      <td>0.0</td>\n",
       "      <td>0.0</td>\n",
       "      <td>0.0</td>\n",
       "      <td>1.0</td>\n",
       "      <td>0.0</td>\n",
       "      <td>0.0</td>\n",
       "      <td>0.0</td>\n",
       "      <td>0.0</td>\n",
       "      <td>0.0</td>\n",
       "      <td>0.0</td>\n",
       "      <td>0.0</td>\n",
       "      <td>0.0</td>\n",
       "      <td>1.0</td>\n",
       "      <td>0.0</td>\n",
       "      <td>0.0</td>\n",
       "      <td>0.0</td>\n",
       "      <td>0.0</td>\n",
       "      <td>0.0</td>\n",
       "      <td>1.0</td>\n",
       "      <td>0.0</td>\n",
       "      <td>0.0</td>\n",
       "      <td>0.0</td>\n",
       "      <td>0.0</td>\n",
       "      <td>0.0</td>\n",
       "      <td>1.0</td>\n",
       "      <td>0.0</td>\n",
       "      <td>0.0</td>\n",
       "      <td>0.0</td>\n",
       "      <td>0.0</td>\n",
       "      <td>0.0</td>\n",
       "      <td>0.0</td>\n",
       "      <td>0.0</td>\n",
       "      <td>0.0</td>\n",
       "      <td>1.0</td>\n",
       "      <td>0.0</td>\n",
       "    </tr>\n",
       "    <tr>\n",
       "      <th>1415</th>\n",
       "      <td>Withdrawn (Failed)</td>\n",
       "      <td>0</td>\n",
       "      <td>4.0</td>\n",
       "      <td>5.0</td>\n",
       "      <td>4.0</td>\n",
       "      <td>0.0</td>\n",
       "      <td>0.0</td>\n",
       "      <td>0.0</td>\n",
       "      <td>0.0</td>\n",
       "      <td>1.0</td>\n",
       "      <td>0.0</td>\n",
       "      <td>0.0</td>\n",
       "      <td>0.0</td>\n",
       "      <td>0.0</td>\n",
       "      <td>0.0</td>\n",
       "      <td>0.0</td>\n",
       "      <td>0.0</td>\n",
       "      <td>0.0</td>\n",
       "      <td>0.0</td>\n",
       "      <td>0.0</td>\n",
       "      <td>1.0</td>\n",
       "      <td>0.0</td>\n",
       "      <td>1.0</td>\n",
       "      <td>0.0</td>\n",
       "      <td>0.0</td>\n",
       "      <td>0.0</td>\n",
       "      <td>0.0</td>\n",
       "      <td>0.0</td>\n",
       "      <td>1.0</td>\n",
       "      <td>0.0</td>\n",
       "      <td>0.0</td>\n",
       "      <td>0.0</td>\n",
       "      <td>0.0</td>\n",
       "      <td>1.0</td>\n",
       "      <td>0.0</td>\n",
       "      <td>0.0</td>\n",
       "      <td>0.0</td>\n",
       "      <td>0.0</td>\n",
       "      <td>0.0</td>\n",
       "      <td>0.0</td>\n",
       "      <td>0.0</td>\n",
       "    </tr>\n",
       "    <tr>\n",
       "      <th>1416</th>\n",
       "      <td>Active</td>\n",
       "      <td>0</td>\n",
       "      <td>1.0</td>\n",
       "      <td>2.0</td>\n",
       "      <td>1.0</td>\n",
       "      <td>1.0</td>\n",
       "      <td>0.0</td>\n",
       "      <td>0.0</td>\n",
       "      <td>0.0</td>\n",
       "      <td>0.0</td>\n",
       "      <td>0.0</td>\n",
       "      <td>0.0</td>\n",
       "      <td>0.0</td>\n",
       "      <td>0.0</td>\n",
       "      <td>0.0</td>\n",
       "      <td>0.0</td>\n",
       "      <td>0.0</td>\n",
       "      <td>0.0</td>\n",
       "      <td>0.0</td>\n",
       "      <td>0.0</td>\n",
       "      <td>1.0</td>\n",
       "      <td>0.0</td>\n",
       "      <td>1.0</td>\n",
       "      <td>0.0</td>\n",
       "      <td>0.0</td>\n",
       "      <td>0.0</td>\n",
       "      <td>0.0</td>\n",
       "      <td>0.0</td>\n",
       "      <td>0.0</td>\n",
       "      <td>0.0</td>\n",
       "      <td>1.0</td>\n",
       "      <td>0.0</td>\n",
       "      <td>0.0</td>\n",
       "      <td>1.0</td>\n",
       "      <td>0.0</td>\n",
       "      <td>0.0</td>\n",
       "      <td>0.0</td>\n",
       "      <td>0.0</td>\n",
       "      <td>0.0</td>\n",
       "      <td>0.0</td>\n",
       "      <td>0.0</td>\n",
       "    </tr>\n",
       "    <tr>\n",
       "      <th>1417</th>\n",
       "      <td>Withdrawn</td>\n",
       "      <td>0</td>\n",
       "      <td>3.0</td>\n",
       "      <td>2.0</td>\n",
       "      <td>2.0</td>\n",
       "      <td>0.0</td>\n",
       "      <td>0.0</td>\n",
       "      <td>0.0</td>\n",
       "      <td>0.0</td>\n",
       "      <td>1.0</td>\n",
       "      <td>0.0</td>\n",
       "      <td>0.0</td>\n",
       "      <td>0.0</td>\n",
       "      <td>0.0</td>\n",
       "      <td>0.0</td>\n",
       "      <td>0.0</td>\n",
       "      <td>0.0</td>\n",
       "      <td>1.0</td>\n",
       "      <td>0.0</td>\n",
       "      <td>0.0</td>\n",
       "      <td>0.0</td>\n",
       "      <td>0.0</td>\n",
       "      <td>0.0</td>\n",
       "      <td>0.0</td>\n",
       "      <td>0.0</td>\n",
       "      <td>1.0</td>\n",
       "      <td>0.0</td>\n",
       "      <td>0.0</td>\n",
       "      <td>0.0</td>\n",
       "      <td>0.0</td>\n",
       "      <td>1.0</td>\n",
       "      <td>0.0</td>\n",
       "      <td>0.0</td>\n",
       "      <td>0.0</td>\n",
       "      <td>0.0</td>\n",
       "      <td>0.0</td>\n",
       "      <td>1.0</td>\n",
       "      <td>0.0</td>\n",
       "      <td>0.0</td>\n",
       "      <td>0.0</td>\n",
       "      <td>0.0</td>\n",
       "    </tr>\n",
       "  </tbody>\n",
       "</table>\n",
       "<p>1418 rows × 41 columns</p>\n",
       "</div>"
      ],
      "text/plain": [
       "         pathrise_status  placed  ...  (Other,)  (STEM OPT,)\n",
       "0                 Active       0  ...       0.0          0.0\n",
       "1            Closed Lost       0  ...       0.0          0.0\n",
       "2            Closed Lost       0  ...       0.0          0.0\n",
       "3                 Placed       1  ...       0.0          0.0\n",
       "4            Closed Lost       0  ...       0.0          0.0\n",
       "...                  ...     ...  ...       ...          ...\n",
       "1413              Placed       1  ...       0.0          0.0\n",
       "1414           Withdrawn       0  ...       1.0          0.0\n",
       "1415  Withdrawn (Failed)       0  ...       0.0          0.0\n",
       "1416              Active       0  ...       0.0          0.0\n",
       "1417           Withdrawn       0  ...       0.0          0.0\n",
       "\n",
       "[1418 rows x 41 columns]"
      ]
     },
     "execution_count": 911,
     "metadata": {
      "tags": []
     },
     "output_type": "execute_result"
    }
   ],
   "source": [
    "pathrise_ready=pathrise_first.reset_index(drop=True, inplace=False)\n",
    "pathrise_ready=pathrise_ready.join(education).join(big_challenge).join(employ_stat).join(primary_track).join(work_author) #.join(race).join(gender)\n",
    "pathrise_ready=pathrise_ready.drop(columns=['highest_level_of_education', 'primary_track', 'employment_status', 'biggest_challenge_in_search', 'work_authorization_status', 'race', 'gender', 'number_of_applications'])\n",
    "\n",
    "pathrise_ready"
   ]
  },
  {
   "cell_type": "code",
   "execution_count": 918,
   "metadata": {
    "executionInfo": {
     "elapsed": 1110,
     "status": "ok",
     "timestamp": 1619504089632,
     "user": {
      "displayName": "Yadu Sarathchandran",
      "photoUrl": "",
      "userId": "14743288125860337631"
     },
     "user_tz": 300
    },
    "id": "y4VuowMKCXIX"
   },
   "outputs": [],
   "source": [
    "pathrise_test=pathrise_ready[(pathrise_ready['pathrise_status']=='Active') | (pathrise_ready['pathrise_status']=='Break')].drop(columns='pathrise_status')\n",
    "pathrise_train=pathrise_ready[(pathrise_ready['pathrise_status']!='Active') & (pathrise_ready['pathrise_status']!='Break')].drop(columns='pathrise_status')"
   ]
  },
  {
   "cell_type": "markdown",
   "metadata": {
    "id": "9lpTYuMt32F7"
   },
   "source": [
    "# Training and testing data"
   ]
  },
  {
   "cell_type": "code",
   "execution_count": 919,
   "metadata": {
    "executionInfo": {
     "elapsed": 613,
     "status": "ok",
     "timestamp": 1619504092786,
     "user": {
      "displayName": "Yadu Sarathchandran",
      "photoUrl": "",
      "userId": "14743288125860337631"
     },
     "user_tz": 300
    },
    "id": "ExVY9WuxQ1Ew"
   },
   "outputs": [],
   "source": [
    "X_train=pathrise_train.drop(columns='placed')\n",
    "y_train=pathrise_train['placed']\n",
    "\n",
    "X_test=pathrise_test.drop(columns='placed')\n",
    "y_test=pathrise_test['placed']\n",
    "\n",
    "# We use 'train_test_split' from Sckit_learn to create a training and validation datasets.\n",
    "\n",
    "X_train, X_val, y_train, y_val = train_test_split(X_train, y_train, test_size = 0.2, random_state = 0)"
   ]
  },
  {
   "cell_type": "markdown",
   "metadata": {
    "id": "0bihvxB7CheT"
   },
   "source": [
    "# Dimensionality reduction using PCA"
   ]
  },
  {
   "cell_type": "code",
   "execution_count": 920,
   "metadata": {
    "executionInfo": {
     "elapsed": 570,
     "status": "ok",
     "timestamp": 1619504095741,
     "user": {
      "displayName": "Yadu Sarathchandran",
      "photoUrl": "",
      "userId": "14743288125860337631"
     },
     "user_tz": 300
    },
    "id": "w-CyMSJSCdg4"
   },
   "outputs": [],
   "source": [
    "from sklearn import decomposition\n",
    "from sklearn.decomposition import PCA\n",
    "\n",
    "pca = decomposition.PCA() #n_components=5\n",
    "pca.fit(X_train)\n",
    "X_train = pca.transform(X_train)\n",
    "X_val = pca.transform(X_val)\n",
    "X_test = pca.transform(X_test)"
   ]
  },
  {
   "cell_type": "code",
   "execution_count": 921,
   "metadata": {
    "executionInfo": {
     "elapsed": 591,
     "status": "ok",
     "timestamp": 1619504099540,
     "user": {
      "displayName": "Yadu Sarathchandran",
      "photoUrl": "",
      "userId": "14743288125860337631"
     },
     "user_tz": 300
    },
    "id": "eQauRi6Rnggk"
   },
   "outputs": [],
   "source": [
    "# Feature scaling\n",
    "from sklearn.preprocessing import StandardScaler\n",
    "\n",
    "sc = StandardScaler()\n",
    "X_train = sc.fit_transform(X_train)\n",
    "X_val = sc.transform(X_val)\n",
    "X_test = sc.transform(X_test)"
   ]
  },
  {
   "cell_type": "markdown",
   "metadata": {
    "id": "h3vpjUBhzGsQ"
   },
   "source": [
    "# Decision Tree model"
   ]
  },
  {
   "cell_type": "code",
   "execution_count": 922,
   "metadata": {
    "colab": {
     "base_uri": "https://localhost:8080/",
     "height": 282
    },
    "executionInfo": {
     "elapsed": 1973,
     "status": "ok",
     "timestamp": 1619504104529,
     "user": {
      "displayName": "Yadu Sarathchandran",
      "photoUrl": "",
      "userId": "14743288125860337631"
     },
     "user_tz": 300
    },
    "id": "FPYehzB4lRs5",
    "outputId": "a39faad6-a104-49d0-df8e-c1a89cd45e8d"
   },
   "outputs": [
    {
     "data": {
      "image/png": "[encoded data removed]",
      "text/plain": [
       "<Figure size 432x288 with 1 Axes>"
      ]
     },
     "metadata": {
      "needs_background": "light",
      "tags": []
     },
     "output_type": "display_data"
    }
   ],
   "source": [
    "clf = DecisionTreeClassifier()\n",
    "cv_score = cross_val_score(clf, \n",
    "                            X_train, y_train,\n",
    "                            scoring = 'accuracy',\n",
    "                            cv = 5,\n",
    "                            n_jobs = -1,\n",
    "                            verbose = 0)\n",
    "\n",
    "plt.plot(cv_score, 'd-',label='Decision Tree Classifier')\n",
    "plt.xlabel('# of folds of cross validation')\n",
    "plt.ylabel('Accuracy')\n",
    "plt.ylim(0,0.9)\n",
    "plt.legend()\n",
    "\n",
    "plt.show()"
   ]
  },
  {
   "cell_type": "markdown",
   "metadata": {
    "id": "St8L2cd4y_1F"
   },
   "source": [
    "# Logistic regression model"
   ]
  },
  {
   "cell_type": "code",
   "execution_count": 923,
   "metadata": {
    "colab": {
     "base_uri": "https://localhost:8080/",
     "height": 282
    },
    "executionInfo": {
     "elapsed": 992,
     "status": "ok",
     "timestamp": 1619504109228,
     "user": {
      "displayName": "Yadu Sarathchandran",
      "photoUrl": "",
      "userId": "14743288125860337631"
     },
     "user_tz": 300
    },
    "id": "sCfziRRGlZV0",
    "outputId": "895f146c-dcbe-4a71-e6ef-fdf5c2b1ca65"
   },
   "outputs": [
    {
     "data": {
      "image/png": "[encoded data removed]",
      "text/plain": [
       "<Figure size 432x288 with 1 Axes>"
      ]
     },
     "metadata": {
      "needs_background": "light",
      "tags": []
     },
     "output_type": "display_data"
    }
   ],
   "source": [
    "clf=LogisticRegression()\n",
    "cv_score = cross_val_score(clf, \n",
    "                            X_train, y_train,\n",
    "                            scoring = 'accuracy',\n",
    "                            cv = 5,\n",
    "                            n_jobs = -1,\n",
    "                            verbose = 0)\n",
    "\n",
    "plt.plot(cv_score, 'go-',label='Logistic Regression Classifier')\n",
    "plt.xlabel('# of folds of cross validation')\n",
    "plt.ylabel('Accuracy')\n",
    "plt.ylim(0,0.9)\n",
    "plt.legend()\n",
    "plt.show()"
   ]
  },
  {
   "cell_type": "markdown",
   "metadata": {
    "id": "YdXqjfNq3oBm"
   },
   "source": [
    "# Random Forest Classifier"
   ]
  },
  {
   "cell_type": "code",
   "execution_count": 924,
   "metadata": {
    "colab": {
     "base_uri": "https://localhost:8080/",
     "height": 282
    },
    "executionInfo": {
     "elapsed": 1541,
     "status": "ok",
     "timestamp": 1619504115222,
     "user": {
      "displayName": "Yadu Sarathchandran",
      "photoUrl": "",
      "userId": "14743288125860337631"
     },
     "user_tz": 300
    },
    "id": "roc71jYt4Fz7",
    "outputId": "76050f82-9408-4684-f73b-c7ac5d8ba8f2"
   },
   "outputs": [
    {
     "data": {
      "image/png": "[encoded data removed]",
      "text/plain": [
       "<Figure size 432x288 with 1 Axes>"
      ]
     },
     "metadata": {
      "needs_background": "light",
      "tags": []
     },
     "output_type": "display_data"
    }
   ],
   "source": [
    "clf = RandomForestClassifier(n_estimators=40, random_state=0)\n",
    "cv_score = cross_val_score(clf, \n",
    "                            X_train, y_train,\n",
    "                            scoring = 'accuracy',\n",
    "                            cv = 5,\n",
    "                            n_jobs = -1,\n",
    "                            verbose = 0)\n",
    "\n",
    "plt.plot(cv_score, 'rd-',label='RF Classifier')\n",
    "plt.xlabel('# of folds of cross validation')\n",
    "plt.ylabel('Accuracy')\n",
    "plt.ylim(0,0.9)\n",
    "plt.legend()\n",
    "plt.show()"
   ]
  },
  {
   "cell_type": "markdown",
   "metadata": {
    "id": "Rn9-qkR2BMb7"
   },
   "source": [
    "# K-NN Classifier"
   ]
  },
  {
   "cell_type": "code",
   "execution_count": 925,
   "metadata": {
    "colab": {
     "base_uri": "https://localhost:8080/",
     "height": 282
    },
    "executionInfo": {
     "elapsed": 978,
     "status": "ok",
     "timestamp": 1619504120068,
     "user": {
      "displayName": "Yadu Sarathchandran",
      "photoUrl": "",
      "userId": "14743288125860337631"
     },
     "user_tz": 300
    },
    "id": "uAcNUVvLBQGC",
    "outputId": "27f41234-6f22-42e3-9325-0a4b70f3e84d"
   },
   "outputs": [
    {
     "data": {
      "image/png": "[encoded data removed]",
      "text/plain": [
       "<Figure size 432x288 with 1 Axes>"
      ]
     },
     "metadata": {
      "needs_background": "light",
      "tags": []
     },
     "output_type": "display_data"
    }
   ],
   "source": [
    "from sklearn.neighbors import KNeighborsClassifier\n",
    "\n",
    "clf = KNeighborsClassifier(n_neighbors=6)\n",
    "cv_score = cross_val_score(clf, \n",
    "                            X_train, y_train,\n",
    "                            scoring = 'accuracy',\n",
    "                            cv = 5,\n",
    "                            n_jobs = -1,\n",
    "                            verbose = 0)\n",
    "\n",
    "plt.plot(cv_score, 'd-',label='k-NN Classifier')\n",
    "plt.xlabel('run # of the cross validation')\n",
    "plt.ylabel('Accuracy')\n",
    "plt.ylim(0,0.9)\n",
    "plt.legend()\n",
    "plt.show()"
   ]
  },
  {
   "cell_type": "code",
   "execution_count": 926,
   "metadata": {
    "colab": {
     "base_uri": "https://localhost:8080/",
     "height": 278
    },
    "executionInfo": {
     "elapsed": 2051,
     "status": "ok",
     "timestamp": 1619504127802,
     "user": {
      "displayName": "Yadu Sarathchandran",
      "photoUrl": "",
      "userId": "14743288125860337631"
     },
     "user_tz": 300
    },
    "id": "IRW6PkmJS1_N",
    "outputId": "3767cac3-f966-4437-b11f-521e96711038"
   },
   "outputs": [
    {
     "data": {
      "image/png": "[encoded data removed]",
      "text/plain": [
       "<Figure size 432x288 with 1 Axes>"
      ]
     },
     "metadata": {
      "needs_background": "light",
      "tags": []
     },
     "output_type": "display_data"
    }
   ],
   "source": [
    "from sklearn.ensemble import RandomForestClassifier\n",
    "from sklearn.metrics import classification_report, confusion_matrix, accuracy_score\n",
    "\n",
    "accu=[]\n",
    "for i in np.arange(10, 80, 10):\n",
    "  classifier = RandomForestClassifier(n_estimators=i, random_state=0)\n",
    "  classifier.fit(X_train, y_train)\n",
    "  y_pred = classifier.predict(X_val)\n",
    "\n",
    "  # print(confusion_matrix(y_val,y_pred))\n",
    "  # print(classification_report(y_val,y_pred))\n",
    "  # print(accuracy_score(y_val, y_pred))\n",
    "  accu.append(accuracy_score(y_val, y_pred))\n",
    "\n",
    "plt.plot(np.arange(10, 80, 10), accu, '.-')\n",
    "plt.xlabel('# of Trees')\n",
    "plt.ylabel('Accuracy')\n",
    "plt.show()\n",
    "# plt.savefig('rf_training.png')"
   ]
  },
  {
   "cell_type": "code",
   "execution_count": 927,
   "metadata": {
    "colab": {
     "base_uri": "https://localhost:8080/",
     "height": 473
    },
    "executionInfo": {
     "elapsed": 934,
     "status": "ok",
     "timestamp": 1619504141635,
     "user": {
      "displayName": "Yadu Sarathchandran",
      "photoUrl": "",
      "userId": "14743288125860337631"
     },
     "user_tz": 300
    },
    "id": "hLQLOQ9woVwt",
    "outputId": "669d57f6-e5ac-4c7a-ce09-36d07c6f6ad6"
   },
   "outputs": [
    {
     "name": "stdout",
     "output_type": "stream",
     "text": [
      "[[73 40]\n",
      " [68 37]]\n",
      "              precision    recall  f1-score   support\n",
      "\n",
      "           0       0.52      0.65      0.57       113\n",
      "           1       0.48      0.35      0.41       105\n",
      "\n",
      "    accuracy                           0.50       218\n",
      "   macro avg       0.50      0.50      0.49       218\n",
      "weighted avg       0.50      0.50      0.49       218\n",
      "\n",
      "0.5045871559633027\n"
     ]
    },
    {
     "data": {
      "image/png": "[encoded data removed]",
      "text/plain": [
       "<Figure size 432x288 with 2 Axes>"
      ]
     },
     "metadata": {
      "needs_background": "light",
      "tags": []
     },
     "output_type": "display_data"
    }
   ],
   "source": [
    "from sklearn.metrics import plot_confusion_matrix\n",
    "\n",
    "classifier = RandomForestClassifier(n_estimators=20, random_state=0)\n",
    "classifier.fit(X_train, y_train)\n",
    "y_pred = classifier.predict(X_val)\n",
    "\n",
    "print(confusion_matrix(y_val,y_pred))\n",
    "print(classification_report(y_val,y_pred))\n",
    "print(accuracy_score(y_val, y_pred))\n",
    "plot_confusion_matrix(classifier, X_val, y_val)  \n",
    "plt.show()"
   ]
  },
  {
   "cell_type": "markdown",
   "metadata": {
    "id": "MvNke5w2J5Ch"
   },
   "source": [
    "# Task - 2\n",
    "\n",
    "## Determine how fast do fellows get placed"
   ]
  },
  {
   "cell_type": "code",
   "execution_count": 928,
   "metadata": {
    "colab": {
     "base_uri": "https://localhost:8080/"
    },
    "executionInfo": {
     "elapsed": 499,
     "status": "ok",
     "timestamp": 1619504151136,
     "user": {
      "displayName": "Yadu Sarathchandran",
      "photoUrl": "",
      "userId": "14743288125860337631"
     },
     "user_tz": 300
    },
    "id": "doXb4Evsy3C9",
    "outputId": "6de329e3-7d32-4278-92dc-8c6d80b16c8f"
   },
   "outputs": [
    {
     "name": "stdout",
     "output_type": "stream",
     "text": [
      "Before removing missing values, shape: (2438, 14)\n",
      "After removing missing values, shape: (1062, 14)\n"
     ]
    }
   ],
   "source": [
    "# Removing the outliers in 'number_of_applications': 400 and 1000 applications are way above 95%.\n",
    "\n",
    "pathrise_2=pathrise.drop(columns=['id', 'cohort_tag', 'professional_experience', 'length_of_job_search']) \n",
    "print('Before removing missing values, shape:', pathrise_2.shape)\n",
    "\n",
    "pathrise_2.dropna(inplace=True)\n",
    "print('After removing missing values, shape:', pathrise_2.shape)"
   ]
  },
  {
   "cell_type": "code",
   "execution_count": 929,
   "metadata": {
    "colab": {
     "base_uri": "https://localhost:8080/",
     "height": 438
    },
    "executionInfo": {
     "elapsed": 628,
     "status": "ok",
     "timestamp": 1619504154191,
     "user": {
      "displayName": "Yadu Sarathchandran",
      "photoUrl": "",
      "userId": "14743288125860337631"
     },
     "user_tz": 300
    },
    "id": "7_HE2E_Hs3JR",
    "outputId": "842ed9a8-3b76-4fa3-ed29-490ef89c06cc"
   },
   "outputs": [
    {
     "data": {
      "text/html": [
       "<div>\n",
       "<style scoped>\n",
       "    .dataframe tbody tr th:only-of-type {\n",
       "        vertical-align: middle;\n",
       "    }\n",
       "\n",
       "    .dataframe tbody tr th {\n",
       "        vertical-align: top;\n",
       "    }\n",
       "\n",
       "    .dataframe thead th {\n",
       "        text-align: right;\n",
       "    }\n",
       "</style>\n",
       "<table border=\"1\" class=\"dataframe\">\n",
       "  <thead>\n",
       "    <tr style=\"text-align: right;\">\n",
       "      <th></th>\n",
       "      <th>primary_track</th>\n",
       "      <th>program_duration_days</th>\n",
       "      <th>employment_status</th>\n",
       "      <th>highest_level_of_education</th>\n",
       "      <th>biggest_challenge_in_search</th>\n",
       "      <th>work_authorization_status</th>\n",
       "      <th>number_of_interviews</th>\n",
       "      <th>number_of_applications</th>\n",
       "      <th>gender</th>\n",
       "      <th>race</th>\n",
       "      <th>professional_experience_ord</th>\n",
       "      <th>length_of_job_search_ord</th>\n",
       "    </tr>\n",
       "  </thead>\n",
       "  <tbody>\n",
       "    <tr>\n",
       "      <th>4</th>\n",
       "      <td>SWE</td>\n",
       "      <td>89.0</td>\n",
       "      <td>Unemployed</td>\n",
       "      <td>Bachelor's Degree</td>\n",
       "      <td>Hearing back on my applications</td>\n",
       "      <td>F1 Visa/OPT</td>\n",
       "      <td>10.0</td>\n",
       "      <td>100</td>\n",
       "      <td>Male</td>\n",
       "      <td>East Asian or Asian American</td>\n",
       "      <td>2.0</td>\n",
       "      <td>2.0</td>\n",
       "    </tr>\n",
       "    <tr>\n",
       "      <th>23</th>\n",
       "      <td>PSO</td>\n",
       "      <td>193.0</td>\n",
       "      <td>Unemployed</td>\n",
       "      <td>Master's Degree</td>\n",
       "      <td>Hearing back on my applications</td>\n",
       "      <td>Citizen</td>\n",
       "      <td>5.0</td>\n",
       "      <td>4</td>\n",
       "      <td>Male</td>\n",
       "      <td>Non-Hispanic White or Euro-American</td>\n",
       "      <td>2.0</td>\n",
       "      <td>4.0</td>\n",
       "    </tr>\n",
       "    <tr>\n",
       "      <th>30</th>\n",
       "      <td>SWE</td>\n",
       "      <td>73.0</td>\n",
       "      <td>Student</td>\n",
       "      <td>Master's Degree</td>\n",
       "      <td>Figuring out which jobs to apply for</td>\n",
       "      <td>F1 Visa/CPT</td>\n",
       "      <td>0.0</td>\n",
       "      <td>1</td>\n",
       "      <td>Male</td>\n",
       "      <td>East Asian or Asian American</td>\n",
       "      <td>2.0</td>\n",
       "      <td>1.0</td>\n",
       "    </tr>\n",
       "    <tr>\n",
       "      <th>54</th>\n",
       "      <td>SWE</td>\n",
       "      <td>76.0</td>\n",
       "      <td>Student</td>\n",
       "      <td>Master's Degree</td>\n",
       "      <td>Getting past final round interviews</td>\n",
       "      <td>F1 Visa/OPT</td>\n",
       "      <td>0.0</td>\n",
       "      <td>30</td>\n",
       "      <td>Female</td>\n",
       "      <td>East Asian or Asian American</td>\n",
       "      <td>3.0</td>\n",
       "      <td>1.0</td>\n",
       "    </tr>\n",
       "    <tr>\n",
       "      <th>63</th>\n",
       "      <td>SWE</td>\n",
       "      <td>65.0</td>\n",
       "      <td>Unemployed</td>\n",
       "      <td>Bachelor's Degree</td>\n",
       "      <td>Getting past phone screens</td>\n",
       "      <td>F1 Visa/OPT</td>\n",
       "      <td>0.0</td>\n",
       "      <td>0</td>\n",
       "      <td>Female</td>\n",
       "      <td>Black, Afro-Caribbean, or African American</td>\n",
       "      <td>2.0</td>\n",
       "      <td>2.0</td>\n",
       "    </tr>\n",
       "  </tbody>\n",
       "</table>\n",
       "</div>"
      ],
      "text/plain": [
       "   primary_track  ...  length_of_job_search_ord\n",
       "4            SWE  ...                       2.0\n",
       "23           PSO  ...                       4.0\n",
       "30           SWE  ...                       1.0\n",
       "54           SWE  ...                       1.0\n",
       "63           SWE  ...                       2.0\n",
       "\n",
       "[5 rows x 12 columns]"
      ]
     },
     "execution_count": 929,
     "metadata": {
      "tags": []
     },
     "output_type": "execute_result"
    }
   ],
   "source": [
    "pathrise_2_train=pathrise_2[(pathrise_2['pathrise_status']=='Placed') & (pathrise_2['placed']==1)].drop(columns=['pathrise_status', 'placed'])\n",
    "pathrise_2_train.head()"
   ]
  },
  {
   "cell_type": "code",
   "execution_count": 930,
   "metadata": {
    "colab": {
     "base_uri": "https://localhost:8080/",
     "height": 478
    },
    "executionInfo": {
     "elapsed": 1017,
     "status": "ok",
     "timestamp": 1619504158569,
     "user": {
      "displayName": "Yadu Sarathchandran",
      "photoUrl": "",
      "userId": "14743288125860337631"
     },
     "user_tz": 300
    },
    "id": "wKVylQc7o0US",
    "outputId": "e27bf7b7-9b50-410b-a591-1d2eaef95324"
   },
   "outputs": [
    {
     "name": "stdout",
     "output_type": "stream",
     "text": [
      "count    525.000000\n",
      "mean     162.889524\n",
      "std      103.029248\n",
      "min        1.000000\n",
      "25%       78.000000\n",
      "50%      144.000000\n",
      "75%      239.000000\n",
      "max      548.000000\n",
      "Name: program_duration_days, dtype: float64\n"
     ]
    },
    {
     "name": "stderr",
     "output_type": "stream",
     "text": [
      "/usr/local/lib/python3.7/dist-packages/seaborn/distributions.py:2557: FutureWarning: `distplot` is a deprecated function and will be removed in a future version. Please adapt your code to use either `displot` (a figure-level function with similar flexibility) or `histplot` (an axes-level function for histograms).\n",
      "  warnings.warn(msg, FutureWarning)\n"
     ]
    },
    {
     "data": {
      "image/png": "[encoded data removed]",
      "text/plain": [
       "<Figure size 432x288 with 1 Axes>"
      ]
     },
     "metadata": {
      "needs_background": "light",
      "tags": []
     },
     "output_type": "display_data"
    }
   ],
   "source": [
    "# See the statistics of the target variable \n",
    "\n",
    "print(pathrise_2_train['program_duration_days'].describe())\n",
    "sns.distplot(pathrise_2_train['program_duration_days'])\n",
    "plt.show()"
   ]
  },
  {
   "cell_type": "code",
   "execution_count": 931,
   "metadata": {
    "colab": {
     "base_uri": "https://localhost:8080/"
    },
    "executionInfo": {
     "elapsed": 615,
     "status": "ok",
     "timestamp": 1619504162156,
     "user": {
      "displayName": "Yadu Sarathchandran",
      "photoUrl": "",
      "userId": "14743288125860337631"
     },
     "user_tz": 300
    },
    "id": "r6u1RZO6qJFH",
    "outputId": "e387a188-f29d-4162-adf7-fce8ac48941c"
   },
   "outputs": [
    {
     "name": "stdout",
     "output_type": "stream",
     "text": [
      "Skewness: 0.714148\n",
      "Kurtosis: 0.239682\n"
     ]
    }
   ],
   "source": [
    "# Check skewness and the curtosis\n",
    "\n",
    "print(\"Skewness: %f\" % pathrise_2_train['program_duration_days'].skew())\n",
    "print(\"Kurtosis: %f\" % pathrise_2_train['program_duration_days'].kurt())"
   ]
  },
  {
   "cell_type": "code",
   "execution_count": 932,
   "metadata": {
    "colab": {
     "base_uri": "https://localhost:8080/",
     "height": 392
    },
    "executionInfo": {
     "elapsed": 793,
     "status": "ok",
     "timestamp": 1619504165536,
     "user": {
      "displayName": "Yadu Sarathchandran",
      "photoUrl": "",
      "userId": "14743288125860337631"
     },
     "user_tz": 300
    },
    "id": "ctzwZQhWrimQ",
    "outputId": "1dc09f7d-0b2e-4925-e503-8a8e62424977"
   },
   "outputs": [
    {
     "data": {
      "image/png": "[encoded data removed]",
      "text/plain": [
       "<Figure size 576x432 with 1 Axes>"
      ]
     },
     "metadata": {
      "needs_background": "light",
      "tags": []
     },
     "output_type": "display_data"
    }
   ],
   "source": [
    "# The most experienced gets placed faster.\n",
    "\n",
    "var = 'professional_experience_ord'\n",
    "data = pd.concat([pathrise_2_train['program_duration_days'], pathrise_2_train[var]], axis=1)\n",
    "f, ax = plt.subplots(figsize=(8, 6))\n",
    "fig = sns.boxplot(x=var, y='program_duration_days', data=data)\n",
    "fig.axis(ymin=0, ymax=600);"
   ]
  },
  {
   "cell_type": "code",
   "execution_count": 933,
   "metadata": {
    "colab": {
     "base_uri": "https://localhost:8080/",
     "height": 388
    },
    "executionInfo": {
     "elapsed": 831,
     "status": "ok",
     "timestamp": 1619504167472,
     "user": {
      "displayName": "Yadu Sarathchandran",
      "photoUrl": "",
      "userId": "14743288125860337631"
     },
     "user_tz": 300
    },
    "id": "GbJyxHWzs9nL",
    "outputId": "6af9b2bd-b37d-4fd4-b655-ecf32d0d5d12"
   },
   "outputs": [
    {
     "data": {
      "image/png": "[encoded data removed]",
      "text/plain": [
       "<Figure size 576x432 with 1 Axes>"
      ]
     },
     "metadata": {
      "needs_background": "light",
      "tags": []
     },
     "output_type": "display_data"
    }
   ],
   "source": [
    "# SWE has the lowest mean. Higher variance for PSO.\n",
    "\n",
    "var = 'primary_track'\n",
    "data = pd.concat([pathrise_2_train['program_duration_days'], pathrise_2_train[var]], axis=1)\n",
    "f, ax = plt.subplots(figsize=(8, 6))\n",
    "fig = sns.boxplot(x=var, y='program_duration_days', data=data)\n"
   ]
  },
  {
   "cell_type": "code",
   "execution_count": 934,
   "metadata": {
    "colab": {
     "base_uri": "https://localhost:8080/",
     "height": 388
    },
    "executionInfo": {
     "elapsed": 863,
     "status": "ok",
     "timestamp": 1619504169235,
     "user": {
      "displayName": "Yadu Sarathchandran",
      "photoUrl": "",
      "userId": "14743288125860337631"
     },
     "user_tz": 300
    },
    "id": "SmaVux__t2lh",
    "outputId": "1a1eb1c6-bdfe-4a12-f726-0bdee0d37ac2"
   },
   "outputs": [
    {
     "data": {
      "image/png": "[encoded data removed]",
      "text/plain": [
       "<Figure size 1296x432 with 1 Axes>"
      ]
     },
     "metadata": {
      "needs_background": "light",
      "tags": []
     },
     "output_type": "display_data"
    }
   ],
   "source": [
    "# SWE has the lowest mean. Higher variance for PSO.\n",
    "\n",
    "var = 'highest_level_of_education'\n",
    "data = pd.concat([pathrise_2_train['program_duration_days'], pathrise_2_train[var]], axis=1)\n",
    "f, ax = plt.subplots(figsize=(18, 6))\n",
    "fig = sns.boxplot(x=var, y='program_duration_days', data=data)\n"
   ]
  },
  {
   "cell_type": "code",
   "execution_count": 935,
   "metadata": {
    "colab": {
     "base_uri": "https://localhost:8080/",
     "height": 673
    },
    "executionInfo": {
     "elapsed": 1365,
     "status": "ok",
     "timestamp": 1619504171507,
     "user": {
      "displayName": "Yadu Sarathchandran",
      "photoUrl": "",
      "userId": "14743288125860337631"
     },
     "user_tz": 300
    },
    "id": "cWKedrQAzVgA",
    "outputId": "589fbdf6-9f0c-48f8-fb45-aae3703908ed"
   },
   "outputs": [
    {
     "data": {
      "image/png": "[encoded data removed]",
      "text/plain": [
       "<Figure size 864x648 with 2 Axes>"
      ]
     },
     "metadata": {
      "needs_background": "light",
      "tags": []
     },
     "output_type": "display_data"
    }
   ],
   "source": [
    "#correlation matrix\n",
    "\n",
    "corrmat = pathrise_2_train.corr()\n",
    "f, ax = plt.subplots(figsize=(12, 9))\n",
    "sns.heatmap(corrmat, vmax=0.2, square=True);"
   ]
  },
  {
   "cell_type": "code",
   "execution_count": 936,
   "metadata": {
    "colab": {
     "base_uri": "https://localhost:8080/"
    },
    "executionInfo": {
     "elapsed": 523,
     "status": "ok",
     "timestamp": 1619504173821,
     "user": {
      "displayName": "Yadu Sarathchandran",
      "photoUrl": "",
      "userId": "14743288125860337631"
     },
     "user_tz": 300
    },
    "id": "ncXHMWSgua6o",
    "outputId": "710e7e8a-0a57-47a4-fcc4-e7cc33754447"
   },
   "outputs": [
    {
     "data": {
      "text/plain": [
       "Index(['primary_track', 'program_duration_days', 'employment_status',\n",
       "       'highest_level_of_education', 'biggest_challenge_in_search',\n",
       "       'work_authorization_status', 'number_of_interviews',\n",
       "       'number_of_applications', 'gender', 'race',\n",
       "       'professional_experience_ord', 'length_of_job_search_ord'],\n",
       "      dtype='object')"
      ]
     },
     "execution_count": 936,
     "metadata": {
      "tags": []
     },
     "output_type": "execute_result"
    }
   ],
   "source": [
    "pathrise_2_train.columns"
   ]
  },
  {
   "cell_type": "markdown",
   "metadata": {
    "id": "WqqBqQ09NoKL"
   },
   "source": [
    "# Using One-Hot-Encoding in training set + Testing set\n"
   ]
  },
  {
   "cell_type": "code",
   "execution_count": 937,
   "metadata": {
    "colab": {
     "base_uri": "https://localhost:8080/",
     "height": 191
    },
    "executionInfo": {
     "elapsed": 1483,
     "status": "ok",
     "timestamp": 1619504176983,
     "user": {
      "displayName": "Yadu Sarathchandran",
      "photoUrl": "",
      "userId": "14743288125860337631"
     },
     "user_tz": 300
    },
    "id": "HHtbvKTnOOKd",
    "outputId": "bf25a049-bcc6-4fb4-c80e-a65a39a39d63"
   },
   "outputs": [
    {
     "data": {
      "text/html": [
       "<div>\n",
       "<style scoped>\n",
       "    .dataframe tbody tr th:only-of-type {\n",
       "        vertical-align: middle;\n",
       "    }\n",
       "\n",
       "    .dataframe tbody tr th {\n",
       "        vertical-align: top;\n",
       "    }\n",
       "\n",
       "    .dataframe thead tr th {\n",
       "        text-align: left;\n",
       "    }\n",
       "</style>\n",
       "<table border=\"1\" class=\"dataframe\">\n",
       "  <thead>\n",
       "    <tr>\n",
       "      <th></th>\n",
       "      <th>Canada Citizen</th>\n",
       "      <th>Citizen</th>\n",
       "      <th>F1 Visa/CPT</th>\n",
       "      <th>F1 Visa/OPT</th>\n",
       "      <th>Green Card</th>\n",
       "      <th>H1B</th>\n",
       "      <th>Not Authorized</th>\n",
       "      <th>Other</th>\n",
       "      <th>STEM OPT</th>\n",
       "    </tr>\n",
       "  </thead>\n",
       "  <tbody>\n",
       "    <tr>\n",
       "      <th>0</th>\n",
       "      <td>0.0</td>\n",
       "      <td>1.0</td>\n",
       "      <td>0.0</td>\n",
       "      <td>0.0</td>\n",
       "      <td>0.0</td>\n",
       "      <td>0.0</td>\n",
       "      <td>0.0</td>\n",
       "      <td>0.0</td>\n",
       "      <td>0.0</td>\n",
       "    </tr>\n",
       "    <tr>\n",
       "      <th>1</th>\n",
       "      <td>0.0</td>\n",
       "      <td>1.0</td>\n",
       "      <td>0.0</td>\n",
       "      <td>0.0</td>\n",
       "      <td>0.0</td>\n",
       "      <td>0.0</td>\n",
       "      <td>0.0</td>\n",
       "      <td>0.0</td>\n",
       "      <td>0.0</td>\n",
       "    </tr>\n",
       "    <tr>\n",
       "      <th>2</th>\n",
       "      <td>0.0</td>\n",
       "      <td>0.0</td>\n",
       "      <td>0.0</td>\n",
       "      <td>1.0</td>\n",
       "      <td>0.0</td>\n",
       "      <td>0.0</td>\n",
       "      <td>0.0</td>\n",
       "      <td>0.0</td>\n",
       "      <td>0.0</td>\n",
       "    </tr>\n",
       "    <tr>\n",
       "      <th>3</th>\n",
       "      <td>0.0</td>\n",
       "      <td>0.0</td>\n",
       "      <td>0.0</td>\n",
       "      <td>0.0</td>\n",
       "      <td>1.0</td>\n",
       "      <td>0.0</td>\n",
       "      <td>0.0</td>\n",
       "      <td>0.0</td>\n",
       "      <td>0.0</td>\n",
       "    </tr>\n",
       "    <tr>\n",
       "      <th>4</th>\n",
       "      <td>0.0</td>\n",
       "      <td>0.0</td>\n",
       "      <td>0.0</td>\n",
       "      <td>0.0</td>\n",
       "      <td>1.0</td>\n",
       "      <td>0.0</td>\n",
       "      <td>0.0</td>\n",
       "      <td>0.0</td>\n",
       "      <td>0.0</td>\n",
       "    </tr>\n",
       "  </tbody>\n",
       "</table>\n",
       "</div>"
      ],
      "text/plain": [
       "  Canada Citizen Citizen F1 Visa/CPT  ... Not Authorized Other STEM OPT\n",
       "0            0.0     1.0         0.0  ...            0.0   0.0      0.0\n",
       "1            0.0     1.0         0.0  ...            0.0   0.0      0.0\n",
       "2            0.0     0.0         0.0  ...            0.0   0.0      0.0\n",
       "3            0.0     0.0         0.0  ...            0.0   0.0      0.0\n",
       "4            0.0     0.0         0.0  ...            0.0   0.0      0.0\n",
       "\n",
       "[5 rows x 9 columns]"
      ]
     },
     "execution_count": 937,
     "metadata": {
      "tags": []
     },
     "output_type": "execute_result"
    }
   ],
   "source": [
    "from sklearn.preprocessing import OneHotEncoder\n",
    "\n",
    "oe_style = OneHotEncoder()\n",
    "\n",
    "# 'work_authorization_status'\n",
    "oe_results_work_author = oe_style.fit_transform(pathrise_2[['work_authorization_status']])\n",
    "work_author=pd.DataFrame(oe_results_work_author.toarray(), columns=oe_style.categories_)\n",
    "work_author.head()"
   ]
  },
  {
   "cell_type": "code",
   "execution_count": 938,
   "metadata": {
    "colab": {
     "base_uri": "https://localhost:8080/",
     "height": 207
    },
    "executionInfo": {
     "elapsed": 2983,
     "status": "ok",
     "timestamp": 1619504179229,
     "user": {
      "displayName": "Yadu Sarathchandran",
      "photoUrl": "",
      "userId": "14743288125860337631"
     },
     "user_tz": 300
    },
    "id": "EqEqTCGIOOKe",
    "outputId": "349b17a4-2d5a-4742-a672-a0996dccd19f"
   },
   "outputs": [
    {
     "data": {
      "text/html": [
       "<div>\n",
       "<style scoped>\n",
       "    .dataframe tbody tr th:only-of-type {\n",
       "        vertical-align: middle;\n",
       "    }\n",
       "\n",
       "    .dataframe tbody tr th {\n",
       "        vertical-align: top;\n",
       "    }\n",
       "\n",
       "    .dataframe thead tr th {\n",
       "        text-align: left;\n",
       "    }\n",
       "</style>\n",
       "<table border=\"1\" class=\"dataframe\">\n",
       "  <thead>\n",
       "    <tr>\n",
       "      <th></th>\n",
       "      <th>Behavioral interviewing</th>\n",
       "      <th>Figuring out which jobs to apply for</th>\n",
       "      <th>Getting past final round interviews</th>\n",
       "      <th>Getting past mid-stage interviews</th>\n",
       "      <th>Getting past phone screens</th>\n",
       "      <th>Hearing back on my applications</th>\n",
       "      <th>Lack of relevant experience</th>\n",
       "      <th>Resume gap</th>\n",
       "      <th>Technical interviewing</th>\n",
       "      <th>Technical skills</th>\n",
       "    </tr>\n",
       "  </thead>\n",
       "  <tbody>\n",
       "    <tr>\n",
       "      <th>0</th>\n",
       "      <td>0.0</td>\n",
       "      <td>1.0</td>\n",
       "      <td>0.0</td>\n",
       "      <td>0.0</td>\n",
       "      <td>0.0</td>\n",
       "      <td>0.0</td>\n",
       "      <td>0.0</td>\n",
       "      <td>0.0</td>\n",
       "      <td>0.0</td>\n",
       "      <td>0.0</td>\n",
       "    </tr>\n",
       "    <tr>\n",
       "      <th>1</th>\n",
       "      <td>0.0</td>\n",
       "      <td>0.0</td>\n",
       "      <td>1.0</td>\n",
       "      <td>0.0</td>\n",
       "      <td>0.0</td>\n",
       "      <td>0.0</td>\n",
       "      <td>0.0</td>\n",
       "      <td>0.0</td>\n",
       "      <td>0.0</td>\n",
       "      <td>0.0</td>\n",
       "    </tr>\n",
       "    <tr>\n",
       "      <th>2</th>\n",
       "      <td>0.0</td>\n",
       "      <td>0.0</td>\n",
       "      <td>0.0</td>\n",
       "      <td>0.0</td>\n",
       "      <td>0.0</td>\n",
       "      <td>1.0</td>\n",
       "      <td>0.0</td>\n",
       "      <td>0.0</td>\n",
       "      <td>0.0</td>\n",
       "      <td>0.0</td>\n",
       "    </tr>\n",
       "    <tr>\n",
       "      <th>3</th>\n",
       "      <td>0.0</td>\n",
       "      <td>0.0</td>\n",
       "      <td>0.0</td>\n",
       "      <td>0.0</td>\n",
       "      <td>0.0</td>\n",
       "      <td>0.0</td>\n",
       "      <td>0.0</td>\n",
       "      <td>0.0</td>\n",
       "      <td>1.0</td>\n",
       "      <td>0.0</td>\n",
       "    </tr>\n",
       "    <tr>\n",
       "      <th>4</th>\n",
       "      <td>0.0</td>\n",
       "      <td>0.0</td>\n",
       "      <td>0.0</td>\n",
       "      <td>0.0</td>\n",
       "      <td>1.0</td>\n",
       "      <td>0.0</td>\n",
       "      <td>0.0</td>\n",
       "      <td>0.0</td>\n",
       "      <td>0.0</td>\n",
       "      <td>0.0</td>\n",
       "    </tr>\n",
       "  </tbody>\n",
       "</table>\n",
       "</div>"
      ],
      "text/plain": [
       "  Behavioral interviewing  ... Technical skills\n",
       "0                     0.0  ...              0.0\n",
       "1                     0.0  ...              0.0\n",
       "2                     0.0  ...              0.0\n",
       "3                     0.0  ...              0.0\n",
       "4                     0.0  ...              0.0\n",
       "\n",
       "[5 rows x 10 columns]"
      ]
     },
     "execution_count": 938,
     "metadata": {
      "tags": []
     },
     "output_type": "execute_result"
    }
   ],
   "source": [
    "# 'biggest_challenge_in_search'\n",
    "\n",
    "oe_results_big_challenge = oe_style.fit_transform(pathrise_2[['biggest_challenge_in_search']])\n",
    "big_challenge=pd.DataFrame(oe_results_big_challenge.toarray(), columns=oe_style.categories_)\n",
    "big_challenge.head()"
   ]
  },
  {
   "cell_type": "code",
   "execution_count": 939,
   "metadata": {
    "colab": {
     "base_uri": "https://localhost:8080/",
     "height": 191
    },
    "executionInfo": {
     "elapsed": 2432,
     "status": "ok",
     "timestamp": 1619504179231,
     "user": {
      "displayName": "Yadu Sarathchandran",
      "photoUrl": "",
      "userId": "14743288125860337631"
     },
     "user_tz": 300
    },
    "id": "DbQWagYDOOKf",
    "outputId": "cbfb5a0f-5257-4e6f-e920-1cf36ce3c2f4"
   },
   "outputs": [
    {
     "data": {
      "text/html": [
       "<div>\n",
       "<style scoped>\n",
       "    .dataframe tbody tr th:only-of-type {\n",
       "        vertical-align: middle;\n",
       "    }\n",
       "\n",
       "    .dataframe tbody tr th {\n",
       "        vertical-align: top;\n",
       "    }\n",
       "\n",
       "    .dataframe thead tr th {\n",
       "        text-align: left;\n",
       "    }\n",
       "</style>\n",
       "<table border=\"1\" class=\"dataframe\">\n",
       "  <thead>\n",
       "    <tr>\n",
       "      <th></th>\n",
       "      <th>Contractor</th>\n",
       "      <th>Employed Full-Time</th>\n",
       "      <th>Employed Part-Time</th>\n",
       "      <th>Student</th>\n",
       "      <th>Unemployed</th>\n",
       "    </tr>\n",
       "  </thead>\n",
       "  <tbody>\n",
       "    <tr>\n",
       "      <th>0</th>\n",
       "      <td>0.0</td>\n",
       "      <td>0.0</td>\n",
       "      <td>1.0</td>\n",
       "      <td>0.0</td>\n",
       "      <td>0.0</td>\n",
       "    </tr>\n",
       "    <tr>\n",
       "      <th>1</th>\n",
       "      <td>1.0</td>\n",
       "      <td>0.0</td>\n",
       "      <td>0.0</td>\n",
       "      <td>0.0</td>\n",
       "      <td>0.0</td>\n",
       "    </tr>\n",
       "    <tr>\n",
       "      <th>2</th>\n",
       "      <td>0.0</td>\n",
       "      <td>0.0</td>\n",
       "      <td>0.0</td>\n",
       "      <td>0.0</td>\n",
       "      <td>1.0</td>\n",
       "    </tr>\n",
       "    <tr>\n",
       "      <th>3</th>\n",
       "      <td>0.0</td>\n",
       "      <td>1.0</td>\n",
       "      <td>0.0</td>\n",
       "      <td>0.0</td>\n",
       "      <td>0.0</td>\n",
       "    </tr>\n",
       "    <tr>\n",
       "      <th>4</th>\n",
       "      <td>0.0</td>\n",
       "      <td>1.0</td>\n",
       "      <td>0.0</td>\n",
       "      <td>0.0</td>\n",
       "      <td>0.0</td>\n",
       "    </tr>\n",
       "  </tbody>\n",
       "</table>\n",
       "</div>"
      ],
      "text/plain": [
       "  Contractor Employed Full-Time Employed Part-Time Student Unemployed\n",
       "0        0.0                0.0                1.0     0.0        0.0\n",
       "1        1.0                0.0                0.0     0.0        0.0\n",
       "2        0.0                0.0                0.0     0.0        1.0\n",
       "3        0.0                1.0                0.0     0.0        0.0\n",
       "4        0.0                1.0                0.0     0.0        0.0"
      ]
     },
     "execution_count": 939,
     "metadata": {
      "tags": []
     },
     "output_type": "execute_result"
    }
   ],
   "source": [
    "# 'employment_status'\n",
    "oe_results_employ_stat = oe_style.fit_transform(pathrise_2[['employment_status']])\n",
    "employ_stat=pd.DataFrame(oe_results_employ_stat.toarray(), columns=oe_style.categories_)\n",
    "employ_stat.head()"
   ]
  },
  {
   "cell_type": "code",
   "execution_count": 940,
   "metadata": {
    "colab": {
     "base_uri": "https://localhost:8080/",
     "height": 191
    },
    "executionInfo": {
     "elapsed": 2649,
     "status": "ok",
     "timestamp": 1619504180113,
     "user": {
      "displayName": "Yadu Sarathchandran",
      "photoUrl": "",
      "userId": "14743288125860337631"
     },
     "user_tz": 300
    },
    "id": "Q39CqKq-OOKf",
    "outputId": "c7244c10-2b32-4925-b849-03a434c35d46"
   },
   "outputs": [
    {
     "data": {
      "text/html": [
       "<div>\n",
       "<style scoped>\n",
       "    .dataframe tbody tr th:only-of-type {\n",
       "        vertical-align: middle;\n",
       "    }\n",
       "\n",
       "    .dataframe tbody tr th {\n",
       "        vertical-align: top;\n",
       "    }\n",
       "\n",
       "    .dataframe thead tr th {\n",
       "        text-align: left;\n",
       "    }\n",
       "</style>\n",
       "<table border=\"1\" class=\"dataframe\">\n",
       "  <thead>\n",
       "    <tr>\n",
       "      <th></th>\n",
       "      <th>Data</th>\n",
       "      <th>Design</th>\n",
       "      <th>PSO</th>\n",
       "      <th>SWE</th>\n",
       "      <th>Web</th>\n",
       "    </tr>\n",
       "  </thead>\n",
       "  <tbody>\n",
       "    <tr>\n",
       "      <th>0</th>\n",
       "      <td>0.0</td>\n",
       "      <td>1.0</td>\n",
       "      <td>0.0</td>\n",
       "      <td>0.0</td>\n",
       "      <td>0.0</td>\n",
       "    </tr>\n",
       "    <tr>\n",
       "      <th>1</th>\n",
       "      <td>0.0</td>\n",
       "      <td>0.0</td>\n",
       "      <td>1.0</td>\n",
       "      <td>0.0</td>\n",
       "      <td>0.0</td>\n",
       "    </tr>\n",
       "    <tr>\n",
       "      <th>2</th>\n",
       "      <td>0.0</td>\n",
       "      <td>0.0</td>\n",
       "      <td>0.0</td>\n",
       "      <td>1.0</td>\n",
       "      <td>0.0</td>\n",
       "    </tr>\n",
       "    <tr>\n",
       "      <th>3</th>\n",
       "      <td>0.0</td>\n",
       "      <td>0.0</td>\n",
       "      <td>0.0</td>\n",
       "      <td>1.0</td>\n",
       "      <td>0.0</td>\n",
       "    </tr>\n",
       "    <tr>\n",
       "      <th>4</th>\n",
       "      <td>0.0</td>\n",
       "      <td>0.0</td>\n",
       "      <td>0.0</td>\n",
       "      <td>1.0</td>\n",
       "      <td>0.0</td>\n",
       "    </tr>\n",
       "  </tbody>\n",
       "</table>\n",
       "</div>"
      ],
      "text/plain": [
       "  Data Design  PSO  SWE  Web\n",
       "0  0.0    1.0  0.0  0.0  0.0\n",
       "1  0.0    0.0  1.0  0.0  0.0\n",
       "2  0.0    0.0  0.0  1.0  0.0\n",
       "3  0.0    0.0  0.0  1.0  0.0\n",
       "4  0.0    0.0  0.0  1.0  0.0"
      ]
     },
     "execution_count": 940,
     "metadata": {
      "tags": []
     },
     "output_type": "execute_result"
    }
   ],
   "source": [
    "# 'primary_track'\n",
    "oe_results_primary_track = oe_style.fit_transform(pathrise_2[['primary_track']])\n",
    "primary_track=pd.DataFrame(oe_results_primary_track.toarray(), columns=oe_style.categories_)\n",
    "primary_track.head()"
   ]
  },
  {
   "cell_type": "code",
   "execution_count": 941,
   "metadata": {
    "colab": {
     "base_uri": "https://localhost:8080/",
     "height": 191
    },
    "executionInfo": {
     "elapsed": 2399,
     "status": "ok",
     "timestamp": 1619504180389,
     "user": {
      "displayName": "Yadu Sarathchandran",
      "photoUrl": "",
      "userId": "14743288125860337631"
     },
     "user_tz": 300
    },
    "id": "gFlLNwk8OOKg",
    "outputId": "2ef9f114-d848-49b8-d97d-5b1a1b285da5"
   },
   "outputs": [
    {
     "data": {
      "text/html": [
       "<div>\n",
       "<style scoped>\n",
       "    .dataframe tbody tr th:only-of-type {\n",
       "        vertical-align: middle;\n",
       "    }\n",
       "\n",
       "    .dataframe tbody tr th {\n",
       "        vertical-align: top;\n",
       "    }\n",
       "\n",
       "    .dataframe thead tr th {\n",
       "        text-align: left;\n",
       "    }\n",
       "</style>\n",
       "<table border=\"1\" class=\"dataframe\">\n",
       "  <thead>\n",
       "    <tr>\n",
       "      <th></th>\n",
       "      <th>Bachelor's Degree</th>\n",
       "      <th>Doctorate or Professional Degree</th>\n",
       "      <th>GED or equivalent</th>\n",
       "      <th>High School Graduate</th>\n",
       "      <th>Master's Degree</th>\n",
       "      <th>Some College, No Degree</th>\n",
       "      <th>Some High School</th>\n",
       "    </tr>\n",
       "  </thead>\n",
       "  <tbody>\n",
       "    <tr>\n",
       "      <th>0</th>\n",
       "      <td>0.0</td>\n",
       "      <td>0.0</td>\n",
       "      <td>0.0</td>\n",
       "      <td>0.0</td>\n",
       "      <td>1.0</td>\n",
       "      <td>0.0</td>\n",
       "      <td>0.0</td>\n",
       "    </tr>\n",
       "    <tr>\n",
       "      <th>1</th>\n",
       "      <td>1.0</td>\n",
       "      <td>0.0</td>\n",
       "      <td>0.0</td>\n",
       "      <td>0.0</td>\n",
       "      <td>0.0</td>\n",
       "      <td>0.0</td>\n",
       "      <td>0.0</td>\n",
       "    </tr>\n",
       "    <tr>\n",
       "      <th>2</th>\n",
       "      <td>1.0</td>\n",
       "      <td>0.0</td>\n",
       "      <td>0.0</td>\n",
       "      <td>0.0</td>\n",
       "      <td>0.0</td>\n",
       "      <td>0.0</td>\n",
       "      <td>0.0</td>\n",
       "    </tr>\n",
       "    <tr>\n",
       "      <th>3</th>\n",
       "      <td>0.0</td>\n",
       "      <td>0.0</td>\n",
       "      <td>0.0</td>\n",
       "      <td>0.0</td>\n",
       "      <td>1.0</td>\n",
       "      <td>0.0</td>\n",
       "      <td>0.0</td>\n",
       "    </tr>\n",
       "    <tr>\n",
       "      <th>4</th>\n",
       "      <td>0.0</td>\n",
       "      <td>0.0</td>\n",
       "      <td>0.0</td>\n",
       "      <td>0.0</td>\n",
       "      <td>1.0</td>\n",
       "      <td>0.0</td>\n",
       "      <td>0.0</td>\n",
       "    </tr>\n",
       "  </tbody>\n",
       "</table>\n",
       "</div>"
      ],
      "text/plain": [
       "  Bachelor's Degree  ... Some High School\n",
       "0               0.0  ...              0.0\n",
       "1               1.0  ...              0.0\n",
       "2               1.0  ...              0.0\n",
       "3               0.0  ...              0.0\n",
       "4               0.0  ...              0.0\n",
       "\n",
       "[5 rows x 7 columns]"
      ]
     },
     "execution_count": 941,
     "metadata": {
      "tags": []
     },
     "output_type": "execute_result"
    }
   ],
   "source": [
    "# 'highest_level_of_education'\n",
    "oe_results_education = oe_style.fit_transform(pathrise_2[['highest_level_of_education']])\n",
    "education=pd.DataFrame(oe_results_education.toarray(), columns=oe_style.categories_)\n",
    "education.head()"
   ]
  },
  {
   "cell_type": "code",
   "execution_count": 942,
   "metadata": {
    "colab": {
     "base_uri": "https://localhost:8080/",
     "height": 207
    },
    "executionInfo": {
     "elapsed": 1886,
     "status": "ok",
     "timestamp": 1619504180390,
     "user": {
      "displayName": "Yadu Sarathchandran",
      "photoUrl": "",
      "userId": "14743288125860337631"
     },
     "user_tz": 300
    },
    "id": "f-7NZhkyOOKg",
    "outputId": "fe744eee-dbdf-484c-8b25-cfa07f6ac87a"
   },
   "outputs": [
    {
     "data": {
      "text/html": [
       "<div>\n",
       "<style scoped>\n",
       "    .dataframe tbody tr th:only-of-type {\n",
       "        vertical-align: middle;\n",
       "    }\n",
       "\n",
       "    .dataframe tbody tr th {\n",
       "        vertical-align: top;\n",
       "    }\n",
       "\n",
       "    .dataframe thead tr th {\n",
       "        text-align: left;\n",
       "    }\n",
       "</style>\n",
       "<table border=\"1\" class=\"dataframe\">\n",
       "  <thead>\n",
       "    <tr>\n",
       "      <th></th>\n",
       "      <th>Black, Afro-Caribbean, or African American</th>\n",
       "      <th>Decline to Self Identify</th>\n",
       "      <th>East Asian or Asian American</th>\n",
       "      <th>Latino or Hispanic American</th>\n",
       "      <th>Middle Eastern or Arab American</th>\n",
       "      <th>Non-Hispanic White or Euro-American</th>\n",
       "      <th>South Asian or Indian American</th>\n",
       "      <th>Two or More Races</th>\n",
       "    </tr>\n",
       "  </thead>\n",
       "  <tbody>\n",
       "    <tr>\n",
       "      <th>0</th>\n",
       "      <td>0.0</td>\n",
       "      <td>0.0</td>\n",
       "      <td>1.0</td>\n",
       "      <td>0.0</td>\n",
       "      <td>0.0</td>\n",
       "      <td>0.0</td>\n",
       "      <td>0.0</td>\n",
       "      <td>0.0</td>\n",
       "    </tr>\n",
       "    <tr>\n",
       "      <th>1</th>\n",
       "      <td>0.0</td>\n",
       "      <td>1.0</td>\n",
       "      <td>0.0</td>\n",
       "      <td>0.0</td>\n",
       "      <td>0.0</td>\n",
       "      <td>0.0</td>\n",
       "      <td>0.0</td>\n",
       "      <td>0.0</td>\n",
       "    </tr>\n",
       "    <tr>\n",
       "      <th>2</th>\n",
       "      <td>0.0</td>\n",
       "      <td>0.0</td>\n",
       "      <td>1.0</td>\n",
       "      <td>0.0</td>\n",
       "      <td>0.0</td>\n",
       "      <td>0.0</td>\n",
       "      <td>0.0</td>\n",
       "      <td>0.0</td>\n",
       "    </tr>\n",
       "    <tr>\n",
       "      <th>3</th>\n",
       "      <td>0.0</td>\n",
       "      <td>0.0</td>\n",
       "      <td>1.0</td>\n",
       "      <td>0.0</td>\n",
       "      <td>0.0</td>\n",
       "      <td>0.0</td>\n",
       "      <td>0.0</td>\n",
       "      <td>0.0</td>\n",
       "    </tr>\n",
       "    <tr>\n",
       "      <th>4</th>\n",
       "      <td>1.0</td>\n",
       "      <td>0.0</td>\n",
       "      <td>0.0</td>\n",
       "      <td>0.0</td>\n",
       "      <td>0.0</td>\n",
       "      <td>0.0</td>\n",
       "      <td>0.0</td>\n",
       "      <td>0.0</td>\n",
       "    </tr>\n",
       "  </tbody>\n",
       "</table>\n",
       "</div>"
      ],
      "text/plain": [
       "  Black, Afro-Caribbean, or African American  ... Two or More Races\n",
       "0                                        0.0  ...               0.0\n",
       "1                                        0.0  ...               0.0\n",
       "2                                        0.0  ...               0.0\n",
       "3                                        0.0  ...               0.0\n",
       "4                                        1.0  ...               0.0\n",
       "\n",
       "[5 rows x 8 columns]"
      ]
     },
     "execution_count": 942,
     "metadata": {
      "tags": []
     },
     "output_type": "execute_result"
    }
   ],
   "source": [
    "# 'race'\n",
    "oe_results_education = oe_style.fit_transform(pathrise_2[['race']])\n",
    "race=pd.DataFrame(oe_results_education.toarray(), columns=oe_style.categories_)\n",
    "race.head()"
   ]
  },
  {
   "cell_type": "code",
   "execution_count": 943,
   "metadata": {
    "colab": {
     "base_uri": "https://localhost:8080/",
     "height": 191
    },
    "executionInfo": {
     "elapsed": 1575,
     "status": "ok",
     "timestamp": 1619504180392,
     "user": {
      "displayName": "Yadu Sarathchandran",
      "photoUrl": "",
      "userId": "14743288125860337631"
     },
     "user_tz": 300
    },
    "id": "cYwqUquIOOKg",
    "outputId": "3b39f50c-c1ac-4824-ef2a-e4e2005cb4f6"
   },
   "outputs": [
    {
     "data": {
      "text/html": [
       "<div>\n",
       "<style scoped>\n",
       "    .dataframe tbody tr th:only-of-type {\n",
       "        vertical-align: middle;\n",
       "    }\n",
       "\n",
       "    .dataframe tbody tr th {\n",
       "        vertical-align: top;\n",
       "    }\n",
       "\n",
       "    .dataframe thead tr th {\n",
       "        text-align: left;\n",
       "    }\n",
       "</style>\n",
       "<table border=\"1\" class=\"dataframe\">\n",
       "  <thead>\n",
       "    <tr>\n",
       "      <th></th>\n",
       "      <th>Female</th>\n",
       "      <th>Male</th>\n",
       "      <th>Non-Binary</th>\n",
       "    </tr>\n",
       "  </thead>\n",
       "  <tbody>\n",
       "    <tr>\n",
       "      <th>0</th>\n",
       "      <td>0.0</td>\n",
       "      <td>1.0</td>\n",
       "      <td>0.0</td>\n",
       "    </tr>\n",
       "    <tr>\n",
       "      <th>1</th>\n",
       "      <td>0.0</td>\n",
       "      <td>1.0</td>\n",
       "      <td>0.0</td>\n",
       "    </tr>\n",
       "    <tr>\n",
       "      <th>2</th>\n",
       "      <td>0.0</td>\n",
       "      <td>1.0</td>\n",
       "      <td>0.0</td>\n",
       "    </tr>\n",
       "    <tr>\n",
       "      <th>3</th>\n",
       "      <td>0.0</td>\n",
       "      <td>1.0</td>\n",
       "      <td>0.0</td>\n",
       "    </tr>\n",
       "    <tr>\n",
       "      <th>4</th>\n",
       "      <td>0.0</td>\n",
       "      <td>1.0</td>\n",
       "      <td>0.0</td>\n",
       "    </tr>\n",
       "  </tbody>\n",
       "</table>\n",
       "</div>"
      ],
      "text/plain": [
       "  Female Male Non-Binary\n",
       "0    0.0  1.0        0.0\n",
       "1    0.0  1.0        0.0\n",
       "2    0.0  1.0        0.0\n",
       "3    0.0  1.0        0.0\n",
       "4    0.0  1.0        0.0"
      ]
     },
     "execution_count": 943,
     "metadata": {
      "tags": []
     },
     "output_type": "execute_result"
    }
   ],
   "source": [
    "# 'gender'\n",
    "oe_results_gender = oe_style.fit_transform(pathrise_2[['gender']])\n",
    "gender=pd.DataFrame(oe_results_gender.toarray(), columns=oe_style.categories_)\n",
    "gender=gender.drop(columns=['Decline to Self Identify'])\n",
    "gender.head()"
   ]
  },
  {
   "cell_type": "code",
   "execution_count": 944,
   "metadata": {
    "colab": {
     "base_uri": "https://localhost:8080/",
     "height": 476
    },
    "executionInfo": {
     "elapsed": 972,
     "status": "ok",
     "timestamp": 1619504180394,
     "user": {
      "displayName": "Yadu Sarathchandran",
      "photoUrl": "",
      "userId": "14743288125860337631"
     },
     "user_tz": 300
    },
    "id": "ZTZumUhiOZkE",
    "outputId": "eb5e6c65-e559-49dc-b28b-6f2f9af184c6"
   },
   "outputs": [
    {
     "data": {
      "text/html": [
       "<div>\n",
       "<style scoped>\n",
       "    .dataframe tbody tr th:only-of-type {\n",
       "        vertical-align: middle;\n",
       "    }\n",
       "\n",
       "    .dataframe tbody tr th {\n",
       "        vertical-align: top;\n",
       "    }\n",
       "\n",
       "    .dataframe thead th {\n",
       "        text-align: right;\n",
       "    }\n",
       "</style>\n",
       "<table border=\"1\" class=\"dataframe\">\n",
       "  <thead>\n",
       "    <tr style=\"text-align: right;\">\n",
       "      <th></th>\n",
       "      <th>pathrise_status</th>\n",
       "      <th>program_duration_days</th>\n",
       "      <th>placed</th>\n",
       "      <th>number_of_interviews</th>\n",
       "      <th>number_of_applications</th>\n",
       "      <th>professional_experience_ord</th>\n",
       "      <th>length_of_job_search_ord</th>\n",
       "      <th>(Bachelor's Degree,)</th>\n",
       "      <th>(Doctorate or Professional Degree,)</th>\n",
       "      <th>(GED or equivalent,)</th>\n",
       "      <th>(High School Graduate,)</th>\n",
       "      <th>(Master's Degree,)</th>\n",
       "      <th>(Some College, No Degree,)</th>\n",
       "      <th>(Some High School,)</th>\n",
       "      <th>(Behavioral interviewing,)</th>\n",
       "      <th>(Figuring out which jobs to apply for,)</th>\n",
       "      <th>(Getting past final round interviews,)</th>\n",
       "      <th>(Getting past mid-stage interviews,)</th>\n",
       "      <th>(Getting past phone screens,)</th>\n",
       "      <th>(Hearing back on my applications,)</th>\n",
       "      <th>(Lack of relevant experience,)</th>\n",
       "      <th>(Resume gap,)</th>\n",
       "      <th>(Technical interviewing,)</th>\n",
       "      <th>(Technical skills,)</th>\n",
       "      <th>(Contractor,)</th>\n",
       "      <th>(Employed Full-Time,)</th>\n",
       "      <th>(Employed Part-Time,)</th>\n",
       "      <th>(Student,)</th>\n",
       "      <th>(Unemployed,)</th>\n",
       "      <th>(Data,)</th>\n",
       "      <th>(Design,)</th>\n",
       "      <th>(PSO,)</th>\n",
       "      <th>(SWE,)</th>\n",
       "      <th>(Web,)</th>\n",
       "      <th>(Canada Citizen,)</th>\n",
       "      <th>(Citizen,)</th>\n",
       "      <th>(F1 Visa/CPT,)</th>\n",
       "      <th>(F1 Visa/OPT,)</th>\n",
       "      <th>(Green Card,)</th>\n",
       "      <th>(H1B,)</th>\n",
       "      <th>(Not Authorized,)</th>\n",
       "      <th>(Other,)</th>\n",
       "      <th>(STEM OPT,)</th>\n",
       "    </tr>\n",
       "  </thead>\n",
       "  <tbody>\n",
       "    <tr>\n",
       "      <th>0</th>\n",
       "      <td>Closed Lost</td>\n",
       "      <td>0.0</td>\n",
       "      <td>0</td>\n",
       "      <td>0.0</td>\n",
       "      <td>0</td>\n",
       "      <td>1.0</td>\n",
       "      <td>1.0</td>\n",
       "      <td>0.0</td>\n",
       "      <td>0.0</td>\n",
       "      <td>0.0</td>\n",
       "      <td>0.0</td>\n",
       "      <td>1.0</td>\n",
       "      <td>0.0</td>\n",
       "      <td>0.0</td>\n",
       "      <td>0.0</td>\n",
       "      <td>1.0</td>\n",
       "      <td>0.0</td>\n",
       "      <td>0.0</td>\n",
       "      <td>0.0</td>\n",
       "      <td>0.0</td>\n",
       "      <td>0.0</td>\n",
       "      <td>0.0</td>\n",
       "      <td>0.0</td>\n",
       "      <td>0.0</td>\n",
       "      <td>0.0</td>\n",
       "      <td>0.0</td>\n",
       "      <td>1.0</td>\n",
       "      <td>0.0</td>\n",
       "      <td>0.0</td>\n",
       "      <td>0.0</td>\n",
       "      <td>1.0</td>\n",
       "      <td>0.0</td>\n",
       "      <td>0.0</td>\n",
       "      <td>0.0</td>\n",
       "      <td>0.0</td>\n",
       "      <td>1.0</td>\n",
       "      <td>0.0</td>\n",
       "      <td>0.0</td>\n",
       "      <td>0.0</td>\n",
       "      <td>0.0</td>\n",
       "      <td>0.0</td>\n",
       "      <td>0.0</td>\n",
       "      <td>0.0</td>\n",
       "    </tr>\n",
       "    <tr>\n",
       "      <th>1</th>\n",
       "      <td>Closed Lost</td>\n",
       "      <td>0.0</td>\n",
       "      <td>0</td>\n",
       "      <td>5.0</td>\n",
       "      <td>25</td>\n",
       "      <td>1.0</td>\n",
       "      <td>1.0</td>\n",
       "      <td>1.0</td>\n",
       "      <td>0.0</td>\n",
       "      <td>0.0</td>\n",
       "      <td>0.0</td>\n",
       "      <td>0.0</td>\n",
       "      <td>0.0</td>\n",
       "      <td>0.0</td>\n",
       "      <td>0.0</td>\n",
       "      <td>0.0</td>\n",
       "      <td>1.0</td>\n",
       "      <td>0.0</td>\n",
       "      <td>0.0</td>\n",
       "      <td>0.0</td>\n",
       "      <td>0.0</td>\n",
       "      <td>0.0</td>\n",
       "      <td>0.0</td>\n",
       "      <td>0.0</td>\n",
       "      <td>1.0</td>\n",
       "      <td>0.0</td>\n",
       "      <td>0.0</td>\n",
       "      <td>0.0</td>\n",
       "      <td>0.0</td>\n",
       "      <td>0.0</td>\n",
       "      <td>0.0</td>\n",
       "      <td>1.0</td>\n",
       "      <td>0.0</td>\n",
       "      <td>0.0</td>\n",
       "      <td>0.0</td>\n",
       "      <td>1.0</td>\n",
       "      <td>0.0</td>\n",
       "      <td>0.0</td>\n",
       "      <td>0.0</td>\n",
       "      <td>0.0</td>\n",
       "      <td>0.0</td>\n",
       "      <td>0.0</td>\n",
       "      <td>0.0</td>\n",
       "    </tr>\n",
       "    <tr>\n",
       "      <th>2</th>\n",
       "      <td>Placed</td>\n",
       "      <td>89.0</td>\n",
       "      <td>1</td>\n",
       "      <td>10.0</td>\n",
       "      <td>100</td>\n",
       "      <td>2.0</td>\n",
       "      <td>2.0</td>\n",
       "      <td>1.0</td>\n",
       "      <td>0.0</td>\n",
       "      <td>0.0</td>\n",
       "      <td>0.0</td>\n",
       "      <td>0.0</td>\n",
       "      <td>0.0</td>\n",
       "      <td>0.0</td>\n",
       "      <td>0.0</td>\n",
       "      <td>0.0</td>\n",
       "      <td>0.0</td>\n",
       "      <td>0.0</td>\n",
       "      <td>0.0</td>\n",
       "      <td>1.0</td>\n",
       "      <td>0.0</td>\n",
       "      <td>0.0</td>\n",
       "      <td>0.0</td>\n",
       "      <td>0.0</td>\n",
       "      <td>0.0</td>\n",
       "      <td>0.0</td>\n",
       "      <td>0.0</td>\n",
       "      <td>0.0</td>\n",
       "      <td>1.0</td>\n",
       "      <td>0.0</td>\n",
       "      <td>0.0</td>\n",
       "      <td>0.0</td>\n",
       "      <td>1.0</td>\n",
       "      <td>0.0</td>\n",
       "      <td>0.0</td>\n",
       "      <td>0.0</td>\n",
       "      <td>0.0</td>\n",
       "      <td>1.0</td>\n",
       "      <td>0.0</td>\n",
       "      <td>0.0</td>\n",
       "      <td>0.0</td>\n",
       "      <td>0.0</td>\n",
       "      <td>0.0</td>\n",
       "    </tr>\n",
       "    <tr>\n",
       "      <th>3</th>\n",
       "      <td>Closed Lost</td>\n",
       "      <td>0.0</td>\n",
       "      <td>0</td>\n",
       "      <td>5.0</td>\n",
       "      <td>100</td>\n",
       "      <td>3.0</td>\n",
       "      <td>2.0</td>\n",
       "      <td>0.0</td>\n",
       "      <td>0.0</td>\n",
       "      <td>0.0</td>\n",
       "      <td>0.0</td>\n",
       "      <td>1.0</td>\n",
       "      <td>0.0</td>\n",
       "      <td>0.0</td>\n",
       "      <td>0.0</td>\n",
       "      <td>0.0</td>\n",
       "      <td>0.0</td>\n",
       "      <td>0.0</td>\n",
       "      <td>0.0</td>\n",
       "      <td>0.0</td>\n",
       "      <td>0.0</td>\n",
       "      <td>0.0</td>\n",
       "      <td>1.0</td>\n",
       "      <td>0.0</td>\n",
       "      <td>0.0</td>\n",
       "      <td>1.0</td>\n",
       "      <td>0.0</td>\n",
       "      <td>0.0</td>\n",
       "      <td>0.0</td>\n",
       "      <td>0.0</td>\n",
       "      <td>0.0</td>\n",
       "      <td>0.0</td>\n",
       "      <td>1.0</td>\n",
       "      <td>0.0</td>\n",
       "      <td>0.0</td>\n",
       "      <td>0.0</td>\n",
       "      <td>0.0</td>\n",
       "      <td>0.0</td>\n",
       "      <td>1.0</td>\n",
       "      <td>0.0</td>\n",
       "      <td>0.0</td>\n",
       "      <td>0.0</td>\n",
       "      <td>0.0</td>\n",
       "    </tr>\n",
       "    <tr>\n",
       "      <th>4</th>\n",
       "      <td>Closed Lost</td>\n",
       "      <td>0.0</td>\n",
       "      <td>0</td>\n",
       "      <td>0.0</td>\n",
       "      <td>9</td>\n",
       "      <td>3.0</td>\n",
       "      <td>1.0</td>\n",
       "      <td>0.0</td>\n",
       "      <td>0.0</td>\n",
       "      <td>0.0</td>\n",
       "      <td>0.0</td>\n",
       "      <td>1.0</td>\n",
       "      <td>0.0</td>\n",
       "      <td>0.0</td>\n",
       "      <td>0.0</td>\n",
       "      <td>0.0</td>\n",
       "      <td>0.0</td>\n",
       "      <td>0.0</td>\n",
       "      <td>1.0</td>\n",
       "      <td>0.0</td>\n",
       "      <td>0.0</td>\n",
       "      <td>0.0</td>\n",
       "      <td>0.0</td>\n",
       "      <td>0.0</td>\n",
       "      <td>0.0</td>\n",
       "      <td>1.0</td>\n",
       "      <td>0.0</td>\n",
       "      <td>0.0</td>\n",
       "      <td>0.0</td>\n",
       "      <td>0.0</td>\n",
       "      <td>0.0</td>\n",
       "      <td>0.0</td>\n",
       "      <td>1.0</td>\n",
       "      <td>0.0</td>\n",
       "      <td>0.0</td>\n",
       "      <td>0.0</td>\n",
       "      <td>0.0</td>\n",
       "      <td>0.0</td>\n",
       "      <td>1.0</td>\n",
       "      <td>0.0</td>\n",
       "      <td>0.0</td>\n",
       "      <td>0.0</td>\n",
       "      <td>0.0</td>\n",
       "    </tr>\n",
       "    <tr>\n",
       "      <th>...</th>\n",
       "      <td>...</td>\n",
       "      <td>...</td>\n",
       "      <td>...</td>\n",
       "      <td>...</td>\n",
       "      <td>...</td>\n",
       "      <td>...</td>\n",
       "      <td>...</td>\n",
       "      <td>...</td>\n",
       "      <td>...</td>\n",
       "      <td>...</td>\n",
       "      <td>...</td>\n",
       "      <td>...</td>\n",
       "      <td>...</td>\n",
       "      <td>...</td>\n",
       "      <td>...</td>\n",
       "      <td>...</td>\n",
       "      <td>...</td>\n",
       "      <td>...</td>\n",
       "      <td>...</td>\n",
       "      <td>...</td>\n",
       "      <td>...</td>\n",
       "      <td>...</td>\n",
       "      <td>...</td>\n",
       "      <td>...</td>\n",
       "      <td>...</td>\n",
       "      <td>...</td>\n",
       "      <td>...</td>\n",
       "      <td>...</td>\n",
       "      <td>...</td>\n",
       "      <td>...</td>\n",
       "      <td>...</td>\n",
       "      <td>...</td>\n",
       "      <td>...</td>\n",
       "      <td>...</td>\n",
       "      <td>...</td>\n",
       "      <td>...</td>\n",
       "      <td>...</td>\n",
       "      <td>...</td>\n",
       "      <td>...</td>\n",
       "      <td>...</td>\n",
       "      <td>...</td>\n",
       "      <td>...</td>\n",
       "      <td>...</td>\n",
       "    </tr>\n",
       "    <tr>\n",
       "      <th>1057</th>\n",
       "      <td>Withdrawn (Trial)</td>\n",
       "      <td>9.0</td>\n",
       "      <td>0</td>\n",
       "      <td>4.0</td>\n",
       "      <td>15</td>\n",
       "      <td>3.0</td>\n",
       "      <td>1.0</td>\n",
       "      <td>1.0</td>\n",
       "      <td>0.0</td>\n",
       "      <td>0.0</td>\n",
       "      <td>0.0</td>\n",
       "      <td>0.0</td>\n",
       "      <td>0.0</td>\n",
       "      <td>0.0</td>\n",
       "      <td>0.0</td>\n",
       "      <td>0.0</td>\n",
       "      <td>0.0</td>\n",
       "      <td>0.0</td>\n",
       "      <td>0.0</td>\n",
       "      <td>1.0</td>\n",
       "      <td>0.0</td>\n",
       "      <td>0.0</td>\n",
       "      <td>0.0</td>\n",
       "      <td>0.0</td>\n",
       "      <td>0.0</td>\n",
       "      <td>0.0</td>\n",
       "      <td>0.0</td>\n",
       "      <td>0.0</td>\n",
       "      <td>1.0</td>\n",
       "      <td>0.0</td>\n",
       "      <td>0.0</td>\n",
       "      <td>1.0</td>\n",
       "      <td>0.0</td>\n",
       "      <td>0.0</td>\n",
       "      <td>0.0</td>\n",
       "      <td>1.0</td>\n",
       "      <td>0.0</td>\n",
       "      <td>0.0</td>\n",
       "      <td>0.0</td>\n",
       "      <td>0.0</td>\n",
       "      <td>0.0</td>\n",
       "      <td>0.0</td>\n",
       "      <td>0.0</td>\n",
       "    </tr>\n",
       "    <tr>\n",
       "      <th>1058</th>\n",
       "      <td>Placed</td>\n",
       "      <td>119.0</td>\n",
       "      <td>1</td>\n",
       "      <td>0.0</td>\n",
       "      <td>10</td>\n",
       "      <td>2.0</td>\n",
       "      <td>2.0</td>\n",
       "      <td>1.0</td>\n",
       "      <td>0.0</td>\n",
       "      <td>0.0</td>\n",
       "      <td>0.0</td>\n",
       "      <td>0.0</td>\n",
       "      <td>0.0</td>\n",
       "      <td>0.0</td>\n",
       "      <td>0.0</td>\n",
       "      <td>0.0</td>\n",
       "      <td>0.0</td>\n",
       "      <td>0.0</td>\n",
       "      <td>1.0</td>\n",
       "      <td>0.0</td>\n",
       "      <td>0.0</td>\n",
       "      <td>0.0</td>\n",
       "      <td>0.0</td>\n",
       "      <td>0.0</td>\n",
       "      <td>0.0</td>\n",
       "      <td>1.0</td>\n",
       "      <td>0.0</td>\n",
       "      <td>0.0</td>\n",
       "      <td>0.0</td>\n",
       "      <td>0.0</td>\n",
       "      <td>0.0</td>\n",
       "      <td>0.0</td>\n",
       "      <td>1.0</td>\n",
       "      <td>0.0</td>\n",
       "      <td>0.0</td>\n",
       "      <td>1.0</td>\n",
       "      <td>0.0</td>\n",
       "      <td>0.0</td>\n",
       "      <td>0.0</td>\n",
       "      <td>0.0</td>\n",
       "      <td>0.0</td>\n",
       "      <td>0.0</td>\n",
       "      <td>0.0</td>\n",
       "    </tr>\n",
       "    <tr>\n",
       "      <th>1059</th>\n",
       "      <td>Withdrawn</td>\n",
       "      <td>118.0</td>\n",
       "      <td>0</td>\n",
       "      <td>1.0</td>\n",
       "      <td>25</td>\n",
       "      <td>5.0</td>\n",
       "      <td>1.0</td>\n",
       "      <td>0.0</td>\n",
       "      <td>0.0</td>\n",
       "      <td>0.0</td>\n",
       "      <td>0.0</td>\n",
       "      <td>1.0</td>\n",
       "      <td>0.0</td>\n",
       "      <td>0.0</td>\n",
       "      <td>0.0</td>\n",
       "      <td>0.0</td>\n",
       "      <td>0.0</td>\n",
       "      <td>0.0</td>\n",
       "      <td>0.0</td>\n",
       "      <td>0.0</td>\n",
       "      <td>1.0</td>\n",
       "      <td>0.0</td>\n",
       "      <td>0.0</td>\n",
       "      <td>0.0</td>\n",
       "      <td>0.0</td>\n",
       "      <td>0.0</td>\n",
       "      <td>1.0</td>\n",
       "      <td>0.0</td>\n",
       "      <td>0.0</td>\n",
       "      <td>0.0</td>\n",
       "      <td>0.0</td>\n",
       "      <td>0.0</td>\n",
       "      <td>1.0</td>\n",
       "      <td>0.0</td>\n",
       "      <td>0.0</td>\n",
       "      <td>0.0</td>\n",
       "      <td>0.0</td>\n",
       "      <td>0.0</td>\n",
       "      <td>0.0</td>\n",
       "      <td>0.0</td>\n",
       "      <td>0.0</td>\n",
       "      <td>1.0</td>\n",
       "      <td>0.0</td>\n",
       "    </tr>\n",
       "    <tr>\n",
       "      <th>1060</th>\n",
       "      <td>Withdrawn (Failed)</td>\n",
       "      <td>457.0</td>\n",
       "      <td>0</td>\n",
       "      <td>4.0</td>\n",
       "      <td>15</td>\n",
       "      <td>5.0</td>\n",
       "      <td>4.0</td>\n",
       "      <td>0.0</td>\n",
       "      <td>0.0</td>\n",
       "      <td>0.0</td>\n",
       "      <td>0.0</td>\n",
       "      <td>1.0</td>\n",
       "      <td>0.0</td>\n",
       "      <td>0.0</td>\n",
       "      <td>0.0</td>\n",
       "      <td>0.0</td>\n",
       "      <td>0.0</td>\n",
       "      <td>0.0</td>\n",
       "      <td>0.0</td>\n",
       "      <td>0.0</td>\n",
       "      <td>0.0</td>\n",
       "      <td>0.0</td>\n",
       "      <td>1.0</td>\n",
       "      <td>0.0</td>\n",
       "      <td>1.0</td>\n",
       "      <td>0.0</td>\n",
       "      <td>0.0</td>\n",
       "      <td>0.0</td>\n",
       "      <td>0.0</td>\n",
       "      <td>0.0</td>\n",
       "      <td>1.0</td>\n",
       "      <td>0.0</td>\n",
       "      <td>0.0</td>\n",
       "      <td>0.0</td>\n",
       "      <td>0.0</td>\n",
       "      <td>1.0</td>\n",
       "      <td>0.0</td>\n",
       "      <td>0.0</td>\n",
       "      <td>0.0</td>\n",
       "      <td>0.0</td>\n",
       "      <td>0.0</td>\n",
       "      <td>0.0</td>\n",
       "      <td>0.0</td>\n",
       "    </tr>\n",
       "    <tr>\n",
       "      <th>1061</th>\n",
       "      <td>Withdrawn</td>\n",
       "      <td>285.0</td>\n",
       "      <td>0</td>\n",
       "      <td>3.0</td>\n",
       "      <td>70</td>\n",
       "      <td>2.0</td>\n",
       "      <td>2.0</td>\n",
       "      <td>0.0</td>\n",
       "      <td>0.0</td>\n",
       "      <td>0.0</td>\n",
       "      <td>0.0</td>\n",
       "      <td>1.0</td>\n",
       "      <td>0.0</td>\n",
       "      <td>0.0</td>\n",
       "      <td>0.0</td>\n",
       "      <td>0.0</td>\n",
       "      <td>0.0</td>\n",
       "      <td>0.0</td>\n",
       "      <td>0.0</td>\n",
       "      <td>1.0</td>\n",
       "      <td>0.0</td>\n",
       "      <td>0.0</td>\n",
       "      <td>0.0</td>\n",
       "      <td>0.0</td>\n",
       "      <td>0.0</td>\n",
       "      <td>0.0</td>\n",
       "      <td>0.0</td>\n",
       "      <td>1.0</td>\n",
       "      <td>0.0</td>\n",
       "      <td>0.0</td>\n",
       "      <td>0.0</td>\n",
       "      <td>0.0</td>\n",
       "      <td>1.0</td>\n",
       "      <td>0.0</td>\n",
       "      <td>0.0</td>\n",
       "      <td>0.0</td>\n",
       "      <td>0.0</td>\n",
       "      <td>0.0</td>\n",
       "      <td>1.0</td>\n",
       "      <td>0.0</td>\n",
       "      <td>0.0</td>\n",
       "      <td>0.0</td>\n",
       "      <td>0.0</td>\n",
       "    </tr>\n",
       "  </tbody>\n",
       "</table>\n",
       "<p>1062 rows × 43 columns</p>\n",
       "</div>"
      ],
      "text/plain": [
       "         pathrise_status  program_duration_days  ...  (Other,)  (STEM OPT,)\n",
       "0            Closed Lost                    0.0  ...       0.0          0.0\n",
       "1            Closed Lost                    0.0  ...       0.0          0.0\n",
       "2                 Placed                   89.0  ...       0.0          0.0\n",
       "3            Closed Lost                    0.0  ...       0.0          0.0\n",
       "4            Closed Lost                    0.0  ...       0.0          0.0\n",
       "...                  ...                    ...  ...       ...          ...\n",
       "1057   Withdrawn (Trial)                    9.0  ...       0.0          0.0\n",
       "1058              Placed                  119.0  ...       0.0          0.0\n",
       "1059           Withdrawn                  118.0  ...       1.0          0.0\n",
       "1060  Withdrawn (Failed)                  457.0  ...       0.0          0.0\n",
       "1061           Withdrawn                  285.0  ...       0.0          0.0\n",
       "\n",
       "[1062 rows x 43 columns]"
      ]
     },
     "execution_count": 944,
     "metadata": {
      "tags": []
     },
     "output_type": "execute_result"
    }
   ],
   "source": [
    "pathrise_2_ready=pathrise_2.reset_index(drop=True, inplace=False)\n",
    "pathrise_2_ready=pathrise_2_ready.join(education).join(big_challenge).join(employ_stat).join(primary_track).join(work_author) #.join(race).join(gender)\n",
    "pathrise_2_ready=pathrise_2_ready.drop(columns=['highest_level_of_education', 'primary_track', 'employment_status', 'biggest_challenge_in_search', 'work_authorization_status', 'race', 'gender']) #, 'number_of_applications'\n",
    "\n",
    "pathrise_2_ready"
   ]
  },
  {
   "cell_type": "code",
   "execution_count": 945,
   "metadata": {
    "executionInfo": {
     "elapsed": 545,
     "status": "ok",
     "timestamp": 1619504183793,
     "user": {
      "displayName": "Yadu Sarathchandran",
      "photoUrl": "",
      "userId": "14743288125860337631"
     },
     "user_tz": 300
    },
    "id": "L2NEzGXpKBol"
   },
   "outputs": [],
   "source": [
    "# Training set is all the fellows who got placed. The we will split it into a validation set for testing.\n",
    "pathrise_2_train=pathrise_2_ready[(pathrise_2_ready['pathrise_status']=='Placed') & (pathrise_2_ready['placed']==1)].drop(columns=['pathrise_status', 'placed'])\n"
   ]
  },
  {
   "cell_type": "markdown",
   "metadata": {
    "id": "Dg44A9wDQgvW"
   },
   "source": [
    "# Training and testing data for Task - 2"
   ]
  },
  {
   "cell_type": "code",
   "execution_count": 946,
   "metadata": {
    "executionInfo": {
     "elapsed": 647,
     "status": "ok",
     "timestamp": 1619504186671,
     "user": {
      "displayName": "Yadu Sarathchandran",
      "photoUrl": "",
      "userId": "14743288125860337631"
     },
     "user_tz": 300
    },
    "id": "BO_axPySQgvW"
   },
   "outputs": [],
   "source": [
    "X_train2=pathrise_2_train.drop(columns='program_duration_days')\n",
    "y_train2=pathrise_2_train['program_duration_days']\n",
    "\n",
    "# We use 'train_test_split' from Sckit_learn to create a training and validation datasets.\n",
    "\n",
    "X_train2, X_test2, y_train2, y_test2 = train_test_split(X_train2, y_train2, test_size = 0.2, random_state = 0)"
   ]
  },
  {
   "cell_type": "markdown",
   "metadata": {
    "id": "d8mNwSfIQgvf"
   },
   "source": [
    "# Dimensionality reduction using PCA"
   ]
  },
  {
   "cell_type": "code",
   "execution_count": 947,
   "metadata": {
    "executionInfo": {
     "elapsed": 634,
     "status": "ok",
     "timestamp": 1619504191835,
     "user": {
      "displayName": "Yadu Sarathchandran",
      "photoUrl": "",
      "userId": "14743288125860337631"
     },
     "user_tz": 300
    },
    "id": "0cVPwZzuQgvg"
   },
   "outputs": [],
   "source": [
    "from sklearn import decomposition\n",
    "from sklearn.decomposition import PCA\n",
    "\n",
    "pca = decomposition.PCA()\n",
    "pca.fit(X_train2)\n",
    "X_train2 = pca.transform(X_train2)\n",
    "X_test2 = pca.transform(X_test2)"
   ]
  },
  {
   "cell_type": "code",
   "execution_count": 948,
   "metadata": {
    "executionInfo": {
     "elapsed": 662,
     "status": "ok",
     "timestamp": 1619504193343,
     "user": {
      "displayName": "Yadu Sarathchandran",
      "photoUrl": "",
      "userId": "14743288125860337631"
     },
     "user_tz": 300
    },
    "id": "aIBV-Qh1Qgvh"
   },
   "outputs": [],
   "source": [
    "# Feature scaling\n",
    "from sklearn.preprocessing import StandardScaler\n",
    "\n",
    "sc = StandardScaler()\n",
    "X_train2 = sc.fit_transform(X_train2)\n",
    "\n",
    "X_test2 = sc.transform(X_test2)"
   ]
  },
  {
   "cell_type": "markdown",
   "metadata": {
    "id": "yGh8IqZZQgvi"
   },
   "source": [
    "# Linear regression model"
   ]
  },
  {
   "cell_type": "code",
   "execution_count": 953,
   "metadata": {
    "colab": {
     "base_uri": "https://localhost:8080/",
     "height": 311
    },
    "executionInfo": {
     "elapsed": 783,
     "status": "ok",
     "timestamp": 1619504306709,
     "user": {
      "displayName": "Yadu Sarathchandran",
      "photoUrl": "",
      "userId": "14743288125860337631"
     },
     "user_tz": 300
    },
    "id": "8VhF7xmTXuzK",
    "outputId": "8069a038-7b36-4fc9-b366-527bebb8052b"
   },
   "outputs": [
    {
     "data": {
      "image/png": "[encoded data removed]",
      "text/plain": [
       "<Figure size 432x288 with 1 Axes>"
      ]
     },
     "metadata": {
      "needs_background": "light",
      "tags": []
     },
     "output_type": "display_data"
    },
    {
     "name": "stdout",
     "output_type": "stream",
     "text": [
      "0.10680280949543008\n"
     ]
    }
   ],
   "source": [
    "from sklearn.linear_model import LinearRegression\n",
    "\n",
    "reg = LinearRegression().fit(X_train2, y_train2)\n",
    "y_pred2 = reg.predict(X_test2)\n",
    "\n",
    "plt.plot(np.array(y_pred2),'.', label='Predicted')\n",
    "plt.plot(np.array(y_test2),'.', label='Ground Truth')\n",
    "plt.xlabel('Candidates')\n",
    "plt.ylabel('Program Duration (Days)')\n",
    "plt.title('Linear Regression')\n",
    "plt.legend()\n",
    "plt.ylim(0,400)\n",
    "plt.show()\n",
    "\n",
    "print(reg.score(X_train2, y_train2))"
   ]
  },
  {
   "cell_type": "code",
   "execution_count": 955,
   "metadata": {
    "colab": {
     "base_uri": "https://localhost:8080/",
     "height": 311
    },
    "executionInfo": {
     "elapsed": 2313,
     "status": "ok",
     "timestamp": 1619504323457,
     "user": {
      "displayName": "Yadu Sarathchandran",
      "photoUrl": "",
      "userId": "14743288125860337631"
     },
     "user_tz": 300
    },
    "id": "33pd8ofin08o",
    "outputId": "a87c952a-1057-4327-a76d-cad40381730c"
   },
   "outputs": [
    {
     "data": {
      "image/png": "[encoded data removed]",
      "text/plain": [
       "<Figure size 432x288 with 1 Axes>"
      ]
     },
     "metadata": {
      "needs_background": "light",
      "tags": []
     },
     "output_type": "display_data"
    },
    {
     "name": "stdout",
     "output_type": "stream",
     "text": [
      "0.8357142857142857\n"
     ]
    }
   ],
   "source": [
    "from sklearn.linear_model import LogisticRegression\n",
    "\n",
    "clf = LogisticRegression(random_state=0, max_iter=500).fit(X_train2, y_train2)\n",
    "y_pred2 = clf.predict(X_test2)\n",
    "\n",
    "plt.plot(np.array(y_pred2),'.', label='Predicted')\n",
    "plt.plot(np.array(y_test2),'.', label='Ground Truth')\n",
    "plt.xlabel('Candidates')\n",
    "plt.ylabel('Program Duration (Days)')\n",
    "plt.title('Logistic Regression')\n",
    "plt.legend()\n",
    "plt.ylim(0,400)\n",
    "plt.show()\n",
    "\n",
    "print(clf.score(X_train2, y_train2))"
   ]
  },
  {
   "cell_type": "code",
   "execution_count": 956,
   "metadata": {
    "colab": {
     "base_uri": "https://localhost:8080/",
     "height": 311
    },
    "executionInfo": {
     "elapsed": 962,
     "status": "ok",
     "timestamp": 1619504367869,
     "user": {
      "displayName": "Yadu Sarathchandran",
      "photoUrl": "",
      "userId": "14743288125860337631"
     },
     "user_tz": 300
    },
    "id": "HmGpRrYPwaFH",
    "outputId": "2019cc1b-c609-415a-e186-0e0d3542aac6"
   },
   "outputs": [
    {
     "data": {
      "image/png": "[encoded data removed]",
      "text/plain": [
       "<Figure size 432x288 with 1 Axes>"
      ]
     },
     "metadata": {
      "needs_background": "light",
      "tags": []
     },
     "output_type": "display_data"
    },
    {
     "name": "stdout",
     "output_type": "stream",
     "text": [
      "0.7333333333333333\n"
     ]
    }
   ],
   "source": [
    "import numpy as np\n",
    "from sklearn.linear_model import SGDClassifier\n",
    "from sklearn.preprocessing import StandardScaler\n",
    "from sklearn.pipeline import make_pipeline\n",
    "\n",
    "# Always scale the input. The most convenient way is to use a pipeline.\n",
    "clf = make_pipeline(StandardScaler(), SGDClassifier(max_iter=1000, tol=1e-3))\n",
    "clf.fit(X_train2, y_train2)\n",
    "\n",
    "y_pred2=clf.predict((X_test2))\n",
    "\n",
    "plt.plot(np.array(y_pred2),'.', label='Predicted')\n",
    "plt.plot(np.array(y_test2),'.', label='Ground Truth')\n",
    "plt.xlabel('Candidates')\n",
    "plt.ylabel('Program Duration (Days)')\n",
    "plt.title('SGDC Regression')\n",
    "plt.legend()\n",
    "plt.ylim(0,400)\n",
    "plt.show()\n",
    "\n",
    "print(clf.score(X_train2, y_train2))"
   ]
  },
  {
   "cell_type": "code",
   "execution_count": null,
   "metadata": {
    "id": "dzyDm9KWzE8m"
   },
   "outputs": [],
   "source": []
  }
 ],
 "metadata": {
  "colab": {
   "authorship_tag": "ABX9TyMxZWOVQsUBIicCXhSBo9ZK",
   "collapsed_sections": [],
   "name": "pathrise",
   "provenance": []
  },
  "kernelspec": {
   "display_name": "Python 3",
   "language": "python",
   "name": "python3"
  },
  "language_info": {
   "codemirror_mode": {
    "name": "ipython",
    "version": 3
   },
   "file_extension": ".py",
   "mimetype": "text/x-python",
   "name": "python",
   "nbconvert_exporter": "python",
   "pygments_lexer": "ipython3",
   "version": "3.6.7"
  }
 },
 "nbformat": 4,
 "nbformat_minor": 1
}
